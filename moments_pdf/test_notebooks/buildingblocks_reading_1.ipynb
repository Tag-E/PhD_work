{
 "cells": [
  {
   "cell_type": "markdown",
   "metadata": {},
   "source": [
    "# Correlator reading 1"
   ]
  },
  {
   "cell_type": "code",
   "execution_count": 1,
   "metadata": {},
   "outputs": [],
   "source": [
    "from IPython.core.interactiveshell import InteractiveShell\n",
    "InteractiveShell.ast_node_interactivity = \"all\""
   ]
  },
  {
   "cell_type": "code",
   "execution_count": 69,
   "metadata": {},
   "outputs": [],
   "source": [
    "#!pip3.11 install h5py"
   ]
  },
  {
   "cell_type": "code",
   "execution_count": 1,
   "metadata": {},
   "outputs": [],
   "source": [
    "import h5py as h5 #to read the correlator\n",
    "import numpy as np #to do everything\n",
    "from pathlib import Path #to read the file's names\n",
    "from typing import Any, Callable #to use annotations for functions\n",
    "import matplotlib.pyplot as plt #to plot stuff\n",
    "from tqdm import tqdm #for a nice view of for loops with loading bars"
   ]
  },
  {
   "cell_type": "markdown",
   "metadata": {},
   "source": [
    "# Reading"
   ]
  },
  {
   "cell_type": "code",
   "execution_count": 71,
   "metadata": {},
   "outputs": [
    {
     "data": {
      "text/plain": [
       "'\\nconfigID = \"090125_180923\"\\n\\n#basefolder = \"/home/tag-e/phd/data_folders/2PointCorrelation/\"\\nbasefolder = \"/wsgjsc/home/taggi1/workspace_folders/jusuf_mountpoint\"\\nfilename = basefolder + f\"hadspec.{configID}.h5\" # configID are these numbers in the file names\\n\\nT = 48\\nC2pt = np.zeros(48, dtype = complex) \\nwith h5.File(filename, \\'r\\') as h5f:\\n    C2pt = h5f[f\"cfg{configID}/hspectrum/GN3x60-P/mq-0.09933/proton_3/PX0_PY0_PZ0\"][()]\\n    type(C2pt)\\n    np.shape(C2pt)\\n'"
      ]
     },
     "execution_count": 71,
     "metadata": {},
     "output_type": "execute_result"
    }
   ],
   "source": [
    "'''\n",
    "configID = \"090125_180923\"\n",
    "\n",
    "#basefolder = \"/home/tag-e/phd/data_folders/2PointCorrelation/\"\n",
    "basefolder = \"/wsgjsc/home/taggi1/workspace_folders/jusuf_mountpoint\"\n",
    "filename = basefolder + f\"hadspec.{configID}.h5\" # configID are these numbers in the file names\n",
    "\n",
    "T = 48\n",
    "C2pt = np.zeros(48, dtype = complex) \n",
    "with h5.File(filename, 'r') as h5f:\n",
    "    C2pt = h5f[f\"cfg{configID}/hspectrum/GN3x60-P/mq-0.09933/proton_3/PX0_PY0_PZ0\"][()]\n",
    "    type(C2pt)\n",
    "    np.shape(C2pt)\n",
    "'''"
   ]
  },
  {
   "cell_type": "code",
   "execution_count": 72,
   "metadata": {},
   "outputs": [
    {
     "data": {
      "text/plain": [
       "\"\\np = Path(basefolder).glob('**/*')\\nfiles = [x for x in p if x.is_file()]\\nfiles[0].name\\n\""
      ]
     },
     "execution_count": 72,
     "metadata": {},
     "output_type": "execute_result"
    }
   ],
   "source": [
    "'''\n",
    "p = Path(basefolder).glob('**/*')\n",
    "files = [x for x in p if x.is_file()]\n",
    "files[0].name\n",
    "'''"
   ]
  },
  {
   "cell_type": "code",
   "execution_count": 73,
   "metadata": {},
   "outputs": [],
   "source": [
    "#basefolder = \"/wsgjsc/home/taggi1/workspace_folders/jusuf_mountpoint/\" \n",
    "#basefolder_2p = basefolder + \"48c48/binned_1012_hmz370_BMW/2PointCorrelation/\"\n",
    "#basefolder_3p = basefolder + \"48c48/binned_1012_hmz370_BMW/3PointCorrelation/T8/\""
   ]
  },
  {
   "cell_type": "code",
   "execution_count": 106,
   "metadata": {},
   "outputs": [],
   "source": [
    "##### read everything (for 2p)\n",
    "\n",
    "#folder with all the data\n",
    "basefolder = \"/wsgjsc/home/taggi1/workspace_folders/jusuf_mountpoint/\" + \"48c48/binned_1012_hmz370_BMW/2PointCorrelation/\"\n",
    "\n",
    "#Path file to the data folder\n",
    "p = Path(basefolder).glob('**/*')\n",
    "files = [x for x in p if x.is_file()]\n",
    "\n",
    "#number of data files (i.e. the number of gauge configurations, and for each the 2point correlator is computed)\n",
    "nconf = len(files)\n",
    "\n",
    "#Time extent of the lattice\n",
    "T = 48\n",
    "\n",
    "#array with all the 2 point correlators\n",
    "corr_2p = np.empty((nconf,T),dtype=complex) # shape = (n of config, Time extent)\n",
    "\n",
    "\n",
    "#we cycle through the files in the folder\n",
    "for i,file in enumerate(files):\n",
    "\n",
    "    #we grep the id of the configuration from the file name\n",
    "    configID = file.name.split('.')[1]\n",
    "    #configID\n",
    "\n",
    "    #the file structure is\n",
    "    #cfgid = \"cfg\" + str(configID)\n",
    "    #tag = \"hspectrum\"\n",
    "    #smearing = \"GN3x100-GN3x100\" #also \"GN3x60-P\" is possible\n",
    "    #mass = \"mq-0.05294\" #light quark mass\n",
    "    #hadron = \"proton_3\" #also \"pion_1\" is possible\n",
    "    #momentum = \"PX0_PY0_PZ0\" #hadron momentum - it is 0 in this case (can we look also at non 0 momentum ?)\n",
    "\n",
    "    #f\"{cfgid}/{tag}/{smearing}/{mass}/{hadron}/{momentum}\"\n",
    "\n",
    "    #we open the file\n",
    "    with h5.File(basefolder+file.name, 'r') as h5f:\n",
    "\n",
    "        #we read the names of the keys making up the file structure\n",
    "\n",
    "        cfgid_list = list(h5f.keys()) #always a list with only one element\n",
    "        #cfgid_list\n",
    "        cfgid = cfgid_list[0] # = 'cfg090211_044614' (or smth like that)\n",
    "\n",
    "        tag_list = list(h5f[cfgid]) # = ['hspectrum','hspectrum_d2_dpx2','hspectrum_d2_dpy2','hspectrum_d2_dpz2','hspectrum_d_dpx','hspectrum_d_dpy','hspectrum_d_dpz'] (or smth like that)\n",
    "        #tag_list \n",
    "        tag = tag_list[0] #we choose \"hspectrum\"\n",
    "\n",
    "        smearing_list = list(h5f[cfgid][tag]) # = ['GN3x60-GN3x60', 'GN3x60-P'] (or smth like that)\n",
    "        #smearing_list \n",
    "        smearing = smearing_list[0] #we choose both source and sink smeared\n",
    "\n",
    "        mass_list = list(h5f[cfgid][tag][smearing])\n",
    "        #mass_list\n",
    "        mass = mass_list[0] #we choose one value of the mass\n",
    "\n",
    "        hadron_list = list(h5f[cfgid][tag][smearing][mass]) #that's a long list with various hadrons\n",
    "        #hadron_list\n",
    "        hadron = 'proton_3' #we choose to look at the proton\n",
    "\n",
    "        momentum_list = list(h5f[cfgid][tag][smearing][mass][hadron]) #this is also a long list\n",
    "        #momentum_list\n",
    "        momentum = 'PX0_PY0_PZ0' #we choose zero forward momentum\n",
    "\n",
    "        #now that we have the keys we can read the correlator and store it in a np array\n",
    "\n",
    "        corr_2p[i] = h5f[cfgid][tag][smearing][mass][hadron][momentum]\n",
    "\n"
   ]
  },
  {
   "cell_type": "code",
   "execution_count": 108,
   "metadata": {},
   "outputs": [
    {
     "data": {
      "text/plain": [
       "147"
      ]
     },
     "execution_count": 108,
     "metadata": {},
     "output_type": "execute_result"
    },
    {
     "data": {
      "text/plain": [
       "['PX-1_PY-1_PZ-1',\n",
       " 'PX-1_PY-1_PZ-2',\n",
       " 'PX-1_PY-1_PZ0',\n",
       " 'PX-1_PY-1_PZ1',\n",
       " 'PX-1_PY-1_PZ2',\n",
       " 'PX-1_PY-2_PZ-1',\n",
       " 'PX-1_PY-2_PZ-2',\n",
       " 'PX-1_PY-2_PZ0',\n",
       " 'PX-1_PY-2_PZ1',\n",
       " 'PX-1_PY-2_PZ2',\n",
       " 'PX-1_PY-3_PZ0',\n",
       " 'PX-1_PY0_PZ-1',\n",
       " 'PX-1_PY0_PZ-2',\n",
       " 'PX-1_PY0_PZ-3',\n",
       " 'PX-1_PY0_PZ0',\n",
       " 'PX-1_PY0_PZ1',\n",
       " 'PX-1_PY0_PZ2',\n",
       " 'PX-1_PY0_PZ3',\n",
       " 'PX-1_PY1_PZ-1',\n",
       " 'PX-1_PY1_PZ-2',\n",
       " 'PX-1_PY1_PZ0',\n",
       " 'PX-1_PY1_PZ1',\n",
       " 'PX-1_PY1_PZ2',\n",
       " 'PX-1_PY2_PZ-1',\n",
       " 'PX-1_PY2_PZ-2',\n",
       " 'PX-1_PY2_PZ0',\n",
       " 'PX-1_PY2_PZ1',\n",
       " 'PX-1_PY2_PZ2',\n",
       " 'PX-1_PY3_PZ0',\n",
       " 'PX-2_PY-1_PZ-1',\n",
       " 'PX-2_PY-1_PZ-2',\n",
       " 'PX-2_PY-1_PZ0',\n",
       " 'PX-2_PY-1_PZ1',\n",
       " 'PX-2_PY-1_PZ2',\n",
       " 'PX-2_PY-2_PZ-1',\n",
       " 'PX-2_PY-2_PZ0',\n",
       " 'PX-2_PY-2_PZ1',\n",
       " 'PX-2_PY0_PZ-1',\n",
       " 'PX-2_PY0_PZ-2',\n",
       " 'PX-2_PY0_PZ0',\n",
       " 'PX-2_PY0_PZ1',\n",
       " 'PX-2_PY0_PZ2',\n",
       " 'PX-2_PY1_PZ-1',\n",
       " 'PX-2_PY1_PZ-2',\n",
       " 'PX-2_PY1_PZ0',\n",
       " 'PX-2_PY1_PZ1',\n",
       " 'PX-2_PY1_PZ2',\n",
       " 'PX-2_PY2_PZ-1',\n",
       " 'PX-2_PY2_PZ0',\n",
       " 'PX-2_PY2_PZ1',\n",
       " 'PX-3_PY-1_PZ0',\n",
       " 'PX-3_PY0_PZ-1',\n",
       " 'PX-3_PY0_PZ0',\n",
       " 'PX-3_PY0_PZ1',\n",
       " 'PX-3_PY1_PZ0',\n",
       " 'PX0_PY-1_PZ-1',\n",
       " 'PX0_PY-1_PZ-2',\n",
       " 'PX0_PY-1_PZ-3',\n",
       " 'PX0_PY-1_PZ0',\n",
       " 'PX0_PY-1_PZ1',\n",
       " 'PX0_PY-1_PZ2',\n",
       " 'PX0_PY-1_PZ3',\n",
       " 'PX0_PY-2_PZ-1',\n",
       " 'PX0_PY-2_PZ-2',\n",
       " 'PX0_PY-2_PZ0',\n",
       " 'PX0_PY-2_PZ1',\n",
       " 'PX0_PY-2_PZ2',\n",
       " 'PX0_PY-3_PZ-1',\n",
       " 'PX0_PY-3_PZ0',\n",
       " 'PX0_PY-3_PZ1',\n",
       " 'PX0_PY0_PZ-1',\n",
       " 'PX0_PY0_PZ-2',\n",
       " 'PX0_PY0_PZ-3',\n",
       " 'PX0_PY0_PZ0',\n",
       " 'PX0_PY0_PZ1',\n",
       " 'PX0_PY0_PZ2',\n",
       " 'PX0_PY0_PZ3',\n",
       " 'PX0_PY1_PZ-1',\n",
       " 'PX0_PY1_PZ-2',\n",
       " 'PX0_PY1_PZ-3',\n",
       " 'PX0_PY1_PZ0',\n",
       " 'PX0_PY1_PZ1',\n",
       " 'PX0_PY1_PZ2',\n",
       " 'PX0_PY1_PZ3',\n",
       " 'PX0_PY2_PZ-1',\n",
       " 'PX0_PY2_PZ-2',\n",
       " 'PX0_PY2_PZ0',\n",
       " 'PX0_PY2_PZ1',\n",
       " 'PX0_PY2_PZ2',\n",
       " 'PX0_PY3_PZ-1',\n",
       " 'PX0_PY3_PZ0',\n",
       " 'PX0_PY3_PZ1',\n",
       " 'PX1_PY-1_PZ-1',\n",
       " 'PX1_PY-1_PZ-2',\n",
       " 'PX1_PY-1_PZ0',\n",
       " 'PX1_PY-1_PZ1',\n",
       " 'PX1_PY-1_PZ2',\n",
       " 'PX1_PY-2_PZ-1',\n",
       " 'PX1_PY-2_PZ-2',\n",
       " 'PX1_PY-2_PZ0',\n",
       " 'PX1_PY-2_PZ1',\n",
       " 'PX1_PY-2_PZ2',\n",
       " 'PX1_PY-3_PZ0',\n",
       " 'PX1_PY0_PZ-1',\n",
       " 'PX1_PY0_PZ-2',\n",
       " 'PX1_PY0_PZ-3',\n",
       " 'PX1_PY0_PZ0',\n",
       " 'PX1_PY0_PZ1',\n",
       " 'PX1_PY0_PZ2',\n",
       " 'PX1_PY0_PZ3',\n",
       " 'PX1_PY1_PZ-1',\n",
       " 'PX1_PY1_PZ-2',\n",
       " 'PX1_PY1_PZ0',\n",
       " 'PX1_PY1_PZ1',\n",
       " 'PX1_PY1_PZ2',\n",
       " 'PX1_PY2_PZ-1',\n",
       " 'PX1_PY2_PZ-2',\n",
       " 'PX1_PY2_PZ0',\n",
       " 'PX1_PY2_PZ1',\n",
       " 'PX1_PY2_PZ2',\n",
       " 'PX1_PY3_PZ0',\n",
       " 'PX2_PY-1_PZ-1',\n",
       " 'PX2_PY-1_PZ-2',\n",
       " 'PX2_PY-1_PZ0',\n",
       " 'PX2_PY-1_PZ1',\n",
       " 'PX2_PY-1_PZ2',\n",
       " 'PX2_PY-2_PZ-1',\n",
       " 'PX2_PY-2_PZ0',\n",
       " 'PX2_PY-2_PZ1',\n",
       " 'PX2_PY0_PZ-1',\n",
       " 'PX2_PY0_PZ-2',\n",
       " 'PX2_PY0_PZ0',\n",
       " 'PX2_PY0_PZ1',\n",
       " 'PX2_PY0_PZ2',\n",
       " 'PX2_PY1_PZ-1',\n",
       " 'PX2_PY1_PZ-2',\n",
       " 'PX2_PY1_PZ0',\n",
       " 'PX2_PY1_PZ1',\n",
       " 'PX2_PY1_PZ2',\n",
       " 'PX2_PY2_PZ-1',\n",
       " 'PX2_PY2_PZ0',\n",
       " 'PX2_PY2_PZ1',\n",
       " 'PX3_PY-1_PZ0',\n",
       " 'PX3_PY0_PZ-1',\n",
       " 'PX3_PY0_PZ0',\n",
       " 'PX3_PY0_PZ1',\n",
       " 'PX3_PY1_PZ0']"
      ]
     },
     "execution_count": 108,
     "metadata": {},
     "output_type": "execute_result"
    }
   ],
   "source": [
    "len(momentum_list)\n",
    "momentum_list"
   ]
  },
  {
   "cell_type": "code",
   "execution_count": 76,
   "metadata": {},
   "outputs": [],
   "source": [
    "##### read everything (for 3p)\n",
    "\n",
    "#folder with all the data\n",
    "basefolder = \"/wsgjsc/home/taggi1/workspace_folders/jusuf_mountpoint/\" + \"48c48/binned_1012_hmz370_BMW/3PointCorrelation/T8/\"\n",
    "\n",
    "#Path file to the data folder\n",
    "p = Path(basefolder).glob('**/*')\n",
    "files = [x for x in p if x.is_file()]\n",
    "\n",
    "#number of data files (i.e. the number of gauge configurations, and for each the 2point correlator is computed)\n",
    "nconf = len(files)\n",
    "\n",
    "#Time extent of the lattice\n",
    "sep_T = 8\n",
    "\n",
    "#array with all the 2 point correlators\n",
    "corr_3p = np.empty((nconf,sep_T+1),dtype=complex) # shape = (n of config, Time extent)\n",
    "\n",
    "\n",
    "#we cycle through the files in the folder\n",
    "for i,file in enumerate(files):\n",
    "\n",
    "    #f\"{cfgid}/{tag}/{smearing}/{mass}/{hadron}/{momentum}\"\n",
    "\n",
    "    #we open the file\n",
    "    with h5.File(basefolder+file.name, 'r') as h5f:\n",
    "\n",
    "        #we read the names of the keys making up the file structure\n",
    "\n",
    "        cfgid_list = list(h5f.keys()) #always a list with only one element\n",
    "        #cfgid_list\n",
    "        cfgid = cfgid_list[0] # = 'cfg090211_044614' (or smth like that)\n",
    "\n",
    "        tag_list = list(h5f[cfgid]) # = ['bb','bb_d2_dpx2','bb_d2_dpy2','bb_d2_dpz2','bb_d_dpx','bb_d_dpy',....] (or smth like that)\n",
    "        #tag_list \n",
    "        tag = tag_list[0] #we choose \"bb\"\n",
    "\n",
    "        smearing_list = list(h5f[cfgid][tag]) # = ['GN3x60-GN3x60'] (or smth like that)\n",
    "        #smearing_list \n",
    "        smearing = smearing_list[0] #we choose both source and sink smeared\n",
    "\n",
    "        mass_list = list(h5f[cfgid][tag][smearing])\n",
    "        #mass_list\n",
    "        mass = mass_list[0] #we choose one value of the mass\n",
    "\n",
    "        \n",
    "        hadron_list = list(h5f[cfgid][tag][smearing][mass]) #that's a list with various hadrons, here smth like ['proton_3', 'proton_negpar_3']\n",
    "        #hadron_list\n",
    "        hadron = 'proton_3' #we choose to look at the proton\n",
    "\n",
    "        qcontent_list = list(h5f[cfgid][tag][smearing][mass][hadron]) # = ['D', 'U'] this is the quark content of the hadron\n",
    "        #qcontent_list\n",
    "        qcontent = 'D' #we choose D\n",
    "        \n",
    "\n",
    "        momentum_list = list(h5f[cfgid][tag][smearing][mass][hadron][qcontent]) # = ['PX-2_PY0_PZ0_T8', 'PX0_PY0_PZ0_T8'] that is the list with the available momenta\n",
    "        #momentum_list\n",
    "        momentum = momentum_list[0] #we choose zero forward momentum\n",
    "\n",
    "        displacement_list = list(h5f[cfgid][tag][smearing][mass][hadron][qcontent][momentum]) #that is the list with the available types of displacements\n",
    "        #displacement_list\n",
    "        displacement = 'l2_Tx' #we choose the one with 2 gauge links (l2), the first being positive along T, the second being negative along x\n",
    "\n",
    "        dstructure_list = list(h5f[cfgid][tag][smearing][mass][hadron][qcontent][momentum][displacement]) #available dirac structures\n",
    "        #dstructure_list\n",
    "        dstructure = 'g0' #we choose gamma0 here (!!! must be chosen correctly for V,A and T structures)\n",
    "\n",
    "        insmomementum_list = list(h5f[cfgid][tag][smearing][mass][hadron][qcontent][momentum][displacement][dstructure]) #the momentum of the insertion = ['qx0_qy0_qz0'], that is we only have them in the forward limit\n",
    "        #insmomementum_list\n",
    "        insmomentum = insmomementum_list[0]\n",
    "\n",
    "\n",
    "        #now that we have the keys we can read the correlator and store it in a np array\n",
    "\n",
    "        corr_3p[i] = h5f[cfgid][tag][smearing][mass][hadron][qcontent][momentum][displacement][dstructure][insmomentum]\n",
    "        "
   ]
  },
  {
   "cell_type": "code",
   "execution_count": 77,
   "metadata": {},
   "outputs": [
    {
     "data": {
      "text/plain": [
       "['l0_',\n",
       " 'l1_T',\n",
       " 'l1_X',\n",
       " 'l1_Y',\n",
       " 'l1_Z',\n",
       " 'l1_t',\n",
       " 'l1_x',\n",
       " 'l1_y',\n",
       " 'l1_z',\n",
       " 'l2_TT',\n",
       " 'l2_TX',\n",
       " 'l2_TY',\n",
       " 'l2_TZ',\n",
       " 'l2_Tx',\n",
       " 'l2_Ty',\n",
       " 'l2_Tz',\n",
       " 'l2_XT',\n",
       " 'l2_XX',\n",
       " 'l2_XY',\n",
       " 'l2_XZ',\n",
       " 'l2_Xt',\n",
       " 'l2_Xy',\n",
       " 'l2_Xz',\n",
       " 'l2_YT',\n",
       " 'l2_YX',\n",
       " 'l2_YY',\n",
       " 'l2_YZ',\n",
       " 'l2_Yt',\n",
       " 'l2_Yx',\n",
       " 'l2_Yz',\n",
       " 'l2_ZT',\n",
       " 'l2_ZX',\n",
       " 'l2_ZY',\n",
       " 'l2_ZZ',\n",
       " 'l2_Zt',\n",
       " 'l2_Zx',\n",
       " 'l2_Zy',\n",
       " 'l2_tX',\n",
       " 'l2_tY',\n",
       " 'l2_tZ',\n",
       " 'l2_tt',\n",
       " 'l2_tx',\n",
       " 'l2_ty',\n",
       " 'l2_tz',\n",
       " 'l2_xT',\n",
       " 'l2_xY',\n",
       " 'l2_xZ',\n",
       " 'l2_xt',\n",
       " 'l2_xx',\n",
       " 'l2_xy',\n",
       " 'l2_xz',\n",
       " 'l2_yT',\n",
       " 'l2_yX',\n",
       " 'l2_yZ',\n",
       " 'l2_yt',\n",
       " 'l2_yx',\n",
       " 'l2_yy',\n",
       " 'l2_yz',\n",
       " 'l2_zT',\n",
       " 'l2_zX',\n",
       " 'l2_zY',\n",
       " 'l2_zt',\n",
       " 'l2_zx',\n",
       " 'l2_zy',\n",
       " 'l2_zz']"
      ]
     },
     "execution_count": 77,
     "metadata": {},
     "output_type": "execute_result"
    }
   ],
   "source": [
    "displacement_list"
   ]
  },
  {
   "cell_type": "code",
   "execution_count": 78,
   "metadata": {},
   "outputs": [
    {
     "data": {
      "text/plain": [
       "array([[1.28061860e-11+1.58048438e-13j, 6.82270306e-12+5.76609377e-14j,\n",
       "        2.92364129e-12-1.51776157e-14j, ...,\n",
       "        5.79435443e-14+9.01875321e-15j, 1.79416870e-13+2.13844210e-14j,\n",
       "        7.08069289e-13+9.01344855e-15j],\n",
       "       [1.30305132e-11+3.64218306e-13j, 6.56534941e-12+1.01016489e-13j,\n",
       "        2.89917752e-12+1.54430803e-14j, ...,\n",
       "        6.54017137e-14-1.53415802e-14j, 1.90415098e-13-5.54090558e-14j,\n",
       "        7.54441069e-13-2.34697011e-14j],\n",
       "       [1.10951375e-11+1.49486596e-13j, 5.22936659e-12+8.46264609e-14j,\n",
       "        2.20277618e-12+5.64958037e-14j, ...,\n",
       "        4.01559113e-14-2.09534143e-15j, 1.39149144e-13-8.82221451e-16j,\n",
       "        6.56318866e-13+3.17261808e-15j],\n",
       "       ...,\n",
       "       [1.45850507e-11-4.71789680e-14j, 7.04112665e-12-1.90316461e-14j,\n",
       "        3.04347128e-12-3.16268200e-14j, ...,\n",
       "        4.34648379e-14+5.50990525e-15j, 1.47337544e-13+1.07536020e-14j,\n",
       "        7.23015866e-13+1.83938956e-14j],\n",
       "       [1.29402606e-11+6.06627990e-14j, 6.50035943e-12+5.90208794e-14j,\n",
       "        2.66802783e-12+3.22689338e-14j, ...,\n",
       "        3.96726714e-14-3.16721782e-15j, 1.46183019e-13-2.91474760e-15j,\n",
       "        6.73450841e-13+9.11023080e-15j],\n",
       "       [1.22818178e-11+3.99473411e-14j, 6.13412064e-12+4.16813319e-14j,\n",
       "        2.75830610e-12+1.20598861e-14j, ...,\n",
       "        4.22452158e-14+2.16382082e-15j, 1.36500731e-13+4.12078807e-15j,\n",
       "        6.86918783e-13+1.16418938e-14j]])"
      ]
     },
     "execution_count": 78,
     "metadata": {},
     "output_type": "execute_result"
    }
   ],
   "source": [
    "corr_2p"
   ]
  },
  {
   "cell_type": "code",
   "execution_count": 79,
   "metadata": {},
   "outputs": [
    {
     "data": {
      "text/plain": [
       "array([[9.28712152e-14+3.30620318e-14j, 9.16269201e-14+4.94278470e-14j,\n",
       "        8.82859394e-14+5.99237778e-14j, ...,\n",
       "        1.24344944e-13+6.41673437e-14j, 1.17409150e-13+6.05821172e-14j,\n",
       "        1.14687601e-13+7.15978561e-14j],\n",
       "       [1.00267969e-13-1.46254073e-15j, 1.15247024e-13-8.49381494e-15j,\n",
       "        1.23502624e-13-1.08430202e-14j, ...,\n",
       "        1.03018508e-13-3.97732367e-14j, 8.07889157e-14-3.80045145e-14j,\n",
       "        5.89722829e-14-2.95219022e-14j],\n",
       "       [1.57413814e-14-1.46002318e-14j, 2.41858440e-14-1.53578575e-14j,\n",
       "        3.70436440e-14-1.02015305e-14j, ...,\n",
       "        3.26576632e-14-8.37774454e-16j, 2.63084250e-14+1.89839129e-15j,\n",
       "        1.53232061e-14+1.76108788e-15j],\n",
       "       ...,\n",
       "       [3.61020066e-14-6.80736340e-15j, 4.69048470e-14-1.20670844e-14j,\n",
       "        5.65416181e-14-1.72314667e-14j, ...,\n",
       "        8.44679918e-14-3.83901905e-14j, 7.74070203e-14-4.36383549e-14j,\n",
       "        5.81093287e-14-4.06578547e-14j],\n",
       "       [2.40716938e-14-7.11243735e-14j, 3.37367267e-14-7.79224700e-14j,\n",
       "        4.11434958e-14-7.76076251e-14j, ...,\n",
       "        2.11349939e-14-6.68698874e-14j, 1.68848659e-14-6.17941240e-14j,\n",
       "        1.41570153e-14-5.05481605e-14j],\n",
       "       [3.57360246e-14-4.03580916e-14j, 5.79243665e-14-2.49088832e-14j,\n",
       "        7.53242997e-14-1.06670002e-14j, ...,\n",
       "        1.42599725e-13-8.06835771e-16j, 1.32486341e-13-1.19884431e-14j,\n",
       "        9.91550791e-14-2.35862837e-14j]])"
      ]
     },
     "execution_count": 79,
     "metadata": {},
     "output_type": "execute_result"
    }
   ],
   "source": [
    "corr_3p"
   ]
  },
  {
   "cell_type": "markdown",
   "metadata": {},
   "source": [
    "# Tests"
   ]
  },
  {
   "cell_type": "code",
   "execution_count": 80,
   "metadata": {},
   "outputs": [
    {
     "data": {
      "text/plain": [
       "array([ 1.24170514e-11,  6.11883323e-12,  2.63536828e-12,  1.30725432e-12,\n",
       "        6.98315872e-13,  3.83890846e-13,  2.13651339e-13,  1.20397472e-13,\n",
       "        6.85366261e-14,  3.94714114e-14,  2.27493750e-14,  1.32486058e-14,\n",
       "        7.74851131e-15,  4.48516796e-15,  2.69890840e-15,  1.54705136e-15,\n",
       "        9.81791171e-16,  5.56224695e-16,  3.29588367e-16,  2.84060839e-16,\n",
       "        5.19143499e-17,  2.56538654e-17,  3.67802757e-17, -2.08056936e-17,\n",
       "       -3.66333707e-17, -1.39077201e-17,  9.44404029e-17,  1.40118376e-16,\n",
       "        7.76161685e-17, -7.52983444e-17, -1.95290187e-16, -1.27459736e-16,\n",
       "       -1.35684517e-17, -8.70437211e-18, -8.27654959e-17,  7.02431235e-17,\n",
       "        2.04272698e-16,  3.30554070e-16,  4.51020487e-16,  4.82238995e-16,\n",
       "        4.10588401e-16,  1.03265187e-15,  2.53949517e-15,  6.41150524e-15,\n",
       "        1.57952416e-14,  4.40383378e-14,  1.51726693e-13,  6.91126977e-13])"
      ]
     },
     "execution_count": 80,
     "metadata": {},
     "output_type": "execute_result"
    },
    {
     "data": {
      "text/plain": [
       "array([ 6.47697277e-15,  3.95774019e-15,  6.85092158e-16, -8.84944863e-16,\n",
       "       -4.18721052e-16, -6.54450572e-16, -8.07618222e-16, -9.87782872e-16,\n",
       "       -1.02416694e-15, -6.42912048e-16, -6.14370938e-16, -1.37893804e-16,\n",
       "        7.59225499e-17,  1.81216326e-16,  1.01968080e-16,  1.27632365e-16,\n",
       "        6.14067678e-17,  5.46851706e-17, -1.02230468e-16, -5.67479203e-17,\n",
       "       -1.11970720e-16, -1.93971574e-16, -1.10097755e-16, -1.97035755e-17,\n",
       "       -6.27487941e-17, -3.76019811e-17, -5.55843569e-17, -6.11135756e-18,\n",
       "        2.97703457e-17,  5.50988128e-17,  9.28222041e-17,  1.66413177e-16,\n",
       "        1.18486786e-16,  2.38554274e-17,  7.46237527e-17,  6.93388063e-17,\n",
       "       -1.43544838e-17, -5.87108530e-17, -1.59046273e-16, -3.49227438e-16,\n",
       "       -4.48438408e-16, -2.70626581e-16, -2.16803959e-16, -2.82659198e-16,\n",
       "       -8.13267763e-17, -2.18350767e-16, -5.13137039e-17,  6.61022608e-16])"
      ]
     },
     "execution_count": 80,
     "metadata": {},
     "output_type": "execute_result"
    },
    {
     "data": {
      "text/plain": [
       "[<matplotlib.lines.Line2D at 0x7fecacf6e410>]"
      ]
     },
     "execution_count": 80,
     "metadata": {},
     "output_type": "execute_result"
    },
    {
     "data": {
      "text/plain": [
       "[<matplotlib.lines.Line2D at 0x7fecaccfb5d0>]"
      ]
     },
     "execution_count": 80,
     "metadata": {},
     "output_type": "execute_result"
    },
    {
     "data": {
      "text/plain": [
       "<matplotlib.legend.Legend at 0x7fecad60c350>"
      ]
     },
     "execution_count": 80,
     "metadata": {},
     "output_type": "execute_result"
    },
    {
     "data": {
      "image/png": "[encoded data removed]",
      "text/plain": [
       "<Figure size 640x480 with 1 Axes>"
      ]
     },
     "metadata": {},
     "output_type": "display_data"
    }
   ],
   "source": [
    "times=np.arange(T)\n",
    "np.mean(corr_2p.real,axis=0)\n",
    "np.mean(corr_2p.imag,axis=0)\n",
    "\n",
    "plt.plot(times,np.mean(corr_2p.real,axis=0),label='real')\n",
    "plt.plot(times,np.mean(corr_2p.imag,axis=0),label='imag')\n",
    "plt.legend()"
   ]
  },
  {
   "cell_type": "code",
   "execution_count": 81,
   "metadata": {},
   "outputs": [],
   "source": [
    "#cast to real\n",
    "#corr_2p = corr_2p.real\n",
    "#corr_2p = corr_2p.imag\n",
    "corr_2p = np.abs(corr_2p)"
   ]
  },
  {
   "cell_type": "code",
   "execution_count": 82,
   "metadata": {},
   "outputs": [
    {
     "data": {
      "text/plain": [
       "(212, 48)"
      ]
     },
     "execution_count": 82,
     "metadata": {},
     "output_type": "execute_result"
    }
   ],
   "source": [
    "np.shape(corr_2p)"
   ]
  },
  {
   "cell_type": "code",
   "execution_count": 83,
   "metadata": {},
   "outputs": [],
   "source": [
    "def jackknife(in_array: np.ndarray, observable: Callable[[], Any], jack_axis=0, time_axis=-1, binsize=1,first_conf=0,last_conf=nconf) -> list:\n",
    "    \"\"\"\n",
    "    input:\n",
    "        - array to be jackknifed,\n",
    "        - axis over which jackknifing (the one with the configurations),\n",
    "        - function of the observable to be estimated with the jackknife (its input has to have the same shape as in_array)\n",
    "    output:\n",
    "        - list with [mean, std] where mean and std are np array with same the same shape as the input one\n",
    "    \"\"\"\n",
    "\n",
    "    #step 1: creation of the jackknife resamples\n",
    "    jack_resamples = np.asarray( [np.delete(in_array, list(range(iconf,min(iconf+binsize,last_conf))) ,axis=jack_axis) for iconf in range(first_conf,last_conf,binsize)] )\n",
    "    print(\"jack resamples\")\n",
    "    print(np.shape(jack_resamples))\n",
    "\n",
    "    #the number of resamples is len(jack_resmaples[0]) or also\n",
    "    #nresamp = int((last_conf-first_conf)/binsize)\n",
    "    nresamp = np.shape(jack_resamples)[0] #the 0th axis now is the resample axis, (and axis has nconf-1 conf in the standard case (binsize=1 ecc.) )\n",
    "\n",
    "    #step 2; for each resample we compute the obsrvable of interest\n",
    "    #we use the resampled input array to compute the observable we want, and we have nresamp of them\n",
    "    obs_resamp = np.asarray( [observable(jack_resamples[i]) for i in range(nresamp) ] )  \n",
    "    print(\"obs resamples\")\n",
    "    print(np.shape(obs_resamp))\n",
    "\n",
    "    #step 3: we compute the observable also on the whole dataset\n",
    "    obs = observable(in_array)\n",
    "    print(\"obs\")\n",
    "    print(np.shape(obs))\n",
    "\n",
    "    #step4: compute estimate, bias and std according to the jackknife method\n",
    "    \n",
    "    #the estimate is the mean of the resamples\n",
    "    jack_mean = np.mean(obs_resamp,axis=0) #axis 0 is the resamples one\n",
    "    print(\"jack mean\")\n",
    "    print(np.shape(jack_mean))\n",
    "\n",
    "    #the jackknife bias is given by the following formula\n",
    "    bias = (nresamp-1) * (jack_mean - obs) \n",
    "    print(\"bias\")\n",
    "    print(np.shape(bias))\n",
    "\n",
    "    #the jack std is given by the following formula\n",
    "    obs_std = np.sqrt( (nresamp-1)/nresamp * np.sum( (obs_resamp - jack_mean)**2, axis=0 ) ) #the axis is the resamples one\n",
    "    print(\"obs std\")\n",
    "    print(np.shape(obs_std))\n",
    "\n",
    "    #to obtain the final estimate we correct the jack mean by the bias\n",
    "    obs_mean = jack_mean - bias\n",
    "\n",
    "    #let's now also obtain the covariance matrix for the time direction\n",
    "    covmat = np.empty( (np.shape(obs_mean)[time_axis],np.shape(obs_mean)[time_axis]) ) #(np.delete(np.shape(obs_mean),time_axis),) + (np.shape(obs_mean)[time_axis],np.shape(obs_mean)[time_axis],) ) ###ACHTUNG: here valid only for time_axis=-1\n",
    "    for t1 in range(np.shape(obs_mean)[time_axis]):\n",
    "        for t2 in range(np.shape(obs_mean)[time_axis]):\n",
    "            ##########ADJUST DIMENSIONSSS\n",
    "            covmat[t1,t2] = (nresamp-1)/nresamp * np.sum( (obs_resamp[:,t1] - obs[t1]) * (obs_resamp[:,t2] - obs[t2]),axis=0 )\n",
    "\n",
    "\n",
    "    #we return mean and std \n",
    "    return [obs_mean, obs_std, covmat]"
   ]
  },
  {
   "cell_type": "code",
   "execution_count": 84,
   "metadata": {},
   "outputs": [],
   "source": [
    "#function to be used with the jackknife to compute the gauge average of the correlators\n",
    "def gauge_average(in_array: np.ndarray, gauge_axis=0) -> np.ndarray:\n",
    "    return np.mean(in_array, axis=gauge_axis)"
   ]
  },
  {
   "cell_type": "code",
   "execution_count": 85,
   "metadata": {},
   "outputs": [
    {
     "data": {
      "text/plain": [
       "212"
      ]
     },
     "execution_count": 85,
     "metadata": {},
     "output_type": "execute_result"
    }
   ],
   "source": [
    "nresamp = nconf\n",
    "nresamp"
   ]
  },
  {
   "cell_type": "code",
   "execution_count": 86,
   "metadata": {},
   "outputs": [
    {
     "name": "stdout",
     "output_type": "stream",
     "text": [
      "jack resamples\n",
      "(212, 211, 48)\n",
      "obs resamples\n",
      "(212, 48)\n",
      "obs\n",
      "(48,)\n",
      "jack mean\n",
      "(48,)\n",
      "bias\n",
      "(48,)\n",
      "obs std\n",
      "(48,)\n"
     ]
    },
    {
     "data": {
      "text/plain": [
       "(48,)"
      ]
     },
     "execution_count": 86,
     "metadata": {},
     "output_type": "execute_result"
    },
    {
     "data": {
      "text/plain": [
       "(48,)"
      ]
     },
     "execution_count": 86,
     "metadata": {},
     "output_type": "execute_result"
    }
   ],
   "source": [
    "corr2p_mean, corr2p_std, corr2p_cov = jackknife(corr_2p, gauge_average, jack_axis=0)\n",
    "np.shape(corr2p_mean)\n",
    "np.shape(corr2p_std)"
   ]
  },
  {
   "cell_type": "code",
   "execution_count": 87,
   "metadata": {},
   "outputs": [
    {
     "data": {
      "text/plain": [
       "<ErrorbarContainer object of 3 artists>"
      ]
     },
     "execution_count": 87,
     "metadata": {},
     "output_type": "execute_result"
    },
    {
     "data": {
      "image/png": "[encoded data removed]",
      "text/plain": [
       "<Figure size 640x480 with 1 Axes>"
      ]
     },
     "metadata": {},
     "output_type": "display_data"
    }
   ],
   "source": [
    "times=np.arange(T)\n",
    "plt.errorbar(times,corr2p_mean,yerr=corr2p_std, linewidth=0.5,marker='o',markersize=4,elinewidth=1.0)\n",
    "#plt.yscale('log')"
   ]
  },
  {
   "cell_type": "code",
   "execution_count": 88,
   "metadata": {},
   "outputs": [
    {
     "data": {
      "text/plain": [
       "array([0.0047893 , 0.0051008 , 0.0050483 , 0.00490141, 0.00555366,\n",
       "       0.00627663, 0.0071804 , 0.00867937, 0.01108055, 0.01470305,\n",
       "       0.02018879, 0.02560155, 0.03619028, 0.04732855, 0.0553013 ,\n",
       "       0.06201486, 0.06351225, 0.06399384, 0.07091864, 0.07611213,\n",
       "       0.08190346, 0.09518788, 0.08556924, 0.07918494, 0.08360015,\n",
       "       0.07621892, 0.07084029, 0.07305506, 0.09160968, 0.09811212,\n",
       "       0.08779062, 0.12112703, 0.10548798, 0.08339313, 0.07489156,\n",
       "       0.05626594, 0.05978276, 0.06684182, 0.06594051, 0.06937017,\n",
       "       0.06512825, 0.05028145, 0.051971  , 0.05124296, 0.0330095 ,\n",
       "       0.01765455, 0.00933781, 0.00632993])"
      ]
     },
     "execution_count": 88,
     "metadata": {},
     "output_type": "execute_result"
    },
    {
     "data": {
      "text/plain": [
       "np.float64(0.052200090631876805)"
      ]
     },
     "execution_count": 88,
     "metadata": {},
     "output_type": "execute_result"
    }
   ],
   "source": [
    "corr2p_std/corr2p_mean\n",
    "np.mean(np.abs(corr2p_std/corr2p_mean))"
   ]
  },
  {
   "cell_type": "code",
   "execution_count": 89,
   "metadata": {},
   "outputs": [],
   "source": [
    "#function to be used with the jackknife to compute the effective mass of the correlators\n",
    "def eff_mass(corr_array: np.ndarray,gauge_axis=0) -> np.ndarray:\n",
    "    #the input array is the array with the 2point correlators\n",
    "\n",
    "    #we first take the gauge average\n",
    "    corr_gavg = np.mean(corr_array, axis=gauge_axis)\n",
    "\n",
    "    #then we rearrange the array as to have the time as first axis\n",
    "    #corr_gavg_t = np.moveaxis(corr_gavg, time_axis, 0)\n",
    "\n",
    "    #for the effective mass the number of time values is Tm1 = T - 1\n",
    "    #Tm1 = np.shape(corr_gavg_t)[0]-1\n",
    "    Tm1 = np.shape(corr_gavg)[0]-1\n",
    "\n",
    "    #we instantiate the eff mass array with first dimension of size tvalues - 1\n",
    "    #meff = np.zeros(( (Tm1,) + np.shape(corr_gavg_t)[1:] ))\n",
    "    #\"meff\"\n",
    "    #print(np.shape(meff))\n",
    "\n",
    "    meff = np.empty((Tm1))\n",
    "\n",
    "    #we compute the effective mass\n",
    "    for t in range(Tm1):\n",
    "        #meff[t] = np.log( corr_gavg_t[t]) - np.log( corr_gavg_t[t+1])#np.log( corr_gavg_t[t]/corr_gavg_t[t+1] )\n",
    "        #meff[t] = np.log(corr_gavg[t]) - np.log(corr_gavg[t+1])\n",
    "        meff[t] = np.log( (corr_gavg[t]/corr_gavg[t+1]).real )\n",
    "\n",
    "    #then we bring the time axis back to its position\n",
    "    #meff = np.moveaxis(meff, 0, time_axis)\n",
    "\n",
    "    #we send back the effective mass\n",
    "    return meff"
   ]
  },
  {
   "cell_type": "code",
   "execution_count": 90,
   "metadata": {},
   "outputs": [
    {
     "name": "stdout",
     "output_type": "stream",
     "text": [
      "jack resamples\n",
      "(212, 211, 48)\n",
      "obs resamples\n",
      "(212, 47)\n",
      "obs\n",
      "(47,)\n",
      "jack mean\n",
      "(47,)\n",
      "bias\n",
      "(47,)\n",
      "obs std\n",
      "(47,)\n"
     ]
    }
   ],
   "source": [
    "meff_mean, meff_std, meff_cov = jackknife(corr_2p, eff_mass, jack_axis=0)\n"
   ]
  },
  {
   "cell_type": "code",
   "execution_count": 91,
   "metadata": {},
   "outputs": [
    {
     "data": {
      "text/plain": [
       "<ErrorbarContainer object of 3 artists>"
      ]
     },
     "execution_count": 91,
     "metadata": {},
     "output_type": "execute_result"
    },
    {
     "data": {
      "image/png": "[encoded data removed]",
      "text/plain": [
       "<Figure size 640x480 with 1 Axes>"
      ]
     },
     "metadata": {},
     "output_type": "display_data"
    }
   ],
   "source": [
    "times=np.arange(T)\n",
    "m_times = times[:-1] +0.5\n",
    "plt.errorbar(m_times,meff_mean,yerr=meff_std,linewidth=0.5,marker='o',markersize=4,elinewidth=1.0)\n",
    "plt.grid()"
   ]
  },
  {
   "cell_type": "code",
   "execution_count": 92,
   "metadata": {},
   "outputs": [
    {
     "data": {
      "text/plain": [
       "(212, 48)"
      ]
     },
     "execution_count": 92,
     "metadata": {},
     "output_type": "execute_result"
    },
    {
     "data": {
      "text/plain": [
       "(12, 35, 77, 87)"
      ]
     },
     "execution_count": 92,
     "metadata": {},
     "output_type": "execute_result"
    },
    {
     "data": {
      "text/plain": [
       "(77, 12, 35, 87)"
      ]
     },
     "execution_count": 92,
     "metadata": {},
     "output_type": "execute_result"
    },
    {
     "data": {
      "text/plain": [
       "(12, 35, 77, 87)"
      ]
     },
     "execution_count": 92,
     "metadata": {},
     "output_type": "execute_result"
    },
    {
     "data": {
      "text/plain": [
       "np.True_"
      ]
     },
     "execution_count": 92,
     "metadata": {},
     "output_type": "execute_result"
    }
   ],
   "source": [
    "np.shape(corr_2p)\n",
    "\n",
    "#np.shape( np.rollaxis(corr_2p, -1) )\n",
    "\n",
    "ok = np.zeros((12,35,77,87))\n",
    "np.shape(ok)\n",
    "\n",
    "#np.shape( np.rollaxis( ok , 3) )\n",
    "\n",
    "ok2 = np.moveaxis( ok , 2, 0)\n",
    "\n",
    "np.shape( ok2 )\n",
    "\n",
    "ok3 = np.moveaxis(ok2, 0, 2)\n",
    "\n",
    "np.shape( ok3 )\n",
    "\n",
    "(ok3==ok).all()"
   ]
  },
  {
   "cell_type": "code",
   "execution_count": 93,
   "metadata": {},
   "outputs": [
    {
     "data": {
      "text/plain": [
       "(35, 77, 87)"
      ]
     },
     "execution_count": 93,
     "metadata": {},
     "output_type": "execute_result"
    },
    {
     "data": {
      "text/plain": [
       "66"
      ]
     },
     "execution_count": 93,
     "metadata": {},
     "output_type": "execute_result"
    }
   ],
   "source": [
    "np.shape(ok)[1:]\n",
    "\n",
    "ok33 = np.empty(((1,) + (4,67)))\n",
    "\n",
    "np.shape(ok33)[2]-1"
   ]
  },
  {
   "cell_type": "code",
   "execution_count": 94,
   "metadata": {},
   "outputs": [
    {
     "name": "stdout",
     "output_type": "stream",
     "text": [
      "(1, 2)\n",
      "(1, 2)\n",
      "(1, 2)\n",
      "(1, 2)\n",
      "(1, 2)\n",
      "(1, 2)\n",
      "(1, 2)\n",
      "(1, 2)\n",
      "(1, 2)\n",
      "(1, 2)\n"
     ]
    },
    {
     "data": {
      "text/plain": [
       "array([[[0., 0.]],\n",
       "\n",
       "       [[0., 0.]],\n",
       "\n",
       "       [[0., 0.]],\n",
       "\n",
       "       [[0., 0.]],\n",
       "\n",
       "       [[0., 0.]],\n",
       "\n",
       "       [[0., 0.]],\n",
       "\n",
       "       [[0., 0.]],\n",
       "\n",
       "       [[0., 0.]],\n",
       "\n",
       "       [[0., 0.]],\n",
       "\n",
       "       [[0., 0.]]])"
      ]
     },
     "execution_count": 94,
     "metadata": {},
     "output_type": "execute_result"
    }
   ],
   "source": [
    "oks = np.ones((10,1,2))\n",
    "def foo(inarray):\n",
    "    print(np.shape(inarray))\n",
    "    return np.zeros(np.shape(inarray))\n",
    "\n",
    "ttt = np.empty(np.shape(oks))\n",
    "ttt = np.asarray( [ foo(oks[i]) for i in range(np.shape(oks)[0]) ] )\n",
    "ttt"
   ]
  },
  {
   "cell_type": "code",
   "execution_count": 95,
   "metadata": {},
   "outputs": [
    {
     "data": {
      "text/plain": [
       "(212, 48)"
      ]
     },
     "execution_count": 95,
     "metadata": {},
     "output_type": "execute_result"
    },
    {
     "data": {
      "text/plain": [
       "<ErrorbarContainer object of 3 artists>"
      ]
     },
     "execution_count": 95,
     "metadata": {},
     "output_type": "execute_result"
    },
    {
     "data": {
      "image/png": "[encoded data removed]",
      "text/plain": [
       "<Figure size 640x480 with 1 Axes>"
      ]
     },
     "metadata": {},
     "output_type": "display_data"
    }
   ],
   "source": [
    "np.shape(corr_2p)\n",
    "\n",
    "corr_2p_gavg = np.mean(corr_2p,axis=0)\n",
    "corr_2p_gavg_std = np.std(corr_2p,axis=0)\n",
    "\n",
    "plt.errorbar(times,corr_2p_gavg,yerr=corr_2p_gavg_std,linewidth=0.5,marker='o',markersize=4,elinewidth=1.0)\n",
    "plt.yscale('log')\n",
    "#plt.xlim(0,20)"
   ]
  },
  {
   "cell_type": "code",
   "execution_count": 96,
   "metadata": {},
   "outputs": [
    {
     "data": {
      "text/plain": [
       "(48,)"
      ]
     },
     "execution_count": 96,
     "metadata": {},
     "output_type": "execute_result"
    }
   ],
   "source": [
    "np.shape(corr_2p_gavg)"
   ]
  },
  {
   "cell_type": "code",
   "execution_count": 97,
   "metadata": {},
   "outputs": [
    {
     "data": {
      "text/plain": [
       "[<matplotlib.lines.Line2D at 0x7fecac20a310>]"
      ]
     },
     "execution_count": 97,
     "metadata": {},
     "output_type": "execute_result"
    },
    {
     "data": {
      "text/plain": [
       "<ErrorbarContainer object of 3 artists>"
      ]
     },
     "execution_count": 97,
     "metadata": {},
     "output_type": "execute_result"
    },
    {
     "data": {
      "text/plain": [
       "(0.0, 48.0)"
      ]
     },
     "execution_count": 97,
     "metadata": {},
     "output_type": "execute_result"
    },
    {
     "data": {
      "image/png": "[encoded data removed]",
      "text/plain": [
       "<Figure size 640x480 with 1 Axes>"
      ]
     },
     "metadata": {},
     "output_type": "display_data"
    }
   ],
   "source": [
    "meff = np.empty((T-1))\n",
    "for t in range(T-1):\n",
    "    meff[t] = np.log((corr_2p_gavg[t]/corr_2p_gavg[t+1]).real)\n",
    "\n",
    "    massa = meff[t]\n",
    "    for it in range(150):\n",
    "        den = 1 - np.exp( -2*massa * ( T-t  ) )\n",
    "        num = 1 - np.exp( -2*massa * ( T-t-1) )\n",
    "        \n",
    "        new_massa = np.log( (corr_2p_gavg[t]/corr_2p_gavg[t+1]).real * num/den )\n",
    "\n",
    "        if np.abs(massa-new_massa)/massa < 3e-10:\n",
    "                massa=new_massa\n",
    "                #print(f\"{it}\")\n",
    "                break\n",
    "        massa = new_massa\n",
    "    meff[t] = massa\n",
    "\n",
    "tcut = 48\n",
    "tmin = 0\n",
    "\n",
    "plt.plot(m_times[tmin:tcut],meff[tmin:tcut])\n",
    "plt.errorbar(m_times[tmin:tcut],meff_mean[tmin:tcut],yerr=meff_std[tmin:tcut],linewidth=0.5,marker='o',markersize=4,elinewidth=1.0)\n",
    "plt.grid()\n",
    "plt.xlim(tmin,tcut)"
   ]
  },
  {
   "cell_type": "code",
   "execution_count": 98,
   "metadata": {},
   "outputs": [],
   "source": [
    "#auxiliary function to compute the chi2 of a fit\n",
    "def chi2(array,std_array,axis):\n",
    "    avg = np.mean(array,axis=axis,keepdims=True)\n",
    "    return np.sum( ((array-avg)/std_array)**2 , axis=axis) / np.shape(array)[axis]"
   ]
  },
  {
   "cell_type": "code",
   "execution_count": 99,
   "metadata": {},
   "outputs": [
    {
     "data": {
      "text/plain": [
       "9"
      ]
     },
     "execution_count": 99,
     "metadata": {},
     "output_type": "execute_result"
    }
   ],
   "source": [
    "#algo to search for the plateau value\n",
    "rcut = 10\n",
    "lcut = 10\n",
    "chi2_ref = 1.5\n",
    "for icut in range(1,int(T/2)):\n",
    "\n",
    "    plateaux_value = np.mean(meff_mean[icut+lcut:-icut-rcut])\n",
    "    plateaux_std = np.sqrt( np.mean( meff_mean[icut+lcut:-icut-rcut]**2 ) )\n",
    "\n",
    "    if chi2(meff_mean[icut+lcut:-icut-rcut],meff_std[icut+lcut:-icut-rcut],axis=0) < chi2_ref:\n",
    "        chosen_cut = icut\n",
    "        chosen_cut\n",
    "        break"
   ]
  },
  {
   "cell_type": "code",
   "execution_count": 100,
   "metadata": {},
   "outputs": [
    {
     "data": {
      "text/plain": [
       "<ErrorbarContainer object of 3 artists>"
      ]
     },
     "execution_count": 100,
     "metadata": {},
     "output_type": "execute_result"
    },
    {
     "data": {
      "text/plain": [
       "<matplotlib.collections.LineCollection at 0x7fecac10dc50>"
      ]
     },
     "execution_count": 100,
     "metadata": {},
     "output_type": "execute_result"
    },
    {
     "data": {
      "text/plain": [
       "<matplotlib.collections.LineCollection at 0x7fecac11d650>"
      ]
     },
     "execution_count": 100,
     "metadata": {},
     "output_type": "execute_result"
    },
    {
     "data": {
      "text/plain": [
       "<matplotlib.collections.LineCollection at 0x7fecac246ad0>"
      ]
     },
     "execution_count": 100,
     "metadata": {},
     "output_type": "execute_result"
    },
    {
     "data": {
      "image/png": "[encoded data removed]",
      "text/plain": [
       "<Figure size 640x480 with 1 Axes>"
      ]
     },
     "metadata": {},
     "output_type": "display_data"
    }
   ],
   "source": [
    "zoom = 3\n",
    "plt.errorbar(m_times[chosen_cut+lcut -zoom:-chosen_cut-rcut + zoom],meff_mean[chosen_cut+lcut -zoom:-chosen_cut-rcut + zoom],yerr=meff_std[chosen_cut+lcut -zoom:-chosen_cut-rcut + zoom],linewidth=0.5,marker='o',markersize=4,elinewidth=1.0)\n",
    "plt.hlines(plateaux_value,chosen_cut+lcut, T -1 -chosen_cut-rcut,color='red')\n",
    "plt.hlines(plateaux_value+plateaux_std,chosen_cut+lcut, T -1 -chosen_cut-rcut,color='red',linestyles='dashed')\n",
    "plt.hlines(plateaux_value-plateaux_std,chosen_cut+lcut, T -1 -chosen_cut-rcut,color='red',linestyles='dashed')\n",
    "plt.grid()"
   ]
  },
  {
   "cell_type": "code",
   "execution_count": 101,
   "metadata": {},
   "outputs": [],
   "source": [
    "#auxiliary function to compute chi2 of a fit taking into account the covariant matrix\n",
    "def reduced_cov_chi2(array,cov_array,axis):\n",
    "    cov_inv = np.linalg.inv(cov_array)\n",
    "    avg = np.mean(array,axis=axis,keepdims=True)\n",
    "    deltas = array-avg\n",
    "\n",
    "    plateau_T = np.shape(array)[axis]\n",
    "\n",
    "    #return np.dot( deltas, np.dot(cov_inv, deltas))\n",
    "\n",
    "    return np.einsum( 'j,j->' , deltas, np.einsum('jk,k->j',cov_inv,deltas) ) / plateau_T #achtung: indices are not related to general case"
   ]
  },
  {
   "cell_type": "code",
   "execution_count": 102,
   "metadata": {},
   "outputs": [
    {
     "data": {
      "text/plain": [
       "9"
      ]
     },
     "execution_count": 102,
     "metadata": {},
     "output_type": "execute_result"
    }
   ],
   "source": [
    "#algo to search for the plateau value\n",
    "rcut = 10\n",
    "lcut = 10\n",
    "chi2_ref = 1.0 * 2\n",
    "for icut in range(1,int(T/2)):\n",
    "\n",
    "    plateaux_value = np.mean(meff_mean[icut+lcut:-icut-rcut])\n",
    "    plateaux_std = np.sqrt( np.mean( meff_mean[icut+lcut:-icut-rcut]**2 ) )\n",
    "\n",
    "    if reduced_cov_chi2(meff_mean[icut+lcut:-icut-rcut],meff_cov[icut+lcut:-icut-rcut,icut+lcut:-icut-rcut],axis=0) < chi2_ref:\n",
    "        chosen_cut = icut\n",
    "        chosen_cut\n",
    "        break"
   ]
  },
  {
   "cell_type": "code",
   "execution_count": 103,
   "metadata": {},
   "outputs": [
    {
     "data": {
      "text/plain": [
       "<ErrorbarContainer object of 3 artists>"
      ]
     },
     "execution_count": 103,
     "metadata": {},
     "output_type": "execute_result"
    },
    {
     "data": {
      "text/plain": [
       "<matplotlib.collections.LineCollection at 0x7feca69b7890>"
      ]
     },
     "execution_count": 103,
     "metadata": {},
     "output_type": "execute_result"
    },
    {
     "data": {
      "text/plain": [
       "<matplotlib.collections.LineCollection at 0x7feca6a05010>"
      ]
     },
     "execution_count": 103,
     "metadata": {},
     "output_type": "execute_result"
    },
    {
     "data": {
      "text/plain": [
       "<matplotlib.collections.LineCollection at 0x7feca6a06610>"
      ]
     },
     "execution_count": 103,
     "metadata": {},
     "output_type": "execute_result"
    },
    {
     "data": {
      "image/png": "[encoded data removed]",
      "text/plain": [
       "<Figure size 640x480 with 1 Axes>"
      ]
     },
     "metadata": {},
     "output_type": "display_data"
    }
   ],
   "source": [
    "zoom = 3\n",
    "plt.errorbar(m_times[chosen_cut+lcut -zoom:-chosen_cut-rcut + zoom],meff_mean[chosen_cut+lcut -zoom:-chosen_cut-rcut + zoom],yerr=meff_std[chosen_cut+lcut -zoom:-chosen_cut-rcut + zoom],linewidth=0.5,marker='o',markersize=4,elinewidth=1.0)\n",
    "plt.hlines(plateaux_value,chosen_cut+lcut, T -1 -chosen_cut-rcut,color='red')\n",
    "plt.hlines(plateaux_value+plateaux_std,chosen_cut+lcut, T -1 -chosen_cut-rcut,color='red',linestyles='dashed')\n",
    "plt.hlines(plateaux_value-plateaux_std,chosen_cut+lcut, T -1 -chosen_cut-rcut,color='red',linestyles='dashed')\n",
    "plt.grid()"
   ]
  },
  {
   "cell_type": "markdown",
   "metadata": {},
   "source": [
    "# Operator related Stuff"
   ]
  },
  {
   "cell_type": "code",
   "execution_count": 110,
   "metadata": {},
   "outputs": [
    {
     "data": {
      "text/plain": [
       "['g0',\n",
       " 'g1',\n",
       " 'g10',\n",
       " 'g11',\n",
       " 'g12',\n",
       " 'g13',\n",
       " 'g14',\n",
       " 'g15',\n",
       " 'g2',\n",
       " 'g3',\n",
       " 'g4',\n",
       " 'g5',\n",
       " 'g6',\n",
       " 'g7',\n",
       " 'g8',\n",
       " 'g9']"
      ]
     },
     "execution_count": 110,
     "metadata": {},
     "output_type": "execute_result"
    }
   ],
   "source": [
    "dstructure_list"
   ]
  },
  {
   "cell_type": "code",
   "execution_count": null,
   "metadata": {},
   "outputs": [],
   "source": [
    "#!!!!!!!!!! check the correctness of this mapping TO DO\n",
    "\n",
    "#mapping between the pair (dirac structure, index) and the actual gamma matrix to be used\n",
    "dirac_dict = {('V',0):'g0', #identity matrix\n",
    "              ('V',1):'g1', ('V',2):'g2', ('V',3):'g3',  ('V',4):'g4', #gamma1, ..., gamma4\n",
    "              ('A',0):'g5', #gamma5\n",
    "              ('A',1):'g6', ('A',2):'g7', ('A',3):'g8',  ('A',4):'g9', #gamma1gamma5, ..., gamma4gamma5\n",
    "              ('T',12):'g10', ('T',13):'g11', ('T',14):'g12', ('T',23):'g13', ('T',24):'g14', ('T',34):'g15'} #gamma1gamma2, ..., gamma3gamma4"
   ]
  },
  {
   "cell_type": "code",
   "execution_count": null,
   "metadata": {},
   "outputs": [],
   "source": [
    "\n",
    "#function used to read the 3point correalators\n",
    "def corr3p_reading(basefolder:str, sep_T:int, dirac: str, op_list: list,\n",
    "                   tag = 'bb', smear = None, m = None, hadron = 'proton_3',\n",
    "                   momentum = None, qcontent = None, ins_mom = None) -> np.ndarray:\n",
    "    \"\"\"\n",
    "    Input:\n",
    "        - basefolder: path to the folder containing the data\n",
    "        - sep_T: separation in time between source and insertion in the 3 point correlator\n",
    "        - dirac: 'V', 'A', or 'T', that is the dirac structure of the 3 point correlator\n",
    "        - op_list: list with as many element as operators, each element being the instruction on how to construct a given operator\n",
    "        - None parameters will fall to default values\n",
    "    TO DO : FIX INPUT CHECK !!!\n",
    "    \"\"\"\n",
    "\n",
    "\n",
    "    #First we look into the given folder to see how many configurations we have\n",
    "\n",
    "    #Path file to the data folder\n",
    "    p = Path(basefolder).glob('**/*')\n",
    "    files = [x for x in p if x.is_file()]\n",
    "\n",
    "    #number of data files (i.e. the number of gauge configurations, and for each the 3point correlator is computed)\n",
    "    nconf = len(files)\n",
    "\n",
    "\n",
    "    #We take the number of operators from the length of the op_list\n",
    "\n",
    "    #number of operators\n",
    "    nops = len(op_list)\n",
    "\n",
    "\n",
    "    #We can now instantiate the np where we will store the 3 point correlators\n",
    "\n",
    "    #array for the 3p corr, with shape (nconf, nops, sep_T+1)\n",
    "    corr_3p = np.empty((nconf, nops, sep_T+1),dtype=complex)\n",
    "\n",
    "\n",
    "    #We now cycle throguh the files in the given folder and read the correlators, taking the appropiate combinations corresponding to the given operators\n",
    "\n",
    "    #we cycle through the files in the folder\n",
    "    for i,file in enumerate(files):\n",
    "\n",
    "\n",
    "        #we open the h5 file corresponding too the i-th configuration\n",
    "        with h5.File(basefolder+file.name, 'r') as h5f:\n",
    "\n",
    "\n",
    "            #We construct the keys according to the input parameters, then read the correlator accordingly\n",
    "\n",
    "            #id of the given configuration\n",
    "            cfgid = list(h5f.keys())[0] # = 'cfg090211_044614' (or smth like that) (this is a list with only one element, the id of the configuration)\n",
    "\n",
    "            #tag of the correlator we want to read (by default is 'bb')\n",
    "            if tag not in list(h5f[cfgid]): #the list is ['bb','bb_d2_dpx2','bb_d2_dpy2','bb_d2_dpz2','bb_d_dpx','bb_d_dpy',....] (or smth like that)\n",
    "                return \"Error: tag not valid\"\n",
    "            \n",
    "            #smearing of the correlator\n",
    "            if None == smear:\n",
    "                smear = list(h5f[cfgid][tag])[0] # the list ['GN3x60-GN3x60'] (or smth like that), and we choose to have both source and sink smeared\n",
    "            elif smear not in list(h5f[cfgid][tag]): \n",
    "                return \"Error: smear not valid\"\n",
    "            \n",
    "            #mass of the quark\n",
    "            if None == m:\n",
    "                m = list(h5f[cfgid][tag][smear])[0]\n",
    "            elif m not in list(h5f[cfgid][tag][smear]):\n",
    "                return \"Error: mass not valid\"\n",
    "\n",
    "        \n",
    "            #hadron we are interested in (by default is 'proton_3')\n",
    "            if hadron not in list(h5f[cfgid][tag][smear][m]):\n",
    "                return \"Error: hadron not valid\"\n",
    "            \n",
    "\n",
    "            #quark content of the hadron\n",
    "            if None == qcontent:\n",
    "                qcontent = list(h5f[cfgid][tag][smear][m][hadron])[0]  #this list should be ['D', 'U'], and we are choosing D\n",
    "            elif qcontent not in list(h5f[cfgid][tag][smear][m][hadron]):\n",
    "                return \"Error: qcontent not valid\"\n",
    "\n",
    "        \n",
    "            #momentum of the correlator\n",
    "            if None == momentum:\n",
    "                momentum = 'PX0_PY0_PZ0_T' + str(sep_T) #because the mom list is smt like ['PX-2_PY0_PZ0_T8', 'PX0_PY0_PZ0_T8'] and we look at the 0 momentum case\n",
    "            elif momentum not in list(h5f[cfgid][tag][smear][m][hadron][qcontent]):\n",
    "                return \"Error: momentum not valid\"\n",
    "\n",
    "        \n",
    "            #To understand which displacement and dirac structure to read we look at the instruction into the op list\n",
    "\n",
    "            #loop over the op list\n",
    "            for iop,op_instr in enumerate(op_list):\n",
    "\n",
    "                #the first element of the instruction is the gamma matrix in the dirac structure\n",
    "                gamma_index = op_instr[0]\n",
    "\n",
    "                #to obtain the complete dirac structure we also look in which case we are (V,A,T), and we construct the dirac structure accordingly using a dict with the right mapping\n",
    "                dstruct = dirac_dict[(dirac,gamma_index)]\n",
    "\n",
    "                #before reading the displacement we instatiate the readed correlator to 0\n",
    "                tmp_corr = complex(0,0)\n",
    "\n",
    "\n",
    "                #to read the right displacement we look from the second element of the instruction on\n",
    "\n",
    "                #from the second element on the instruction list contains pairs with the displacement and the numerical coefficient in front of it\n",
    "                for coeff,displ in enumerate(op_instr[1:]):\n",
    "                    \n",
    "                    #last thing before the correlator reading: we set the insertion momentum to its default value\n",
    "                    if None == ins_mom:\n",
    "                        ins_mom = list(h5f[cfgid][tag][smear][mass][hadron][qcontent][momentum][displ][dstruct])[0] #this should be 'qx0_qy0_qz0'\n",
    "                    elif ins_mom not in list(h5f[cfgid][tag][smear][mass][hadron][qcontent][momentum][displ][dstruct]):\n",
    "                        return \"Error: ins_mom not valid\"\n",
    "                \n",
    "                    #we now update the tmp correlator reading a piece of it according to the operator instruction\n",
    "                    tmp_corr += coeff * h5f[cfgid][tag][smear][mass][hadron][qcontent][momentum][displ][dstruct][ins_mom]\n",
    "\n",
    "                #we then store the tmp_corr into the right place in the corr_3p array\n",
    "                corr_3p[i,iop] = tmp_corr\n",
    "\n",
    "\n",
    "\n",
    "    #once we read everything we return the array with the 3 point correlators\n",
    "    return corr_3p\n"
   ]
  },
  {
   "cell_type": "code",
   "execution_count": 124,
   "metadata": {},
   "outputs": [],
   "source": [
    "#op_instr should be a list with:\n",
    "#    - first element = an index (0 for indentity, 1 for gamma1 ecc.)\n",
    "#    - every other element should be a tuple with (coeff,displ), where coeff is a float and displ the str corresponding to the displacement in the h5 file"
   ]
  },
  {
   "cell_type": "code",
   "execution_count": null,
   "metadata": {},
   "outputs": [
    {
     "data": {
      "text/plain": [
       "3"
      ]
     },
     "execution_count": 122,
     "metadata": {},
     "output_type": "execute_result"
    },
    {
     "data": {
      "text/plain": [
       "5"
      ]
     },
     "execution_count": 122,
     "metadata": {},
     "output_type": "execute_result"
    }
   ],
   "source": [
    "def indices_to_instruction(dirac:str, index_list:list) -> list:\n",
    "    \"\"\"\n",
    "    Input:\n",
    "        - dirac: 'V', 'A', or 'T', that is the dirac structure of the operator\n",
    "        - index_list: list with the indices for the given operator\n",
    "    Output:\n",
    "        - list with the instruction list to be used in the corr3p_reading function\n",
    "    \"\"\"\n",
    "\n",
    "    #we instatiate the instruction list\n",
    "    instr = []\n",
    "\n",
    "\n",
    "    #then we start to fill the list\n",
    "\n",
    "    #the first element of list should be the index(indices) related to the gamma matrices\n",
    "\n",
    "    #for V and A that is only one index, for T it is the first two\n",
    "    if dirac in ['V','A']:\n",
    "        instr.append( int(index_list[0]) )\n",
    "        start_index = 1 #the element we start to read from after the first instruction\n",
    "    elif dirac == 'T':\n",
    "        instr.append( int(str(index_list[0])+str(index_list[1])) )\n",
    "        start_index = 2 #the element we start to read from after the first instruction\n",
    "\n",
    "\n",
    "    #then to every other index besides the first we associate a particular combinations of displacements\n",
    "\n",
    "    #the dict expliciting the axes names is\n",
    "    axes_dict = {1:'x',2:'y',3:'z',4:'t'}\n",
    "\n",
    "    #the number of covariant derivatives is the number of indices -1 for V and A, and -2 for T\n",
    "    nder = len(index_list) - start_index\n",
    "\n",
    "    #to every index there is associated a forward minus backward covariant derivate, to which we associate the following combinations of displacements\n",
    "    if nder==1:\n",
    "        instr.append( (2.0,'l1_'+axes_dict[index_list[start_index]].upper() ) )\n",
    "        instr.append( (-2.0,'l1_'+axes_dict[index_list[start_index]].lower() ) )\n",
    "    elif nder==2:\n",
    "        pass #TO DO !!!\n",
    "    else:\n",
    "        print(\"Error: nder>2 can't be implemented\")\n",
    "        return None\n",
    "\n",
    "    \n",
    "    \n",
    "\n"
   ]
  },
  {
   "cell_type": "code",
   "execution_count": 72,
   "metadata": {},
   "outputs": [],
   "source": [
    "class bulding_block:\n",
    "    \"\"\"\n",
    "    Create one instance of the class to read the building blocks from the given folders\n",
    "    \"\"\"\n",
    "\n",
    "    ## Global variable shared by all class instances\n",
    "\n",
    "    #initialization function\n",
    "\n",
    "    \"\"\"\n",
    "    IDEA: have the function read all the BBs in the path, and store them in a dict, then have as parameters the defualt keys to be used to access the dictionary, then have a function construucting\n",
    "    from the dict a np array, looking only at the keys specified in the class instance (this can be changed but have a default value)\"\"\"\n",
    "\n",
    "    def __init__(self, bb_folder,\n",
    "                 tag='bb',hadron='proton_3',\n",
    "                 maxConf=None, verbose=False):\n",
    "        \n",
    "        \"\"\"\n",
    "        Input description:...\n",
    "        \"\"\"\n",
    "\n",
    "\n",
    "        #Info Print\n",
    "        if verbose:\n",
    "            print(\"\\nInitializing the building block class instance...\\n\")\n",
    "        \n",
    "        \n",
    "        #First we look into the given folder to see how many configurations we have\n",
    "\n",
    "        #we store the folder for later use\n",
    "        self.bb_folder = bb_folder\n",
    "\n",
    "        #Path file to the data folder\n",
    "        p = Path(bb_folder).glob('**/*')\n",
    "        files = [x for x in p if x.is_file()]\n",
    "\n",
    "        #we store the number of configurations into a class variable (nconf is given by the number of data files in the given folder)\n",
    "        #if maxConf is not specified we take all the configurations, otherwise we read a smaller amount\n",
    "        if maxConf is None or maxConf > len(files):\n",
    "            self.nconf = len(files)\n",
    "        else:\n",
    "            self.nconf = maxConf\n",
    "\n",
    "        #we store the list with all the configuration names\n",
    "        self.conflist = [file.name for file in files]\n",
    "\n",
    "\n",
    "        #Now looking only at the first configuration we read the keys of the h5 file structure\n",
    "\n",
    "        #first conf is\n",
    "        firstconf = self.conflist[0]\n",
    "\n",
    "        #we open the h5 file corresponding too the first configuration\n",
    "        with h5.File(bb_folder+firstconf, 'r') as h5f:\n",
    "\n",
    "            #we read all the available keys and store them in lists\n",
    "\n",
    "            #id of the given configuration (this is equal to firstconf)\n",
    "            cfgid = list(h5f.keys())[0]\n",
    "\n",
    "            #we store all the keys of the nested dictionaries structure of the h5 file\n",
    "            self.tag_list = list(h5f[cfgid])\n",
    "            self.smearing_list = list(h5f[cfgid][self.tag_list[0]])\n",
    "            self.mass_list = list(h5f[cfgid][self.tag_list[0]][self.smearing_list[0]])\n",
    "            self.hadron_list = list(h5f[cfgid][self.tag_list[0]][self.smearing_list[0]][self.mass_list[0]])\n",
    "            self.qcontent_list = list(h5f[cfgid][self.tag_list[0]][self.smearing_list[0]][self.mass_list[0]][self.hadron_list[0]])\n",
    "            self.momentum_list = list(h5f[cfgid][self.tag_list[0]][self.smearing_list[0]][self.mass_list[0]][self.hadron_list[0]][self.qcontent_list[0]])\n",
    "            self.displacement_list = list(h5f[cfgid][self.tag_list[0]][self.smearing_list[0]][self.mass_list[0]][self.hadron_list[0]][self.qcontent_list[0]][self.momentum_list[0]])\n",
    "            self.dstructure_list = list(h5f[cfgid][self.tag_list[0]][self.smearing_list[0]][self.mass_list[0]][self.hadron_list[0]][self.qcontent_list[0]][self.momentum_list[0]][self.displacement_list[0]])\n",
    "            self.insmomementum_list = list(h5f[cfgid][self.tag_list[0]][self.smearing_list[0]][self.mass_list[0]][self.hadron_list[0]][self.qcontent_list[0]][self.momentum_list[0]][self.displacement_list[0]][self.dstructure_list[0]])\n",
    "\n",
    "            #we store the time extent of the correlator we have\n",
    "            self.T = len(h5f[cfgid][self.tag_list[0]][self.smearing_list[0]][self.mass_list[0]][self.hadron_list[0]][self.qcontent_list[0]][self.momentum_list[0]][self.displacement_list[0]][self.dstructure_list[0]][self.insmomementum_list[0]])\n",
    "\n",
    "\n",
    "        #we choose a default values for the different keys we want to be specified at reading time (for the other keys instead we loop over and read them)\n",
    "        self.tag = tag\n",
    "        self.smearing = self.smearing_list[0]\n",
    "        self.mass = self.mass_list[0]\n",
    "        self.hadron = hadron\n",
    "        self.momentum = [mom for mom in self.momentum_list if mom.startswith('PX0_PY0_PZ0')][0] #we take the 0 forward momentum as default\n",
    "        self.insmomentum = 'qx0_qy0_qz0' #same for the insertion momentum (this is the only choice available for every other key choice)\n",
    "\n",
    "        #we store the dimensionality of the dimension we have not fixed and that we want to read\n",
    "        self.nquarks = len(self.qcontent_list)\n",
    "        self.ndisplacements = len(self.displacement_list)\n",
    "        self.ndstructures = len(self.dstructure_list)\n",
    "\n",
    "\n",
    "        #Now we loop over the configurations and we convert the nconf h5 files into a single dictionary\n",
    "\n",
    "        #info print\n",
    "        if verbose:\n",
    "            print(\"\\nLooping over the configurations to read the building blocks from the h5 files...\\n\")\n",
    "\n",
    "        #we initialize the np array with the building blocks\n",
    "        self.bb_array = np.zeros(shape=(self.nconf, self.nquarks, self.ndisplacements, self.ndstructures, self.T),dtype=complex)\n",
    "\n",
    "        #we loop over the configurations\n",
    "        for iconf, file in enumerate(tqdm(files[:self.nconf])):\n",
    "\n",
    "            #we open the h5 file corresponding too the current configuration\n",
    "            with h5.File(bb_folder+file.name, 'r') as h5f:\n",
    "\n",
    "                #id of the given configuration (this is equal to firstconf)\n",
    "                cfgid = list(h5f.keys())[0]\n",
    "\n",
    "                #we loop over the keys that have not been set:\n",
    "                for iq, qcontent in enumerate(self.qcontent_list):\n",
    "                    for idisp, displacement in enumerate(self.displacement_list):\n",
    "                        for idstruct, dstructure in enumerate(self.dstructure_list):\n",
    "\n",
    "                            #we read the building block and store it in the np array\n",
    "                            self.bb_array[iconf, iq, idisp, idstruct] = h5f[cfgid][self.tag][self.smearing][self.mass][self.hadron][qcontent][self.momentum][displacement][dstructure][self.insmomentum]\n",
    "\n",
    "\n",
    "\n",
    "\n",
    "    #function used to print the information regarding the keys in the dictionary\n",
    "    def print_keys(self):\n",
    "\n",
    "\n",
    "        #First we print the currently chosen values for the keys\n",
    "        print(\"\\nSelected Keys:\\n\")\n",
    "        print(f\"    -tag: {self.tag}\")\n",
    "        print(f\"    -smearing: {self.smearing}\")\n",
    "        print(f\"    -mass: {self.mass}\")\n",
    "        print(f\"    -hadron: {self.hadron}\")\n",
    "        #print(f\"    -qcontent: {self.qcontent}\")\n",
    "        print(f\"    -momentum: {self.momentum}\")\n",
    "        #print(f\"    -displacement: {self.displacement}\")\n",
    "        #print(f\"    -dstructure: {self.dstructure}\")\n",
    "        print(f\"    -insmomentum: {self.insmomentum}\")\n",
    "\n",
    "\n",
    "        #Then we print the lists with all the available keys\n",
    "        print(\"\\nAvailable Keys:\\n\")\n",
    "        print(f\"tag_list: {self.tag_list}\")\n",
    "        print(f\"smearing_list: {self.smearing_list}\")\n",
    "        print(f\"mass_list: {self.mass_list}\")\n",
    "        print(f\"hadron_list: {self.hadron_list}\")\n",
    "        print(f\"qcontent_list: {self.qcontent_list}\")\n",
    "        print(f\"momentum_list: {self.momentum_list}\")\n",
    "        print(f\"displacement_list: {self.displacement_list}\")\n",
    "        print(f\"dstructure_list: {self.dstructure_list}\")\n",
    "        print(f\"insmomementum_list: {self.insmomementum_list}\")\n",
    "\n",
    "        print(\"\\nACHTUNG: not every combination of the above keys may be available\\n\")\n",
    "\n",
    "    \n",
    "    #function used to change the keys and reread the h5 files accordingly\n",
    "    def update_keys(self, tag=None, smearing=None, mass=None, hadron=None, momentum=None, insmomentum=None, verbose=False):\n",
    "\n",
    "        #we update the keys the user wants to change\n",
    "\n",
    "        #auxiliary lists\n",
    "        keys = [tag,smearing,mass,hadron,momentum,insmomentum]\n",
    "        keys_list = [self.tag_list, self.smearing_list, self.mass_list, self.hadron_list, self.momentum_list, self.insmomementum_list]\n",
    "        keys_name = ['tag','smearing','mass','hadron','momentum','insertion momementum']\n",
    "\n",
    "        #flag used to signal an update in the keys\n",
    "        update=False\n",
    "\n",
    "        #we loop over the keys and update them if the user has specified a new value\n",
    "        for i,k in enumerate(keys):\n",
    "            if k in keys_list[i]:\n",
    "                match i:\n",
    "                    case 0:\n",
    "                        self.tag = k\n",
    "                    case 1:\n",
    "                        self.smearing = k\n",
    "                    case 2:\n",
    "                        self.mass = k\n",
    "                    case 3:\n",
    "                        self.hadron = k\n",
    "                    case 4:\n",
    "                        self.momentum = k\n",
    "                    case 5:\n",
    "                        self.insmomentum = k\n",
    "                update=True\n",
    "            elif k is not None:\n",
    "                print(f\"Error: {keys_name[i]} not valid (look at the available keys with the print_keys method)\")\n",
    "        \n",
    "        \n",
    "        #if one of the keys has been updated we reread the h5 files\n",
    "        if update is True:\n",
    "\n",
    "            #info print\n",
    "            if verbose:\n",
    "                print(\"\\nReading the building blocks from the h5 files according to the new keys...\\n\")\n",
    "\n",
    "\n",
    "            #this is a copy of the reading procedure from the __init__ function\n",
    "\n",
    "            #Path file to the data folder\n",
    "            p = Path(self.bb_folder).glob('**/*')\n",
    "            files = [x for x in p if x.is_file()]\n",
    "            \n",
    "            self.bb_array = np.zeros(shape=(self.nconf, self.nquarks, self.ndisplacements, self.ndstructures, self.T),dtype=complex)\n",
    "\n",
    "            #we loop over the configurations\n",
    "            for iconf, file in enumerate(tqdm(files[:self.nconf])):\n",
    "\n",
    "                #we open the h5 file corresponding too the current configuration\n",
    "                with h5.File(self.bb_folder+file.name, 'r') as h5f:\n",
    "\n",
    "                    #id of the given configuration (this is equal to firstconf)\n",
    "                    cfgid = list(h5f.keys())[0]\n",
    "\n",
    "                    #we loop over the keys that have not been set:\n",
    "                    for iq, qcontent in enumerate(self.qcontent_list):\n",
    "                        for idisp, displacement in enumerate(self.displacement_list):\n",
    "                            for idstruct, dstructure in enumerate(self.dstructure_list):\n",
    "\n",
    "                                #we read the building block and store it in the np array\n",
    "                                self.bb_array[iconf, iq, idisp, idstruct] = h5f[cfgid][self.tag][self.smearing][self.mass][self.hadron][qcontent][self.momentum][displacement][dstructure][self.insmomentum]\n",
    "\n",
    "\n",
    "\n",
    "    #function used to construct the right covariant derivative of the building blocks (with the chosen keys)\n",
    "    def covD_r1(self) -> np.ndarray:\n",
    "\n",
    "        \"\"\"\n",
    "        The function takes no argument since the keys are all specified and the combination of displacements to be used is fixed\n",
    "\n",
    "        The output is an object with shape (nconf, nquarks, ndstructures, T, 4), 4 being the dimensionality of the index mu of the covariant derivative\n",
    "        \n",
    "        (the code assumes the momentum to be 0)\n",
    "        \"\"\"\n",
    "\n",
    "        #list with the mu indices\n",
    "        mu_list = ['x','y','z','t']\n",
    "\n",
    "        #we instatiate the np array where we will store the covariant derivative of the building blocks\n",
    "        covD_r1_array = np.zeros(shape=(self.nconf, self.nquarks, self.ndstructures, self.T,4),dtype=complex) #the last dimension is the mu index of the covariant derivative\n",
    "\n",
    "        #for each mu we compute the right derivative of the building block\n",
    "        for i, mu in enumerate(mu_list):\n",
    "\n",
    "            #the displacements we have to use are the following\n",
    "            disp1 = 'l1_'+mu.upper()\n",
    "            disp2 = 'l1_'+mu.lower()\n",
    "            #with indices given by\n",
    "            idisp1 = self.displacement_list.index(disp1)\n",
    "            idisp2 = self.displacement_list.index(disp2)\n",
    "\n",
    "            #knowing which displacements to use we can now compute the right covariant derivative as follows\n",
    "\n",
    "            #       conf,quarks,dstruct,T,mu            conf,quarks,displacements,dstruct,T\n",
    "            covD_r1_array[:, :, :, :, i] = self.bb_array[:, :, idisp1, :, :] - self.bb_array[:, :, idisp2, :, :]\n",
    "\n",
    "        #we return the right covariant derivative\n",
    "        return covD_r1_array\n",
    "    \n",
    "\n",
    "\n",
    "    #function used to construct the left covariant derivative of the building blocks (with the chosen keys)\n",
    "    def covD_l1(self) -> np.ndarray:\n",
    "\n",
    "        \"\"\"\n",
    "        The function takes no argument since the keys are all specified and the combination of displacements to be used is fixed\n",
    "\n",
    "        The output is an object with shape (nconf, nquarks, ndstructures, T, 4), 4 being the dimensionality of the index mu of the covariant derivative\n",
    "        \n",
    "        (the code assumes the momentum to be 0)\n",
    "        \"\"\"\n",
    "\n",
    "        #list with the mu indices\n",
    "        mu_list = ['x','y','z','t']\n",
    "\n",
    "        #we instatiate the np array where we will store the covariant derivative of the building blocks\n",
    "        covD_l1_array = np.zeros(shape=(self.nconf, self.nquarks, self.ndstructures, self.T,4),dtype=complex) #the last dimension is the mu index of the covariant derivative\n",
    "\n",
    "        #for each mu we compute the right derivative of the building block\n",
    "        for i, mu in enumerate(mu_list):\n",
    "\n",
    "            #the displacements we have to use are the following (reversed wrt the r1 case)\n",
    "            disp1 = 'l1_'+mu.lower()\n",
    "            disp2 = 'l1_'+mu.upper()\n",
    "            #with indices given by\n",
    "            idisp1 = self.displacement_list.index(disp1)\n",
    "            idisp2 = self.displacement_list.index(disp2)\n",
    "\n",
    "            #knowing which displacements to use we can now compute the right covariant derivative as follows\n",
    "\n",
    "            #the procedure is different for spatial and temporal components:\n",
    "            #(in particular for the temporal component the temporal axis has to be shifted by -1 for backward displacement and by +1 for forward displacement)\n",
    "\n",
    "            #for the spatial components we have\n",
    "            if i<3:\n",
    "                #       conf,quarks,dstruct,T,mu            conf,quarks,displacements,dstruct,T\n",
    "                covD_l1_array[:, :, :, :, i] = self.bb_array[:, :, idisp1, :, :] - self.bb_array[:, :, idisp2, :, :]\n",
    "            #for the temporal component we have\n",
    "            elif i==3:\n",
    "                #       conf,quarks,dstruct,T,mu            conf,quarks,displacements,dstruct,T\n",
    "                covD_l1_array[:, :, :, :, i] = np.roll(self.bb_array[:, :, idisp1, :, :], shift=-1, axis=-1) - np.roll(self.bb_array[:, :, idisp2, :, :], shift=1, axis=-1) #axis=-1 is the time axis\n",
    "            \n",
    "\n",
    "        #we return the right covariant derivative\n",
    "        return covD_l1_array\n",
    "\n",
    "\n",
    "\n"
   ]
  },
  {
   "cell_type": "markdown",
   "metadata": {},
   "source": [
    "# Tests of class from other file"
   ]
  },
  {
   "cell_type": "code",
   "execution_count": 7,
   "metadata": {},
   "outputs": [
    {
     "data": {
      "text/plain": [
       "(10, 20, 4, 4, 4)"
      ]
     },
     "execution_count": 7,
     "metadata": {},
     "output_type": "execute_result"
    }
   ],
   "source": [
    "(10,20,) + (4,)*3"
   ]
  },
  {
   "cell_type": "code",
   "execution_count": 3,
   "metadata": {},
   "outputs": [],
   "source": [
    "import sys\n",
    "\n",
    "sys.path.insert(1, '../')\n",
    "\n",
    "from building_blocks_reader import bulding_block"
   ]
  },
  {
   "cell_type": "code",
   "execution_count": 4,
   "metadata": {},
   "outputs": [
    {
     "name": "stdout",
     "output_type": "stream",
     "text": [
      "\n",
      "Initializing the building block class instance...\n",
      "\n",
      "\n",
      "Looping over the configurations to read the building blocks from the h5 files...\n",
      "\n"
     ]
    },
    {
     "name": "stderr",
     "output_type": "stream",
     "text": [
      "100%|██████████| 2/2 [00:04<00:00,  2.24s/it]\n"
     ]
    }
   ],
   "source": [
    "ok = bulding_block(\"/wsgjsc/home/taggi1/workspace_folders/jusuf_mountpoint/\" + \"48c48/binned_1012_hmz370_BMW/3PointCorrelation/T6/\", maxConf=2, verbose=True)"
   ]
  },
  {
   "cell_type": "code",
   "execution_count": 5,
   "metadata": {},
   "outputs": [
    {
     "name": "stdout",
     "output_type": "stream",
     "text": [
      "\n",
      "Selected Keys AAAAAAAAAAAAAAAAAAAA:\n",
      "\n",
      "    -tag: bb\n",
      "    -smearing: GN3x60-GN3x60\n",
      "    -mass: mq-0.09933\n",
      "    -hadron: proton_3\n",
      "    -momentum: PX0_PY0_PZ0_T6\n",
      "    -insmomentum: qx0_qy0_qz0\n",
      "\n",
      "Available Keys:\n",
      "\n",
      "tag_list: ['bb', 'bb_d2_dpx2', 'bb_d2_dpy2', 'bb_d2_dpz2', 'bb_d_dpx', 'bb_d_dpy', 'bb_d_dpz', 'bb_dfrw_dpx_dseq_dpx', 'bb_dfrw_dpx_dseq_dpy', 'bb_dfrw_dpx_dseq_dpz', 'bb_dfrw_dpy_dseq_dpx', 'bb_dfrw_dpy_dseq_dpy', 'bb_dfrw_dpy_dseq_dpz', 'bb_dfrw_dpz_dseq_dpx', 'bb_dfrw_dpz_dseq_dpy', 'bb_dfrw_dpz_dseq_dpz', 'bb_dseq_dpx', 'bb_dseq_dpy', 'bb_dseq_dpz']\n",
      "smearing_list: ['GN3x60-GN3x60']\n",
      "mass_list: ['mq-0.09933']\n",
      "hadron_list: ['proton_3', 'proton_negpar_3']\n",
      "qcontent_list: ['D', 'U']\n",
      "momentum_list: ['PX-2_PY0_PZ0_T6', 'PX0_PY0_PZ0_T6']\n",
      "displacement_list: ['l0_', 'l1_T', 'l1_X', 'l1_Y', 'l1_Z', 'l1_t', 'l1_x', 'l1_y', 'l1_z', 'l2_TT', 'l2_TX', 'l2_TY', 'l2_TZ', 'l2_Tx', 'l2_Ty', 'l2_Tz', 'l2_XT', 'l2_XX', 'l2_XY', 'l2_XZ', 'l2_Xt', 'l2_Xy', 'l2_Xz', 'l2_YT', 'l2_YX', 'l2_YY', 'l2_YZ', 'l2_Yt', 'l2_Yx', 'l2_Yz', 'l2_ZT', 'l2_ZX', 'l2_ZY', 'l2_ZZ', 'l2_Zt', 'l2_Zx', 'l2_Zy', 'l2_tX', 'l2_tY', 'l2_tZ', 'l2_tt', 'l2_tx', 'l2_ty', 'l2_tz', 'l2_xT', 'l2_xY', 'l2_xZ', 'l2_xt', 'l2_xx', 'l2_xy', 'l2_xz', 'l2_yT', 'l2_yX', 'l2_yZ', 'l2_yt', 'l2_yx', 'l2_yy', 'l2_yz', 'l2_zT', 'l2_zX', 'l2_zY', 'l2_zt', 'l2_zx', 'l2_zy', 'l2_zz']\n",
      "dstructure_list: ['g0', 'g1', 'g10', 'g11', 'g12', 'g13', 'g14', 'g15', 'g2', 'g3', 'g4', 'g5', 'g6', 'g7', 'g8', 'g9']\n",
      "insmomementum_list: ['qx-1_qy-1_qz-1', 'qx-1_qy-1_qz-2', 'qx-1_qy-1_qz0', 'qx-1_qy-1_qz1', 'qx-1_qy-1_qz2', 'qx-1_qy-2_qz-1', 'qx-1_qy-2_qz-2', 'qx-1_qy-2_qz0', 'qx-1_qy-2_qz1', 'qx-1_qy-2_qz2', 'qx-1_qy-3_qz0', 'qx-1_qy0_qz-1', 'qx-1_qy0_qz-2', 'qx-1_qy0_qz-3', 'qx-1_qy0_qz0', 'qx-1_qy0_qz1', 'qx-1_qy0_qz2', 'qx-1_qy0_qz3', 'qx-1_qy1_qz-1', 'qx-1_qy1_qz-2', 'qx-1_qy1_qz0', 'qx-1_qy1_qz1', 'qx-1_qy1_qz2', 'qx-1_qy2_qz-1', 'qx-1_qy2_qz-2', 'qx-1_qy2_qz0', 'qx-1_qy2_qz1', 'qx-1_qy2_qz2', 'qx-1_qy3_qz0', 'qx-2_qy-1_qz-1', 'qx-2_qy-1_qz-2', 'qx-2_qy-1_qz-3', 'qx-2_qy-1_qz0', 'qx-2_qy-1_qz1', 'qx-2_qy-1_qz2', 'qx-2_qy-1_qz3', 'qx-2_qy-2_qz-1', 'qx-2_qy-2_qz-2', 'qx-2_qy-2_qz0', 'qx-2_qy-2_qz1', 'qx-2_qy-2_qz2', 'qx-2_qy-3_qz-1', 'qx-2_qy-3_qz0', 'qx-2_qy-3_qz1', 'qx-2_qy0_qz-1', 'qx-2_qy0_qz-2', 'qx-2_qy0_qz-3', 'qx-2_qy0_qz0', 'qx-2_qy0_qz1', 'qx-2_qy0_qz2', 'qx-2_qy0_qz3', 'qx-2_qy1_qz-1', 'qx-2_qy1_qz-2', 'qx-2_qy1_qz-3', 'qx-2_qy1_qz0', 'qx-2_qy1_qz1', 'qx-2_qy1_qz2', 'qx-2_qy1_qz3', 'qx-2_qy2_qz-1', 'qx-2_qy2_qz-2', 'qx-2_qy2_qz0', 'qx-2_qy2_qz1', 'qx-2_qy2_qz2', 'qx-2_qy3_qz-1', 'qx-2_qy3_qz0', 'qx-2_qy3_qz1', 'qx-3_qy-1_qz-1', 'qx-3_qy-1_qz-2', 'qx-3_qy-1_qz0', 'qx-3_qy-1_qz1', 'qx-3_qy-1_qz2', 'qx-3_qy-2_qz-1', 'qx-3_qy-2_qz-2', 'qx-3_qy-2_qz0', 'qx-3_qy-2_qz1', 'qx-3_qy-2_qz2', 'qx-3_qy-3_qz0', 'qx-3_qy0_qz-1', 'qx-3_qy0_qz-2', 'qx-3_qy0_qz-3', 'qx-3_qy0_qz0', 'qx-3_qy0_qz1', 'qx-3_qy0_qz2', 'qx-3_qy0_qz3', 'qx-3_qy1_qz-1', 'qx-3_qy1_qz-2', 'qx-3_qy1_qz0', 'qx-3_qy1_qz1', 'qx-3_qy1_qz2', 'qx-3_qy2_qz-1', 'qx-3_qy2_qz-2', 'qx-3_qy2_qz0', 'qx-3_qy2_qz1', 'qx-3_qy2_qz2', 'qx-3_qy3_qz0', 'qx-4_qy-1_qz-1', 'qx-4_qy-1_qz-2', 'qx-4_qy-1_qz0', 'qx-4_qy-1_qz1', 'qx-4_qy-1_qz2', 'qx-4_qy-2_qz-1', 'qx-4_qy-2_qz0', 'qx-4_qy-2_qz1', 'qx-4_qy0_qz-1', 'qx-4_qy0_qz-2', 'qx-4_qy0_qz0', 'qx-4_qy0_qz1', 'qx-4_qy0_qz2', 'qx-4_qy1_qz-1', 'qx-4_qy1_qz-2', 'qx-4_qy1_qz0', 'qx-4_qy1_qz1', 'qx-4_qy1_qz2', 'qx-4_qy2_qz-1', 'qx-4_qy2_qz0', 'qx-4_qy2_qz1', 'qx-5_qy-1_qz0', 'qx-5_qy0_qz-1', 'qx-5_qy0_qz0', 'qx-5_qy0_qz1', 'qx-5_qy1_qz0', 'qx0_qy-1_qz-1', 'qx0_qy-1_qz-2', 'qx0_qy-1_qz0', 'qx0_qy-1_qz1', 'qx0_qy-1_qz2', 'qx0_qy-2_qz-1', 'qx0_qy-2_qz0', 'qx0_qy-2_qz1', 'qx0_qy0_qz-1', 'qx0_qy0_qz-2', 'qx0_qy0_qz0', 'qx0_qy0_qz1', 'qx0_qy0_qz2', 'qx0_qy1_qz-1', 'qx0_qy1_qz-2', 'qx0_qy1_qz0', 'qx0_qy1_qz1', 'qx0_qy1_qz2', 'qx0_qy2_qz-1', 'qx0_qy2_qz0', 'qx0_qy2_qz1', 'qx1_qy-1_qz0', 'qx1_qy0_qz-1', 'qx1_qy0_qz0', 'qx1_qy0_qz1', 'qx1_qy1_qz0']\n",
      "\n",
      "ACHTUNG: not every combination of the above keys may be available\n",
      "\n",
      "\n",
      "Reading the building blocks from the h5 files according to the new keys...\n",
      "\n"
     ]
    },
    {
     "name": "stderr",
     "output_type": "stream",
     "text": [
      "100%|██████████| 2/2 [00:05<00:00,  2.70s/it]"
     ]
    },
    {
     "name": "stdout",
     "output_type": "stream",
     "text": [
      "\n",
      "Selected Keys AAAAAAAAAAAAAAAAAAAA:\n",
      "\n",
      "    -tag: bb\n",
      "    -smearing: GN3x60-GN3x60\n",
      "    -mass: mq-0.09933\n",
      "    -hadron: proton_negpar_3\n",
      "    -momentum: PX0_PY0_PZ0_T6\n",
      "    -insmomentum: qx0_qy0_qz0\n",
      "\n",
      "Available Keys:\n",
      "\n",
      "tag_list: ['bb', 'bb_d2_dpx2', 'bb_d2_dpy2', 'bb_d2_dpz2', 'bb_d_dpx', 'bb_d_dpy', 'bb_d_dpz', 'bb_dfrw_dpx_dseq_dpx', 'bb_dfrw_dpx_dseq_dpy', 'bb_dfrw_dpx_dseq_dpz', 'bb_dfrw_dpy_dseq_dpx', 'bb_dfrw_dpy_dseq_dpy', 'bb_dfrw_dpy_dseq_dpz', 'bb_dfrw_dpz_dseq_dpx', 'bb_dfrw_dpz_dseq_dpy', 'bb_dfrw_dpz_dseq_dpz', 'bb_dseq_dpx', 'bb_dseq_dpy', 'bb_dseq_dpz']\n",
      "smearing_list: ['GN3x60-GN3x60']\n",
      "mass_list: ['mq-0.09933']\n",
      "hadron_list: ['proton_3', 'proton_negpar_3']\n",
      "qcontent_list: ['D', 'U']\n",
      "momentum_list: ['PX-2_PY0_PZ0_T6', 'PX0_PY0_PZ0_T6']\n",
      "displacement_list: ['l0_', 'l1_T', 'l1_X', 'l1_Y', 'l1_Z', 'l1_t', 'l1_x', 'l1_y', 'l1_z', 'l2_TT', 'l2_TX', 'l2_TY', 'l2_TZ', 'l2_Tx', 'l2_Ty', 'l2_Tz', 'l2_XT', 'l2_XX', 'l2_XY', 'l2_XZ', 'l2_Xt', 'l2_Xy', 'l2_Xz', 'l2_YT', 'l2_YX', 'l2_YY', 'l2_YZ', 'l2_Yt', 'l2_Yx', 'l2_Yz', 'l2_ZT', 'l2_ZX', 'l2_ZY', 'l2_ZZ', 'l2_Zt', 'l2_Zx', 'l2_Zy', 'l2_tX', 'l2_tY', 'l2_tZ', 'l2_tt', 'l2_tx', 'l2_ty', 'l2_tz', 'l2_xT', 'l2_xY', 'l2_xZ', 'l2_xt', 'l2_xx', 'l2_xy', 'l2_xz', 'l2_yT', 'l2_yX', 'l2_yZ', 'l2_yt', 'l2_yx', 'l2_yy', 'l2_yz', 'l2_zT', 'l2_zX', 'l2_zY', 'l2_zt', 'l2_zx', 'l2_zy', 'l2_zz']\n",
      "dstructure_list: ['g0', 'g1', 'g10', 'g11', 'g12', 'g13', 'g14', 'g15', 'g2', 'g3', 'g4', 'g5', 'g6', 'g7', 'g8', 'g9']\n",
      "insmomementum_list: ['qx-1_qy-1_qz-1', 'qx-1_qy-1_qz-2', 'qx-1_qy-1_qz0', 'qx-1_qy-1_qz1', 'qx-1_qy-1_qz2', 'qx-1_qy-2_qz-1', 'qx-1_qy-2_qz-2', 'qx-1_qy-2_qz0', 'qx-1_qy-2_qz1', 'qx-1_qy-2_qz2', 'qx-1_qy-3_qz0', 'qx-1_qy0_qz-1', 'qx-1_qy0_qz-2', 'qx-1_qy0_qz-3', 'qx-1_qy0_qz0', 'qx-1_qy0_qz1', 'qx-1_qy0_qz2', 'qx-1_qy0_qz3', 'qx-1_qy1_qz-1', 'qx-1_qy1_qz-2', 'qx-1_qy1_qz0', 'qx-1_qy1_qz1', 'qx-1_qy1_qz2', 'qx-1_qy2_qz-1', 'qx-1_qy2_qz-2', 'qx-1_qy2_qz0', 'qx-1_qy2_qz1', 'qx-1_qy2_qz2', 'qx-1_qy3_qz0', 'qx-2_qy-1_qz-1', 'qx-2_qy-1_qz-2', 'qx-2_qy-1_qz-3', 'qx-2_qy-1_qz0', 'qx-2_qy-1_qz1', 'qx-2_qy-1_qz2', 'qx-2_qy-1_qz3', 'qx-2_qy-2_qz-1', 'qx-2_qy-2_qz-2', 'qx-2_qy-2_qz0', 'qx-2_qy-2_qz1', 'qx-2_qy-2_qz2', 'qx-2_qy-3_qz-1', 'qx-2_qy-3_qz0', 'qx-2_qy-3_qz1', 'qx-2_qy0_qz-1', 'qx-2_qy0_qz-2', 'qx-2_qy0_qz-3', 'qx-2_qy0_qz0', 'qx-2_qy0_qz1', 'qx-2_qy0_qz2', 'qx-2_qy0_qz3', 'qx-2_qy1_qz-1', 'qx-2_qy1_qz-2', 'qx-2_qy1_qz-3', 'qx-2_qy1_qz0', 'qx-2_qy1_qz1', 'qx-2_qy1_qz2', 'qx-2_qy1_qz3', 'qx-2_qy2_qz-1', 'qx-2_qy2_qz-2', 'qx-2_qy2_qz0', 'qx-2_qy2_qz1', 'qx-2_qy2_qz2', 'qx-2_qy3_qz-1', 'qx-2_qy3_qz0', 'qx-2_qy3_qz1', 'qx-3_qy-1_qz-1', 'qx-3_qy-1_qz-2', 'qx-3_qy-1_qz0', 'qx-3_qy-1_qz1', 'qx-3_qy-1_qz2', 'qx-3_qy-2_qz-1', 'qx-3_qy-2_qz-2', 'qx-3_qy-2_qz0', 'qx-3_qy-2_qz1', 'qx-3_qy-2_qz2', 'qx-3_qy-3_qz0', 'qx-3_qy0_qz-1', 'qx-3_qy0_qz-2', 'qx-3_qy0_qz-3', 'qx-3_qy0_qz0', 'qx-3_qy0_qz1', 'qx-3_qy0_qz2', 'qx-3_qy0_qz3', 'qx-3_qy1_qz-1', 'qx-3_qy1_qz-2', 'qx-3_qy1_qz0', 'qx-3_qy1_qz1', 'qx-3_qy1_qz2', 'qx-3_qy2_qz-1', 'qx-3_qy2_qz-2', 'qx-3_qy2_qz0', 'qx-3_qy2_qz1', 'qx-3_qy2_qz2', 'qx-3_qy3_qz0', 'qx-4_qy-1_qz-1', 'qx-4_qy-1_qz-2', 'qx-4_qy-1_qz0', 'qx-4_qy-1_qz1', 'qx-4_qy-1_qz2', 'qx-4_qy-2_qz-1', 'qx-4_qy-2_qz0', 'qx-4_qy-2_qz1', 'qx-4_qy0_qz-1', 'qx-4_qy0_qz-2', 'qx-4_qy0_qz0', 'qx-4_qy0_qz1', 'qx-4_qy0_qz2', 'qx-4_qy1_qz-1', 'qx-4_qy1_qz-2', 'qx-4_qy1_qz0', 'qx-4_qy1_qz1', 'qx-4_qy1_qz2', 'qx-4_qy2_qz-1', 'qx-4_qy2_qz0', 'qx-4_qy2_qz1', 'qx-5_qy-1_qz0', 'qx-5_qy0_qz-1', 'qx-5_qy0_qz0', 'qx-5_qy0_qz1', 'qx-5_qy1_qz0', 'qx0_qy-1_qz-1', 'qx0_qy-1_qz-2', 'qx0_qy-1_qz0', 'qx0_qy-1_qz1', 'qx0_qy-1_qz2', 'qx0_qy-2_qz-1', 'qx0_qy-2_qz0', 'qx0_qy-2_qz1', 'qx0_qy0_qz-1', 'qx0_qy0_qz-2', 'qx0_qy0_qz0', 'qx0_qy0_qz1', 'qx0_qy0_qz2', 'qx0_qy1_qz-1', 'qx0_qy1_qz-2', 'qx0_qy1_qz0', 'qx0_qy1_qz1', 'qx0_qy1_qz2', 'qx0_qy2_qz-1', 'qx0_qy2_qz0', 'qx0_qy2_qz1', 'qx1_qy-1_qz0', 'qx1_qy0_qz-1', 'qx1_qy0_qz0', 'qx1_qy0_qz1', 'qx1_qy1_qz0']\n",
      "\n",
      "ACHTUNG: not every combination of the above keys may be available\n",
      "\n"
     ]
    },
    {
     "name": "stderr",
     "output_type": "stream",
     "text": [
      "\n"
     ]
    }
   ],
   "source": [
    "ok.print_keys()\n",
    "np.shape(ok.bb_array)\n",
    "\n",
    "ok.update_keys(hadron='proton_negpar_3', verbose=True)\n",
    "ok.print_keys()"
   ]
  },
  {
   "cell_type": "code",
   "execution_count": 6,
   "metadata": {},
   "outputs": [
    {
     "data": {
      "text/plain": [
       "(2, 2, 16, 7, 4)"
      ]
     },
     "execution_count": 6,
     "metadata": {},
     "output_type": "execute_result"
    },
    {
     "data": {
      "text/plain": [
       "array([[[[ 3.40765313e-13-8.91637806e-14j,\n",
       "           1.56641806e-13-5.92778621e-14j,\n",
       "           7.77011314e-14+2.59465975e-16j,\n",
       "           1.97715599e-15+4.68492172e-14j,\n",
       "          -1.74156176e-14+3.67687044e-14j,\n",
       "          -3.73620314e-14+6.48088463e-15j,\n",
       "          -1.12696632e-13+5.20253516e-15j],\n",
       "         [ 4.27816091e-15-7.27591711e-15j,\n",
       "           1.13791802e-14-6.22954349e-15j,\n",
       "           7.40461911e-15-3.94295137e-15j,\n",
       "           3.15287546e-15+3.68355923e-15j,\n",
       "          -2.65670395e-15+6.95846949e-15j,\n",
       "          -5.57880307e-15+7.43651698e-15j,\n",
       "          -7.01467068e-15+2.63954362e-15j],\n",
       "         [ 1.02245566e-14-7.26219554e-15j,\n",
       "          -8.05248958e-15-2.42656576e-16j,\n",
       "          -7.02018114e-15-1.57039510e-15j,\n",
       "           1.90161211e-15-3.49390139e-15j,\n",
       "           1.00063222e-14+2.75425555e-15j,\n",
       "          -2.51156067e-15+8.89282991e-15j,\n",
       "          -1.05926384e-14+9.24219345e-15j],\n",
       "         [-4.26080172e-15-5.45355954e-14j,\n",
       "           1.18776256e-14-9.16559654e-15j,\n",
       "           1.33500332e-14-5.05995880e-15j,\n",
       "           1.17092061e-14+8.24415746e-15j,\n",
       "           7.97527865e-15+7.62375623e-15j,\n",
       "           3.65104019e-15+6.97382183e-15j,\n",
       "          -2.69803787e-15+1.36547629e-14j],\n",
       "         [-7.91487865e-15+6.23032993e-15j,\n",
       "          -1.07133490e-14+3.16041540e-15j,\n",
       "          -2.58746480e-15+3.93838071e-15j,\n",
       "          -1.84268043e-15+1.92990266e-15j,\n",
       "          -4.29270156e-15-5.56913180e-15j,\n",
       "          -4.43512846e-15-1.39428132e-14j,\n",
       "           2.43802168e-15-4.49585921e-15j],\n",
       "         [-1.20493572e-14+7.38702158e-15j,\n",
       "          -3.73280486e-15-1.51524761e-15j,\n",
       "           2.12694800e-15-1.03033568e-15j,\n",
       "           1.21344004e-14+1.61672308e-15j,\n",
       "           9.95991570e-15+2.00520903e-15j,\n",
       "          -7.17847850e-16+6.72457471e-15j,\n",
       "          -8.48502219e-15+6.52945954e-15j],\n",
       "         [ 1.24086640e-14-5.37225742e-15j,\n",
       "           5.50654875e-15+1.04287617e-14j,\n",
       "          -2.32003332e-15+1.33354243e-14j,\n",
       "          -5.75737605e-15+8.02605395e-15j,\n",
       "          -2.94050203e-15+5.93029425e-15j,\n",
       "          -1.21705297e-15+1.69811820e-15j,\n",
       "          -3.94640762e-16+2.07303804e-15j],\n",
       "         [-2.12834078e-14+1.14271820e-13j,\n",
       "          -3.54418756e-15+5.70101313e-14j,\n",
       "           2.87397323e-14-2.26279103e-14j,\n",
       "           4.31030703e-14-6.33603765e-14j,\n",
       "           2.23483524e-14-5.97380938e-14j,\n",
       "          -3.06423345e-15-4.12849781e-14j,\n",
       "          -2.45185778e-14-3.68085091e-14j],\n",
       "         [ 3.78770860e-15-5.78280729e-15j,\n",
       "          -6.79979638e-15+8.52674452e-15j,\n",
       "           6.66763546e-16+5.58399743e-15j,\n",
       "          -6.73912656e-15-1.25686276e-15j,\n",
       "          -1.16986735e-14+3.92047463e-15j,\n",
       "          -5.11200401e-16+1.13128178e-14j,\n",
       "           8.24909289e-15+1.25361351e-14j],\n",
       "         [-5.30559203e-15-4.59834926e-14j,\n",
       "           5.43802763e-15+9.72751652e-15j,\n",
       "           9.09478823e-15+5.14755624e-16j,\n",
       "           9.52320772e-15+4.85123496e-15j,\n",
       "           4.35613060e-15-6.21621845e-16j,\n",
       "          -2.86945257e-17-1.36946869e-15j,\n",
       "          -2.87826929e-15+1.22596284e-14j],\n",
       "         [ 6.61947134e-15+4.93877649e-16j,\n",
       "           2.76929514e-15-1.93764274e-15j,\n",
       "           9.10062750e-15-2.52348102e-16j,\n",
       "           5.34154626e-15-1.74740795e-15j,\n",
       "          -1.53272520e-15+9.19596386e-16j,\n",
       "          -6.28921617e-15-7.66992717e-16j,\n",
       "          -2.31544421e-15-6.52048966e-15j],\n",
       "         [-1.09857987e-14+2.36020799e-15j,\n",
       "           2.10633034e-15-1.33342578e-14j,\n",
       "           3.87231976e-15-1.27697352e-14j,\n",
       "           4.11933897e-15-7.14669008e-15j,\n",
       "           3.70135480e-15-4.15245681e-15j,\n",
       "          -1.43531351e-15+3.71368657e-15j,\n",
       "          -2.26219294e-15+5.71635421e-15j],\n",
       "         [-5.94558802e-15-7.59005693e-15j,\n",
       "          -9.56527549e-15+1.28563990e-14j,\n",
       "          -1.17257647e-14+1.41402561e-14j,\n",
       "          -2.83385683e-15+7.38518029e-15j,\n",
       "           4.21455019e-15-3.29593348e-15j,\n",
       "           8.14453482e-15-9.60251531e-15j,\n",
       "           4.24170535e-15-5.93009822e-15j],\n",
       "         [-2.09109658e-15+1.89922667e-14j,\n",
       "          -4.91438680e-16+7.01109533e-16j,\n",
       "           3.84220079e-15+5.29464135e-15j,\n",
       "          -4.81858065e-16+7.51695237e-15j,\n",
       "          -1.07251915e-14+5.32533134e-15j,\n",
       "          -6.81317421e-15+6.63411410e-15j,\n",
       "          -5.76328078e-15+5.02555173e-15j],\n",
       "         [ 2.09089698e-13-2.78337920e-14j,\n",
       "          -1.40409688e-14-6.40100002e-15j,\n",
       "          -1.10295049e-14-8.47113693e-15j,\n",
       "          -5.78072653e-15-7.60547646e-15j,\n",
       "          -1.25642330e-14-8.94194253e-15j,\n",
       "          -2.61582597e-14-5.78924136e-15j,\n",
       "          -5.46557025e-14-1.64934570e-15j],\n",
       "         [ 5.98473712e-15-4.49834650e-15j,\n",
       "          -3.96662497e-15+1.18741934e-14j,\n",
       "          -1.15409341e-14+1.64674824e-14j,\n",
       "          -3.62735121e-15-1.99590552e-15j,\n",
       "           3.00998797e-15-1.43448590e-14j,\n",
       "           2.41848739e-15-1.04166435e-14j,\n",
       "           3.47923292e-15-2.39860564e-15j]],\n",
       "\n",
       "        [[ 4.96863745e-13-6.30671125e-14j,\n",
       "           1.24248776e-13-2.46038717e-14j,\n",
       "           6.90955247e-14-3.54197208e-15j,\n",
       "           2.64039157e-14+3.11271531e-14j,\n",
       "           4.51887605e-15+3.42819277e-14j,\n",
       "          -3.68973761e-14+2.08002547e-14j,\n",
       "          -1.28983586e-13+1.47269422e-14j],\n",
       "         [ 1.52702567e-14-8.64192552e-15j,\n",
       "           3.63658935e-15-2.24805018e-15j,\n",
       "           9.48998307e-15+8.42606429e-16j,\n",
       "           4.86807220e-15+4.36438634e-15j,\n",
       "           5.46737222e-16+5.45257481e-15j,\n",
       "           5.38305405e-15+8.69775905e-15j,\n",
       "           3.78854990e-15+4.60833487e-15j],\n",
       "         [ 1.15141926e-14+6.69328056e-15j,\n",
       "          -4.23209558e-15-1.09538937e-14j,\n",
       "           2.39281706e-16-9.08003643e-15j,\n",
       "           8.57188647e-16-2.27115179e-15j,\n",
       "          -5.02935072e-15+6.14010308e-15j,\n",
       "          -1.44797572e-14+9.78358832e-15j,\n",
       "          -1.27389460e-14+1.25861550e-14j],\n",
       "         [ 2.72440742e-14+2.15008752e-13j,\n",
       "           8.15912819e-15-2.47029910e-14j,\n",
       "           4.53005049e-15-2.40502448e-14j,\n",
       "           1.24220108e-14-1.68367832e-14j,\n",
       "           1.47524178e-14-1.73894002e-14j,\n",
       "           6.19313563e-15-2.28967463e-14j,\n",
       "          -9.35135964e-16-3.51489399e-14j],\n",
       "         [ 4.44110971e-15+2.89279184e-14j,\n",
       "          -1.57609535e-14-1.09257855e-14j,\n",
       "          -9.43900810e-15-1.35666116e-14j,\n",
       "          -1.04531715e-14-1.14675259e-14j,\n",
       "          -8.77049725e-15-3.63240925e-15j,\n",
       "          -4.94624773e-15-4.98108499e-15j,\n",
       "           1.68742146e-15+1.64856077e-15j],\n",
       "         [ 1.25656514e-15+5.61903341e-16j,\n",
       "          -1.08318684e-14-2.44768137e-15j,\n",
       "          -9.88388310e-16-1.15380724e-14j,\n",
       "           7.49726628e-15-8.71514551e-15j,\n",
       "           6.14457787e-15-4.18855918e-15j,\n",
       "          -1.07479630e-14+1.41567869e-15j,\n",
       "          -1.94770419e-14-4.98335598e-16j],\n",
       "         [ 2.17830477e-14+8.69252695e-15j,\n",
       "           9.74489551e-15+7.55385423e-15j,\n",
       "           9.99663493e-15+9.23812560e-15j,\n",
       "           2.68595483e-17+4.09893831e-15j,\n",
       "          -1.31389416e-14+2.22392556e-15j,\n",
       "          -1.52122541e-14+6.14685386e-15j,\n",
       "          -8.26667709e-15+3.68827547e-15j],\n",
       "         [-2.28351420e-14+1.38519199e-13j,\n",
       "           2.11808866e-14+9.24186393e-14j,\n",
       "           5.30755329e-14+2.90773592e-14j,\n",
       "           6.64065517e-14-3.11282544e-14j,\n",
       "           2.10271627e-14-3.28865845e-14j,\n",
       "          -2.77510143e-14-8.53329017e-15j,\n",
       "          -4.38445478e-14-2.60866839e-14j],\n",
       "         [ 1.01658382e-14+1.19463289e-14j,\n",
       "           5.71920668e-15+1.64941499e-15j,\n",
       "           2.46254467e-15-6.98570680e-15j,\n",
       "          -8.34434512e-15-1.14966933e-14j,\n",
       "          -1.70782103e-14-1.32125376e-15j,\n",
       "          -2.83957787e-15+8.61247535e-15j,\n",
       "           9.15018331e-15+1.48572419e-14j],\n",
       "         [ 3.06471117e-14+2.07861314e-13j,\n",
       "           5.47488755e-15-5.68656173e-14j,\n",
       "           6.50764849e-15-5.02193067e-14j,\n",
       "           3.09456964e-15-3.82451673e-14j,\n",
       "           4.09307248e-15-4.31893059e-14j,\n",
       "           4.63719819e-15-5.23258799e-14j,\n",
       "           3.44759436e-15-5.93582127e-14j],\n",
       "         [ 1.46883992e-14+3.31917456e-14j,\n",
       "          -8.36186903e-15+2.88742600e-15j,\n",
       "          -3.31109200e-15+9.69682629e-15j,\n",
       "           5.08275048e-15+1.47902751e-14j,\n",
       "           9.23821050e-15+1.25776724e-14j,\n",
       "           7.13393236e-15+1.70903039e-15j,\n",
       "           1.00997200e-14-9.99354802e-15j],\n",
       "         [ 1.56286932e-14+3.04071452e-15j,\n",
       "           7.38390991e-15+9.58768623e-15j,\n",
       "           2.52106254e-15+3.51968050e-15j,\n",
       "           4.62340733e-15-5.67464814e-15j,\n",
       "           5.40102887e-15-7.92605627e-15j,\n",
       "          -1.23129915e-15+7.29150444e-17j,\n",
       "          -3.38977685e-15+5.06356886e-15j],\n",
       "         [-1.02223798e-14+2.24946402e-15j,\n",
       "          -2.66491757e-14-9.57612197e-16j,\n",
       "          -2.19462358e-14+7.96516781e-15j,\n",
       "          -7.64343297e-15+8.81856467e-15j,\n",
       "           3.49133534e-15+2.11322146e-15j,\n",
       "           1.30612672e-14-2.95604569e-15j,\n",
       "           1.54471983e-14+1.94431307e-15j],\n",
       "         [-4.01178571e-14+2.11902423e-14j,\n",
       "           7.00603517e-15-1.54256023e-16j,\n",
       "           1.82905788e-14+6.60156774e-15j,\n",
       "           7.97962858e-15+1.44037104e-14j,\n",
       "          -5.88037854e-15+1.90214142e-14j,\n",
       "           3.22981631e-15+1.40175612e-14j,\n",
       "           1.06733153e-14+6.86172426e-15j],\n",
       "         [ 3.85141025e-13-4.41710432e-14j,\n",
       "          -6.09891087e-14-1.31825675e-15j,\n",
       "          -5.63273276e-14-7.67843043e-15j,\n",
       "          -5.24226193e-14-4.95785635e-15j,\n",
       "          -6.00294287e-14-5.86157421e-15j,\n",
       "          -8.19997869e-14-3.91083479e-15j,\n",
       "          -1.35442078e-13-6.71483528e-16j],\n",
       "         [ 2.60625362e-14-3.78516081e-15j,\n",
       "          -8.05406544e-15+1.07466574e-14j,\n",
       "          -1.55342119e-14+1.11987464e-14j,\n",
       "          -1.30000753e-14-4.14374267e-15j,\n",
       "          -4.76968044e-15-1.19392109e-14j,\n",
       "          -1.95432375e-15-8.26187460e-15j,\n",
       "          -4.20981306e-15+5.78286088e-16j]]],\n",
       "\n",
       "\n",
       "       [[[ 2.59069684e-13+1.60571467e-14j,\n",
       "           6.53721851e-14+8.24235053e-15j,\n",
       "           5.41716773e-14+8.04852666e-15j,\n",
       "           3.13962403e-14-6.09351274e-16j,\n",
       "           5.51049160e-15-5.54308536e-15j,\n",
       "          -2.89053854e-14+7.01743995e-15j,\n",
       "          -5.99930989e-14+1.18615582e-14j],\n",
       "         [-1.15630657e-15+5.87283104e-15j,\n",
       "          -1.85928181e-15+1.87995468e-15j,\n",
       "          -1.78061049e-15+1.22305783e-15j,\n",
       "          -1.98443385e-15+2.38148507e-15j,\n",
       "          -4.63812897e-15+2.01810572e-15j,\n",
       "          -1.00535598e-14-2.37396844e-15j,\n",
       "          -7.14788828e-15-2.03317365e-15j],\n",
       "         [ 1.16444972e-14+1.03220170e-14j,\n",
       "           2.97683856e-15-3.35267923e-15j,\n",
       "           3.12483432e-15-1.90169963e-15j,\n",
       "           2.42342604e-16+9.32984159e-16j,\n",
       "          -4.51583854e-16-4.05966478e-15j,\n",
       "          -2.35337177e-15-7.13775222e-15j,\n",
       "          -4.50935422e-15-4.36417302e-15j],\n",
       "         [ 4.14269571e-15-6.37037447e-14j,\n",
       "           4.71411684e-16+1.04154780e-15j,\n",
       "           3.70186062e-15+8.68822419e-16j,\n",
       "           5.27097620e-15-1.21194887e-16j,\n",
       "          -3.46594163e-16-6.52500552e-16j,\n",
       "          -8.26665944e-15+1.64755690e-16j,\n",
       "          -9.29587265e-15+7.49032903e-15j],\n",
       "         [ 2.35994242e-15-1.12832722e-15j,\n",
       "           3.81301893e-15-4.18739738e-15j,\n",
       "           7.45675281e-16-6.11155045e-15j,\n",
       "           9.59145151e-16-1.47570420e-15j,\n",
       "           4.22833227e-15-2.68150773e-16j,\n",
       "           3.08111040e-15+1.42404854e-15j,\n",
       "           4.88629686e-16+4.06879318e-15j],\n",
       "         [ 4.08159607e-15-3.57094526e-15j,\n",
       "           4.93281986e-15-2.76433873e-15j,\n",
       "           1.83296484e-15+5.67215049e-16j,\n",
       "           2.35291566e-15+2.23580782e-15j,\n",
       "           3.18600607e-15+1.44754300e-15j,\n",
       "           1.61551201e-15-1.44596134e-15j,\n",
       "          -5.00815079e-16-4.68779125e-15j],\n",
       "         [ 8.62281162e-15-8.40908876e-16j,\n",
       "           3.23481044e-15+5.62946881e-16j,\n",
       "          -4.52657837e-15+6.00231266e-15j,\n",
       "          -5.21079165e-15+6.47874789e-15j,\n",
       "          -3.42215998e-15-7.79079076e-16j,\n",
       "          -4.26939104e-15-1.61270583e-15j,\n",
       "          -1.82896375e-15+1.31683512e-15j],\n",
       "         [-7.47372824e-15+9.21114779e-15j,\n",
       "          -2.23919688e-14+1.51395341e-14j,\n",
       "          -1.95898128e-14+4.39349248e-15j,\n",
       "          -1.40168985e-14+1.31947807e-15j,\n",
       "          -6.58101945e-15+1.21446135e-15j,\n",
       "           3.14068796e-15-5.68223492e-15j,\n",
       "           3.38287665e-15-6.08345546e-15j],\n",
       "         [ 8.20983716e-15+1.18549982e-14j,\n",
       "          -1.23070508e-15-1.77431166e-15j,\n",
       "          -3.15389731e-15-9.75192253e-16j,\n",
       "          -1.79189973e-15+5.34503121e-16j,\n",
       "           1.33620915e-15+1.87706796e-15j,\n",
       "           1.41525899e-17+3.12049664e-15j,\n",
       "          -2.43387424e-15-1.48168650e-15j],\n",
       "         [ 4.81251147e-15-5.64766160e-14j,\n",
       "          -1.93274293e-15+7.74174325e-15j,\n",
       "          -2.02656249e-16+6.18452890e-15j,\n",
       "          -7.67474717e-16+5.82607617e-15j,\n",
       "           6.91824273e-16+4.96319589e-15j,\n",
       "           1.77003680e-18+3.80900982e-15j,\n",
       "          -4.73846268e-15+8.18504343e-15j],\n",
       "         [ 2.00968845e-15+1.53079103e-15j,\n",
       "          -4.53343970e-15-1.17762732e-15j,\n",
       "           5.16824114e-16+1.96774200e-16j,\n",
       "           2.60098743e-15+6.89043218e-16j,\n",
       "          -1.53513278e-15-2.19882943e-16j,\n",
       "          -3.32137637e-15+4.01936242e-15j,\n",
       "          -2.31696190e-15+4.16418738e-16j],\n",
       "         [-4.09023706e-15+1.19065469e-15j,\n",
       "          -8.68922275e-16+2.23469275e-15j,\n",
       "           3.35542188e-16-1.02335362e-15j,\n",
       "           7.83226849e-16-3.28700852e-15j,\n",
       "          -1.25105921e-15-2.38565433e-15j,\n",
       "           7.10900930e-18-2.85695527e-15j,\n",
       "           1.78347324e-16-4.14233616e-15j],\n",
       "         [ 8.93932152e-15+1.64105834e-15j,\n",
       "           6.76734882e-15+1.65290081e-15j,\n",
       "           2.40667979e-15+7.80539247e-16j,\n",
       "          -2.34923707e-15+3.87285785e-16j,\n",
       "          -3.02462129e-15-3.01169740e-15j,\n",
       "          -3.48981004e-15-5.67579022e-15j,\n",
       "          -3.09437876e-15-2.98975186e-15j],\n",
       "         [-6.76236638e-15-8.00579716e-15j,\n",
       "           3.38719318e-15-3.34202794e-15j,\n",
       "           2.35269095e-15-1.41852423e-15j,\n",
       "           3.38261706e-16+1.64248751e-15j,\n",
       "           4.48579997e-15+4.12478191e-17j,\n",
       "           5.62133621e-15+3.02671013e-16j,\n",
       "           2.87225646e-15+2.34001804e-15j],\n",
       "         [ 1.99817943e-13+1.98199866e-14j,\n",
       "          -2.49478248e-14-4.06444035e-15j,\n",
       "          -1.81403390e-14-2.59988096e-15j,\n",
       "          -1.74814263e-14-2.13243286e-15j,\n",
       "          -1.77291776e-14-1.99784861e-15j,\n",
       "          -2.33674137e-14-4.44566042e-15j,\n",
       "          -4.78277836e-14-1.07057085e-14j],\n",
       "         [-3.47300238e-15+4.81144512e-15j,\n",
       "          -3.39830853e-15-3.12318129e-15j,\n",
       "           2.22129129e-15+6.57944678e-16j,\n",
       "           3.84089841e-15+3.39339936e-15j,\n",
       "           2.96096179e-15+7.60579022e-15j,\n",
       "           1.15135462e-15+9.91270450e-15j,\n",
       "          -2.18627827e-16+5.21243350e-15j]],\n",
       "\n",
       "        [[ 4.83866230e-13+5.10814027e-14j,\n",
       "           1.09092473e-13+2.16323143e-14j,\n",
       "           8.19714445e-14+1.45589953e-14j,\n",
       "           5.36431924e-14-6.09050198e-15j,\n",
       "           1.42091135e-14-3.77675848e-15j,\n",
       "          -3.77794952e-14+5.30118766e-15j,\n",
       "          -6.46201126e-14-1.14296560e-14j],\n",
       "         [-1.15013574e-14-1.14382941e-14j,\n",
       "          -1.54002118e-15-5.10545978e-15j,\n",
       "          -4.82377591e-15+3.58667076e-15j,\n",
       "          -3.42455185e-15+1.27416937e-14j,\n",
       "          -4.75544035e-15+1.67857366e-14j,\n",
       "          -8.05885936e-15+6.10319907e-15j,\n",
       "          -4.75922911e-15-3.52124624e-15j],\n",
       "         [ 9.86032430e-15-2.14539819e-16j,\n",
       "          -2.43009066e-15-1.06488609e-15j,\n",
       "           2.05689458e-15-3.39577912e-15j,\n",
       "          -1.62127664e-15-7.52575552e-17j,\n",
       "          -8.30314381e-15+2.45936478e-15j,\n",
       "          -2.92362936e-15-7.30363171e-16j,\n",
       "           1.09132047e-15+5.07106211e-15j],\n",
       "         [-3.48468888e-14+2.30585779e-13j,\n",
       "          -1.65773982e-15-1.61981645e-14j,\n",
       "           2.79791519e-15-1.20197340e-14j,\n",
       "           2.51850995e-16-6.11385622e-15j,\n",
       "          -2.38080789e-15-9.26177791e-15j,\n",
       "          -2.91039183e-15-2.21825459e-14j,\n",
       "           1.26043141e-15-3.96316341e-14j],\n",
       "         [-1.11467216e-14+1.92527832e-14j,\n",
       "           6.89040590e-15-1.11154898e-14j,\n",
       "           6.30257732e-15-1.54977833e-14j,\n",
       "           4.73309393e-15-5.24055830e-15j,\n",
       "           9.01530820e-15+1.95673698e-15j,\n",
       "           1.12521860e-14+7.35836921e-15j,\n",
       "           6.90384033e-15+1.38690755e-14j],\n",
       "         [ 5.76541581e-15+1.19531979e-14j,\n",
       "          -1.81731630e-15+2.97217106e-15j,\n",
       "          -3.16490321e-15+4.46118927e-15j,\n",
       "          -2.15387223e-15+1.69834941e-15j,\n",
       "           1.12787748e-15-2.54254182e-15j,\n",
       "           4.46294115e-15-3.61890833e-15j,\n",
       "           3.87286883e-15-4.25545842e-15j],\n",
       "         [ 1.43619052e-15+8.43938965e-15j,\n",
       "           7.33300698e-15+6.91605966e-15j,\n",
       "          -4.49562446e-15+1.12444925e-14j,\n",
       "          -4.85942452e-15+7.87029112e-15j,\n",
       "          -1.54899442e-15+2.34685067e-15j,\n",
       "          -6.05110648e-15+1.18605734e-15j,\n",
       "          -9.40669049e-15+1.13181116e-15j],\n",
       "         [-3.91529072e-14+9.82157833e-15j,\n",
       "          -3.36027622e-15+2.69666240e-14j,\n",
       "           2.67214629e-15+1.71059075e-14j,\n",
       "          -2.13772934e-14+2.20827074e-14j,\n",
       "          -2.93316061e-14+1.82601243e-14j,\n",
       "          -1.56741671e-14-4.18661175e-15j,\n",
       "          -8.74809845e-15-2.05079557e-16j],\n",
       "         [ 1.44665694e-14-4.04274607e-15j,\n",
       "           1.63911421e-16-2.34623547e-15j,\n",
       "          -7.88049195e-15-5.88896879e-15j,\n",
       "          -2.80703697e-15-5.41317591e-15j,\n",
       "           3.71686118e-15-1.17066083e-15j,\n",
       "           7.52331874e-16-2.30140467e-15j,\n",
       "          -4.87253809e-15-5.88287080e-15j],\n",
       "         [-2.44241559e-14+2.12824648e-13j,\n",
       "           5.38638592e-15-5.50436252e-14j,\n",
       "           4.21752486e-15-4.28356588e-14j,\n",
       "          -5.60723024e-15-3.58438912e-14j,\n",
       "          -6.21088585e-15-3.50850145e-14j,\n",
       "           3.11380392e-15-4.04010799e-14j,\n",
       "           1.05875587e-14-5.79638864e-14j],\n",
       "         [-1.67230900e-14+1.35470547e-14j,\n",
       "          -6.09047596e-15-7.96713815e-15j,\n",
       "          -2.68225166e-15+8.21227405e-16j,\n",
       "          -5.60601198e-16+2.96758666e-15j,\n",
       "           3.56455167e-15-1.92809557e-15j,\n",
       "           7.10855555e-15-1.42955294e-15j,\n",
       "           4.12344792e-15-7.28483743e-16j],\n",
       "         [-4.28253306e-15+1.01173692e-14j,\n",
       "          -5.24123763e-15+2.18417816e-15j,\n",
       "           8.21093712e-16-1.89686557e-15j,\n",
       "           3.39927270e-15-4.29575382e-15j,\n",
       "           2.98114641e-15-3.85894987e-15j,\n",
       "           2.28500359e-15-1.46976213e-15j,\n",
       "           2.08458188e-15-5.73763303e-16j],\n",
       "         [ 3.82752023e-15+8.01523575e-15j,\n",
       "           1.02746212e-14-2.55327943e-15j,\n",
       "           1.96407793e-15-5.40100838e-15j,\n",
       "          -3.80444456e-15-1.76605051e-15j,\n",
       "          -5.72670707e-15+6.45858315e-17j,\n",
       "          -2.20859203e-15+1.57761914e-16j,\n",
       "           2.30931056e-15+2.94706675e-15j],\n",
       "         [-2.61655632e-14-1.77299057e-14j,\n",
       "           7.29673667e-15-6.94372742e-15j,\n",
       "           2.95170621e-15-6.84429893e-15j,\n",
       "           3.91060781e-15-9.80297447e-16j,\n",
       "           1.39844641e-14-8.81966817e-16j,\n",
       "           1.33703727e-14+2.97904873e-15j,\n",
       "           7.56262726e-15+9.05622070e-15j],\n",
       "         [ 3.83124366e-13+3.83241233e-14j,\n",
       "          -7.66098029e-14-1.52936086e-14j,\n",
       "          -6.59551699e-14-9.80516133e-15j,\n",
       "          -6.70358793e-14-7.13281505e-15j,\n",
       "          -7.03070398e-14-4.63787117e-15j,\n",
       "          -8.13999522e-14-8.36355990e-15j,\n",
       "          -1.24371970e-13-1.33410537e-14j],\n",
       "         [-4.46820309e-15+3.80280081e-15j,\n",
       "           4.52448989e-15+8.35969778e-16j,\n",
       "           9.31375287e-15-1.31031318e-15j,\n",
       "           8.60510020e-15-5.13981872e-15j,\n",
       "           5.68243709e-15-5.38248794e-15j,\n",
       "           2.52142200e-15-1.72760125e-15j,\n",
       "          -4.45198827e-15+2.95333581e-15j]]]])"
      ]
     },
     "execution_count": 6,
     "metadata": {},
     "output_type": "execute_result"
    },
    {
     "data": {
      "text/plain": [
       "(2, 2, 16, 7, 4)"
      ]
     },
     "execution_count": 6,
     "metadata": {},
     "output_type": "execute_result"
    },
    {
     "data": {
      "text/plain": [
       "array([[[[ 5.39995175e-14-5.65991831e-14j,\n",
       "           1.07626900e-13-5.22202079e-14j,\n",
       "           2.69364031e-14+9.52914279e-15j,\n",
       "          -4.78547123e-14+5.48915780e-14j,\n",
       "          -6.60759517e-14+4.35987625e-14j,\n",
       "          -8.48503450e-14+1.46464236e-14j,\n",
       "          -3.99392937e-13+3.90343195e-14j],\n",
       "         [-1.07312936e-14-9.08043301e-15j,\n",
       "           2.14320210e-15-5.38990310e-15j,\n",
       "           4.06746851e-15-6.67272222e-16j,\n",
       "           7.64528481e-15+5.95331776e-15j,\n",
       "           4.40691957e-15+5.22618576e-15j,\n",
       "          -2.78971457e-15+3.11348571e-15j,\n",
       "          -1.57065248e-14-2.42505828e-15j],\n",
       "         [ 1.58182352e-14+5.65103629e-15j,\n",
       "           1.72899221e-14-1.62538424e-14j,\n",
       "           4.08190158e-15-1.89464029e-14j,\n",
       "          -1.39515616e-14-1.25895883e-14j,\n",
       "          -1.07040038e-14+6.48357215e-16j,\n",
       "           1.63441754e-15+6.27553045e-15j,\n",
       "          -8.12453224e-15+2.68947793e-14j],\n",
       "         [-3.77962853e-14-3.14045991e-14j,\n",
       "           1.93393456e-14-7.85504209e-15j,\n",
       "           1.89559772e-14-5.69785448e-15j,\n",
       "           9.75774391e-15+1.08143364e-14j,\n",
       "          -5.71981208e-16+1.67532818e-14j,\n",
       "          -7.23369571e-15+1.29525705e-14j,\n",
       "          -4.40554487e-14+3.67019593e-14j],\n",
       "         [-4.29158225e-15-6.33384945e-15j,\n",
       "           8.38062322e-15+8.88050231e-15j,\n",
       "           1.76767788e-14+1.22988939e-14j,\n",
       "           1.84133039e-14+7.26513018e-15j,\n",
       "           5.94716116e-15+2.31133498e-15j,\n",
       "          -8.54388511e-15-2.33728717e-15j,\n",
       "          -8.23421849e-15-1.33359492e-14j],\n",
       "         [-1.63230327e-14-1.83841134e-14j,\n",
       "          -1.94547165e-16+1.78004075e-15j,\n",
       "           5.55296147e-15+4.95015628e-15j,\n",
       "           1.21342993e-14+4.03822683e-15j,\n",
       "           9.42534496e-15+3.07358985e-15j,\n",
       "           1.33742833e-15+3.81333165e-15j,\n",
       "          -1.11686862e-14-2.09886366e-14j],\n",
       "         [-1.03824441e-14-1.67502994e-14j,\n",
       "           1.70232446e-14+3.77514373e-15j,\n",
       "           7.89760076e-15+1.71451977e-15j,\n",
       "           2.85582606e-15-1.63112033e-15j,\n",
       "           3.91733551e-15-3.28037876e-15j,\n",
       "           5.53246237e-16-7.20710857e-15j,\n",
       "          -2.71504167e-14-1.27401896e-14j],\n",
       "         [-6.28238190e-14+1.65205188e-13j,\n",
       "          -4.13637004e-15+5.72109711e-14j,\n",
       "           2.88304153e-14-2.10169730e-14j,\n",
       "           4.29116126e-14-6.45703744e-14j,\n",
       "           2.24966576e-14-6.09359202e-14j,\n",
       "          -2.69512657e-15-3.93897891e-14j,\n",
       "          -6.63641183e-14+1.60348141e-14j],\n",
       "         [ 5.75444596e-15-2.72185562e-14j,\n",
       "           4.19234914e-15-8.84562785e-15j,\n",
       "           8.24319712e-15-7.18180063e-15j,\n",
       "          -4.49769996e-15-9.46543394e-15j,\n",
       "          -6.34368255e-15-4.22542756e-16j,\n",
       "           1.78198615e-15+1.42781253e-14j,\n",
       "           3.91463599e-15+4.01533666e-15j],\n",
       "         [-1.39755486e-14-3.12123121e-15j,\n",
       "           8.84598262e-15-1.58153060e-14j,\n",
       "           1.25378428e-14-1.28770858e-14j,\n",
       "           5.56657805e-15+1.37692032e-15j,\n",
       "          -5.82686390e-15-2.36540004e-15j,\n",
       "          -1.08419167e-14-1.02497057e-14j,\n",
       "          -1.65056727e-14+6.36732560e-14j],\n",
       "         [ 1.28250925e-15-4.73341478e-15j,\n",
       "          -5.86767255e-15+1.01390889e-14j,\n",
       "          -3.08061665e-15+9.81838062e-15j,\n",
       "           5.84145919e-16+9.09896532e-15j,\n",
       "          -6.01789128e-16+6.70271729e-15j,\n",
       "          -2.86559669e-15-1.38238821e-15j,\n",
       "          -3.14453481e-15-1.98319420e-14j],\n",
       "         [-8.19980470e-15+8.71172043e-15j,\n",
       "          -1.07991097e-14+3.16165490e-15j,\n",
       "          -1.31726651e-14+3.48160203e-15j,\n",
       "          -2.72731669e-15-1.35372832e-15j,\n",
       "           1.06832013e-14-2.27343250e-15j,\n",
       "           1.38376354e-14+7.48766235e-15j,\n",
       "           1.12620209e-14+6.39741224e-15j],\n",
       "         [-6.30617735e-15-2.31566768e-14j,\n",
       "           2.51842428e-14+4.80161224e-15j,\n",
       "           1.82955890e-14+4.23704014e-15j,\n",
       "          -1.48367901e-16+9.42119327e-15j,\n",
       "          -5.80005243e-15+9.93455720e-15j,\n",
       "          -5.74038278e-15+5.08679726e-15j,\n",
       "          -1.20151566e-14-1.82877548e-14j],\n",
       "         [ 1.65860631e-14-2.39986918e-14j,\n",
       "          -1.15159400e-14-1.29520808e-14j,\n",
       "          -3.12182050e-15+1.03169054e-15j,\n",
       "          -1.50515846e-17+1.11464338e-14j,\n",
       "          -4.71224846e-15+5.86095378e-15j,\n",
       "           2.27639732e-15+2.67808328e-15j,\n",
       "           2.30264391e-14-3.32563560e-14j],\n",
       "         [ 4.27714296e-14+2.45076734e-15j,\n",
       "           1.61021361e-14+5.25164282e-15j,\n",
       "           1.07734196e-14+7.42937794e-15j,\n",
       "           5.17017678e-15+9.88946821e-15j,\n",
       "           1.20722604e-14+7.87860508e-15j,\n",
       "           2.55520951e-14+5.52443383e-15j,\n",
       "          -1.97301820e-13+2.82676397e-14j],\n",
       "         [-5.28278808e-15+7.50980410e-15j,\n",
       "          -3.78559333e-15-2.44171300e-16j,\n",
       "           7.15133930e-15+3.97681137e-15j,\n",
       "           6.87822213e-15-1.27695091e-15j,\n",
       "           9.99328379e-16-6.21915023e-15j,\n",
       "           9.01783057e-17-7.81914597e-15j,\n",
       "          -1.80822181e-15+9.38548717e-15j]],\n",
       "\n",
       "        [[ 1.90619474e-13-1.06954526e-13j,\n",
       "           2.77629289e-14-1.37081362e-14j,\n",
       "          -3.36563477e-14+9.97646908e-15j,\n",
       "          -7.59262486e-14+4.51126905e-14j,\n",
       "          -9.43859684e-14+4.85756770e-14j,\n",
       "          -1.32751455e-13+3.52161819e-14j,\n",
       "          -4.36912257e-13-2.79416778e-14j],\n",
       "         [-1.31203217e-14-2.81732076e-14j,\n",
       "          -3.08130931e-15-7.40333619e-15j,\n",
       "           1.24183527e-15+3.88024849e-16j,\n",
       "           5.52226556e-15+1.58460862e-14j,\n",
       "          -1.50068975e-15+1.52914637e-14j,\n",
       "          -3.45532032e-15+8.01085358e-15j,\n",
       "          -2.85897023e-14-1.70355704e-14j],\n",
       "         [ 2.10470280e-14+2.20200774e-14j,\n",
       "           1.59918794e-14-1.53725746e-14j,\n",
       "           7.02376687e-15-2.33199058e-14j,\n",
       "          -9.81640639e-15-1.38168309e-14j,\n",
       "          -1.07914031e-14-5.17013271e-15j,\n",
       "           1.56302582e-16+5.66794435e-16j,\n",
       "           2.58319178e-16+2.21945272e-14j],\n",
       "         [-4.85567895e-14+1.89833689e-14j,\n",
       "           2.37370385e-14+3.27625133e-14j,\n",
       "           1.58967331e-14+2.16315478e-14j,\n",
       "           1.09858690e-14+2.44831969e-14j,\n",
       "           7.15881418e-15+3.08803046e-14j,\n",
       "           2.16124032e-15+3.22756815e-14j,\n",
       "          -8.37485868e-14-2.35000260e-13j],\n",
       "         [ 2.87091441e-14+3.06525318e-14j,\n",
       "          -6.00130684e-15+1.76743800e-15j,\n",
       "           3.52439958e-15+3.16015623e-15j,\n",
       "           7.53976722e-15-2.58868201e-15j,\n",
       "           1.09112862e-15-6.50401369e-15j,\n",
       "          -6.64030440e-15-7.72668441e-15j,\n",
       "           1.50185185e-14-4.76380796e-15j],\n",
       "         [-2.44912690e-15+1.58977902e-14j,\n",
       "           2.30485809e-15+8.17880021e-15j,\n",
       "           1.06030874e-14+6.14100751e-16j,\n",
       "           1.86469295e-14-1.92491599e-15j,\n",
       "           1.69072142e-14-2.64201600e-15j,\n",
       "           2.76926236e-15-2.35538965e-15j,\n",
       "          -2.16353722e-14+7.64184252e-15j],\n",
       "         [-1.76783230e-14-1.68565981e-14j,\n",
       "           1.53130517e-14+6.94035733e-15j,\n",
       "           2.12896594e-14-1.95875691e-15j,\n",
       "           1.81562660e-14-5.03150645e-15j,\n",
       "           5.52164487e-15-2.00138821e-15j,\n",
       "          -3.45557682e-15+3.73508297e-15j,\n",
       "          -4.40802872e-14-2.64696906e-14j],\n",
       "         [-9.13547320e-14-2.06696962e-14j,\n",
       "           2.14969115e-14+9.20878801e-14j,\n",
       "           5.64443753e-14+2.71787829e-14j,\n",
       "           6.79794326e-14-3.51941519e-14j,\n",
       "           2.17818279e-14-3.39932448e-14j,\n",
       "          -2.99178146e-14-6.13630528e-15j,\n",
       "          -1.13689431e-13-1.84653649e-13j],\n",
       "         [-1.02345359e-15-9.75767464e-15j,\n",
       "          -2.55894498e-15-7.93997576e-16j,\n",
       "           4.66717365e-15-4.26857583e-15j,\n",
       "          -4.43380027e-15-5.90141351e-15j,\n",
       "          -9.12744613e-15+1.33188113e-15j,\n",
       "           4.54070834e-15+8.82753841e-15j,\n",
       "           8.70012338e-15-6.69956533e-15j],\n",
       "         [-1.06795123e-14+7.19703952e-14j,\n",
       "          -9.28745025e-15+2.86527561e-14j,\n",
       "          -6.23020941e-15+2.92323199e-14j,\n",
       "          -4.49036263e-15+4.99536491e-14j,\n",
       "           1.24115420e-15+5.09412897e-14j,\n",
       "           2.62999633e-15+5.14259192e-14j,\n",
       "          -3.10856983e-14-1.89834153e-13j],\n",
       "         [ 2.51175932e-14-3.24250880e-14j,\n",
       "          -2.62987130e-14+3.82793518e-15j,\n",
       "          -2.77139159e-14+7.98844767e-15j,\n",
       "          -1.75350634e-14+1.48716951e-14j,\n",
       "          -8.65555336e-15+1.56738484e-14j,\n",
       "          -2.83036460e-15+8.33936964e-16j,\n",
       "           2.33459655e-14-7.56302030e-14j],\n",
       "         [-8.00911055e-15-1.03932095e-14j,\n",
       "          -1.06285447e-14+3.53786116e-15j,\n",
       "          -1.60695378e-14+6.56840256e-15j,\n",
       "          -3.43818774e-15-4.41825908e-15j,\n",
       "           8.62535434e-15-6.46914543e-15j,\n",
       "           1.23246169e-14+4.33798560e-15j,\n",
       "          -1.37416164e-14-8.47496080e-16j],\n",
       "         [-9.25479157e-15+3.36298113e-16j,\n",
       "           2.47707816e-14+1.00236479e-14j,\n",
       "           2.00718589e-14+1.74799618e-15j,\n",
       "           8.10297405e-15-2.62143519e-15j,\n",
       "           4.05407933e-16-7.52452884e-15j,\n",
       "           6.03028666e-16-7.33888378e-15j,\n",
       "          -1.02378361e-14-1.38001676e-14j],\n",
       "         [-3.38971602e-14-1.72909788e-14j,\n",
       "          -8.84208348e-16-6.69952434e-15j,\n",
       "           1.50543570e-14-2.94406855e-15j,\n",
       "           9.35641369e-15-4.58773292e-15j,\n",
       "          -3.70934405e-15-7.42693590e-15j,\n",
       "          -1.76016508e-15-6.56571252e-15j,\n",
       "           1.46589685e-14-3.64270110e-14j],\n",
       "         [ 1.19592821e-13-2.47361449e-15j,\n",
       "           6.61447804e-14+6.87598575e-16j,\n",
       "           5.74594067e-14+5.68319214e-15j,\n",
       "           5.09455137e-14+6.45376634e-15j,\n",
       "           5.81854635e-14+3.98301854e-15j,\n",
       "           8.09047688e-14+5.59456796e-15j,\n",
       "          -3.71163429e-13+4.86409502e-14j],\n",
       "         [ 1.82659117e-14+1.77730159e-14j,\n",
       "          -5.95909600e-15-2.28050619e-15j,\n",
       "           5.90365701e-15-6.93253922e-17j,\n",
       "           9.80013919e-15-5.84569775e-15j,\n",
       "           3.30096320e-15-1.21789262e-14j,\n",
       "          -1.05001964e-15-1.21591171e-14j,\n",
       "          -8.80192172e-15+2.03668558e-14j]]],\n",
       "\n",
       "\n",
       "       [[[ 6.02293210e-14-1.45379283e-14j,\n",
       "           1.40400258e-14+2.54995265e-15j,\n",
       "           1.92670085e-15+1.97720971e-15j,\n",
       "          -2.05957911e-14-6.41939577e-15j,\n",
       "          -4.54073249e-14-1.13252270e-14j,\n",
       "          -7.84834529e-14+1.51935499e-15j,\n",
       "          -2.58331272e-13-1.88385518e-14j],\n",
       "         [ 2.66596253e-14-5.41660186e-15j,\n",
       "          -4.00869395e-15+1.11628540e-15j,\n",
       "          -1.55747637e-15+1.87061485e-15j,\n",
       "          -2.64371359e-15+1.74795897e-15j,\n",
       "          -6.10164341e-15+7.56363694e-17j,\n",
       "          -7.83988129e-15+1.15965287e-15j,\n",
       "           2.41119931e-14-9.52183886e-15j],\n",
       "         [ 5.16611207e-15+1.25734460e-14j,\n",
       "          -2.43322040e-15-6.06734028e-15j,\n",
       "          -1.54805810e-15-1.72602053e-15j,\n",
       "          -2.31368637e-15+3.09027934e-15j,\n",
       "          -1.77621266e-16+1.43849737e-15j,\n",
       "          -1.64443087e-15-1.62080481e-15j,\n",
       "          -7.72329790e-15+1.87291066e-15j],\n",
       "         [-4.27763921e-15+3.62264890e-15j,\n",
       "           8.10768321e-15-3.01234886e-15j,\n",
       "           9.96054899e-15-2.55068781e-15j,\n",
       "           1.08651132e-14-5.01063163e-15j,\n",
       "           3.82117420e-15-5.70401404e-15j,\n",
       "          -4.33455723e-15-6.55545554e-15j,\n",
       "          -1.98201411e-14+7.41224742e-14j],\n",
       "         [-9.33046252e-15+4.97688778e-15j,\n",
       "           8.89720407e-17+1.80564387e-15j,\n",
       "           5.44101452e-15-1.29254599e-15j,\n",
       "           2.35985177e-15-5.73337056e-16j,\n",
       "          -3.33834248e-15-2.57235704e-15j,\n",
       "          -2.90018829e-15-8.31295392e-16j,\n",
       "          -7.99669917e-15+6.16529213e-15j],\n",
       "         [-4.39223570e-15-2.70752294e-15j,\n",
       "           8.68362673e-16-3.33014977e-15j,\n",
       "          -1.26457335e-15+2.83509765e-15j,\n",
       "          -7.94404758e-16+3.60850316e-15j,\n",
       "          -1.87617809e-15+3.58982507e-15j,\n",
       "          -2.11516753e-15+3.47950688e-15j,\n",
       "          -7.92680268e-15+7.43210663e-16j],\n",
       "         [ 2.30846618e-14-7.09926988e-15j,\n",
       "           4.09692272e-16-5.44596406e-15j,\n",
       "          -3.71715044e-15+1.54698193e-15j,\n",
       "          -5.41196541e-15+3.98391732e-15j,\n",
       "          -9.13039318e-15+6.46568140e-16j,\n",
       "          -9.98512901e-15-2.13952444e-15j,\n",
       "           1.21505467e-14-2.62085779e-15j],\n",
       "         [ 5.56345955e-14-8.94291939e-15j,\n",
       "          -2.20696057e-14+1.48371255e-14j,\n",
       "          -2.01343443e-14+2.96005959e-15j,\n",
       "          -1.58401465e-14+3.90346094e-16j,\n",
       "          -6.18758013e-15+3.75596050e-16j,\n",
       "           4.25251777e-15-5.31928248e-15j,\n",
       "           6.78744265e-14-2.38133488e-14j],\n",
       "         [ 4.15356203e-15-2.12846301e-15j,\n",
       "          -1.08905633e-15-2.40524583e-15j,\n",
       "          -9.85764277e-16-1.64829683e-15j,\n",
       "          -1.00970869e-15+2.57015847e-15j,\n",
       "          -2.17589510e-17+3.58656740e-15j,\n",
       "           2.28000435e-15+3.39359968e-15j,\n",
       "          -4.27710067e-15-1.65241953e-14j],\n",
       "         [-3.76052584e-15-1.52863108e-15j,\n",
       "           8.89666676e-15-1.15955387e-14j,\n",
       "           8.53649284e-15-9.93247203e-15j,\n",
       "           3.62434581e-15-6.66865036e-15j,\n",
       "           2.42585929e-15-5.62930607e-15j,\n",
       "           6.04191418e-16-9.87678842e-15j,\n",
       "          -1.81917995e-14+6.49984052e-14j],\n",
       "         [ 5.94569926e-15-1.48176950e-15j,\n",
       "          -4.79535635e-15-2.56747838e-15j,\n",
       "           2.82227607e-15-2.69014401e-15j,\n",
       "           5.41277434e-15-2.24551005e-15j,\n",
       "          -1.34399038e-15-1.12716273e-15j,\n",
       "          -4.44244501e-15+5.33695810e-15j,\n",
       "           2.98045283e-15-6.79772767e-16j],\n",
       "         [-6.02438895e-15+7.47920637e-15j,\n",
       "           3.45914235e-15+4.10111129e-15j,\n",
       "           3.28034594e-15+6.55651775e-16j,\n",
       "           3.76212838e-15-3.24349554e-15j,\n",
       "           2.15109484e-15-1.00193032e-15j,\n",
       "           1.58374910e-15+4.46809618e-17j,\n",
       "          -3.30607847e-15+2.23473594e-15j],\n",
       "         [-3.34009579e-15-6.06536905e-16j,\n",
       "          -3.40452883e-15+1.25396987e-15j,\n",
       "           1.75371581e-15+1.70116214e-15j,\n",
       "           1.90204294e-15+2.19267645e-15j,\n",
       "           3.03964974e-15+2.08507071e-15j,\n",
       "           9.62588419e-16+1.67500064e-15j,\n",
       "          -7.06867525e-15-1.08588761e-15j],\n",
       "         [ 2.54305169e-15+6.08740662e-15j,\n",
       "          -3.13275170e-15-1.55902181e-15j,\n",
       "          -4.57210243e-15-2.93790772e-15j,\n",
       "          -1.08375853e-14-3.69714480e-15j,\n",
       "          -8.46299681e-15-4.80390968e-15j,\n",
       "          -1.79224234e-15-7.87827011e-16j,\n",
       "           1.39594548e-14+1.61383294e-14j],\n",
       "         [ 5.10172856e-14+9.44257165e-15j,\n",
       "           2.60400161e-14+4.72099891e-15j,\n",
       "           1.79628795e-14+2.33644610e-15j,\n",
       "           1.74039999e-14+2.15001387e-15j,\n",
       "           1.67288052e-14+1.96334552e-15j,\n",
       "           2.30267279e-14+4.20210910e-15j,\n",
       "          -2.02503692e-13-1.86895000e-14j],\n",
       "         [ 8.82643730e-15-1.19550992e-14j,\n",
       "          -8.48448188e-15-2.11150368e-15j,\n",
       "          -6.69930521e-15+3.21217840e-15j,\n",
       "          -4.76259931e-15+5.15099623e-15j,\n",
       "          -3.52701617e-15+4.07109644e-16j,\n",
       "          -1.95763676e-15-3.51947258e-15j,\n",
       "           1.35200347e-14-1.96547449e-14j]],\n",
       "\n",
       "        [[ 9.65047706e-14+9.70349873e-15j,\n",
       "           9.00815580e-15+9.27491606e-15j,\n",
       "          -2.09495139e-14+3.20840614e-15j,\n",
       "          -5.02449676e-14-1.71857806e-14j,\n",
       "          -8.80043892e-14-1.65253144e-14j,\n",
       "          -1.35720686e-13-7.45433425e-15j,\n",
       "          -4.50976215e-13-5.22983753e-14j],\n",
       "         [ 1.24451980e-14-1.92470562e-14j,\n",
       "           6.73648539e-15-4.33786044e-15j,\n",
       "           3.80754371e-15-2.00543980e-15j,\n",
       "           3.46576591e-16+1.24178561e-15j,\n",
       "          -1.26019131e-15+6.31552587e-15j,\n",
       "          -2.39292863e-15+8.61971765e-15j,\n",
       "           1.91805514e-14-9.73897269e-15j],\n",
       "         [ 6.25403844e-15+5.86899683e-15j,\n",
       "          -1.69536842e-15-1.60443897e-15j,\n",
       "           7.66956347e-15-1.70126800e-15j,\n",
       "           7.90604944e-15-2.73852390e-16j,\n",
       "          -1.75158327e-15-2.27125714e-15j,\n",
       "          -8.36280722e-15-8.85540695e-15j,\n",
       "          -7.75029133e-15+6.78762549e-15j],\n",
       "         [-1.38614520e-14+1.59870605e-14j,\n",
       "           2.58799098e-16+2.48308627e-14j,\n",
       "           9.61586905e-15+1.87911782e-14j,\n",
       "           1.11144438e-14+2.23141720e-14j,\n",
       "           6.48372362e-15+2.31754180e-14j,\n",
       "           1.09635384e-15+2.19545043e-14j,\n",
       "           2.27778933e-14-2.52231262e-13j],\n",
       "         [-2.53260582e-14+6.79861806e-15j,\n",
       "           5.84752438e-15+3.05133075e-15j,\n",
       "           8.04096822e-15-3.44472462e-15j,\n",
       "           6.87468901e-16+1.42691273e-16j,\n",
       "          -6.20519215e-15-5.26899050e-16j,\n",
       "          -5.34908627e-15-2.38804434e-15j,\n",
       "          -1.16463149e-14-1.42161055e-14j],\n",
       "         [ 1.67155048e-14-1.36763792e-16j,\n",
       "          -1.50128057e-14-1.02234125e-14j,\n",
       "          -1.57493991e-14+2.47087980e-15j,\n",
       "          -8.26061614e-15+4.25962207e-15j,\n",
       "          -2.42625075e-15-3.27731247e-16j,\n",
       "          -4.08858669e-16-9.97227571e-16j,\n",
       "           1.70494140e-14-5.71336589e-15j],\n",
       "         [ 2.25680482e-14-2.22934624e-14j,\n",
       "           1.60704868e-15-7.48165979e-15j,\n",
       "          -5.23599547e-15+1.38018969e-15j,\n",
       "          -4.24047822e-15+5.01422717e-15j,\n",
       "          -3.07164158e-15+4.31257313e-15j,\n",
       "          -7.93884457e-15+1.87070406e-15j,\n",
       "           1.39045059e-14-2.19375239e-14j],\n",
       "         [ 7.67972744e-14-7.85859958e-14j,\n",
       "          -3.94790770e-15+2.79774437e-14j,\n",
       "           1.05137317e-15+1.69328056e-14j,\n",
       "          -2.29282482e-14+2.03340790e-14j,\n",
       "          -2.98574083e-14+1.61082563e-14j,\n",
       "          -1.49439565e-14-4.25604639e-15j,\n",
       "           1.08801075e-13-8.83557927e-14j],\n",
       "         [ 8.31235992e-15+1.59018590e-14j,\n",
       "          -1.10826172e-15-2.12788371e-15j,\n",
       "          -5.81588911e-15-7.68331241e-15j,\n",
       "           5.13254723e-16-5.57100737e-15j,\n",
       "           3.66271240e-15+1.89990559e-15j,\n",
       "           1.32916210e-15+6.10624229e-15j,\n",
       "          -1.04329452e-14+1.85202592e-14j],\n",
       "         [-1.39075569e-14+6.87552186e-14j,\n",
       "          -2.62964075e-16+4.24988796e-14j,\n",
       "           5.28985580e-15+3.77071575e-14j,\n",
       "           1.50441348e-15+3.75314160e-14j,\n",
       "           6.10072331e-16+3.64906871e-14j,\n",
       "          -1.21897652e-15+4.16646207e-14j,\n",
       "           2.09221545e-14-2.10299471e-13j],\n",
       "         [ 4.27886886e-16+1.45494674e-14j,\n",
       "          -1.35381346e-15-8.60920694e-15j,\n",
       "           2.97386860e-15-9.55569671e-15j,\n",
       "          -1.28043080e-16-4.12317420e-15j,\n",
       "          -4.09821220e-15+3.46976607e-16j,\n",
       "          -2.38165035e-15+2.79809810e-15j,\n",
       "           1.58198273e-14-6.89062634e-16j],\n",
       "         [ 1.03590627e-15+1.57137864e-14j,\n",
       "          -2.77772174e-15+1.14311773e-15j,\n",
       "          -1.88808977e-16-2.18441643e-16j,\n",
       "          -2.90024516e-15-3.30187911e-15j,\n",
       "          -2.78693435e-15-7.55561824e-15j,\n",
       "           2.03009569e-16-8.01143295e-15j,\n",
       "           5.36746681e-15+2.02401516e-15j],\n",
       "         [-9.20384422e-16-5.10592228e-15j,\n",
       "           3.77256023e-15+2.10987075e-15j,\n",
       "          -2.02445085e-15+2.17986347e-15j,\n",
       "          -3.74045645e-15+1.76902972e-15j,\n",
       "          -1.46693371e-15+1.74447494e-15j,\n",
       "          -1.37997060e-15+4.42742518e-15j,\n",
       "          -8.76150482e-16-8.58905371e-15j],\n",
       "         [ 2.58747009e-15+7.14997554e-15j,\n",
       "          -6.04176030e-15-3.25808353e-15j,\n",
       "          -1.68956450e-14+4.72748239e-16j,\n",
       "          -1.99251645e-14+1.19630038e-15j,\n",
       "          -9.72107480e-15-7.41352292e-15j,\n",
       "          -6.27120913e-15-6.48514752e-15j,\n",
       "           3.33564321e-14+2.96826567e-14j],\n",
       "         [ 1.26449451e-13+1.60476186e-14j,\n",
       "           7.89113723e-14+1.50346716e-14j,\n",
       "           6.64888860e-14+9.06452607e-15j,\n",
       "           6.74650230e-14+7.63123986e-15j,\n",
       "           6.82062685e-14+5.80474298e-15j,\n",
       "           7.92374910e-14+7.20357173e-15j,\n",
       "          -3.84203044e-13-4.05364243e-14j],\n",
       "         [-1.13681556e-14+1.23969719e-14j,\n",
       "          -9.65641501e-15-6.32475862e-15j,\n",
       "          -4.23553922e-15+7.38237230e-16j,\n",
       "          -1.88540070e-15+3.28504662e-15j,\n",
       "           1.05553920e-15-3.86927519e-15j,\n",
       "           4.77524286e-15-9.58935116e-15j,\n",
       "          -4.12282211e-16+9.33124388e-15j]]]])"
      ]
     },
     "execution_count": 6,
     "metadata": {},
     "output_type": "execute_result"
    }
   ],
   "source": [
    "der = ok.covD_r1()\n",
    "np.shape(der)\n",
    "der[:,:,:,:,3]\n",
    "\n",
    "der2 = ok.covD_l1()\n",
    "np.shape(der2)\n",
    "der2[:,:,:,:,3]"
   ]
  },
  {
   "cell_type": "code",
   "execution_count": 66,
   "metadata": {},
   "outputs": [
    {
     "data": {
      "text/plain": [
       "'\\ndef get_ds_dictionaries(name, node):\\n  \\n    fullname = node.name\\n    if isinstance(node, h5.Dataset):\\n    # node is a dataset\\n        print(f\\'Dataset: {fullname}; adding to dictionary\\')\\n        ds_dict[fullname] = node\\n        print(\\'ds_dict size\\', len(ds_dict)) \\n    else:\\n     # node is a group\\n        print(f\\'Group: {fullname}; skipping\\')  \\n    \\n\\n\\nbasefolder = \"/wsgjsc/home/taggi1/workspace_folders/jusuf_mountpoint/\" + \"48c48/binned_1012_hmz370_BMW/3PointCorrelation/T8/\"\\n\\n#Path file to the data folder\\np = Path(basefolder).glob(\\'**/*\\')\\nfiles = [x for x in p if x.is_file()]\\n\\n\\nwith h5.File(basefolder+files[0].name,\\'r\\') as h5f:\\n        \\n    ds_dict = {}  \\n    print (\\'**Walking Datasets to get dictionaries**\\n\\')\\n    h5f.visititems(get_ds_dictionaries)\\n    print(\\'\\nDONE\\')\\n    print(\\'ds_dict size\\', len(ds_dict))\\n'"
      ]
     },
     "execution_count": 66,
     "metadata": {},
     "output_type": "execute_result"
    }
   ],
   "source": [
    "'''\n",
    "def get_ds_dictionaries(name, node):\n",
    "  \n",
    "    fullname = node.name\n",
    "    if isinstance(node, h5.Dataset):\n",
    "    # node is a dataset\n",
    "        print(f'Dataset: {fullname}; adding to dictionary')\n",
    "        ds_dict[fullname] = node\n",
    "        print('ds_dict size', len(ds_dict)) \n",
    "    else:\n",
    "     # node is a group\n",
    "        print(f'Group: {fullname}; skipping')  \n",
    "    \n",
    "\n",
    "\n",
    "basefolder = \"/wsgjsc/home/taggi1/workspace_folders/jusuf_mountpoint/\" + \"48c48/binned_1012_hmz370_BMW/3PointCorrelation/T8/\"\n",
    "\n",
    "#Path file to the data folder\n",
    "p = Path(basefolder).glob('**/*')\n",
    "files = [x for x in p if x.is_file()]\n",
    "\n",
    "\n",
    "with h5.File(basefolder+files[0].name,'r') as h5f:\n",
    "        \n",
    "    ds_dict = {}  \n",
    "    print ('**Walking Datasets to get dictionaries**\\n')\n",
    "    h5f.visititems(get_ds_dictionaries)\n",
    "    print('\\nDONE')\n",
    "    print('ds_dict size', len(ds_dict))\n",
    "'''"
   ]
  },
  {
   "cell_type": "code",
   "execution_count": 67,
   "metadata": {},
   "outputs": [],
   "source": [
    "#list(ds_dict.keys())[1]"
   ]
  }
 ],
 "metadata": {
  "kernelspec": {
   "display_name": "Python 3",
   "language": "python",
   "name": "python3"
  },
  "language_info": {
   "codemirror_mode": {
    "name": "ipython",
    "version": 3
   },
   "file_extension": ".py",
   "mimetype": "text/x-python",
   "name": "python",
   "nbconvert_exporter": "python",
   "pygments_lexer": "ipython3",
   "version": "3.11.9"
  }
 },
 "nbformat": 4,
 "nbformat_minor": 2
}
