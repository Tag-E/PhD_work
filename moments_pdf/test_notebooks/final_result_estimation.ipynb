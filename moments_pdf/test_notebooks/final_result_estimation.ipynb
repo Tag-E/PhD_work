{
 "cells": [
  {
   "cell_type": "markdown",
   "metadata": {
    "vscode": {
     "languageId": "plaintext"
    }
   },
   "source": [
    "# Notebook Setup"
   ]
  },
  {
   "cell_type": "code",
   "execution_count": 2,
   "metadata": {},
   "outputs": [],
   "source": [
    "from IPython.core.interactiveshell import InteractiveShell\n",
    "InteractiveShell.ast_node_interactivity = \"all\"\n",
    "\n",
    "from IPython.display import display, Math\n",
    "\n",
    "\n",
    "import numpy as np\n",
    "import matplotlib.pyplot as plt\n",
    "\n",
    "import os\n",
    "import sys\n",
    "\n",
    "sys.path.insert(1, '../')\n",
    "\n",
    "from moments_toolkit import moments_toolkit\n",
    "\n",
    "from moments_toolkit import ratio_formula, sum_ratios_formula\n",
    "\n",
    "import gvar as gv\n",
    "\n",
    "#from utilities import plateau_search_symm\n",
    "\n",
    "import itertools as it\n",
    "\n",
    "import correlatoranalyser as CA\n",
    "\n",
    "from moments_toolkit import average_moments_over_T\n",
    "from utilities import jackknife_resamples, bootstrap_resamples"
   ]
  },
  {
   "cell_type": "code",
   "execution_count": 3,
   "metadata": {},
   "outputs": [
    {
     "name": "stdout",
     "output_type": "stream",
     "text": [
      "\n",
      "Initializing the moments_toolkit class instance...\n",
      "\n",
      "\n",
      "Initializing the building block class instance...\n",
      "\n",
      "\n",
      "Reading the the keys of the dataset ...\n",
      "\n",
      "\n",
      "Reading the 2 point and 3 point correlators from the fast access dataset ...\n",
      "\n",
      "\n",
      "Reading the list of all the available operators from the database...\n",
      "\n",
      "\n",
      "Class Initialization Complete!\n",
      "\n"
     ]
    }
   ],
   "source": [
    "p3fold = os.environ['mount_point_path'] + \"48c48/binned_1012_hmz370_BMW_extended/3PointCorrelation/\"\n",
    "p2fold = os.environ['mount_point_path'] + \"48c48/binned_1012_hmz370_BMW_extended/2PointCorrelation/\"\n",
    "\n",
    "\n",
    "opAnalyzer = moments_toolkit(p3fold, p2fold,\n",
    "                            skip3p=False, skipop=False,\n",
    "                            verbose=True,\n",
    "                            fast_data_folder = \"../fast_data_extended_p0_q0\",\n",
    "                            operator_folder= \"../operator_database\",\n",
    "                            momentum='PX0_PY0_PZ0',\n",
    "                            insertion_momentum = 'qx0_qy0_qz0',\n",
    "                            tag_2p='hspectrum',\n",
    "                            max_n=2 #max_n=3\n",
    "                            )\n",
    "\n",
    "\n",
    "#opAnalyzer = moments_toolkit(p3fold, p2fold,\n",
    "#                            skip3p=False, skipop=False,\n",
    "#                            verbose=True,\n",
    "#                            fast_data_folder = \"../fast_data_extended_px-2_q0\",\n",
    "#                            operator_folder= \"../operator_database\",\n",
    "#                            momentum='PX-2_PY0_PZ0',\n",
    "#                            insertion_momentum = 'qx0_qy0_qz0',\n",
    "#                            tag_2p='hspectrum',\n",
    "#                            max_n=2 #max_n=3\n",
    "#                            )"
   ]
  }
 ],
 "metadata": {
  "kernelspec": {
   "display_name": ".venv",
   "language": "python",
   "name": "python3"
  },
  "language_info": {
   "codemirror_mode": {
    "name": "ipython",
    "version": 3
   },
   "file_extension": ".py",
   "mimetype": "text/x-python",
   "name": "python",
   "nbconvert_exporter": "python",
   "pygments_lexer": "ipython3",
   "version": "3.11.9"
  }
 },
 "nbformat": 4,
 "nbformat_minor": 2
}
