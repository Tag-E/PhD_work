{
 "cells": [
  {
   "cell_type": "markdown",
   "metadata": {},
   "source": [
    "# Notebook Setup"
   ]
  },
  {
   "cell_type": "code",
   "execution_count": 356,
   "metadata": {},
   "outputs": [],
   "source": [
    "from IPython.core.interactiveshell import InteractiveShell\n",
    "InteractiveShell.ast_node_interactivity = \"all\"\n",
    "\n",
    "from IPython.display import display, Math\n",
    "\n",
    "\n",
    "import numpy as np\n",
    "import matplotlib.pyplot as plt\n",
    "\n",
    "import os\n",
    "import sys\n",
    "\n",
    "sys.path.insert(1, '../')\n",
    "\n",
    "from moments_toolkit import moments_toolkit\n",
    "\n",
    "from moments_toolkit import ratio_formula, sum_ratios_formula\n",
    "\n",
    "import gvar as gv\n",
    "\n",
    "#from utilities import plateau_search_symm\n",
    "\n",
    "import itertools as it\n",
    "\n",
    "import correlatoranalyser as CA\n",
    "\n",
    "from moments_toolkit import average_moments_over_T\n",
    "from utilities import jackknife_resamples, bootstrap_resamples"
   ]
  },
  {
   "cell_type": "code",
   "execution_count": 357,
   "metadata": {},
   "outputs": [
    {
     "name": "stdout",
     "output_type": "stream",
     "text": [
      "\n",
      "Initializing the moments_toolkit class instance...\n",
      "\n",
      "\n",
      "Initializing the building block class instance...\n",
      "\n",
      "\n",
      "Reading the the keys of the dataset ...\n",
      "\n",
      "\n",
      "Reading the 2 point and 3 point correlators from the fast access dataset ...\n",
      "\n",
      "\n",
      "Reading the list of all the available operators from the database...\n",
      "\n",
      "\n",
      "Class Initialization Complete!\n",
      "\n"
     ]
    }
   ],
   "source": [
    "p3fold = os.environ['mount_point_path'] + \"48c48/binned_1012_hmz370_BMW_extended/3PointCorrelation/\"\n",
    "p2fold = os.environ['mount_point_path'] + \"48c48/binned_1012_hmz370_BMW_extended/2PointCorrelation/\"\n",
    "\n",
    "\n",
    "opAnalyzer = moments_toolkit(p3fold, p2fold,\n",
    "                            skip3p=False, skipop=False,\n",
    "                            verbose=True,\n",
    "                            fast_data_folder = \"../fast_data_extended_p0_q0\",\n",
    "                            operator_folder= \"../operator_database\",\n",
    "                            momentum='PX0_PY0_PZ0',\n",
    "                            insertion_momentum = 'qx0_qy0_qz0',\n",
    "                            tag_2p='hspectrum',\n",
    "                            max_n=2 #max_n=3\n",
    "                            )"
   ]
  },
  {
   "cell_type": "code",
   "execution_count": 358,
   "metadata": {},
   "outputs": [],
   "source": [
    "opAnalyzer.set_resampling_type('jackknife')\n",
    "opAnalyzer.set_fit_parms(central_value_fit=True, central_value_fit_correlated=True, resample_fit=True, resample_fit_correlated=True)"
   ]
  },
  {
   "cell_type": "code",
   "execution_count": 359,
   "metadata": {},
   "outputs": [
    {
     "data": {
      "text/latex": [
       "$\\displaystyle \\frac{1}{6}O^{V}_{1, 1}+\\frac{1}{6}O^{V}_{2, 2}+\\frac{1}{6}O^{V}_{3, 3}-\\frac{1}{2}O^{V}_{4, 4}$"
      ],
      "text/plain": [
       "<IPython.core.display.Math object>"
      ]
     },
     "metadata": {},
     "output_type": "display_data"
    },
    {
     "data": {
      "text/latex": [
       "$\\displaystyle \\frac{1}{\\sqrt{2}}O^{V}_{3, 3}-\\frac{1}{\\sqrt{2}}O^{V}_{4, 4}$"
      ],
      "text/plain": [
       "<IPython.core.display.Math object>"
      ]
     },
     "metadata": {},
     "output_type": "display_data"
    },
    {
     "data": {
      "text/latex": [
       "$\\displaystyle \\frac{1}{\\sqrt{2}}O^{A}_{3, 4}+\\frac{1}{\\sqrt{2}}O^{A}_{4, 3}$"
      ],
      "text/plain": [
       "<IPython.core.display.Math object>"
      ]
     },
     "metadata": {},
     "output_type": "display_data"
    },
    {
     "data": {
      "text/latex": [
       "$\\displaystyle O^{T}_{1, 2, 4}-O^{T}_{2, 4, 1}$"
      ],
      "text/plain": [
       "<IPython.core.display.Math object>"
      ]
     },
     "metadata": {},
     "output_type": "display_data"
    },
    {
     "data": {
      "text/latex": [
       "$\\displaystyle O^{T}_{1, 4, 2}-2O^{T}_{2, 1, 4}+O^{T}_{4, 2, 1}$"
      ],
      "text/plain": [
       "<IPython.core.display.Math object>"
      ]
     },
     "metadata": {},
     "output_type": "display_data"
    }
   ],
   "source": [
    "#we take the operators of the paper\n",
    "\n",
    "opV1 = 1/6 * opAnalyzer.get_operator(2)\n",
    "opV2 = 1/(3 * np.sqrt(2)) * (opAnalyzer.get_operator(2) - opAnalyzer.get_operator(3))\n",
    "opV3 = 1/np.sqrt(2) * opAnalyzer.get_operator(14)\n",
    "\n",
    "opA1 = 1/np.sqrt(2) * opAnalyzer.get_operator(28)\n",
    "opA2 = 1/np.sqrt(2) * opAnalyzer.get_operator(32)\n",
    "\n",
    "opT1 = opAnalyzer.get_operator(74) + 1/2 * opAnalyzer.get_operator(78)\n",
    "opT2 = opAnalyzer.get_operator(78)\n",
    "opT3 =  1/6 * ( -3 * opAnalyzer.get_operator(83) + 2 * opAnalyzer.get_operator(87) + 3* opAnalyzer.get_operator(91) + opAnalyzer.get_operator(95) )\n",
    "opT4 = 1/2 * ( opAnalyzer.get_operator(83) + 2 * opAnalyzer.get_operator(87) -2* opAnalyzer.get_operator(91) )\n",
    "\n",
    "\n",
    "\n",
    "#we empty the selected op just to be sure\n",
    "opAnalyzer.deselect_operator()\n",
    "\n",
    "#we append the operators\n",
    "opAnalyzer.append_operator(opV1)\n",
    "opAnalyzer.append_operator(opV2)\n",
    "opAnalyzer.append_operator(opV3)\n",
    "opAnalyzer.append_operator(opA1)\n",
    "opAnalyzer.append_operator(opA2)\n",
    "opAnalyzer.append_operator(opT1)\n",
    "opAnalyzer.append_operator(opT2)\n",
    "opAnalyzer.append_operator(opT3)\n",
    "opAnalyzer.append_operator(opT4)\n",
    "\n",
    "#opAnalyzer.append_operator(opAnalyzer.get_operator(125))\n",
    "\n",
    "\n",
    "#we deselect the op with 0 kin factor\n",
    "Klist = opAnalyzer.get_Klist()\n",
    "eliminate_op = [op for op,kin in zip(opAnalyzer.selected_op,Klist) if np.abs( kin.mean ) == 0]\n",
    "for op in eliminate_op:\n",
    "    opAnalyzer.deselect_operator(op)\n",
    "Klist = opAnalyzer.get_Klist()\n",
    "\n",
    "\n",
    "opAnalyzer.display_operators()"
   ]
  },
  {
   "cell_type": "markdown",
   "metadata": {},
   "source": [
    "# One Operator Analysis"
   ]
  },
  {
   "cell_type": "code",
   "execution_count": 360,
   "metadata": {},
   "outputs": [],
   "source": [
    "iop = 0"
   ]
  },
  {
   "cell_type": "markdown",
   "metadata": {},
   "source": [
    "## Plateau Search"
   ]
  },
  {
   "cell_type": "code",
   "execution_count": 361,
   "metadata": {},
   "outputs": [],
   "source": [
    "from utilities import redchi2_cov\n",
    "\n",
    "#function that given a 1D array returns the values of the indices identifying its plateau (the first and last index), that is symmetric around its middle point\n",
    "def plateau_search_symm(in_array: np.ndarray, covmat: np.ndarray, chi2_treshold:float=1.0, only_sig:bool=True) -> tuple[int,int]:\n",
    "    \"\"\"\n",
    "    Input:\n",
    "        - in_array: the 1D array we want to search the plateau of\n",
    "        - covmat: a 2D array, representing the covariance matrix of in_array\n",
    "        - chi2_treshold: the treshold for the plateau determination\n",
    "        - only_sig: bool, if True only the standard deviation, and not the whole cavariance matrix, is used for the plateau determination\n",
    "    \n",
    "    Output:\n",
    "        - (start_plateau,end_plateau): indices such that in_array[start_plateau,end_plateau] is the region with the plateau\n",
    "    \"\"\"\n",
    "\n",
    "    #first we compute the len of the array\n",
    "    len_array = np.shape(in_array)[0]\n",
    "\n",
    "    #we loop over all the possible plateau lenghts, starting from the biggest possible one and then diminishing it up to a plataeau of len 2\n",
    "    for len_plat in range(len_array,1,-2):\n",
    "\n",
    "        start_plateau = int( (len_array-len_plat)/2 )\n",
    "\n",
    "        #the suggested plateau region in this case is\n",
    "        plat = in_array[start_plateau:start_plateau+len_plat]\n",
    "\n",
    "        #we also have to reshape the covariance matrix\n",
    "        covmat_plat = covmat[start_plateau:start_plateau+len_plat, start_plateau:start_plateau+len_plat]\n",
    "\n",
    "        #the value of the plateau is\n",
    "        plat_value = np.average(plat, weights = np.diag(np.linalg.inv(covmat_plat)), axis=0, keepdims=True) #the weights are the inverse of the sigma squared\n",
    "\n",
    "        #we compute the chi2 of the current plateau\n",
    "        chi2 = redchi2_cov(plat, plat_value, covmat_plat,only_sig=only_sig)\n",
    "\n",
    "        #we see if the chi2 meets the condition\n",
    "        if chi2 < chi2_treshold: #TO DO: in this case put the value in a list and then at the end of the inner loop search for the better one\n",
    "\n",
    "            return start_plateau, start_plateau+len_plat\n",
    "                \n",
    "    #if by the end of the loop the chi2 condition is never met (i.e. if len_plat is 1) we return the point corresponding to the middle of the dataset\n",
    "    #return int(len_array/2), int(len_array/2)+2-len_array%2\n",
    "    return None"
   ]
  },
  {
   "cell_type": "code",
   "execution_count": 362,
   "metadata": {},
   "outputs": [
    {
     "name": "stdout",
     "output_type": "stream",
     "text": [
      "\n",
      "Available source-skink separation values: [3, 4, 5, 6, 7, 8, 10, 12]\n",
      "Chosen source-sink separation values: [4, 5, 6, 7, 8, 10]\n"
     ]
    },
    {
     "data": {
      "text/plain": [
       "'(Nop,NT,maxT+1)'"
      ]
     },
     "execution_count": 362,
     "metadata": {},
     "output_type": "execute_result"
    },
    {
     "data": {
      "text/plain": [
       "(5, 6, 11)"
      ]
     },
     "execution_count": 362,
     "metadata": {},
     "output_type": "execute_result"
    }
   ],
   "source": [
    "opAnalyzer.remove_T(3,12,verbose=True) #3 too few points, 12 too many\n",
    "Rmean,Rstd,Rcov = opAnalyzer.get_R()\n",
    "\n",
    "\"(Nop,NT,maxT+1)\"\n",
    "Rmean.shape\n",
    "\n",
    "Tlist = opAnalyzer.chosen_T_list"
   ]
  },
  {
   "cell_type": "code",
   "execution_count": 363,
   "metadata": {},
   "outputs": [
    {
     "data": {
      "text/plain": [
       "(4, None)"
      ]
     },
     "execution_count": 363,
     "metadata": {},
     "output_type": "execute_result"
    },
    {
     "data": {
      "text/plain": [
       "(5, (2, 4))"
      ]
     },
     "execution_count": 363,
     "metadata": {},
     "output_type": "execute_result"
    },
    {
     "data": {
      "text/plain": [
       "(6, (2, 5))"
      ]
     },
     "execution_count": 363,
     "metadata": {},
     "output_type": "execute_result"
    },
    {
     "data": {
      "text/plain": [
       "(7, (3, 5))"
      ]
     },
     "execution_count": 363,
     "metadata": {},
     "output_type": "execute_result"
    },
    {
     "data": {
      "text/plain": [
       "(8, (3, 6))"
      ]
     },
     "execution_count": 363,
     "metadata": {},
     "output_type": "execute_result"
    },
    {
     "data": {
      "text/plain": [
       "(10, (2, 9))"
      ]
     },
     "execution_count": 363,
     "metadata": {},
     "output_type": "execute_result"
    }
   ],
   "source": [
    "cut_dict = {}\n",
    "N_points_dict = {}\n",
    "\n",
    "for iT,T in enumerate(Tlist):\n",
    "    T, plateau_search_symm(Rmean[iop,iT,:T+1],Rcov[iop,iT,:T+1,:T+1],only_sig=True, chi2_treshold=5.0)\n",
    "    cut = plateau_search_symm(Rmean[iop,iT,:T+1],Rcov[iop,iT,:T+1,:T+1],only_sig=True, chi2_treshold=5.0)\n",
    "    cut_dict[T] = cut\n",
    "    N_points_dict[T] = cut[1]-cut[0] if cut is not None else 0"
   ]
  },
  {
   "cell_type": "code",
   "execution_count": 364,
   "metadata": {},
   "outputs": [
    {
     "data": {
      "text/plain": [
       "{4: None, 5: (2, 4), 6: (2, 5), 7: (3, 5), 8: (3, 6), 10: (2, 9)}"
      ]
     },
     "execution_count": 364,
     "metadata": {},
     "output_type": "execute_result"
    },
    {
     "data": {
      "text/plain": [
       "{4: 0, 5: 2, 6: 3, 7: 2, 8: 3, 10: 7}"
      ]
     },
     "execution_count": 364,
     "metadata": {},
     "output_type": "execute_result"
    }
   ],
   "source": [
    "cut_dict\n",
    "N_points_dict"
   ]
  },
  {
   "cell_type": "markdown",
   "metadata": {},
   "source": [
    "## Data Preparation"
   ]
  },
  {
   "cell_type": "code",
   "execution_count": 365,
   "metadata": {},
   "outputs": [],
   "source": [
    "abscissa = np.array([\n",
    "    [T, tau] for T in Tlist if cut_dict[T] is not None for tau in np.arange(0,T+1)[cut_dict[T][0]:cut_dict[T][1]] \n",
    "])"
   ]
  },
  {
   "cell_type": "code",
   "execution_count": 366,
   "metadata": {},
   "outputs": [
    {
     "data": {
      "text/plain": [
       "(2, 5)"
      ]
     },
     "execution_count": 366,
     "metadata": {},
     "output_type": "execute_result"
    }
   ],
   "source": [
    "cut_dict[6]"
   ]
  },
  {
   "cell_type": "code",
   "execution_count": 367,
   "metadata": {},
   "outputs": [
    {
     "data": {
      "text/plain": [
       "array([[ 5,  2],\n",
       "       [ 5,  3],\n",
       "       [ 6,  2],\n",
       "       [ 6,  3],\n",
       "       [ 6,  4],\n",
       "       [ 7,  3],\n",
       "       [ 7,  4],\n",
       "       [ 8,  3],\n",
       "       [ 8,  4],\n",
       "       [ 8,  5],\n",
       "       [10,  2],\n",
       "       [10,  3],\n",
       "       [10,  4],\n",
       "       [10,  5],\n",
       "       [10,  6],\n",
       "       [10,  7],\n",
       "       [10,  8]])"
      ]
     },
     "execution_count": 367,
     "metadata": {},
     "output_type": "execute_result"
    }
   ],
   "source": [
    "abscissa"
   ]
  },
  {
   "cell_type": "code",
   "execution_count": 368,
   "metadata": {},
   "outputs": [],
   "source": [
    "#np.linspace(cut_dict[6][0],cut_dict[6][1]-1,20)"
   ]
  },
  {
   "cell_type": "code",
   "execution_count": 369,
   "metadata": {},
   "outputs": [],
   "source": [
    "# abscissa = np.array([\n",
    "#     [t, tau] for t in Tlist for tau in np.arange(1,t)[2:-2]\n",
    "# ])\n",
    "# abscissa"
   ]
  },
  {
   "cell_type": "code",
   "execution_count": 370,
   "metadata": {},
   "outputs": [],
   "source": [
    "#We first take the 3 point and 2 point correlators needed to compute the ratio\n",
    "p3_corr = opAnalyzer.get_p3corr() #shape = (nop, nconf, nT, maxT+1)\n",
    "p2_corr = opAnalyzer.get_p2corr() #shape = (nconf, latticeT)\n",
    "\n",
    "\n",
    "Nbst = 100\n",
    "Ratios_resamples = {}\n",
    "\n",
    "#we loop over all the T values we have\n",
    "for iT,T in enumerate(opAnalyzer.chosen_T_list):\n",
    "\n",
    "    #we perform the jackknife analysis (the observable being the ratio we want to compute)\n",
    "    Ratios_resamples[T] = bootstrap_resamples([p3_corr[iop,:,iT,:], p2_corr], lambda x,y: ratio_formula(x,y, T=T, gauge_axis=0), res_axis_list=[0,0], Nres=Nbst, new_resamples=False)[:,:T+1]\n",
    "    #Ratios_bst[T] = jackknife_resamples([p3_corr[0,:,iT,:], p2_corr], lambda x,y: ratio_formula(x,y, T=T, gauge_axis=0), res_axis_list=[0,0])[:,:T+1]\n",
    "\n",
    "\n",
    "Ratio_ror = np.zeros( (Nbst, len(abscissa)) )\n",
    "\n",
    "for idx, (t,tau) in enumerate(abscissa):\n",
    "\n",
    "    Ratio_ror[:,idx] = Ratios_resamples[t][:,tau]"
   ]
  },
  {
   "cell_type": "code",
   "execution_count": 371,
   "metadata": {},
   "outputs": [
    {
     "data": {
      "text/plain": [
       "array([[0.07670187, 0.07638937, 0.07346173, ..., 0.05871958, 0.06372244,\n",
       "        0.07298985],\n",
       "       [0.07633157, 0.07628737, 0.07261673, ..., 0.06242318, 0.06927269,\n",
       "        0.07804925],\n",
       "       [0.07757457, 0.07707951, 0.07424805, ..., 0.0612452 , 0.06476651,\n",
       "        0.07214532],\n",
       "       ...,\n",
       "       [0.0761092 , 0.07584626, 0.07219474, ..., 0.06207655, 0.06772353,\n",
       "        0.07204645],\n",
       "       [0.07649312, 0.07604507, 0.072775  , ..., 0.06263679, 0.07091053,\n",
       "        0.07482713],\n",
       "       [0.07728771, 0.07651833, 0.0738974 , ..., 0.06358255, 0.06916406,\n",
       "        0.0742171 ]], shape=(100, 17))"
      ]
     },
     "execution_count": 371,
     "metadata": {},
     "output_type": "execute_result"
    }
   ],
   "source": [
    "Ratio_ror"
   ]
  },
  {
   "cell_type": "markdown",
   "metadata": {},
   "source": [
    "## Model"
   ]
  },
  {
   "cell_type": "code",
   "execution_count": 372,
   "metadata": {},
   "outputs": [],
   "source": [
    "class SymmetricRatioModel:\n",
    "    def __init__(self, number_states_sink, number_states_source, include_mix_term = True):\n",
    "        self.number_states_sink = number_states_sink\n",
    "        self.number_states_source = number_states_source\n",
    "        self.include_mix_term = include_mix_term\n",
    "        \n",
    "        # GS\n",
    "        if   number_states_sink == 1 and number_states_source == 1:\n",
    "            self.Nparams = 1\n",
    "        # GS + ES @ sink \n",
    "        elif number_states_sink == 2 and number_states_source == 1:\n",
    "            self.Nparams = 3\n",
    "        # GS + ES @ source\n",
    "        elif number_states_sink == 1 and number_states_source == 2:\n",
    "            self.Nparams = 3\n",
    "        # GS + ES @ source + ES @ sink + ES @ (source & sink)\n",
    "        elif number_states_sink == 2 and number_states_source == 2 and include_mix_term:\n",
    "            self.Nparams = 4\n",
    "        # GS + ES @ source + ES @ sink + ES @ (source & sink)\n",
    "        elif number_states_sink == 2 and number_states_source == 2:\n",
    "            self.Nparams = 3\n",
    "        else:\n",
    "            raise NotImplementedError(\"Model only implemented for at most one excited state at source and/or sink\")\n",
    "\n",
    "    def __call__(self, t_tau, p):\n",
    "        r\"\"\"\n",
    "            parameter:\n",
    "                - E-m = E_N(q)-m_N > 0 (Ground state exponent)\n",
    "                - dE{n}(q) = E_n(q) - E_N(q) > 0 (relative energy/mass if q=0)\n",
    "                    - Currently accepted: dE1(q), dE1(0)\n",
    "                - Amn (replace m,n by integers, matrix element for the mth excited state at source, and nth excited state a sink)\n",
    "                    - A00 is the ground state matrix element\n",
    "        \"\"\"\n",
    "        t = t_tau[:,0]\n",
    "        tau = t_tau[:,1]\n",
    "\n",
    "        # The ground state contribution (exponential is factorized)\n",
    "        out = np.full_like(tau, p['A00'], dtype = object)\n",
    "\n",
    "        # The excited state at source \n",
    "        if self.number_states_source == 2:\n",
    "            out += p[\"A01\"] * np.exp(                        - tau * p[\"dE1(0)\"])\n",
    "\n",
    "        # The excited state at sink\n",
    "        if self.number_states_sink == 2:\n",
    "            out += p[\"A01\"] * np.exp( -(t-tau) * p[\"dE1(0)\"]                    ) \n",
    "\n",
    "        # The excited states at source and sink \n",
    "        if self.number_states_source == 2 and self.number_states_sink == 2 and self.include_mix_term:\n",
    "            out += p[\"A11\"] * np.exp( -(t-tau) * p[\"dE1(0)\"] - tau * p[\"dE1(0)\"])  \n",
    "\n",
    "        return out\n",
    "\n",
    "    def flat_prior(self,sign,dE_mean):\n",
    "        prior = gv.BufferDict()\n",
    "\n",
    "        prior[\"A00\"] = sign*gv.gvar(1,100) \n",
    "        \n",
    "        # The excited state at source \n",
    "        if self.number_states_source == 2:\n",
    "            prior[\"log(dE1(0))\"] = gv.log(gv.gvar(dE_mean,10*dE_mean)) #gv.log(gv.gvar(1, 100))\n",
    "            prior[\"A01\"]    = sign*gv.gvar(1,100) \n",
    "\n",
    "        # The excited state at sink\n",
    "        if self.number_states_sink == 2:\n",
    "            prior[\"log(dE1(0))\"] = gv.log(gv.gvar(dE_mean,10*dE_mean)) #gv.log(gv.gvar(1, 100))\n",
    "            prior[\"A01\"]    = sign*gv.gvar(1,100) \n",
    "\n",
    "        # The excited states at source and sink \n",
    "        if self.number_states_source == 2 and self.number_states_sink == 2 and self.include_mix_term:\n",
    "            prior[\"A11\"]    = sign*gv.gvar(1,100)  \n",
    "        \n",
    "        return prior\n",
    "    \n",
    "    def guess_prior(self,sign,dE_mean):\n",
    "        prior = gv.BufferDict()\n",
    "\n",
    "        prior[\"A00\"] = sign*gv.gvar(1,0.5) \n",
    "        \n",
    "        # The excited state at source \n",
    "        if self.number_states_source == 2:\n",
    "            prior[\"log(dE1(0))\"] = gv.log(gv.gvar(dE_mean,dE_mean)) #gv.log(gv.gvar(0.1, 1))\n",
    "            prior[\"A01\"]    =sign*gv.gvar(1e-2,1)\n",
    "\n",
    "        # The excited state at sink\n",
    "        if self.number_states_sink == 2:\n",
    "            prior[\"log(dE1(0))\"] = gv.log(gv.gvar(dE_mean,dE_mean)) #gv.log(gv.gvar(0.1, 1))\n",
    "            prior[\"A01\"]    = sign*gv.gvar(1e-2,1)\n",
    "\n",
    "        # The excited states at source and sink \n",
    "        if self.number_states_source == 2 and self.number_states_sink == 2 and self.include_mix_term:\n",
    "            prior[\"A11\"]    = sign*gv.gvar(0.1,1)   \n",
    "        \n",
    "        return prior\n",
    "    \n",
    "    def model_prior(self, dE, matele, abscissa, ratio):\n",
    "        prior = gv.BufferDict()\n",
    "\n",
    "        r1_list=[]\n",
    "        for i_probe in range(len(abscissa)):\n",
    "            Tprobe,tprobe = abscissa[i_probe]\n",
    "            Rprobe = ratio[i_probe]\n",
    "            r1_list.append( (Rprobe - matele.mean  ) * np.exp(Tprobe/2 * dE.mean) / np.cosh((Tprobe/2-tprobe)*dE.mean) )\n",
    "        r1_mean = np.mean(r1_list)\n",
    "\n",
    "        prior[\"A00\"] = matele\n",
    "        \n",
    "        # The excited state at source \n",
    "        if self.number_states_source == 2:\n",
    "            prior[\"log(dE1(0))\"] = gv.log(dE)\n",
    "            prior[\"A01\"]    = gv.gvar(r1_mean,10*r1_mean)\n",
    "\n",
    "        # The excited state at sink\n",
    "        if self.number_states_sink == 2:\n",
    "            prior[\"log(dE1(0))\"] = gv.log(dE)\n",
    "            prior[\"A01\"]    = gv.gvar(r1_mean,10*r1_mean)\n",
    "\n",
    "        # The excited states at source and sink \n",
    "        if self.number_states_source == 2 and self.number_states_sink == 2 and self.include_mix_term:\n",
    "            prior[\"A11\"]    = gv.gvar(r1_mean,10*r1_mean)   \n",
    "        \n",
    "        return prior"
   ]
  },
  {
   "cell_type": "code",
   "execution_count": 373,
   "metadata": {},
   "outputs": [],
   "source": [
    "model = SymmetricRatioModel(number_states_sink=2,number_states_source=2, include_mix_term = True)"
   ]
  },
  {
   "cell_type": "code",
   "execution_count": 374,
   "metadata": {},
   "outputs": [],
   "source": [
    "\n",
    "\n",
    "\n",
    "\n",
    "opAnalyzer.remove_T()\n",
    "matele_fromS = opAnalyzer.get_M_from_S(method=\"fit\", tskip_list=[1,2,3],moments=False)\n",
    "dE = opAnalyzer.get_dE()\n",
    "opAnalyzer.remove_T(3,12)\n",
    "mat_ele_avg, iTmin  = average_moments_over_T(matele_fromS[iop], chi2=10.0)\n",
    "\n",
    "\n",
    "\n",
    "guess_prior = model.guess_prior(sign=1 if mat_ele_avg.mean>0 else -1,dE_mean=dE.mean)\n",
    "\n",
    "flat_prior = model.flat_prior(sign=1 if mat_ele_avg.mean>0 else -1,dE_mean=dE.mean)\n",
    "\n",
    "model_prior = model.model_prior(dE=gv.gvar(dE.mean,dE.mean),matele=mat_ele_avg,abscissa=abscissa, ratio=np.mean(Ratio_ror,axis=0))"
   ]
  },
  {
   "cell_type": "markdown",
   "metadata": {},
   "source": [
    "## Fit"
   ]
  },
  {
   "cell_type": "code",
   "execution_count": 375,
   "metadata": {},
   "outputs": [],
   "source": [
    "fit_result = CA.fit(\n",
    "    abscissa = abscissa,\n",
    "    ordinate_est = np.mean( Ratio_ror, axis = 0 ),\n",
    "    ordinate_std = np.std ( Ratio_ror, axis = 0 ),\n",
    "    ordinate_cov = np.cov ( Ratio_ror, rowvar = False ),\n",
    "    resample_ordinate_est = Ratio_ror,\n",
    "    resample_ordinate_std = np.std ( Ratio_ror, axis = 0 ),\n",
    "    resample_ordinate_cov = np.cov ( Ratio_ror, rowvar = False ),\n",
    "    \n",
    "    central_value_fit = True,\n",
    "    central_value_fit_correlated = True,\n",
    "    resample_fit = True,\n",
    "    resample_fit_correlated = True,\n",
    "    resample_fit_resample_prior = False,\n",
    "    resample_type = \"bst\",\n",
    "    # Fitting infos\n",
    "    model = model,\n",
    "    #prior = model_prior,\n",
    "    #prior=flat_prior,\n",
    "    prior=guess_prior,\n",
    ")"
   ]
  },
  {
   "cell_type": "code",
   "execution_count": 376,
   "metadata": {},
   "outputs": [
    {
     "data": {
      "text/plain": [
       "FitResult[ ([5 2],[10  8]), Ndata=17, resample:bst]:\n",
       "  𝜒²/dof [dof] = 1.35 [17]\n",
       "  AIC = 0.348 \n",
       "    - A00: 0.0540(48)  [1.00(50)]\n",
       "    - dE1(0): 0.474(74)  [0.082(82)]\n",
       "    - A01: 0.0362(44)  [0.01(1.00)]\n",
       "    - A11: 0.0004(227)  [0.1(1.0)]"
      ]
     },
     "execution_count": 376,
     "metadata": {},
     "output_type": "execute_result"
    }
   ],
   "source": [
    "fit_result"
   ]
  },
  {
   "cell_type": "code",
   "execution_count": 377,
   "metadata": {},
   "outputs": [],
   "source": [
    "#opAnalyzer.get_dE(force_fit=True, units=\"MeV\")\n",
    "#\n",
    "#opAnalyzer.get_dE(force_fit=True, units=\"lattice\")"
   ]
  },
  {
   "cell_type": "code",
   "execution_count": 378,
   "metadata": {},
   "outputs": [
    {
     "data": {
      "text/plain": [
       "0.193(15)"
      ]
     },
     "execution_count": 378,
     "metadata": {},
     "output_type": "execute_result"
    }
   ],
   "source": [
    "fit_result.best_fit_param[\"A00\"] /Klist[iop]"
   ]
  },
  {
   "cell_type": "code",
   "execution_count": 379,
   "metadata": {},
   "outputs": [
    {
     "data": {
      "image/png": "[encoded data removed]",
      "text/plain": [
       "<Figure size 640x480 with 1 Axes>"
      ]
     },
     "metadata": {},
     "output_type": "display_data"
    }
   ],
   "source": [
    "COLORS = [\"red\",\"blue\",\"green\", \"orange\", \"purple\", \"brown\", \"pink\", \"black\"]\n",
    "\n",
    "_=plt.figure()\n",
    "\n",
    "for iT, T in enumerate(Tlist):\n",
    "\n",
    "    norm_K = Klist[iop].mean\n",
    "    taus = np.arange(1,T)\n",
    "\n",
    "    _=plt.errorbar(\n",
    "        taus - T/2,\n",
    "        np.mean( Ratios_resamples[T][:,1:-1], axis = 0 )/norm_K,\n",
    "        np.std ( Ratios_resamples[T][:,1:-1], axis = 0 )/np.abs(norm_K),\n",
    "        fmt = '.:',\n",
    "        capsize = 2,\n",
    "        label = f\"${T=}$\",\n",
    "        color = COLORS[iT]\n",
    "    )\n",
    "\n",
    "    if cut_dict[T] is not None:\n",
    "\n",
    "        eps=0.1\n",
    "        cont_taus = np.linspace(cut_dict[T][0]-eps, cut_dict[T][1]-1+eps,100)\n",
    "\n",
    "        abscissa = np.array([\n",
    "            (T, tau) for tau in cont_taus\n",
    "        ])\n",
    "\n",
    "        fit_ordinate = fit_result.eval( abscissa )\n",
    "\n",
    "        _=plt.plot(cont_taus-T/2, fit_ordinate[\"est\"] / norm_K, color = COLORS[iT])\n",
    "        \n",
    "        _=plt.fill_between(\n",
    "            cont_taus-T/2, \n",
    "            (fit_ordinate[\"est\"]+fit_ordinate[\"err\"]) / norm_K,\n",
    "            (fit_ordinate[\"est\"]-fit_ordinate[\"err\"]) / norm_K,\n",
    "            color = COLORS[iT],\n",
    "            alpha = 0.2\n",
    "        )\n",
    "\n",
    "_=plt.xlabel(r\"$\\tau - t/2$\")\n",
    "_=plt.ylabel(r\"$R(t,\\tau)$\")\n",
    "_=plt.show()"
   ]
  },
  {
   "cell_type": "code",
   "execution_count": 380,
   "metadata": {},
   "outputs": [
    {
     "data": {
      "text/plain": [
       "4"
      ]
     },
     "execution_count": 380,
     "metadata": {},
     "output_type": "execute_result"
    },
    {
     "data": {
      "text/plain": [
       "5"
      ]
     },
     "execution_count": 380,
     "metadata": {},
     "output_type": "execute_result"
    }
   ],
   "source": [
    "num = 8\n",
    "int(num/2)\n",
    "int(num/2)+1 + num%2"
   ]
  },
  {
   "cell_type": "code",
   "execution_count": 381,
   "metadata": {},
   "outputs": [],
   "source": [
    "#opAnalyzer.get_E(force_fit=True)"
   ]
  },
  {
   "cell_type": "markdown",
   "metadata": {},
   "source": [
    "## Number of Points Increase"
   ]
  },
  {
   "cell_type": "code",
   "execution_count": 382,
   "metadata": {},
   "outputs": [],
   "source": [
    "def abscissa_ratio_from_cutdict(cutdict):\n",
    "    abscissa = np.array([\n",
    "        [T, tau] for T in Tlist if cutdict[T] is not None for tau in np.arange(0,T+1)[cutdict[T][0]:cutdict[T][1]] \n",
    "    ])\n",
    "\n",
    "    Ratio_ror = np.zeros( (Nbst, len(abscissa)) )\n",
    "\n",
    "    for idx, (t,tau) in enumerate(abscissa):\n",
    "\n",
    "        Ratio_ror[:,idx] = Ratios_resamples[t][:,tau]\n",
    "\n",
    "    return abscissa, Ratio_ror"
   ]
  },
  {
   "cell_type": "code",
   "execution_count": 383,
   "metadata": {},
   "outputs": [],
   "source": [
    "from copy import deepcopy"
   ]
  },
  {
   "cell_type": "code",
   "execution_count": 384,
   "metadata": {},
   "outputs": [],
   "source": [
    "#cut_dict_old = { k:v for k,v in cut_dict.items()}\n",
    "#N_points_dict_old = { k:v for k,v in N_points_dict.items()}\n",
    "\n",
    "cut_dict_old = deepcopy(cut_dict)\n",
    "N_points_dict_old = deepcopy(N_points_dict)"
   ]
  },
  {
   "cell_type": "code",
   "execution_count": 385,
   "metadata": {},
   "outputs": [
    {
     "name": "stdout",
     "output_type": "stream",
     "text": [
      "{4: None, 5: (2, 4), 6: (2, 5), 7: (3, 5), 8: (3, 6), 10: (2, 9)}\n",
      "{4: None, 5: (2, 4), 6: (2, 5), 7: (3, 5), 8: (3, 6), 10: (2, 9)}\n"
     ]
    }
   ],
   "source": [
    "#we instanatiate the states of the fits we want to do\n",
    "fit_state = CA.FitState()\n",
    "\n",
    "for mix_term in [False,True]:\n",
    "\n",
    "    model = SymmetricRatioModel(number_states_sink=2,number_states_source=2, include_mix_term = mix_term)\n",
    "\n",
    "    flat_prior = model.flat_prior(sign=1 if mat_ele_avg.mean>0 else -1,dE_mean=dE.mean)\n",
    "\n",
    "    abscissa, Ratio_ror = abscissa_ratio_from_cutdict(cut_dict)\n",
    "\n",
    "    #first fit \n",
    "    #............\n",
    "    fit_result = CA.fit(\n",
    "                        abscissa = abscissa,\n",
    "                        ordinate_est = np.mean( Ratio_ror, axis = 0 ),\n",
    "                        ordinate_std = np.std ( Ratio_ror, axis = 0 ),\n",
    "                        ordinate_cov = np.cov ( Ratio_ror, rowvar = False ),\n",
    "                        resample_ordinate_est = Ratio_ror,\n",
    "                        resample_ordinate_std = np.std ( Ratio_ror, axis = 0 ),\n",
    "                        resample_ordinate_cov = np.cov ( Ratio_ror, rowvar = False ),\n",
    "                        \n",
    "                        central_value_fit = True,\n",
    "                        central_value_fit_correlated = True,\n",
    "                        resample_fit = True,\n",
    "                        resample_fit_correlated = True,\n",
    "                        resample_fit_resample_prior = False,\n",
    "                        resample_type = \"bst\",\n",
    "                        # Fitting infos\n",
    "                        model = model,\n",
    "                        #prior = model_prior,\n",
    "                        prior=flat_prior,\n",
    "                        #prior=guess_prior,\n",
    "                        )\n",
    "    fit_state.append(fit_result)\n",
    "\n",
    "    cut_dict = deepcopy(cut_dict_old)\n",
    "    N_points_dict = deepcopy(N_points_dict_old)\n",
    "    print(cut_dict_old)\n",
    "\n",
    "    while True:\n",
    "        \n",
    "        fit_done=False\n",
    "\n",
    "        currentT_list = list(cut_dict.keys())\n",
    "        cut_list = list(cut_dict.values())\n",
    "        Npoints_list = list(N_points_dict.values())\n",
    "\n",
    "        for i, (T, cuts, Npoints) in enumerate(zip(currentT_list,cut_list,Npoints_list)):\n",
    "            #i,T,cuts,Npoints\n",
    "\n",
    "            if i==0 and Npoints!=0: continue\n",
    "\n",
    "            if (i==0 and Npoints==0) or (Npoints < list(N_points_dict.values())[i-1] and Npoints <T):\n",
    "                \n",
    "                if Npoints!=0:\n",
    "                    cut_dict[T] = (cut_dict[T][0]-1,cut_dict[T][1]+1)\n",
    "                    N_points_dict[T] += 2\n",
    "                else:\n",
    "                    cut_dict[T] = (int(T/2), int(T/2)+1 + T%2)\n",
    "                    N_points_dict[T] += 1 + T%2\n",
    "\n",
    "                #do other fit.......\n",
    "                abscissa, Ratio_ror = abscissa_ratio_from_cutdict(cut_dict)\n",
    "\n",
    "                fit_result = CA.fit(\n",
    "                                    abscissa = abscissa,\n",
    "                                    ordinate_est = np.mean( Ratio_ror, axis = 0 ),\n",
    "                                    ordinate_std = np.std ( Ratio_ror, axis = 0 ),\n",
    "                                    ordinate_cov = np.cov ( Ratio_ror, rowvar = False ),\n",
    "                                    resample_ordinate_est = Ratio_ror,\n",
    "                                    resample_ordinate_std = np.std ( Ratio_ror, axis = 0 ),\n",
    "                                    resample_ordinate_cov = np.cov ( Ratio_ror, rowvar = False ),\n",
    "                                    \n",
    "                                    central_value_fit = True,\n",
    "                                    central_value_fit_correlated = True,\n",
    "                                    resample_fit = True,\n",
    "                                    resample_fit_correlated = True,\n",
    "                                    resample_fit_resample_prior = False,\n",
    "                                    resample_type = \"bst\",\n",
    "                                    # Fitting infos\n",
    "                                    model = model,\n",
    "                                    #prior = model_prior,\n",
    "                                    prior=flat_prior,\n",
    "                                    #prior=guess_prior,\n",
    "                                    )\n",
    "                fit_state.append(fit_result)\n",
    "                fit_done = True\n",
    "\n",
    "        if fit_done==False: break"
   ]
  },
  {
   "cell_type": "code",
   "execution_count": 386,
   "metadata": {},
   "outputs": [
    {
     "data": {
      "text/plain": [
       "{4: (2, 3), 5: (2, 4), 6: (2, 5), 7: (2, 6), 8: (2, 7), 10: (2, 9)}"
      ]
     },
     "execution_count": 386,
     "metadata": {},
     "output_type": "execute_result"
    }
   ],
   "source": [
    "cut_dict"
   ]
  },
  {
   "cell_type": "code",
   "execution_count": 387,
   "metadata": {},
   "outputs": [
    {
     "data": {
      "text/plain": [
       "FitState(fit_results=[FitResult[ ([4 2],[10  8]), Ndata=22, resample:bst]:\n",
       "  𝜒²/dof [dof] = 0.945 [22]\n",
       "  AIC = -15.9 \n",
       "    - A00: 0.0541(16)  [1(100)]\n",
       "    - dE1(0): 0.464(26)  [0.08(82)]\n",
       "    - A01: 0.0352(11)  [1(100)]\n",
       ", FitResult[ ([4 2],[10  8]), Ndata=20, resample:bst]:\n",
       "  𝜒²/dof [dof] = 0.901 [20]\n",
       "  AIC = -14.5 \n",
       "    - A00: 0.0547(17)  [1(100)]\n",
       "    - dE1(0): 0.470(28)  [0.08(82)]\n",
       "    - A01: 0.0349(11)  [1(100)]\n",
       ", FitResult[ ([4 2],[10  8]), Ndata=22, resample:bst]:\n",
       "  𝜒²/dof [dof] = 0.903 [22]\n",
       "  AIC = -13.8 \n",
       "    - A00: 0.0562(27)  [1(100)]\n",
       "    - dE1(0): 0.499(46)  [0.08(82)]\n",
       "    - A01: 0.0332(25)  [1(100)]\n",
       "    - A11: 0.0086(90)  [1(100)]\n",
       ", FitResult[ ([4 2],[10  8]), Ndata=22, resample:bst]:\n",
       "  𝜒²/dof [dof] = 0.903 [22]\n",
       "  AIC = -13.8 \n",
       "    - A00: 0.0562(27)  [1(100)]\n",
       "    - dE1(0): 0.499(46)  [0.08(82)]\n",
       "    - A01: 0.0332(25)  [1(100)]\n",
       "    - A11: 0.0086(90)  [1(100)]\n",
       ", FitResult[ ([4 2],[10  8]), Ndata=20, resample:bst]:\n",
       "  𝜒²/dof [dof] = 0.868 [20]\n",
       "  AIC = -12 \n",
       "    - A00: 0.0564(28)  [1(100)]\n",
       "    - dE1(0): 0.500(46)  [0.08(82)]\n",
       "    - A01: 0.0333(25)  [1(100)]\n",
       "    - A11: 0.0075(91)  [1(100)]\n",
       ", FitResult[ ([4 2],[10  8]), Ndata=18, resample:bst]:\n",
       "  𝜒²/dof [dof] = 0.91 [18]\n",
       "  AIC = -11.9 \n",
       "    - A00: 0.0552(17)  [1(100)]\n",
       "    - dE1(0): 0.483(30)  [0.08(82)]\n",
       "    - A01: 0.0351(11)  [1(100)]\n",
       ", FitResult[ ([5 2],[10  8]), Ndata=17, resample:bst]:\n",
       "  𝜒²/dof [dof] = 0.963 [17]\n",
       "  AIC = -9.79 \n",
       "    - A00: 0.0553(19)  [1(100)]\n",
       "    - dE1(0): 0.483(30)  [0.08(82)]\n",
       "    - A01: 0.0350(18)  [1(100)]\n",
       ", FitResult[ ([4 2],[10  8]), Ndata=18, resample:bst]:\n",
       "  𝜒²/dof [dof] = 0.909 [18]\n",
       "  AIC = -8.57 \n",
       "    - A00: 0.0554(32)  [1(100)]\n",
       "    - dE1(0): 0.488(47)  [0.08(82)]\n",
       "    - A01: 0.0350(32)  [1(100)]\n",
       "    - A11: 0.002(11)  [1(100)]\n",
       "], keys_all=['A00', 'dE1(0)', 'A01', 'A11'], param_avg={})"
      ]
     },
     "execution_count": 387,
     "metadata": {},
     "output_type": "execute_result"
    }
   ],
   "source": [
    "fit_state"
   ]
  },
  {
   "cell_type": "code",
   "execution_count": 388,
   "metadata": {},
   "outputs": [],
   "source": [
    "def weights_from_fitstate(fitstate):\n",
    "    AIC_array =np.array( [fitres.AIC for fitres in fitstate] )\n",
    "    AIC_min = np.min(AIC_array)\n",
    "    weights = np.exp(-0.5 * (AIC_array - AIC_min)) \n",
    "    return weights/np.sum(weights)"
   ]
  },
  {
   "cell_type": "code",
   "execution_count": 389,
   "metadata": {},
   "outputs": [
    {
     "data": {
      "text/plain": [
       "{'A00': 0.0550(22), 'dE1(0)': 0.478(36), 'A01': 0.0345(20), 'A11': 0.0082(99)}"
      ]
     },
     "execution_count": 389,
     "metadata": {},
     "output_type": "execute_result"
    },
    {
     "data": {
      "text/plain": [
       "0.1935(77)"
      ]
     },
     "execution_count": 389,
     "metadata": {},
     "output_type": "execute_result"
    },
    {
     "data": {
      "text/plain": [
       "812(62)"
      ]
     },
     "execution_count": 389,
     "metadata": {},
     "output_type": "execute_result"
    }
   ],
   "source": [
    "result_dict = {parm:gv.gvar(fit_state.model_average()[\"est\"][parm], fit_state.model_average()[\"err\"][parm]) for parm in fit_state.model_average()[\"est\"] }\n",
    "\n",
    "result_dict\n",
    "\n",
    "result_dict[\"A00\"] / Klist[iop]\n",
    "\n",
    "opAnalyzer.lattice_to_MeV(result_dict['dE1(0)'])"
   ]
  },
  {
   "cell_type": "code",
   "execution_count": 390,
   "metadata": {},
   "outputs": [
    {
     "data": {
      "text/plain": [
       "array([0.39224896, 0.19535486, 0.13686859, 0.13686859, 0.05582909,\n",
       "       0.05402398, 0.01866826, 0.01013766])"
      ]
     },
     "execution_count": 390,
     "metadata": {},
     "output_type": "execute_result"
    }
   ],
   "source": [
    "weights_from_fitstate(fit_state)"
   ]
  },
  {
   "cell_type": "code",
   "execution_count": 391,
   "metadata": {},
   "outputs": [
    {
     "data": {
      "image/png": "[encoded data removed]",
      "text/plain": [
       "<Figure size 640x480 with 1 Axes>"
      ]
     },
     "metadata": {},
     "output_type": "display_data"
    }
   ],
   "source": [
    "COLORS = [\"red\",\"blue\",\"green\", \"orange\", \"purple\", \"brown\", \"pink\", \"black\"]\n",
    "\n",
    "_=plt.figure()\n",
    "\n",
    "for iT, T in enumerate(Tlist):\n",
    "\n",
    "    norm_K = Klist[iop].mean\n",
    "    taus = np.arange(1,T)\n",
    "\n",
    "    _=plt.errorbar(\n",
    "        taus - T/2,\n",
    "        np.mean( Ratios_resamples[T][:,1:-1], axis = 0 )/norm_K,\n",
    "        np.std ( Ratios_resamples[T][:,1:-1], axis = 0 )/np.abs(norm_K),\n",
    "        fmt = '.:',\n",
    "        capsize = 2,\n",
    "        label = f\"${T=}$\",\n",
    "        color = COLORS[iT]\n",
    "    )\n",
    "\n",
    "    if cut_dict[T] is not None:\n",
    "\n",
    "        eps=0.1\n",
    "        cont_taus = np.linspace(cut_dict[T][0]-eps, cut_dict[T][1]-1+eps,100)\n",
    "\n",
    "        abscissa = np.array([\n",
    "            (T, tau) for tau in cont_taus\n",
    "        ])\n",
    "\n",
    "        fit_ordinate_array = np.array( [ gv.gvar( fitresult.eval( abscissa )[\"est\"], fitresult.eval( abscissa )[\"err\"] ) for fitresult in fit_state] )\n",
    "        fit_ordinate = np.average(fit_ordinate_array, axis=0, weights=weights_from_fitstate(fit_state))\n",
    "\n",
    "        ordinate_mean = np.array( [ordinate.mean for ordinate in fit_ordinate] )\n",
    "        ordinate_high = np.array( [ordinate.mean + ordinate.sdev for ordinate in fit_ordinate] )\n",
    "        ordinate_low = np.array( [ordinate.mean - ordinate.sdev for ordinate in fit_ordinate] )\n",
    "\n",
    "        _=plt.plot(cont_taus-T/2, ordinate_mean / norm_K, color = COLORS[iT])\n",
    "        \n",
    "        _=plt.fill_between(\n",
    "            cont_taus-T/2, \n",
    "            ordinate_high / norm_K,\n",
    "            ordinate_low / norm_K,\n",
    "            color = COLORS[iT],\n",
    "            alpha = 0.2\n",
    "        )\n",
    "\n",
    "_=plt.xlabel(r\"$\\tau - t/2$\")\n",
    "_=plt.ylabel(r\"$R(t,\\tau)$\")\n",
    "_=plt.show()"
   ]
  }
 ],
 "metadata": {
  "kernelspec": {
   "display_name": ".venv",
   "language": "python",
   "name": "python3"
  },
  "language_info": {
   "codemirror_mode": {
    "name": "ipython",
    "version": 3
   },
   "file_extension": ".py",
   "mimetype": "text/x-python",
   "name": "python",
   "nbconvert_exporter": "python",
   "pygments_lexer": "ipython3",
   "version": "3.11.9"
  }
 },
 "nbformat": 4,
 "nbformat_minor": 2
}
