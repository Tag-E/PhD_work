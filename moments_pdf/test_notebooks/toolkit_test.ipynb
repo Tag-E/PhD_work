{
 "cells": [
  {
   "cell_type": "markdown",
   "metadata": {},
   "source": [
    "# Library Imports"
   ]
  },
  {
   "cell_type": "code",
   "execution_count": 1,
   "metadata": {},
   "outputs": [],
   "source": [
    "from IPython.core.interactiveshell import InteractiveShell\n",
    "InteractiveShell.ast_node_interactivity = \"all\""
   ]
  },
  {
   "cell_type": "code",
   "execution_count": 2,
   "metadata": {},
   "outputs": [],
   "source": [
    "import h5py as h5 #to read the correlator\n",
    "import numpy as np #to do everything\n",
    "from pathlib import Path #to read the file's names\n",
    "from typing import Any, Callable #to use annotations for functions\n",
    "import matplotlib.pyplot as plt #to plot stuff\n",
    "from tqdm import tqdm #for a nice view of for loops with loading bars\n",
    "import os #to access enviromental variables"
   ]
  },
  {
   "cell_type": "code",
   "execution_count": 3,
   "metadata": {},
   "outputs": [],
   "source": [
    "import sys\n",
    "\n",
    "sys.path.insert(1, '../')\n",
    "\n",
    "from moments_toolkit import moments_toolkit"
   ]
  },
  {
   "cell_type": "markdown",
   "metadata": {},
   "source": [
    "# First tests"
   ]
  },
  {
   "cell_type": "code",
   "execution_count": 4,
   "metadata": {},
   "outputs": [],
   "source": [
    "#p3fold = os.environ['mount_point_path'] + \"48c48/binned_cut12_hmz370_BMW/3PointCorrelation/\"\n",
    "#p2fold = os.environ['mount_point_path'] + \"48c48/binned_cut12_hmz370_BMW/2PointCorrelation/\"\n",
    "\n",
    "p3fold = os.environ['mount_point_path'] + \"48c48/binned_1012_hmz370_BMW/3PointCorrelation/\"\n",
    "p2fold = os.environ['mount_point_path'] + \"48c48/binned_1012_hmz370_BMW/2PointCorrelation/\""
   ]
  },
  {
   "cell_type": "code",
   "execution_count": 5,
   "metadata": {},
   "outputs": [],
   "source": [
    "#p = Path(p3fold)#.glob('**/*')\n",
    "#T_list = sorted( [int(x.name[1:]) for x in p.iterdir() if x.is_dir() and x.name.startswith('T')] )\n",
    "#bb_pathList = [f\"{p3fold}T{T}\" for T in T_list]\n",
    "#\n",
    "#T_list\n",
    "#bb_pathList\n"
   ]
  },
  {
   "cell_type": "code",
   "execution_count": 6,
   "metadata": {},
   "outputs": [],
   "source": [
    "#sorted( [str(f.absolute()) for f in folders] )"
   ]
  },
  {
   "cell_type": "code",
   "execution_count": 7,
   "metadata": {},
   "outputs": [
    {
     "name": "stdout",
     "output_type": "stream",
     "text": [
      "\n",
      "Initializing the moments_toolkit class instance...\n",
      "\n",
      "\n",
      "\n",
      "Reading data for T = 6 ...\n",
      "\n",
      "\n",
      "Initializing the building block class instance...\n",
      "\n",
      "\n",
      "Looping over the configurations to read the building blocks from the h5 files...\n",
      "\n"
     ]
    },
    {
     "name": "stderr",
     "output_type": "stream",
     "text": [
      "100%|██████████| 7/7 [00:15<00:00,  2.26s/it]\n"
     ]
    },
    {
     "name": "stdout",
     "output_type": "stream",
     "text": [
      "\n",
      "Looping over the configurations to read the 2-point correlators from the h5 files...\n",
      "\n"
     ]
    },
    {
     "name": "stderr",
     "output_type": "stream",
     "text": [
      "100%|██████████| 7/7 [00:00<00:00, 85.08it/s]\n"
     ]
    },
    {
     "name": "stdout",
     "output_type": "stream",
     "text": [
      "\n",
      "\n",
      "Reading data for T = 7 ...\n",
      "\n",
      "\n",
      "Initializing the building block class instance...\n",
      "\n",
      "\n",
      "Looping over the configurations to read the building blocks from the h5 files...\n",
      "\n"
     ]
    },
    {
     "name": "stderr",
     "output_type": "stream",
     "text": [
      "100%|██████████| 7/7 [00:14<00:00,  2.08s/it]\n"
     ]
    },
    {
     "name": "stdout",
     "output_type": "stream",
     "text": [
      "\n",
      "Two-point correlators retrieved from previous class instance...\n",
      "\n",
      "\n",
      "\n",
      "Reading data for T = 8 ...\n",
      "\n",
      "\n",
      "Initializing the building block class instance...\n",
      "\n",
      "\n",
      "Looping over the configurations to read the building blocks from the h5 files...\n",
      "\n"
     ]
    },
    {
     "name": "stderr",
     "output_type": "stream",
     "text": [
      "100%|██████████| 7/7 [00:16<00:00,  2.32s/it]\n"
     ]
    },
    {
     "name": "stdout",
     "output_type": "stream",
     "text": [
      "\n",
      "Two-point correlators retrieved from previous class instance...\n",
      "\n",
      "\n",
      "\n",
      "Reading data for T = 10 ...\n",
      "\n",
      "\n",
      "Initializing the building block class instance...\n",
      "\n",
      "\n",
      "Looping over the configurations to read the building blocks from the h5 files...\n",
      "\n"
     ]
    },
    {
     "name": "stderr",
     "output_type": "stream",
     "text": [
      "100%|██████████| 7/7 [00:18<00:00,  2.71s/it]\n"
     ]
    },
    {
     "name": "stdout",
     "output_type": "stream",
     "text": [
      "\n",
      "Two-point correlators retrieved from previous class instance...\n",
      "\n",
      "\n",
      "\n",
      "Reading data for T = 12 ...\n",
      "\n",
      "\n",
      "Initializing the building block class instance...\n",
      "\n",
      "\n",
      "Looping over the configurations to read the building blocks from the h5 files...\n",
      "\n"
     ]
    },
    {
     "name": "stderr",
     "output_type": "stream",
     "text": [
      "100%|██████████| 7/7 [00:16<00:00,  2.35s/it]\n"
     ]
    },
    {
     "name": "stdout",
     "output_type": "stream",
     "text": [
      "\n",
      "Two-point correlators retrieved from previous class instance...\n",
      "\n",
      "\n",
      "Building the list of all available operators...\n",
      "\n",
      "\n",
      "Class Initialization Complete!\n",
      "\n"
     ]
    }
   ],
   "source": [
    "ok = moments_toolkit(p3fold,p2fold,maxConf=7,verbose=True)"
   ]
  },
  {
   "cell_type": "code",
   "execution_count": 8,
   "metadata": {},
   "outputs": [
    {
     "data": {
      "text/plain": [
       "[7, 7, 7, 7, 7]"
      ]
     },
     "execution_count": 8,
     "metadata": {},
     "output_type": "execute_result"
    }
   ],
   "source": [
    "bblist = ok.bb_list\n",
    "\n",
    "[bb.nconf for bb in bblist]"
   ]
  },
  {
   "cell_type": "code",
   "execution_count": 9,
   "metadata": {},
   "outputs": [
    {
     "name": "stdout",
     "output_type": "stream",
     "text": [
      "\n",
      "Generating the operators catalogue ...\n",
      "\n",
      "\n",
      "Operators catalogue generated\n",
      "\n",
      "\n",
      "Operators catalogue shown\n",
      "\n",
      "\n",
      "Operators catalogue available in operator_catalogue.pdf\n",
      "\n"
     ]
    }
   ],
   "source": [
    "ok.operator_show(show=True, verbose=True)"
   ]
  },
  {
   "cell_type": "code",
   "execution_count": 10,
   "metadata": {},
   "outputs": [],
   "source": [
    "#ok.operator_show(remove_pdf=True, verbose=True)"
   ]
  },
  {
   "cell_type": "code",
   "execution_count": 11,
   "metadata": {},
   "outputs": [
    {
     "data": {
      "text/latex": [
       "$\\displaystyle x^{3} + x$"
      ],
      "text/plain": [
       "x**3 + x"
      ]
     },
     "execution_count": 11,
     "metadata": {},
     "output_type": "execute_result"
    },
    {
     "data": {
      "text/latex": [
       "$\\displaystyle x + y$"
      ],
      "text/plain": [
       "x + y"
      ]
     },
     "execution_count": 11,
     "metadata": {},
     "output_type": "execute_result"
    },
    {
     "data": {
      "text/latex": [
       "$\\displaystyle x^{3} + x$"
      ],
      "text/plain": [
       "x**3 + x"
      ]
     },
     "execution_count": 11,
     "metadata": {},
     "output_type": "execute_result"
    }
   ],
   "source": [
    "from sympy import Symbol\n",
    "\n",
    "x = Symbol('x')\n",
    "y = Symbol('y')\n",
    "\n",
    "f = x**3 + x\n",
    "\n",
    "f.simplify()\n",
    "\n",
    "f.subs({x**3:y})\n",
    "\n",
    "f"
   ]
  },
  {
   "cell_type": "code",
   "execution_count": 12,
   "metadata": {},
   "outputs": [
    {
     "data": {
      "text/plain": [
       "[2, 3, 4, 5, 6, 7, 8, 9]"
      ]
     },
     "execution_count": 12,
     "metadata": {},
     "output_type": "execute_result"
    }
   ],
   "source": [
    "[i for i in range(2,10)]"
   ]
  },
  {
   "cell_type": "code",
   "execution_count": 13,
   "metadata": {},
   "outputs": [
    {
     "data": {
      "text/plain": [
       "sympy.core.add.Add"
      ]
     },
     "execution_count": 13,
     "metadata": {},
     "output_type": "execute_result"
    }
   ],
   "source": [
    "type(f)"
   ]
  },
  {
   "cell_type": "code",
   "execution_count": 14,
   "metadata": {},
   "outputs": [],
   "source": [
    "op2 = ok.operator_list[1]"
   ]
  },
  {
   "cell_type": "code",
   "execution_count": 15,
   "metadata": {},
   "outputs": [
    {
     "data": {
      "text/plain": [
       "2"
      ]
     },
     "execution_count": 15,
     "metadata": {},
     "output_type": "execute_result"
    }
   ],
   "source": [
    "op2.id"
   ]
  },
  {
   "cell_type": "code",
   "execution_count": 16,
   "metadata": {},
   "outputs": [
    {
     "data": {
      "text/plain": [
       "224"
      ]
     },
     "execution_count": 16,
     "metadata": {},
     "output_type": "execute_result"
    }
   ],
   "source": [
    "len(ok.operator_list)"
   ]
  },
  {
   "cell_type": "code",
   "execution_count": 17,
   "metadata": {},
   "outputs": [
    {
     "data": {
      "text/plain": [
       "moments_toolkit.moments_toolkit"
      ]
     },
     "execution_count": 17,
     "metadata": {},
     "output_type": "execute_result"
    }
   ],
   "source": [
    "type(ok)"
   ]
  },
  {
   "cell_type": "code",
   "execution_count": 18,
   "metadata": {},
   "outputs": [
    {
     "data": {
      "text/plain": [
       "list"
      ]
     },
     "execution_count": 18,
     "metadata": {},
     "output_type": "execute_result"
    },
    {
     "data": {
      "text/plain": [
       "int"
      ]
     },
     "execution_count": 18,
     "metadata": {},
     "output_type": "execute_result"
    },
    {
     "name": "stdout",
     "output_type": "stream",
     "text": [
      "2\n"
     ]
    }
   ],
   "source": [
    "type(ok.operator_list)\n",
    "\n",
    "type(ok.operator_list[1].id)\n",
    "\n",
    "print(ok.operator_list[1].id)"
   ]
  },
  {
   "cell_type": "code",
   "execution_count": 19,
   "metadata": {},
   "outputs": [
    {
     "data": {
      "text/latex": [
       "$\\displaystyle 1.0 {{O}_{1, 1}} + 1.0 {{O}_{2, 2}} + 1.0 {{O}_{3, 3}} - 3.0 {{O}_{4, 4}}$"
      ],
      "text/plain": [
       "1.0*O[1, 1] + 1.0*O[2, 2] + 1.0*O[3, 3] - 3.0*O[4, 4]"
      ]
     },
     "execution_count": 19,
     "metadata": {},
     "output_type": "execute_result"
    }
   ],
   "source": [
    "ok.operator_list[1].O"
   ]
  },
  {
   "cell_type": "code",
   "execution_count": 20,
   "metadata": {},
   "outputs": [
    {
     "data": {
      "text/plain": [
       "(224,)"
      ]
     },
     "execution_count": 20,
     "metadata": {},
     "output_type": "execute_result"
    }
   ],
   "source": [
    "np.shape(ok.operator_list)"
   ]
  },
  {
   "cell_type": "code",
   "execution_count": 21,
   "metadata": {},
   "outputs": [],
   "source": [
    "ok.selected_op = []\n",
    "#ok.select_operator(2,11)\n",
    "ok.select_operator(28,32)"
   ]
  },
  {
   "cell_type": "code",
   "execution_count": 22,
   "metadata": {},
   "outputs": [
    {
     "data": {
      "text/latex": [
       "$\\displaystyle \\frac{- E(p)^{3} - 2 E(p)^{2} m_{N} - E(p) m_{N}^{2} + E(p) p_{1}^{2} + E(p) p_{2}^{2} - 3 E(p) p_{3}^{2} - 2 m_{N} p_{3}^{2}}{2 E(p) \\left(E(p) + m_{N}\\right)}$"
      ],
      "text/plain": [
       "(-E(p)**3 - 2*E(p)**2*m_N - E(p)*m_N**2 + E(p)*p_1**2 + E(p)*p_2**2 - 3*E(p)*p_3**2 - 2*m_N*p_3**2)/(2*E(p)*(E(p) + m_N))"
      ]
     },
     "execution_count": 22,
     "metadata": {},
     "output_type": "execute_result"
    }
   ],
   "source": [
    "ok.selected_op[1].K"
   ]
  },
  {
   "cell_type": "code",
   "execution_count": 23,
   "metadata": {},
   "outputs": [
    {
     "data": {
      "text/plain": [
       "sympy.core.add.Add"
      ]
     },
     "execution_count": 23,
     "metadata": {},
     "output_type": "execute_result"
    },
    {
     "data": {
      "text/plain": [
       "sympy.core.mul.Mul"
      ]
     },
     "execution_count": 23,
     "metadata": {},
     "output_type": "execute_result"
    }
   ],
   "source": [
    "type(ok.selected_op[1].O)\n",
    "type(ok.selected_op[1].K)"
   ]
  },
  {
   "cell_type": "code",
   "execution_count": 24,
   "metadata": {},
   "outputs": [
    {
     "data": {
      "text/latex": [
       "$\\displaystyle 1.0 {{O}_{1, 3}} + 1.0 {{O}_{3, 1}}$"
      ],
      "text/plain": [
       "1.0*O[1, 3] + 1.0*O[3, 1]"
      ]
     },
     "metadata": {},
     "output_type": "display_data"
    },
    {
     "data": {
      "text/latex": [
       "$\\displaystyle 1.0 {{O}_{3, 4}} + 1.0 {{O}_{4, 3}}$"
      ],
      "text/plain": [
       "1.0*O[3, 4] + 1.0*O[4, 3]"
      ]
     },
     "metadata": {},
     "output_type": "display_data"
    },
    {
     "data": {
      "text/plain": [
       "[None, None]"
      ]
     },
     "execution_count": 24,
     "metadata": {},
     "output_type": "execute_result"
    }
   ],
   "source": [
    "[display(l.O) for l in ok.selected_op]"
   ]
  },
  {
   "cell_type": "code",
   "execution_count": 25,
   "metadata": {},
   "outputs": [
    {
     "name": "stdout",
     "output_type": "stream",
     "text": [
      "1.0⋅O[3, 4] + 1.0⋅O[4, 3]\n"
     ]
    }
   ],
   "source": [
    "import sympy as sym\n",
    "sym.pprint(ok.selected_op[1].O)"
   ]
  },
  {
   "cell_type": "code",
   "execution_count": 26,
   "metadata": {},
   "outputs": [
    {
     "data": {
      "text/plain": [
       "[O[1, 3] + O[3, 1], O[3, 4] + O[4, 3]]"
      ]
     },
     "execution_count": 26,
     "metadata": {},
     "output_type": "execute_result"
    }
   ],
   "source": [
    "ok.selected_op"
   ]
  },
  {
   "cell_type": "code",
   "execution_count": 27,
   "metadata": {},
   "outputs": [
    {
     "data": {
      "text/plain": [
       "(0, 5, 5)"
      ]
     },
     "execution_count": 27,
     "metadata": {},
     "output_type": "execute_result"
    }
   ],
   "source": [
    "np.shape( np.zeros(shape=(0,5,5),dtype=complex) )"
   ]
  },
  {
   "cell_type": "code",
   "execution_count": 28,
   "metadata": {},
   "outputs": [
    {
     "name": "stderr",
     "output_type": "stream",
     "text": [
      "/wsgjsc/home/taggi1/workspace_folders/PhD_work/moments_pdf/test_notebooks/../moments_toolkit.py:615: ComplexWarning: Casting complex values to real discards the imaginary part\n",
      "  covmat[tuple(s)] = np.expand_dims( (nresamp-1)/nresamp * np.sum( (  np.take(obs_resamp,t1,axis=time_axis) - np.take(jack_mean,t1,axis=new_time_axis) ) * (  np.take(obs_resamp,t2,axis=time_axis) - np.take(jack_mean,t2,axis=new_time_axis) ), axis=0 ),\n"
     ]
    }
   ],
   "source": [
    "okR, _,_,_ = ok.get_R()"
   ]
  },
  {
   "cell_type": "code",
   "execution_count": 29,
   "metadata": {},
   "outputs": [
    {
     "data": {
      "text/plain": [
       "array([-0.12857833+0.02184363j, -0.05500077+0.06200085j,\n",
       "       -0.02850342+0.06846329j, -0.01334324+0.08485101j,\n",
       "        0.02092891+0.09253396j,  0.01905115-0.01277117j,\n",
       "       -0.0408818 -0.05416485j])"
      ]
     },
     "execution_count": 29,
     "metadata": {},
     "output_type": "execute_result"
    }
   ],
   "source": [
    "okR[0,0,0,:ok.T_list[0]+1]"
   ]
  },
  {
   "cell_type": "code",
   "execution_count": 30,
   "metadata": {},
   "outputs": [
    {
     "data": {
      "text/plain": [
       "(2, 7, 5)"
      ]
     },
     "execution_count": 30,
     "metadata": {},
     "output_type": "execute_result"
    }
   ],
   "source": [
    "np.shape(okR)[:-1]"
   ]
  },
  {
   "cell_type": "code",
   "execution_count": 31,
   "metadata": {},
   "outputs": [
    {
     "data": {
      "text/plain": [
       "(2, 7, 5, 13)"
      ]
     },
     "execution_count": 31,
     "metadata": {},
     "output_type": "execute_result"
    },
    {
     "data": {
      "text/plain": [
       "np.True_"
      ]
     },
     "execution_count": 31,
     "metadata": {},
     "output_type": "execute_result"
    }
   ],
   "source": [
    "np.shape(okR)\n",
    "\n",
    "(np.take(okR,1,axis=3) == okR[:,:,:,1]).all()"
   ]
  },
  {
   "cell_type": "code",
   "execution_count": 32,
   "metadata": {},
   "outputs": [
    {
     "data": {
      "text/plain": [
       "(2, 7, 5, 13, 1)"
      ]
     },
     "execution_count": 32,
     "metadata": {},
     "output_type": "execute_result"
    }
   ],
   "source": [
    "np.shape(okR) + (1,)"
   ]
  },
  {
   "cell_type": "code",
   "execution_count": 33,
   "metadata": {},
   "outputs": [
    {
     "data": {
      "text/plain": [
       "array([[[0., 0., 0., 0., 0., 0., 0., 0.],\n",
       "        [0., 0., 0., 0., 0., 0., 0., 0.],\n",
       "        [0., 0., 0., 0., 0., 0., 0., 0.],\n",
       "        [0., 0., 0., 0., 0., 0., 0., 0.]],\n",
       "\n",
       "       [[0., 0., 0., 0., 0., 0., 0., 0.],\n",
       "        [0., 0., 0., 0., 0., 0., 0., 0.],\n",
       "        [0., 0., 0., 0., 0., 0., 0., 0.],\n",
       "        [0., 0., 0., 0., 0., 0., 0., 0.]],\n",
       "\n",
       "       [[0., 0., 0., 0., 0., 0., 0., 0.],\n",
       "        [0., 0., 0., 0., 0., 0., 0., 0.],\n",
       "        [0., 0., 0., 0., 0., 0., 0., 0.],\n",
       "        [0., 0., 0., 0., 0., 0., 0., 0.]]])"
      ]
     },
     "execution_count": 33,
     "metadata": {},
     "output_type": "execute_result"
    }
   ],
   "source": [
    "newA = np.zeros(shape=(3,4,6,8))\n",
    "\n",
    "#np.take(newA,3,axis=2) = np.ones(shape=(3,4,8))\n",
    "tmp = np.take(newA,5,axis=2)\n",
    "tmp = np.ones(shape=(3,4,8))\n",
    "\n",
    "newA[:,:,5,:]"
   ]
  },
  {
   "cell_type": "code",
   "execution_count": 34,
   "metadata": {},
   "outputs": [],
   "source": [
    "#np.shape( np.indices(dimensions=(3,4,6,8))"
   ]
  },
  {
   "cell_type": "code",
   "execution_count": 35,
   "metadata": {},
   "outputs": [
    {
     "data": {
      "text/plain": [
       "[slice(None, None, None),\n",
       " slice(None, None, None),\n",
       " slice(None, None, None),\n",
       " slice(None, None, None)]"
      ]
     },
     "execution_count": 35,
     "metadata": {},
     "output_type": "execute_result"
    }
   ],
   "source": [
    "s = [slice(None)]*4\n",
    "s\n",
    "\n"
   ]
  },
  {
   "cell_type": "code",
   "execution_count": 36,
   "metadata": {},
   "outputs": [
    {
     "data": {
      "text/plain": [
       "[slice(None, None, None),\n",
       " slice(None, None, None),\n",
       " slice(4, 5, None),\n",
       " slice(None, None, None)]"
      ]
     },
     "execution_count": 36,
     "metadata": {},
     "output_type": "execute_result"
    },
    {
     "data": {
      "text/plain": [
       "[slice(None, None, None),\n",
       " slice(2, 3, None),\n",
       " slice(4, 5, None),\n",
       " slice(None, None, None)]"
      ]
     },
     "execution_count": 36,
     "metadata": {},
     "output_type": "execute_result"
    }
   ],
   "source": [
    "s = [slice(None)]*4\n",
    "axe1 = 2\n",
    "idx = 4\n",
    "s[axe1] = slice(idx,idx+1)\n",
    "s\n",
    "\n",
    "axe2 = 1\n",
    "idx = 2\n",
    "s[axe2] = slice(idx,idx+1)\n",
    "s\n",
    "\n",
    "newA[tuple(s)] = np.expand_dims( np.ones(shape=(3,8)) , [axe1,axe2])"
   ]
  },
  {
   "cell_type": "code",
   "execution_count": 37,
   "metadata": {},
   "outputs": [
    {
     "data": {
      "text/plain": [
       "array([[[0., 0., 0., 0., 0., 0., 0., 0.],\n",
       "        [0., 0., 0., 0., 0., 0., 0., 0.],\n",
       "        [1., 1., 1., 1., 1., 1., 1., 1.],\n",
       "        [0., 0., 0., 0., 0., 0., 0., 0.]],\n",
       "\n",
       "       [[0., 0., 0., 0., 0., 0., 0., 0.],\n",
       "        [0., 0., 0., 0., 0., 0., 0., 0.],\n",
       "        [1., 1., 1., 1., 1., 1., 1., 1.],\n",
       "        [0., 0., 0., 0., 0., 0., 0., 0.]],\n",
       "\n",
       "       [[0., 0., 0., 0., 0., 0., 0., 0.],\n",
       "        [0., 0., 0., 0., 0., 0., 0., 0.],\n",
       "        [1., 1., 1., 1., 1., 1., 1., 1.],\n",
       "        [0., 0., 0., 0., 0., 0., 0., 0.]]])"
      ]
     },
     "execution_count": 37,
     "metadata": {},
     "output_type": "execute_result"
    }
   ],
   "source": [
    "newA[:,:,4,:]"
   ]
  },
  {
   "cell_type": "code",
   "execution_count": 38,
   "metadata": {},
   "outputs": [
    {
     "data": {
      "text/plain": [
       "[slice(None, None, None),\n",
       " slice(None, None, None),\n",
       " slice(None, None, None),\n",
       " slice(None, None, None)]"
      ]
     },
     "execution_count": 38,
     "metadata": {},
     "output_type": "execute_result"
    },
    {
     "data": {
      "text/plain": [
       "slice(4, 5, None)"
      ]
     },
     "execution_count": 38,
     "metadata": {},
     "output_type": "execute_result"
    },
    {
     "data": {
      "text/plain": [
       "[slice(None, None, None),\n",
       " slice(None, None, None),\n",
       " slice(4, 5, None),\n",
       " slice(None, None, None)]"
      ]
     },
     "execution_count": 38,
     "metadata": {},
     "output_type": "execute_result"
    },
    {
     "data": {
      "text/plain": [
       "array([[[1., 1., 1., 1., 1., 1., 1., 1.],\n",
       "        [1., 1., 1., 1., 1., 1., 1., 1.],\n",
       "        [1., 1., 1., 1., 1., 1., 1., 1.],\n",
       "        [1., 1., 1., 1., 1., 1., 1., 1.]],\n",
       "\n",
       "       [[1., 1., 1., 1., 1., 1., 1., 1.],\n",
       "        [1., 1., 1., 1., 1., 1., 1., 1.],\n",
       "        [1., 1., 1., 1., 1., 1., 1., 1.],\n",
       "        [1., 1., 1., 1., 1., 1., 1., 1.]],\n",
       "\n",
       "       [[1., 1., 1., 1., 1., 1., 1., 1.],\n",
       "        [1., 1., 1., 1., 1., 1., 1., 1.],\n",
       "        [1., 1., 1., 1., 1., 1., 1., 1.],\n",
       "        [1., 1., 1., 1., 1., 1., 1., 1.]]])"
      ]
     },
     "execution_count": 38,
     "metadata": {},
     "output_type": "execute_result"
    }
   ],
   "source": [
    "s = [slice(None)]*4\n",
    "s\n",
    "\n",
    "axe = 2\n",
    "idx = 4\n",
    "\n",
    "slice(idx,idx+1)\n",
    "\n",
    "s[axe] = slice(idx,idx+1)\n",
    "\n",
    "s\n",
    "\n",
    "\n",
    "newA[tuple(s)] = np.expand_dims( np.ones(shape=(3,4,8)) , axe)\n",
    "\n",
    "newA[:,:,4,:]"
   ]
  },
  {
   "cell_type": "code",
   "execution_count": 39,
   "metadata": {},
   "outputs": [],
   "source": [
    "import itertools as it"
   ]
  },
  {
   "cell_type": "code",
   "execution_count": 40,
   "metadata": {},
   "outputs": [
    {
     "data": {
      "text/plain": [
       "(0, 1)"
      ]
     },
     "execution_count": 40,
     "metadata": {},
     "output_type": "execute_result"
    },
    {
     "data": {
      "text/plain": [
       "(0, 2)"
      ]
     },
     "execution_count": 40,
     "metadata": {},
     "output_type": "execute_result"
    },
    {
     "data": {
      "text/plain": [
       "(1, 2)"
      ]
     },
     "execution_count": 40,
     "metadata": {},
     "output_type": "execute_result"
    }
   ],
   "source": [
    "for i in it.combinations(range(3),2):\n",
    "    i"
   ]
  },
  {
   "cell_type": "code",
   "execution_count": 41,
   "metadata": {},
   "outputs": [
    {
     "data": {
      "text/plain": [
       "array([[ 0.14585189+0.04134415j,  0.14730704+0.02915417j,\n",
       "        -0.01422741-0.09725439j, -0.10744809-0.23647603j,\n",
       "        -0.29777986-0.47362247j],\n",
       "       [-0.06797847-3.12620165j, -0.06617516-3.70782156j,\n",
       "         0.18977469-4.00303899j,  0.56392749-3.94643911j,\n",
       "         1.24803452-4.30611871j]])"
      ]
     },
     "execution_count": 41,
     "metadata": {},
     "output_type": "execute_result"
    },
    {
     "data": {
      "text/plain": [
       "array([[ 0.14585189+0.04134415j,  0.14730704+0.02915417j,\n",
       "        -0.01422741-0.09725439j, -0.10744809-0.23647603j,\n",
       "        -0.29777986-0.47362247j],\n",
       "       [-0.06797847-3.12620165j, -0.06617516-3.70782156j,\n",
       "         0.18977469-4.00303899j,  0.56392749-3.94643911j,\n",
       "         1.24803452-4.30611871j]])"
      ]
     },
     "execution_count": 41,
     "metadata": {},
     "output_type": "execute_result"
    },
    {
     "data": {
      "text/plain": [
       "array([[ 0.14585189+0.04134415j,  0.14730704+0.02915417j,\n",
       "        -0.01422741-0.09725439j, -0.10744809-0.23647603j,\n",
       "        -0.29777986-0.47362247j],\n",
       "       [-0.06797847-3.12620165j, -0.06617516-3.70782156j,\n",
       "         0.18977469-4.00303899j,  0.56392749-3.94643911j,\n",
       "         1.24803452-4.30611871j]])"
      ]
     },
     "execution_count": 41,
     "metadata": {},
     "output_type": "execute_result"
    },
    {
     "data": {
      "text/plain": [
       "(2, 5)"
      ]
     },
     "execution_count": 41,
     "metadata": {},
     "output_type": "execute_result"
    }
   ],
   "source": [
    "S1, Smean1, Sstd1 = ok.get_S(1)\n",
    "Smean1\n",
    "S2, Smean2, Sstd2 = ok.get_S(2)\n",
    "Smean1\n",
    "S3, Smean3, Sstd3 = ok.get_S(3)\n",
    "Smean1\n",
    "np.shape(Smean1)"
   ]
  },
  {
   "cell_type": "code",
   "execution_count": 42,
   "metadata": {},
   "outputs": [
    {
     "data": {
      "text/plain": [
       "(2, 7, 5)"
      ]
     },
     "execution_count": 42,
     "metadata": {},
     "output_type": "execute_result"
    },
    {
     "data": {
      "text/plain": [
       "(2, 5)"
      ]
     },
     "execution_count": 42,
     "metadata": {},
     "output_type": "execute_result"
    },
    {
     "data": {
      "text/plain": [
       "(2, 5)"
      ]
     },
     "execution_count": 42,
     "metadata": {},
     "output_type": "execute_result"
    }
   ],
   "source": [
    "np.shape(S1)\n",
    "np.shape(Smean1)\n",
    "np.shape(Sstd1)"
   ]
  },
  {
   "cell_type": "code",
   "execution_count": 43,
   "metadata": {},
   "outputs": [
    {
     "name": "stderr",
     "output_type": "stream",
     "text": [
      "/wsgjsc/home/taggi1/workspace_folders/PhD_work/.venv/lib64/python3.11/site-packages/matplotlib/cbook.py:1709: ComplexWarning: Casting complex values to real discards the imaginary part\n",
      "  return math.isfinite(val)\n",
      "/wsgjsc/home/taggi1/workspace_folders/PhD_work/.venv/lib64/python3.11/site-packages/numpy/ma/core.py:3463: ComplexWarning: Casting complex values to real discards the imaginary part\n",
      "  _data[indx] = dval\n"
     ]
    },
    {
     "data": {
      "image/png": "[encoded data removed]",
      "text/plain": [
       "<Figure size 3200x1400 with 1 Axes>"
      ]
     },
     "metadata": {},
     "output_type": "display_data"
    },
    {
     "data": {
      "image/png": "[encoded data removed]",
      "text/plain": [
       "<Figure size 3200x1400 with 1 Axes>"
      ]
     },
     "metadata": {},
     "output_type": "display_data"
    }
   ],
   "source": [
    "ok.plot_R()"
   ]
  },
  {
   "cell_type": "code",
   "execution_count": 44,
   "metadata": {},
   "outputs": [],
   "source": [
    "from moments_toolkit import jackknife"
   ]
  },
  {
   "cell_type": "code",
   "execution_count": 45,
   "metadata": {},
   "outputs": [],
   "source": [
    "def avg(in_array):\n",
    "    return np.mean(in_array,axis=0)\n",
    "\n",
    "p2corr = ok.bb_list[0].p2_corr\n",
    "\n",
    "obs_mean, obs_std, covmat = jackknife(p2corr,avg,jack_axis=0,time_axis=-1)"
   ]
  },
  {
   "cell_type": "code",
   "execution_count": 46,
   "metadata": {},
   "outputs": [
    {
     "data": {
      "text/plain": [
       "(48,)"
      ]
     },
     "execution_count": 46,
     "metadata": {},
     "output_type": "execute_result"
    },
    {
     "data": {
      "text/plain": [
       "(48,)"
      ]
     },
     "execution_count": 46,
     "metadata": {},
     "output_type": "execute_result"
    },
    {
     "data": {
      "text/plain": [
       "(48, 48)"
      ]
     },
     "execution_count": 46,
     "metadata": {},
     "output_type": "execute_result"
    }
   ],
   "source": [
    "np.shape(obs_mean)\n",
    "np.shape(obs_std)\n",
    "np.shape(covmat)"
   ]
  },
  {
   "cell_type": "code",
   "execution_count": 47,
   "metadata": {},
   "outputs": [],
   "source": [
    "def mymax(in_array):\n",
    "    return np.max(in_array,axis=0)"
   ]
  },
  {
   "cell_type": "code",
   "execution_count": 48,
   "metadata": {},
   "outputs": [
    {
     "data": {
      "text/plain": [
       "(48,)"
      ]
     },
     "execution_count": 48,
     "metadata": {},
     "output_type": "execute_result"
    },
    {
     "data": {
      "text/plain": [
       "(48,)"
      ]
     },
     "execution_count": 48,
     "metadata": {},
     "output_type": "execute_result"
    },
    {
     "data": {
      "text/plain": [
       "(48, 48)"
      ]
     },
     "execution_count": 48,
     "metadata": {},
     "output_type": "execute_result"
    }
   ],
   "source": [
    "obs_mean1, obs_std1, covmat1 = jackknife(p2corr,mymax,jack_axis=0,time_axis=-1)\n",
    "np.shape(obs_mean1)\n",
    "np.shape(obs_std1)\n",
    "np.shape(covmat1)"
   ]
  },
  {
   "cell_type": "code",
   "execution_count": 49,
   "metadata": {},
   "outputs": [
    {
     "data": {
      "text/plain": [
       "(48,)"
      ]
     },
     "execution_count": 49,
     "metadata": {},
     "output_type": "execute_result"
    },
    {
     "data": {
      "text/plain": [
       "(48,)"
      ]
     },
     "execution_count": 49,
     "metadata": {},
     "output_type": "execute_result"
    },
    {
     "data": {
      "text/plain": [
       "(48, 48)"
      ]
     },
     "execution_count": 49,
     "metadata": {},
     "output_type": "execute_result"
    }
   ],
   "source": [
    "obs_mean2, obs_std2, covmat2 = jackknife(p2corr,lambda in_array : np.max(in_array, axis=0),jack_axis=0,time_axis=-1)\n",
    "np.shape(obs_mean2)\n",
    "np.shape(obs_std2)\n",
    "np.shape(covmat2)"
   ]
  },
  {
   "cell_type": "code",
   "execution_count": 50,
   "metadata": {},
   "outputs": [
    {
     "data": {
      "text/plain": [
       "np.True_"
      ]
     },
     "execution_count": 50,
     "metadata": {},
     "output_type": "execute_result"
    }
   ],
   "source": [
    "(obs_mean1 == obs_mean2).all()"
   ]
  },
  {
   "cell_type": "code",
   "execution_count": null,
   "metadata": {},
   "outputs": [],
   "source": []
  },
  {
   "cell_type": "code",
   "execution_count": 51,
   "metadata": {},
   "outputs": [
    {
     "data": {
      "text/plain": [
       "2"
      ]
     },
     "execution_count": 51,
     "metadata": {},
     "output_type": "execute_result"
    },
    {
     "data": {
      "text/plain": [
       "(7, 48)"
      ]
     },
     "execution_count": 51,
     "metadata": {},
     "output_type": "execute_result"
    }
   ],
   "source": [
    "len(np.shape(p2corr))\n",
    "np.shape(p2corr)"
   ]
  },
  {
   "cell_type": "code",
   "execution_count": 52,
   "metadata": {},
   "outputs": [],
   "source": [
    "##function implementing the jackknife analysis\n",
    "##def jackknife(in_array: np.ndarray, observable: Callable[[], Any], jack_axis=0, time_axis=-1, binsize=1,first_conf=0,last_conf=None) -> List[np.ndarray]:\n",
    "#\n",
    "#in_array = p2corr[:]\n",
    "#\n",
    "#observable = avg\n",
    "#jack_axis = 0\n",
    "#time_axis=-1\n",
    "#\n",
    "#binsize=1\n",
    "#first_conf=0\n",
    "#\n",
    "#\n",
    "##we set last conf to its default value\n",
    "#last_conf = np.shape(in_array)[jack_axis]\n",
    "#\n",
    "##step 1: creation of the jackknife resamples\n",
    "#jack_resamples = np.asarray( [np.delete(in_array, list(range(iconf,min(iconf+binsize,last_conf))) ,axis=jack_axis) for iconf in range(first_conf,last_conf,binsize)] ) #shape = (nresamp,) + shape(in_array) (with nconf -> nconf-binsize)\n",
    "#print(\"jack resamples\")\n",
    "#print(np.shape(jack_resamples))\n",
    "#\n",
    "##the number of resamples is len(jack_resmaples[0]) or also\n",
    "##nresamp = int((last_conf-first_conf)/binsize)\n",
    "#nresamp = np.shape(jack_resamples)[0] #the 0th axis now is the resample axis, (and axis has nconf-1 conf in the standard case (binsize=1 ecc.) )\n",
    "#\n",
    "##step 2; for each resample we compute the observable of interest\n",
    "##we use the resampled input array to compute the observable we want, and we have nresamp of them\n",
    "#obs_resamp = np.asarray( [observable(jack_resamples[i]) for i in range(nresamp) ] )                                                                          #shape = (nresamp,) + shape(in_array) - jack_dimension\n",
    "#print(\"obs resamples\")\n",
    "#print(np.shape(obs_resamp))\n",
    "#\n",
    "##step 3: we compute the observable also on the whole dataset\n",
    "#obs = observable(in_array)                                                                                                                                   #shape = shape(in_array) - jack_dimension\n",
    "#print(\"obs\")\n",
    "#print(np.shape(obs))\n",
    "#\n",
    "##step4: compute estimate, bias and std according to the jackknife method\n",
    "#\n",
    "##the estimate is the mean of the resamples\n",
    "#jack_mean = np.mean(obs_resamp,axis=0) #axis 0 is the resamples one                                                                                         #shape = shape(in_array) - jack_dimension\n",
    "#print(\"jack mean\")\n",
    "#print(np.shape(jack_mean))\n",
    "#\n",
    "##the jackknife bias is given by the following formula \n",
    "#bias = (nresamp-1) * (jack_mean - obs)                                                                                                                     #shape = shape(in_array) - jack_dimension\n",
    "#print(\"bias\")\n",
    "#print(np.shape(bias))\n",
    "#\n",
    "##the jack std is given by the following formula\n",
    "#obs_std = np.sqrt( (nresamp-1)/nresamp * np.sum( (obs_resamp - jack_mean)**2, axis=0 ) ) #the axis is the resamples one                                        #shape = shape(in_array) - jack_dimension\n",
    "#print(\"obs std\")\n",
    "#print(np.shape(obs_std))\n",
    "#\n",
    "##to obtain the final estimate we correct the jack mean by the bias\n",
    "#obs_mean = jack_mean - bias                                                                                                                                  #shape = shape(in_array) - jack_dimension\n",
    "#\n",
    "#\n",
    "##step 5: covariance matrix computation\n",
    "#\n",
    "##to account for the fact that we have removed the jackknife dimension we change the time dimension\n",
    "#\n",
    "##first we compute the lenght in the time dimension\n",
    "#lenT = np.shape(in_array)[time_axis]\n",
    "#\n",
    "##the time axis is translated to a positive value\n",
    "#if time_axis<0:\n",
    "#    #time_axis = lenT+time_axis\n",
    "#    time_axis = len(np.shape(in_array))+time_axis\n",
    "#\n",
    "##then we check if the time dimension has to be reduced by one (i.e. if the just deleted jack axis causes the time axis to be smaller by 1)\n",
    "#if jack_axis < time_axis :\n",
    "#    new_time_axis = time_axis - 1\n",
    "#\n",
    "##we the instantiate the covariance matrix\n",
    "#covmat = np.zeros(shape = np.shape(obs_mean) + (lenT,), dtype=float )\n",
    "#\n",
    "##we then loop over the times and fill the covariance matrix\n",
    "#for t1 in range(lenT):\n",
    "#    for t2 in range(lenT):\n",
    "#\n",
    "#        #we do a little of black magic to addres the right indices combinations (credit https://stackoverflow.com/questions/68437726/numpy-array-assignment-along-axis-and-index)\n",
    "#        s = [slice(None)] * len(np.shape(covmat))\n",
    "#        print(len(np.shape(covmat)))\n",
    "#        axe1 = new_time_axis #position of the first time axis\n",
    "#        print(f\"axe1 {axe1}\")\n",
    "#        s[axe1] = slice(t1,t1+1)\n",
    "#        axe2 =  len(np.shape(covmat))-1 #because the new time axis is at the end of the array\n",
    "#        print(f\"axe2 {axe2}\")\n",
    "#        s[axe2] = slice(t2,t2+1)\n",
    "#\n",
    "#        #we update the covariance matrix\n",
    "#        covmat[tuple(s)] = np.expand_dims( (nresamp-1)/nresamp * np.sum( (  np.take(obs_resamp,t1,axis=time_axis) - np.take(obs,t1,axis=new_time_axis) ) * (  np.take(obs_resamp,t2,axis=time_axis) - np.take(obs,t2,axis=new_time_axis) ), axis=0 ),\n",
    "#                                            [axe1,axe2])\n",
    "#\n",
    "#\n",
    "#\n",
    "#\n",
    "##we return mean and std \n",
    "##return [obs_mean, obs_std, covmat]"
   ]
  },
  {
   "cell_type": "code",
   "execution_count": 53,
   "metadata": {},
   "outputs": [],
   "source": [
    "#np.shape(covmat)"
   ]
  },
  {
   "cell_type": "code",
   "execution_count": 54,
   "metadata": {},
   "outputs": [],
   "source": [
    "#np.take(obs,t1,axis=time_axis)"
   ]
  },
  {
   "cell_type": "code",
   "execution_count": 55,
   "metadata": {},
   "outputs": [
    {
     "name": "stderr",
     "output_type": "stream",
     "text": [
      "/wsgjsc/home/taggi1/workspace_folders/PhD_work/.venv/lib64/python3.11/site-packages/matplotlib/cbook.py:1345: ComplexWarning: Casting complex values to real discards the imaginary part\n",
      "  return np.asarray(x, float)\n"
     ]
    },
    {
     "data": {
      "text/plain": [
       "<ErrorbarContainer object of 3 artists>"
      ]
     },
     "execution_count": 55,
     "metadata": {},
     "output_type": "execute_result"
    },
    {
     "data": {
      "image/png": "[encoded data removed]",
      "text/plain": [
       "<Figure size 640x480 with 1 Axes>"
      ]
     },
     "metadata": {},
     "output_type": "display_data"
    }
   ],
   "source": [
    "obs_mean, obs_std, covmat = jackknife(p2corr,lambda in_array : np.mean(in_array, axis=0),jack_axis=0,time_axis=-1)\n",
    "\n",
    "cut = 12\n",
    "\n",
    "times = np.arange(np.shape(obs_mean)[0])\n",
    "\n",
    "plt.errorbar(times[cut:-cut], obs_mean[cut:-cut], yerr = obs_std[cut:-cut], marker = 'o', markersize = 1.0, linewidth = 0.3, linestyle='dashed', ecolor='red')"
   ]
  },
  {
   "cell_type": "code",
   "execution_count": 56,
   "metadata": {},
   "outputs": [
    {
     "data": {
      "text/plain": [
       "np.True_"
      ]
     },
     "execution_count": 56,
     "metadata": {},
     "output_type": "execute_result"
    }
   ],
   "source": [
    "obs_mean, obs_std, covmat = jackknife(p2corr.real,lambda in_array : np.mean(in_array, axis=0),jack_axis=0,time_axis=-1)\n",
    "\n",
    "(np.sqrt(np.diag(covmat)) == np.abs(obs_std) ).all()"
   ]
  },
  {
   "cell_type": "code",
   "execution_count": 57,
   "metadata": {},
   "outputs": [
    {
     "data": {
      "text/plain": [
       "(48, 48)"
      ]
     },
     "execution_count": 57,
     "metadata": {},
     "output_type": "execute_result"
    }
   ],
   "source": [
    "np.shape(covmat)"
   ]
  },
  {
   "cell_type": "code",
   "execution_count": 58,
   "metadata": {},
   "outputs": [
    {
     "data": {
      "text/plain": [
       "array(0)"
      ]
     },
     "execution_count": 58,
     "metadata": {},
     "output_type": "execute_result"
    }
   ],
   "source": [
    "np.array(0)"
   ]
  },
  {
   "cell_type": "code",
   "execution_count": 59,
   "metadata": {},
   "outputs": [
    {
     "data": {
      "text/plain": [
       "array([1, 6])"
      ]
     },
     "execution_count": 59,
     "metadata": {},
     "output_type": "execute_result"
    }
   ],
   "source": [
    "np.diag([[1,2,4],\n",
    "         [5,6,8]])"
   ]
  },
  {
   "cell_type": "code",
   "execution_count": 60,
   "metadata": {},
   "outputs": [
    {
     "data": {
      "text/plain": [
       "(48, 48)"
      ]
     },
     "execution_count": 60,
     "metadata": {},
     "output_type": "execute_result"
    }
   ],
   "source": [
    "np.shape( np.diag(obs_std) )"
   ]
  },
  {
   "cell_type": "code",
   "execution_count": 61,
   "metadata": {},
   "outputs": [
    {
     "data": {
      "text/plain": [
       "48"
      ]
     },
     "execution_count": 61,
     "metadata": {},
     "output_type": "execute_result"
    }
   ],
   "source": [
    "len( np.diag(np.diag(obs_std) ) )"
   ]
  },
  {
   "cell_type": "code",
   "execution_count": 62,
   "metadata": {},
   "outputs": [
    {
     "data": {
      "text/plain": [
       "array([[ 0.14585189+0.04134415j,  0.14730704+0.02915417j,\n",
       "        -0.01422741-0.09725439j, -0.10744809-0.23647603j,\n",
       "        -0.29777986-0.47362247j],\n",
       "       [-0.06797847-3.12620165j, -0.06617516-3.70782156j,\n",
       "         0.18977469-4.00303899j,  0.56392749-3.94643911j,\n",
       "         1.24803452-4.30611871j]])"
      ]
     },
     "execution_count": 62,
     "metadata": {},
     "output_type": "execute_result"
    },
    {
     "data": {
      "text/plain": [
       "array([[0.02835366-0.02933537j, 0.06304767-0.04391558j,\n",
       "        0.04599419+0.14670936j, 0.25769463-0.25789046j,\n",
       "        0.33935783-0.51090754j],\n",
       "       [0.04875891+0.08328036j, 0.18617682+0.27275568j,\n",
       "        0.04653841+0.24181842j, 0.0592982 +0.31525124j,\n",
       "        0.17180339+0.64256875j]])"
      ]
     },
     "execution_count": 62,
     "metadata": {},
     "output_type": "execute_result"
    },
    {
     "data": {
      "text/plain": [
       "(2, 5)"
      ]
     },
     "execution_count": 62,
     "metadata": {},
     "output_type": "execute_result"
    },
    {
     "data": {
      "text/plain": [
       "(2, 5)"
      ]
     },
     "execution_count": 62,
     "metadata": {},
     "output_type": "execute_result"
    }
   ],
   "source": [
    "S1, Smean1, Sstd1 = ok.get_S(1)\n",
    "\n",
    "Smean1\n",
    "Sstd1\n",
    "np.shape(Smean1)\n",
    "np.shape(Sstd1)"
   ]
  },
  {
   "cell_type": "code",
   "execution_count": 63,
   "metadata": {},
   "outputs": [
    {
     "data": {
      "image/png": "[encoded data removed]",
      "text/plain": [
       "<Figure size 3200x1400 with 1 Axes>"
      ]
     },
     "metadata": {},
     "output_type": "display_data"
    },
    {
     "data": {
      "text/plain": [
       "(np.float64(0.09749334107613475), np.float64(0.4242283030756597))"
      ]
     },
     "execution_count": 63,
     "metadata": {},
     "output_type": "execute_result"
    }
   ],
   "source": [
    "ok.get_m(show=True,zoom=7)"
   ]
  },
  {
   "cell_type": "code",
   "execution_count": 64,
   "metadata": {},
   "outputs": [],
   "source": [
    "#function used to extract the effective mass for the two-point correlators\n",
    "def effective_mass(corr_2p: np.ndarray, conf_axis=0) -> np.ndarray:\n",
    "    \"\"\"\n",
    "    Input:\n",
    "        - corr_2p: two point correlators, with shape (nconf, Tlat) (with Tlat being the time extent of the lattice)\n",
    "\n",
    "    Output:\n",
    "        - m_eff(t): the effective mass, with shape (Tlat,) (the configuration axis gets removed) (the shape is Tlat and not Tlat-1, so that the jackknife function can be used)\n",
    "    \"\"\"\n",
    "\n",
    "    #we first take the gauge average of the two point correlator\n",
    "    corr_gavg = np.mean(corr_2p, axis=conf_axis)\n",
    "\n",
    "    #we get the lattice time T\n",
    "    Tlat = np.shape(corr_gavg)[0]\n",
    "\n",
    "    #we instantiate the eff mass array with first dimension of size Tlat (even tough the effective mass should have Tlat-1 time values --> the last will be a 0 of padding)\n",
    "    meff = np.zeros((Tlat))\n",
    "\n",
    "    #we compute the effective mass (the loop as it should goes up to Tlat-1, so that the last entry of meff is a 0 of padding)\n",
    "    for t in range(Tlat-1): \n",
    "        meff[t] = np.log( (corr_gavg[t]/corr_gavg[t+1]).real )\n",
    "\n",
    "    #we send back the effective mass\n",
    "    return meff\n"
   ]
  },
  {
   "cell_type": "code",
   "execution_count": 65,
   "metadata": {},
   "outputs": [],
   "source": [
    "#function that given a 1D array returns the cut values identifying its plateaux\n",
    "def plateaux_search(in_array: np.ndarray, covmat: np.ndarray, chi2_treshold=1.0) -> tuple[int,int]:\n",
    "    \"\"\"\n",
    "    Input:\n",
    "        - in_array: the 1D array we want to search the plateaux of\n",
    "        - covmat: a 2D array, representing the covariance matrix of in_array\n",
    "        - chi2_treshold: the treshold for the plateaux determination\n",
    "    \n",
    "    Output:\n",
    "        - let_cut: the number of data point to be discarded from the left (beginning of the array) to arrive at the plateaux\n",
    "        - right_cut: the number of data point to be discarded from the right (end of the array) to arrive at the plateaux\n",
    "    \"\"\"\n",
    "\n",
    "    #we set the max cut to be half of the allowed range for the 1D array\n",
    "    max_cut = int( np.shape(in_array)[0] / 2 )\n",
    "\n",
    "    #we loop over the cut we make (that is equal both from left and from right)\n",
    "    for icut in range(1,max_cut):\n",
    "\n",
    "        #then we also loop over the possible offset we'd like to have from the left and from the right (i.e. asymmetric cuts)\n",
    "        for l_off in range(icut):\n",
    "            for r_off in range(icut):\n",
    "\n",
    "                #if the total cut is bigger than the array we break\n",
    "                if 2*icut + l_off + r_off >= np.shape(in_array)[0]:\n",
    "                    break\n",
    "                \n",
    "                #if instead the cut is ok we go on with the chi2 computation\n",
    "\n",
    "                #the plataux region in this case is given by\n",
    "                plat = in_array[l_off+icut:-icut-r_off]\n",
    "\n",
    "                #the value of the plateau is\n",
    "                plat_value = np.mean(plat,axis=0,keepdims=True)\n",
    "\n",
    "                #we also have to reshape the covariance matrix\n",
    "                covmat_plat = covmat[l_off+icut:-icut-r_off, l_off+icut:-icut-r_off]\n",
    "\n",
    "                #we see if the chi2 meets the condition\n",
    "                if redchi2_cov(plat, plat_value, covmat_plat) < chi2_treshold:\n",
    "                    #in that case we return the values of found cuts\n",
    "                    return icut + l_off, - icut - r_off\n",
    "\n",
    "    #if by the end of the loop the chi2 condition is never met we return the cuts corresponding to the whole dataset\n",
    "    return 0, np.shape(in_array)[0]"
   ]
  },
  {
   "cell_type": "code",
   "execution_count": 66,
   "metadata": {},
   "outputs": [],
   "source": [
    "#function used to compute the reduced chi2 of a 1D array using the covariance matrix\n",
    "def redchi2_cov(in_array: np.ndarray, fit_array: np.ndarray, covmat: np.ndarray) -> float:\n",
    "    \"\"\"\n",
    "    Input:\n",
    "        - in_array: a 1D array, with len T\n",
    "        - fit_array: a 1D array, also with len T, representing the function we want the in_arrya fitted to\n",
    "        - covmat: a 2D array with shape (T,T), representing the covariance matrix of in_array\n",
    "\n",
    "    Output:\n",
    "        - chi2: the reduced chi2 of the fit\n",
    "    \"\"\"\n",
    "\n",
    "    #first we invert the covariance array\n",
    "    cov_inv = np.linalg.inv(covmat)\n",
    "\n",
    "    #then we compute the differences between the fit and input array\n",
    "    deltas = in_array - fit_array\n",
    "\n",
    "    #then we compute the len of the plateaux\n",
    "    len_plat = np.shape(in_array)[0]\n",
    "\n",
    "    #then we compute the reduced chi2 according to its formula and we return it\n",
    "    return np.einsum( 'j,j->' , deltas, np.einsum('jk,k->j',cov_inv,deltas) ) / len_plat"
   ]
  },
  {
   "cell_type": "code",
   "execution_count": 67,
   "metadata": {},
   "outputs": [
    {
     "data": {
      "text/plain": [
       "(47,)"
      ]
     },
     "execution_count": 67,
     "metadata": {},
     "output_type": "execute_result"
    },
    {
     "data": {
      "text/plain": [
       "(47,)"
      ]
     },
     "execution_count": 67,
     "metadata": {},
     "output_type": "execute_result"
    },
    {
     "data": {
      "text/plain": [
       "(47, 47)"
      ]
     },
     "execution_count": 67,
     "metadata": {},
     "output_type": "execute_result"
    }
   ],
   "source": [
    "#first we recall the two point correlators\n",
    "corr_2p = np.abs( ok.bb_list[0].p2_corr )\n",
    "\n",
    "#we use the jackknife to compute the effective mass (mean and std)\n",
    "meff, meff_std, meff_covmat = jackknife(corr_2p, effective_mass, jack_axis=0, time_axis=-1)\n",
    "\n",
    "#we determine the time extent of the lattice\n",
    "Tlat = np.shape(meff)[0]\n",
    "\n",
    "#we discard the padding coming from the effective_mass function\n",
    "meff = meff[:-1]\n",
    "meff_std = meff_std[:-1]\n",
    "meff_covmat = meff_covmat[:-1,:-1]\n",
    "\n",
    "np.shape(meff)\n",
    "np.shape(meff_std)\n",
    "np.shape(meff_covmat)\n",
    "\n",
    "\n",
    "#we determine the time values to be displayed on the plot\n",
    "m_times = np.arange(np.shape(meff)[0]) + 0.5\n",
    "\n",
    "\n",
    "\n",
    "#we compute a mean value and a std from the plateaux\n",
    "\n",
    "#first we identify the boundaries of the plateau region\n",
    "lcut, rcut = plateaux_search(meff,meff_covmat, chi2_treshold=1.0)"
   ]
  },
  {
   "cell_type": "code",
   "execution_count": 68,
   "metadata": {},
   "outputs": [
    {
     "data": {
      "text/plain": [
       "[<matplotlib.lines.Line2D at 0x7f9dfc1102d0>]"
      ]
     },
     "execution_count": 68,
     "metadata": {},
     "output_type": "execute_result"
    },
    {
     "data": {
      "image/png": "[encoded data removed]",
      "text/plain": [
       "<Figure size 640x480 with 1 Axes>"
      ]
     },
     "metadata": {},
     "output_type": "display_data"
    }
   ],
   "source": [
    "plt.plot(m_times,meff)"
   ]
  }
 ],
 "metadata": {
  "kernelspec": {
   "display_name": ".venv",
   "language": "python",
   "name": "python3"
  },
  "language_info": {
   "codemirror_mode": {
    "name": "ipython",
    "version": 3
   },
   "file_extension": ".py",
   "mimetype": "text/x-python",
   "name": "python",
   "nbconvert_exporter": "python",
   "pygments_lexer": "ipython3",
   "version": "3.11.9"
  }
 },
 "nbformat": 4,
 "nbformat_minor": 2
}
