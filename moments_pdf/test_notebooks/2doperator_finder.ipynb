{
 "cells": [
  {
   "cell_type": "code",
   "execution_count": 1,
   "metadata": {},
   "outputs": [],
   "source": [
    "from IPython.core.interactiveshell import InteractiveShell\n",
    "InteractiveShell.ast_node_interactivity = \"all\"\n",
    "\n",
    "\n",
    "import sys\n",
    "\n",
    "sys.path.insert(1, '../')\n",
    "\n",
    "from cgh4_calculator import get_multiplicities, rep_label_list, irrep_index\n",
    "import pandas as pd\n",
    "from moments_operator import Operator, OperatorDict_from_database\n",
    "from utilities import all_equal"
   ]
  },
  {
   "cell_type": "code",
   "execution_count": 2,
   "metadata": {},
   "outputs": [],
   "source": [
    "V,A = (4,1), (4,4)\n",
    "n = 3"
   ]
  },
  {
   "cell_type": "code",
   "execution_count": 3,
   "metadata": {},
   "outputs": [
    {
     "data": {
      "text/plain": [
       "[1, 0, 0, 0, 0, 0, 1, 0, 0, 0, 0, 0, 0, 0, 1, 0, 1, 0, 0, 0]"
      ]
     },
     "execution_count": 3,
     "metadata": {},
     "output_type": "execute_result"
    },
    {
     "data": {
      "text/plain": [
       "[0, 0, 0, 0, 0, 0, 0, 0, 0, 0, 4, 1, 0, 1, 0, 0, 0, 0, 3, 2]"
      ]
     },
     "execution_count": 3,
     "metadata": {},
     "output_type": "execute_result"
    },
    {
     "data": {
      "text/plain": [
       "[0, 0, 0, 0, 0, 0, 0, 0, 0, 0, 4, 1, 0, 1, 0, 0, 0, 0, 3, 2]"
      ]
     },
     "execution_count": 3,
     "metadata": {},
     "output_type": "execute_result"
    }
   ],
   "source": [
    "get_multiplicities(V,V)\n",
    "get_multiplicities(V,V,V)\n",
    "get_multiplicities(*(V,) * n)"
   ]
  },
  {
   "cell_type": "code",
   "execution_count": 4,
   "metadata": {},
   "outputs": [
    {
     "data": {
      "text/plain": [
       "{(4, 1): (4, 'Y'),\n",
       " (4, 2): (1, 'Y'),\n",
       " (4, 4): (1, 'Y'),\n",
       " (8, 1): (3, 'Y'),\n",
       " (8, 2): (2, 'Y')}"
      ]
     },
     "execution_count": 4,
     "metadata": {},
     "output_type": "execute_result"
    },
    {
     "data": {
      "text/plain": [
       "{(4, 1): (4, 'Y'),\n",
       " (4, 2): (1, 'Y'),\n",
       " (4, 4): (1, 'Y'),\n",
       " (8, 1): (3, 'Y'),\n",
       " (8, 2): (2, 'Y')}"
      ]
     },
     "execution_count": 4,
     "metadata": {},
     "output_type": "execute_result"
    }
   ],
   "source": [
    "available_irreps = {rep_label_list[i] : (mul,\"Y\") for i, mul in enumerate(get_multiplicities(*(V,) * n)) if mul>0}\n",
    "available_irreps\n",
    "\n",
    "for i_dim in range(2,n):\n",
    "    low_dim_irrep = get_multiplicities(*(V,) * i_dim)\n",
    "\n",
    "    for key in available_irreps.keys():\n",
    "        if low_dim_irrep[irrep_index[key]] > 0:\n",
    "            available_irreps[key] = (available_irreps[key][0], \"N\")\n",
    "available_irreps"
   ]
  },
  {
   "cell_type": "code",
   "execution_count": 5,
   "metadata": {},
   "outputs": [
    {
     "data": {
      "text/html": [
       "<div>\n",
       "<style scoped>\n",
       "    .dataframe tbody tr th:only-of-type {\n",
       "        vertical-align: middle;\n",
       "    }\n",
       "\n",
       "    .dataframe tbody tr th {\n",
       "        vertical-align: top;\n",
       "    }\n",
       "\n",
       "    .dataframe thead th {\n",
       "        text-align: right;\n",
       "    }\n",
       "</style>\n",
       "<table border=\"1\" class=\"dataframe\">\n",
       "  <thead>\n",
       "    <tr style=\"text-align: right;\">\n",
       "      <th></th>\n",
       "      <th></th>\n",
       "      <th>Irrep</th>\n",
       "      <th>Multiplicity</th>\n",
       "      <th>Mixing Safe</th>\n",
       "    </tr>\n",
       "  </thead>\n",
       "  <tbody>\n",
       "    <tr>\n",
       "      <th rowspan=\"3\" valign=\"top\">4</th>\n",
       "      <th>1</th>\n",
       "      <td>(4, 1)</td>\n",
       "      <td>4</td>\n",
       "      <td>Y</td>\n",
       "    </tr>\n",
       "    <tr>\n",
       "      <th>2</th>\n",
       "      <td>(4, 2)</td>\n",
       "      <td>1</td>\n",
       "      <td>Y</td>\n",
       "    </tr>\n",
       "    <tr>\n",
       "      <th>4</th>\n",
       "      <td>(4, 4)</td>\n",
       "      <td>1</td>\n",
       "      <td>Y</td>\n",
       "    </tr>\n",
       "    <tr>\n",
       "      <th rowspan=\"2\" valign=\"top\">8</th>\n",
       "      <th>1</th>\n",
       "      <td>(8, 1)</td>\n",
       "      <td>3</td>\n",
       "      <td>Y</td>\n",
       "    </tr>\n",
       "    <tr>\n",
       "      <th>2</th>\n",
       "      <td>(8, 2)</td>\n",
       "      <td>2</td>\n",
       "      <td>Y</td>\n",
       "    </tr>\n",
       "  </tbody>\n",
       "</table>\n",
       "</div>"
      ],
      "text/plain": [
       "      Irrep  Multiplicity Mixing Safe\n",
       "4 1  (4, 1)             4           Y\n",
       "  2  (4, 2)             1           Y\n",
       "  4  (4, 4)             1           Y\n",
       "8 1  (8, 1)             3           Y\n",
       "  2  (8, 2)             2           Y"
      ]
     },
     "execution_count": 5,
     "metadata": {},
     "output_type": "execute_result"
    }
   ],
   "source": [
    "df = pd.DataFrame([ [k, v[0], v[1]] for k,v in available_irreps.items() ], index=available_irreps.keys(), columns=[\"Irrep\", \"Multiplicity\", \"Mixing Safe\"])\n",
    "df"
   ]
  },
  {
   "cell_type": "code",
   "execution_count": 6,
   "metadata": {},
   "outputs": [
    {
     "name": "stdout",
     "output_type": "stream",
     "text": [
      "      Irrep  Multiplicity Mixing Safe\n",
      "4 1  (4, 1)             4           Y\n",
      "  2  (4, 2)             1           Y\n",
      "  4  (4, 4)             1           Y\n",
      "8 1  (8, 1)             3           Y\n",
      "  2  (8, 2)             2           Y\n"
     ]
    }
   ],
   "source": [
    "print(df.to_string())"
   ]
  },
  {
   "cell_type": "code",
   "execution_count": 7,
   "metadata": {},
   "outputs": [
    {
     "data": {
      "text/plain": [
       "pandas.core.frame.DataFrame"
      ]
     },
     "execution_count": 7,
     "metadata": {},
     "output_type": "execute_result"
    }
   ],
   "source": [
    "type(df)"
   ]
  },
  {
   "cell_type": "code",
   "execution_count": 26,
   "metadata": {},
   "outputs": [],
   "source": [
    "def decomposition_analysis(X: str, n_der: int, operator_dict:dict[dict[list[Operator]]]|None=None, verbose:bool=False) -> pd.core.frame.DataFrame:\n",
    "    \"\"\"\n",
    "    Function Performing the analysis of tensor product of the kind irrep x irrep x ... x irrep (n times),\n",
    "    to asses which irrep in the decomposion is suitable to be studied without having to worry about\n",
    "    renornalization problems.\n",
    "\n",
    "    Input:\n",
    "        - X: str, either 'V', 'A' or 'T', for vector, axial or tensorial, corresponding to the first irrep in the tensor product being\n",
    "             either (4,1), (4,4) or (4,1)x(4,1)\n",
    "        - n_der: int, number of derivatives in the tensor product, corresponding the the number of times the irrep\n",
    "                 (4,1) appears in the tensor product (after the first irrep(s))\n",
    "        - operator_database: dictionaries containing the list of the operators, if given information on index symmetry is also provided\n",
    "        - verbose: bool, if True info are printed to screen\n",
    "    \n",
    "    Output:\n",
    "        - analysis_dataframe: pandas dataframe with all the information regarding the irreps in the decomposition\n",
    "    \"\"\"\n",
    "\n",
    "    # Check the input\n",
    "    if X not in ['V', 'A', 'T']:\n",
    "        raise ValueError(\"X must be either 'V', 'A' or 'T\")\n",
    "    if not isinstance(n_der, int) or n_der < 1:\n",
    "        raise ValueError(\"n_der must be a positive integer\")\n",
    "    if not isinstance(verbose, bool):\n",
    "        raise ValueError(\"verbose must be a boolean\")\n",
    "    \n",
    "    #we select the chosen starting irrep depending on X\n",
    "    starting_irrep = ((4,1),) if X=='V' else ((4,4),) if X=='A' else ((4,1),(4,1),)\n",
    "\n",
    "    # Get the multiplicities of the irreps in the decomposition (and by default set to \"Y\" the mixing safe property)\n",
    "    available_irreps = {rep_label_list[i] : [\"Y\", mul, \"-\"] for i, mul in enumerate(get_multiplicities(*( starting_irrep + (V,) * n_der))) if mul>0}\n",
    "\n",
    "    #we set to not mix safe the scalar/psedudoscalar if present\n",
    "    if X=='V' and (1,1) in available_irreps.keys():\n",
    "        available_irreps[(1,1)][0] = \"N\"\n",
    "    if X=='A' and (1,4) in available_irreps.keys():\n",
    "        available_irreps[(1,4)][0] = \"N\"\n",
    "\n",
    "    #we set to not mix safe the fundamental/pseudofunamental if present\n",
    "    if X=='V' and (4,1) in available_irreps.keys():\n",
    "        available_irreps[(4,1)][0] = \"N\"\n",
    "    if X=='A' and (4,4) in available_irreps.keys():\n",
    "        available_irreps[(4,4)][0] = \"N\"\n",
    "\n",
    "    # We now loop over lower dimensional irreps decomposition of the same kind\n",
    "    for i_dim in range(1,n_der):\n",
    "\n",
    "        #we get the multiplicities of the irreps in the decomposition of a lower dimension\n",
    "        low_dim_irrep = get_multiplicities( *( starting_irrep + (V,) * i_dim) )\n",
    "\n",
    "        #if a given irrep is also present in a lower dimensional decomposition then we set the \"mixing safe\" property to \"N\"\n",
    "        for key in available_irreps.keys():\n",
    "            if low_dim_irrep[irrep_index[key]] > 0:\n",
    "                available_irreps[key] = (available_irreps[key][0], \"N\")\n",
    "\n",
    "    #if the operator_database is given we look at the symmetry property of the irreps\n",
    "    if operator_dict is not None:\n",
    "\n",
    "        #we loop over the irreps in the decompostion\n",
    "        for key in available_irreps.keys():\n",
    "\n",
    "            #if the multiplicity is 1 we asses the index symmetry condition\n",
    "            if available_irreps[key][1] == 1:\n",
    "\n",
    "                #we get the list of the operators in the operator_database of the selected irrep\n",
    "                op_list = operator_dict[( n_der+1 if X in ['V','A'] else n_der+2 ,X)][key,1]\n",
    "\n",
    "                #we construct the lyst with the symmetry condition for all the given operators\n",
    "                symm_list = [op.symm for op in op_list]\n",
    "\n",
    "                #we asses the symmetry condition\n",
    "                available_irreps[key][2] = symm_list[0][0] if all_equal(symm_list) else 'Mixed'\n",
    "\n",
    "\n",
    "\n",
    "    # Create a pandas dataframe with the information\n",
    "    df = pd.DataFrame([ [k, *v] for k,v in available_irreps.items() ], index=available_irreps.keys(), columns=[\"Irrep\", \"Mixing Safe\", \"Multiplicity\", \"Symmetry\"])\n",
    "\n",
    "    #if the operator database was not given we remove the symmetry column\n",
    "    if operator_dict is None or X=='T':\n",
    "        df = df.drop(columns=[\"Symmetry\"])\n",
    "\n",
    "    #if verbose is True we print the dataframe to screen\n",
    "    if verbose:\n",
    "        print(f\"\\nAnalysis of the irreps in the tensor decompositon { ' x '.join( [ str(e) for e in ( starting_irrep + (V,) * n_der) ] ) } :\\n\")\n",
    "        print(df.to_string())\n",
    "\n",
    "    return df"
   ]
  },
  {
   "cell_type": "code",
   "execution_count": 9,
   "metadata": {},
   "outputs": [
    {
     "data": {
      "text/plain": [
       "(4, 4, (4, 1), (4, 1), (4, 1))"
      ]
     },
     "execution_count": 9,
     "metadata": {},
     "output_type": "execute_result"
    }
   ],
   "source": [
    "(A + (V,) * n)"
   ]
  },
  {
   "cell_type": "code",
   "execution_count": 10,
   "metadata": {},
   "outputs": [
    {
     "data": {
      "text/plain": [
       "(4, 1, (4, 1))"
      ]
     },
     "execution_count": 10,
     "metadata": {},
     "output_type": "execute_result"
    },
    {
     "data": {
      "text/plain": [
       "[1, 0, 0, 0, 0, 0, 1, 0, 0, 0, 0, 0, 0, 0, 1, 0, 1, 0, 0, 0]"
      ]
     },
     "execution_count": 10,
     "metadata": {},
     "output_type": "execute_result"
    }
   ],
   "source": [
    "( ((4,1) if 'V'=='V' else (4,4)) + (V,) * 1)\n",
    "get_multiplicities(*( ( (4,1) if 'V'=='V' else (4,4) , )  + (V,) * 1))"
   ]
  },
  {
   "cell_type": "code",
   "execution_count": 11,
   "metadata": {},
   "outputs": [],
   "source": [
    "op_dict = OperatorDict_from_database(\"../operator_database\")"
   ]
  },
  {
   "cell_type": "code",
   "execution_count": 12,
   "metadata": {},
   "outputs": [
    {
     "data": {
      "text/plain": [
       "dict_keys([((4, 1), 1), ((4, 1), 2), ((4, 1), 3), ((4, 1), 4), ((4, 2), 1), ((4, 4), 1), ((8, 1), 1), ((8, 1), 2), ((8, 1), 3), ((8, 2), 1), ((8, 2), 2)])"
      ]
     },
     "execution_count": 12,
     "metadata": {},
     "output_type": "execute_result"
    }
   ],
   "source": [
    "op_dict[(3,'V')].keys()"
   ]
  },
  {
   "cell_type": "code",
   "execution_count": 27,
   "metadata": {},
   "outputs": [
    {
     "name": "stdout",
     "output_type": "stream",
     "text": [
      "\n",
      "Analysis of the irreps in the tensor decompositon (4, 1) x (4, 1) :\n",
      "\n",
      "      Irrep Mixing Safe  Multiplicity Symmetry\n",
      "1 1  (1, 1)           N             1        S\n",
      "3 1  (3, 1)           Y             1        S\n",
      "6 1  (6, 1)           Y             1        A\n",
      "  3  (6, 3)           Y             1        S\n",
      "\n",
      "Analysis of the irreps in the tensor decompositon (4, 1) x (4, 1) x (4, 1) :\n",
      "\n",
      "      Irrep Mixing Safe  Multiplicity Symmetry\n",
      "4 1  (4, 1)           N             4        -\n",
      "  2  (4, 2)           Y             1        S\n",
      "  4  (4, 4)           Y             1        A\n",
      "8 1  (8, 1)           Y             3        -\n",
      "  2  (8, 2)           Y             2        -\n",
      "\n",
      "Analysis of the irreps in the tensor decompositon (4, 4) x (4, 1) :\n",
      "\n",
      "      Irrep Mixing Safe  Multiplicity Symmetry\n",
      "1 4  (1, 4)           N             1        S\n",
      "3 4  (3, 4)           Y             1        S\n",
      "6 1  (6, 1)           Y             1        A\n",
      "  4  (6, 4)           Y             1        S\n",
      "\n",
      "Analysis of the irreps in the tensor decompositon (4, 4) x (4, 1) x (4, 1) :\n",
      "\n",
      "      Irrep Mixing Safe  Multiplicity Symmetry\n",
      "4 1  (4, 1)           Y             1        A\n",
      "  3  (4, 3)           Y             1        S\n",
      "  4  (4, 4)           N             4        -\n",
      "8 1  (8, 1)           Y             2        -\n",
      "  2  (8, 2)           Y             3        -\n"
     ]
    }
   ],
   "source": [
    "df = decomposition_analysis('V', 1, operator_dict=op_dict, verbose=True)\n",
    "df = decomposition_analysis('V', 2, operator_dict=op_dict, verbose=True)\n",
    "df = decomposition_analysis('A', 1, operator_dict=op_dict, verbose=True)\n",
    "df = decomposition_analysis('A', 2, operator_dict=op_dict, verbose=True)"
   ]
  },
  {
   "cell_type": "code",
   "execution_count": 28,
   "metadata": {},
   "outputs": [
    {
     "name": "stdout",
     "output_type": "stream",
     "text": [
      "\n",
      "Analysis of the irreps in the tensor decompositon (4, 1) x (4, 1) x (4, 1) :\n",
      "\n",
      "      Irrep Mixing Safe  Multiplicity\n",
      "4 1  (4, 1)           Y             4\n",
      "  2  (4, 2)           Y             1\n",
      "  4  (4, 4)           Y             1\n",
      "8 1  (8, 1)           Y             3\n",
      "  2  (8, 2)           Y             2\n",
      "\n",
      "Analysis of the irreps in the tensor decompositon (4, 1) x (4, 1) x (4, 1) x (4, 1) :\n",
      "\n",
      "      Irrep Mixing Safe  Multiplicity\n",
      "1 1  (1, 1)           Y             4\n",
      "  2  (1, 2)           Y             1\n",
      "  4  (1, 4)           Y             1\n",
      "2 1  (2, 1)           Y             3\n",
      "  2  (2, 2)           Y             2\n",
      "3 1  (3, 1)           Y             7\n",
      "  2  (3, 2)           Y             3\n",
      "  3  (3, 3)           Y             3\n",
      "  4  (3, 4)           Y             3\n",
      "6 1  (6, 1)           Y            10\n",
      "  2  (6, 2)           Y             6\n",
      "  3  (6, 3)           Y            10\n",
      "  4  (6, 4)           Y             6\n"
     ]
    }
   ],
   "source": [
    "df = decomposition_analysis('T', 1, operator_dict=op_dict, verbose=True)\n",
    "df = decomposition_analysis('T', 2, operator_dict=op_dict, verbose=True)"
   ]
  },
  {
   "cell_type": "markdown",
   "metadata": {},
   "source": [
    "\n",
    "Irrep Mixing Safe  Multiplicity Symmetry\n",
    "(4, 1)           N             4        -\n",
    "(4, 2)           Y             1        S\n",
    "(4, 4)           Y             1        A\n",
    "(8, 1)           Y             3        -\n",
    "(8, 2)           Y             2        -\n"
   ]
  },
  {
   "cell_type": "markdown",
   "metadata": {},
   "source": [
    "Hi Jeremy,\n",
    "\n",
    "\n",
    "as my data analysis routines are almost completed, I began to have a look into the choice for the two derivatives operators.\n",
    "\n",
    "\n",
    "If I understood correctly, I should choose operators that are symmetric and traceless, and that belong to an irrep with multiplicity one and that does not appear in the decomposition of the tensor product related to lower dimensional operators with the same Dirac structure.\n",
    "\n",
    "Given these requirements, I have identified, for the vector and axial case, the following irreps:\n",
    " - Vector: (4,2)\n",
    " - Axial: (4,3)\n",
    "The operators belonging to such irreps are given in the attached pdfs.\n",
    "\n",
    "\n",
    "If then I consider also the additional requirement that I need a non zero kinematic factor, I encounter some problems with the vector operators because their kinematic factors are all proportional to P_i P_j, with i≠j.\n",
    "\n",
    "In the dataset I have, only one component of the momentum (P_x) is different from 0, hence I am not able to extract the moments from the selected vector operators.\n",
    "\n",
    "\n",
    "Regarding instead the tensor operators with two derivatives (four indices in total), I am not sure how I should proceed.\n",
    "\n",
    "The only two irreps with multiplicity one in the decomposition are (1,2) and (1,4), which are respectively completely symmetric and completely antisymmetric in all four indices, hence they have always a 0 kinematic factor.\n",
    "\n",
    "\n",
    "If you want I can also send you the complete list with all the operators, as well as a couple of tables I generated to sum up the properties of the irreps appearing in the decomposition.\n",
    "\n",
    "\n",
    "Let me know if you have any idea regarding how I should proceed.\n",
    "Thanks in advance for your response.\n",
    "\n",
    "\n",
    "Best regards,\n",
    "\n",
    "Emilio Taggi"
   ]
  },
  {
   "cell_type": "code",
   "execution_count": 14,
   "metadata": {},
   "outputs": [
    {
     "data": {
      "text/plain": [
       "'(4, 1) x (4, 1) x (4, 1)'"
      ]
     },
     "execution_count": 14,
     "metadata": {},
     "output_type": "execute_result"
    }
   ],
   "source": [
    "\" x \".join( [ str(e) for e in [*(V,) * n] ] )"
   ]
  },
  {
   "cell_type": "markdown",
   "metadata": {},
   "source": [
    "# Dataset Analysis"
   ]
  },
  {
   "cell_type": "code",
   "execution_count": 15,
   "metadata": {},
   "outputs": [],
   "source": [
    "from moments_toolkit import moments_toolkit, average_moments_over_T\n",
    "import os\n",
    "import numpy as np"
   ]
  },
  {
   "cell_type": "code",
   "execution_count": 16,
   "metadata": {},
   "outputs": [
    {
     "name": "stdout",
     "output_type": "stream",
     "text": [
      "\n",
      "Initializing the moments_toolkit class instance...\n",
      "\n",
      "\n",
      "Initializing the building block class instance...\n",
      "\n",
      "\n",
      "Reading the the keys of the dataset ...\n",
      "\n",
      "\n",
      "Reading the 2 point and 3 point correlators from the fast access dataset ...\n",
      "\n",
      "\n",
      "Reading the list of all the available operators from the database...\n",
      "\n",
      "\n",
      "Class Initialization Complete!\n",
      "\n"
     ]
    }
   ],
   "source": [
    "p3fold = os.environ['mount_point_path'] + \"48c48/binned_1012_hmz370_BMW_extended/3PointCorrelation/\"\n",
    "p2fold = os.environ['mount_point_path'] + \"48c48/binned_1012_hmz370_BMW_extended/2PointCorrelation/\"\n",
    "\n",
    "opAnalyzer = moments_toolkit(p3fold, p2fold,\n",
    "                            skip3p=False, skipop=False,\n",
    "                            verbose=True,\n",
    "                            fast_data_folder = \"../fast_data_extended_px-2_q0\",\n",
    "                            operator_folder= \"../operator_database\",\n",
    "                            momentum='PX-2_PY0_PZ0',\n",
    "                            insertion_momentum = 'qx0_qy0_qz0',\n",
    "                            tag_2p='hspectrum',\n",
    "                            max_n=3\n",
    "                            )"
   ]
  },
  {
   "cell_type": "code",
   "execution_count": 17,
   "metadata": {},
   "outputs": [
    {
     "data": {
      "text/plain": [
       "[0 ± 0, -0.2949(25)]"
      ]
     },
     "execution_count": 17,
     "metadata": {},
     "output_type": "execute_result"
    },
    {
     "data": {
      "text/plain": [
       "Instance of the moments_toolkit class\n",
       "\n",
       "Dataset Specifics:\n",
       "Number of configurations: 212\n",
       "P: [-2  0  0]\n",
       "q: [0 0 0]\n",
       "\n",
       "Current Selection of Parameters:\n",
       "Number of Selected Operators: 1\n",
       "Selected Isospin: U-D\n",
       "Selected T values: [3, 4, 5, 6, 7, 8, 10, 12]\n",
       "\n",
       "Fit parameters:\n",
       " - Central Value Fit:            True\n",
       " - Central Value Fit Correlated: True\n",
       " - Resample Fit:                 False\n",
       " - Resample Fit Correlated:      False\n",
       " - Resample Fit Resample Prior:  False\n",
       " - SVD Cut: None\n",
       " - Max Iterations: 10000\n",
       "\n",
       "Resampling Technique: jackknife\n",
       "Number of resamples: 212"
      ]
     },
     "execution_count": 17,
     "metadata": {},
     "output_type": "execute_result"
    },
    {
     "data": {
      "text/latex": [
       "$\\displaystyle O^{A}_{1, 3, 4}+O^{A}_{1, 4, 3}+O^{A}_{3, 1, 4}+O^{A}_{3, 4, 1}+O^{A}_{4, 1, 3}+O^{A}_{4, 3, 1}$"
      ],
      "text/plain": [
       "<IPython.core.display.Math object>"
      ]
     },
     "metadata": {},
     "output_type": "display_data"
    }
   ],
   "source": [
    "opAnalyzer.select_operator(115, 166)\n",
    "\n",
    "opAnalyzer.get_Klist()\n",
    "opAnalyzer.remove_zeroK_operators()\n",
    "\n",
    "opAnalyzer\n",
    "\n",
    "opAnalyzer.display_operators()"
   ]
  },
  {
   "cell_type": "code",
   "execution_count": 18,
   "metadata": {},
   "outputs": [
    {
     "data": {
      "text/latex": [
       "$\\displaystyle 6 p_{1} p_{2}$"
      ],
      "text/plain": [
       "6*p_1*p_2"
      ]
     },
     "execution_count": 18,
     "metadata": {},
     "output_type": "execute_result"
    },
    {
     "data": {
      "text/plain": [
       "True"
      ]
     },
     "execution_count": 18,
     "metadata": {},
     "output_type": "execute_result"
    },
    {
     "data": {
      "text/plain": [
       "True"
      ]
     },
     "execution_count": 18,
     "metadata": {},
     "output_type": "execute_result"
    }
   ],
   "source": [
    "from sympy import I\n",
    "op = opAnalyzer.get_operator(115)\n",
    "\n",
    "op.K#.simplify(rational=True)\n",
    "op.p3corr_is_real\n",
    "\n",
    "( I in op.K.atoms() ) if op.nder%2==1 else ( I not in op.K.atoms() )"
   ]
  },
  {
   "cell_type": "code",
   "execution_count": 19,
   "metadata": {},
   "outputs": [],
   "source": [
    "#opAnalyzer.operator_show()"
   ]
  },
  {
   "cell_type": "code",
   "execution_count": 20,
   "metadata": {},
   "outputs": [
    {
     "data": {
      "text/plain": [
       "[-0.2949(25)]"
      ]
     },
     "execution_count": 20,
     "metadata": {},
     "output_type": "execute_result"
    },
    {
     "data": {
      "image/png": "[encoded data removed]",
      "text/plain": [
       "<Figure size 2000x800 with 1 Axes>"
      ]
     },
     "metadata": {},
     "output_type": "display_data"
    }
   ],
   "source": [
    "opAnalyzer.deselect_operator()\n",
    "opAnalyzer.select_operator(115, 166)\n",
    "opAnalyzer.remove_zeroK_operators()\n",
    "opAnalyzer.get_Klist()\n",
    "opAnalyzer.remove_T()\n",
    "opAnalyzer.remove_T(10,12)\n",
    "_ = opAnalyzer.plot_R(rescale=True)"
   ]
  },
  {
   "cell_type": "code",
   "execution_count": 21,
   "metadata": {},
   "outputs": [
    {
     "name": "stderr",
     "output_type": "stream",
     "text": [
      "/wsgjsc/home/taggi1/workspace_folders/PhD_work/moments_pdf/test_notebooks/../moments_toolkit.py:1866: UserWarning: No artists with labels found to put in legend.  Note that artists whose label start with an underscore are ignored when legend() is called with no argument.\n",
      "  ax[i].legend()\n"
     ]
    },
    {
     "data": {
      "image/png": "[encoded data removed]",
      "text/plain": [
       "<Figure size 2000x800 with 3 Axes>"
      ]
     },
     "metadata": {},
     "output_type": "display_data"
    }
   ],
   "source": [
    "opAnalyzer.remove_T()\n",
    "_ = opAnalyzer.plot_S(tskip=1,rescale=True)"
   ]
  },
  {
   "cell_type": "code",
   "execution_count": 22,
   "metadata": {},
   "outputs": [
    {
     "data": {
      "text/plain": [
       "array([[0 ± 0, 0.0953(39), 0.0916(77), 0.088(10), 0.094(19), 0.110(32),\n",
       "        0.16(11), 0 ± 0]], dtype=object)"
      ]
     },
     "execution_count": 22,
     "metadata": {},
     "output_type": "execute_result"
    },
    {
     "data": {
      "text/plain": [
       "(0.0941(33), 0)"
      ]
     },
     "execution_count": 22,
     "metadata": {},
     "output_type": "execute_result"
    }
   ],
   "source": [
    "opAnalyzer.get_M_from_S(moments=True)\n",
    "\n",
    "avg, iTmin = average_moments_over_T( opAnalyzer.get_M_from_S(moments=True) , chi2=1.0)\n",
    "avg, iTmin"
   ]
  },
  {
   "cell_type": "code",
   "execution_count": 23,
   "metadata": {},
   "outputs": [],
   "source": [
    "# opAnalyzer.focus_paper_operators()\n",
    "# opAnalyzer.display_operators()\n",
    "\n",
    "# for op in opAnalyzer.selected_op:\n",
    "#     op.K"
   ]
  }
 ],
 "metadata": {
  "kernelspec": {
   "display_name": ".venv",
   "language": "python",
   "name": "python3"
  },
  "language_info": {
   "codemirror_mode": {
    "name": "ipython",
    "version": 3
   },
   "file_extension": ".py",
   "mimetype": "text/x-python",
   "name": "python",
   "nbconvert_exporter": "python",
   "pygments_lexer": "ipython3",
   "version": "3.11.9"
  }
 },
 "nbformat": 4,
 "nbformat_minor": 2
}
