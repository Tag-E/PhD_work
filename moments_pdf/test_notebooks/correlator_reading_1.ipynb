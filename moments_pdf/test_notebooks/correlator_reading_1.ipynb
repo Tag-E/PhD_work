{
 "cells": [
  {
   "cell_type": "markdown",
   "metadata": {},
   "source": [
    "# Correlator reading 1"
   ]
  },
  {
   "cell_type": "code",
   "execution_count": 149,
   "metadata": {},
   "outputs": [],
   "source": [
    "from IPython.core.interactiveshell import InteractiveShell\n",
    "InteractiveShell.ast_node_interactivity = \"all\""
   ]
  },
  {
   "cell_type": "code",
   "execution_count": 150,
   "metadata": {},
   "outputs": [],
   "source": [
    "import h5py as h5 #to read the correlator\n",
    "import numpy as np #to do everything\n",
    "from pathlib import Path #to read the file's names\n",
    "from typing import Any, Callable #to use annotations for functions\n",
    "import matplotlib.pyplot as plt #to plot stuff"
   ]
  },
  {
   "cell_type": "code",
   "execution_count": 151,
   "metadata": {},
   "outputs": [
    {
     "data": {
      "text/plain": [
       "numpy.ndarray"
      ]
     },
     "execution_count": 151,
     "metadata": {},
     "output_type": "execute_result"
    },
    {
     "data": {
      "text/plain": [
       "(48,)"
      ]
     },
     "execution_count": 151,
     "metadata": {},
     "output_type": "execute_result"
    }
   ],
   "source": [
    "configID = \"090125_180923\"\n",
    "\n",
    "basefolder = \"/home/tag-e/phd/data_folders/2PointCorrelation/\"\n",
    "filename = basefolder + f\"hadspec.{configID}.h5\" # configID are these numbers in the file names\n",
    "\n",
    "T = 48\n",
    "C2pt = np.zeros(48, dtype = complex) \n",
    "with h5.File(filename, 'r') as h5f:\n",
    "    C2pt = h5f[f\"cfg{configID}/hspectrum/GN3x60-P/mq-0.09933/proton_3/PX0_PY0_PZ0\"][()]\n",
    "    type(C2pt)\n",
    "    np.shape(C2pt)"
   ]
  },
  {
   "cell_type": "code",
   "execution_count": 152,
   "metadata": {},
   "outputs": [
    {
     "data": {
      "text/plain": [
       "'hadspec.090125_070539.h5'"
      ]
     },
     "execution_count": 152,
     "metadata": {},
     "output_type": "execute_result"
    }
   ],
   "source": [
    "p = Path(basefolder).glob('**/*')\n",
    "files = [x for x in p if x.is_file()]\n",
    "files[0].name"
   ]
  },
  {
   "cell_type": "code",
   "execution_count": 153,
   "metadata": {},
   "outputs": [],
   "source": [
    "##### read everything\n",
    "\n",
    "#folder with all the data\n",
    "basefolder = \"/home/tag-e/phd/data_folders/2PointCorrelation/\"\n",
    "\n",
    "#Path file to the data folder\n",
    "p = Path(basefolder).glob('**/*')\n",
    "files = [x for x in p if x.is_file()]\n",
    "\n",
    "#number of data files (i.e. the number of gauge configurations, and for each the 2point correlator is computed)\n",
    "nconf = len(files)\n",
    "\n",
    "#Time extent of the lattice\n",
    "T = 48\n",
    "\n",
    "#array with all the 2 point correlators\n",
    "corr_2p = np.empty((nconf,T),dtype=complex) # shape = (n of config, Time extent)\n",
    "\n",
    "\n",
    "#we cycle through the files in the folder\n",
    "for i,file in enumerate(files):\n",
    "\n",
    "    #we grep the id of the configuration from the file name\n",
    "    configID = file.name.split('.')[1]\n",
    "\n",
    "    #we open the file\n",
    "    with h5.File(basefolder+file.name, 'r') as h5f:\n",
    "    \n",
    "        #we store the correlator into the related array\n",
    "        corr_2p[i] = h5f[f\"cfg{configID}/hspectrum/GN3x60-P/mq-0.09933/proton_3/PX0_PY0_PZ0\"][()]\n",
    "\n"
   ]
  },
  {
   "cell_type": "code",
   "execution_count": 154,
   "metadata": {},
   "outputs": [
    {
     "data": {
      "text/plain": [
       "array([ 1.67909357e-08,  9.91452419e-09,  5.42965216e-09,  2.89625567e-09,\n",
       "        1.55570984e-09,  8.47191499e-10,  4.66953551e-10,  2.60329198e-10,\n",
       "        1.46173171e-10,  8.26903919e-11,  4.72109702e-11,  2.71252887e-11,\n",
       "        1.54293308e-11,  9.03912689e-12,  5.41950809e-12,  3.23543476e-12,\n",
       "        2.01590691e-12,  1.42374332e-12,  9.22496871e-13,  4.61152165e-13,\n",
       "        9.86267367e-14, -1.58268965e-13, -2.56448255e-13, -1.68655785e-13,\n",
       "       -1.19307992e-13,  5.09242280e-15,  1.64777338e-13,  4.17469696e-13,\n",
       "        3.55144854e-13,  2.57088308e-13,  2.30680992e-13,  1.11196640e-13,\n",
       "        3.90319292e-14, -1.32722162e-14, -9.17101923e-14,  5.94047403e-14,\n",
       "        4.68430416e-13,  8.59548062e-13,  1.16592525e-12,  1.42261538e-12,\n",
       "        2.27532901e-12,  4.78728620e-12,  1.14918891e-11,  2.92621604e-11,\n",
       "        7.66559468e-11,  2.14287295e-10,  6.37441063e-10,  1.94315268e-09])"
      ]
     },
     "execution_count": 154,
     "metadata": {},
     "output_type": "execute_result"
    },
    {
     "data": {
      "text/plain": [
       "array([ 2.13587105e-11,  2.19200131e-11,  1.64284760e-11,  1.01937544e-11,\n",
       "        5.14839277e-12,  1.17484046e-12, -2.29063247e-13,  6.39906201e-15,\n",
       "        7.29373623e-13,  7.82453433e-13,  7.59428149e-13,  5.95673880e-13,\n",
       "        3.98477057e-13,  1.90282496e-14,  1.75665610e-13,  5.77348974e-14,\n",
       "       -8.11240897e-14, -1.03160619e-13, -1.01761283e-13, -1.28855563e-13,\n",
       "       -2.32664736e-13, -2.43391339e-13, -2.50018257e-13, -9.81411897e-14,\n",
       "        3.02969578e-14,  9.16059406e-14,  8.73305218e-14, -7.48502527e-15,\n",
       "       -8.08044197e-14, -1.62597351e-13, -7.13379062e-14,  1.11266079e-13,\n",
       "        1.34583139e-13,  1.72166025e-14,  8.19641910e-15,  2.10835320e-14,\n",
       "       -3.07293684e-14, -2.22863488e-13, -3.63129520e-13, -1.67943500e-13,\n",
       "        7.06307703e-14,  3.47395451e-13,  7.95469161e-13,  1.07686077e-12,\n",
       "        8.11279577e-13, -2.83604548e-13, -7.01237997e-13, -9.04345205e-13])"
      ]
     },
     "execution_count": 154,
     "metadata": {},
     "output_type": "execute_result"
    },
    {
     "data": {
      "text/plain": [
       "[<matplotlib.lines.Line2D at 0x740b74230740>]"
      ]
     },
     "execution_count": 154,
     "metadata": {},
     "output_type": "execute_result"
    },
    {
     "data": {
      "text/plain": [
       "[<matplotlib.lines.Line2D at 0x740b74109700>]"
      ]
     },
     "execution_count": 154,
     "metadata": {},
     "output_type": "execute_result"
    },
    {
     "data": {
      "text/plain": [
       "<matplotlib.legend.Legend at 0x740b74211e80>"
      ]
     },
     "execution_count": 154,
     "metadata": {},
     "output_type": "execute_result"
    },
    {
     "data": {
      "image/png": "[encoded data removed]",
      "text/plain": [
       "<Figure size 640x480 with 1 Axes>"
      ]
     },
     "metadata": {},
     "output_type": "display_data"
    }
   ],
   "source": [
    "times=np.arange(T)\n",
    "np.mean(corr_2p.real,axis=0)\n",
    "np.mean(corr_2p.imag,axis=0)\n",
    "\n",
    "plt.plot(times,np.mean(corr_2p.real,axis=0),label='real')\n",
    "plt.plot(times,np.mean(corr_2p.imag,axis=0),label='imag')\n",
    "plt.legend()"
   ]
  },
  {
   "cell_type": "code",
   "execution_count": 155,
   "metadata": {},
   "outputs": [],
   "source": [
    "#cast to real\n",
    "#corr_2p = corr_2p.real\n",
    "#corr_2p = corr_2p.imag\n",
    "corr_2p = np.abs(corr_2p)"
   ]
  },
  {
   "cell_type": "code",
   "execution_count": 156,
   "metadata": {},
   "outputs": [
    {
     "data": {
      "text/plain": [
       "(102, 48)"
      ]
     },
     "execution_count": 156,
     "metadata": {},
     "output_type": "execute_result"
    }
   ],
   "source": [
    "np.shape(corr_2p)"
   ]
  },
  {
   "cell_type": "code",
   "execution_count": 194,
   "metadata": {},
   "outputs": [],
   "source": [
    "def jackknife(in_array: np.ndarray, observable: Callable[[], Any], jack_axis=0, time_axis=-1, binsize=1,first_conf=0,last_conf=nconf) -> list:\n",
    "    \"\"\"\n",
    "    input:\n",
    "        - array to be jackknifed,\n",
    "        - axis over which jackknifing (the one with the configurations),\n",
    "        - function of the observable to be estimated with the jackknife (its input has to have the same shape as in_array)\n",
    "    output:\n",
    "        - list with [mean, std] where mean and std are np array with same the same shape as the input one\n",
    "    \"\"\"\n",
    "\n",
    "    #step 1: creation of the jackknife resamples\n",
    "    jack_resamples = np.asarray( [np.delete(in_array, list(range(iconf,min(iconf+binsize,last_conf))) ,axis=jack_axis) for iconf in range(first_conf,last_conf,binsize)] )\n",
    "    print(\"jack resamples\")\n",
    "    print(np.shape(jack_resamples))\n",
    "\n",
    "    #the number of resamples is len(jack_resmaples[0]) or also\n",
    "    #nresamp = int((last_conf-first_conf)/binsize)\n",
    "    nresamp = np.shape(jack_resamples)[0] #the 0th axis now is the resample axis, (and axis has nconf-1 conf in the standard case (binsize=1 ecc.) )\n",
    "\n",
    "    #step 2; for each resample we compute the obsrvable of interest\n",
    "    #we use the resampled input array to compute the observable we want, and we have nresamp of them\n",
    "    obs_resamp = np.asarray( [observable(jack_resamples[i]) for i in range(nresamp) ] )  \n",
    "    print(\"obs resamples\")\n",
    "    print(np.shape(obs_resamp))\n",
    "\n",
    "    #step 3: we compute the observable also on the whole dataset\n",
    "    obs = observable(in_array)\n",
    "    print(\"obs\")\n",
    "    print(np.shape(obs))\n",
    "\n",
    "    #step4: compute estimate, bias and std according to the jackknife method\n",
    "    \n",
    "    #the estimate is the mean of the resamples\n",
    "    jack_mean = np.mean(obs_resamp,axis=0) #axis 0 is the resamples one\n",
    "    print(\"jack mean\")\n",
    "    print(np.shape(jack_mean))\n",
    "\n",
    "    #the jackknife bias is given by the following formula\n",
    "    bias = (nresamp-1) * (jack_mean - obs) \n",
    "    print(\"bias\")\n",
    "    print(np.shape(bias))\n",
    "\n",
    "    #the jack std is given by the following formula\n",
    "    obs_std = np.sqrt( (nresamp-1)/nresamp * np.sum( (obs_resamp - jack_mean)**2, axis=0 ) ) #the axis is the resamples one\n",
    "    print(\"obs std\")\n",
    "    print(np.shape(obs_std))\n",
    "\n",
    "    #to obtain the final estimate we correct the jack mean by the bias\n",
    "    obs_mean = jack_mean - bias\n",
    "\n",
    "    #let's now also obtain the covariance matrix for the time direction\n",
    "    covmat = np.empty( (np.shape(obs_mean)[time_axis],np.shape(obs_mean)[time_axis]) ) #(np.delete(np.shape(obs_mean),time_axis),) + (np.shape(obs_mean)[time_axis],np.shape(obs_mean)[time_axis],) ) ###ACHTUNG: here valid only for time_axis=-1\n",
    "    for t1 in range(np.shape(obs_mean)[time_axis]):\n",
    "        for t2 in range(np.shape(obs_mean)[time_axis]):\n",
    "            ##########ADJUST DIMENSIONSSS\n",
    "            covmat[t1,t2] = (nresamp-1)/nresamp * np.sum( (obs_resamp[:,t1] - obs[t1]) * (obs_resamp[:,t2] - obs[t2]),axis=0 )\n",
    "\n",
    "\n",
    "    #we return mean and std \n",
    "    return [obs_mean, obs_std, covmat]"
   ]
  },
  {
   "cell_type": "code",
   "execution_count": 158,
   "metadata": {},
   "outputs": [],
   "source": [
    "#function to be used with the jackknife to compute the gauge average of the correlators\n",
    "def gauge_average(in_array: np.ndarray, gauge_axis=0) -> np.ndarray:\n",
    "    return np.mean(in_array, axis=gauge_axis)"
   ]
  },
  {
   "cell_type": "code",
   "execution_count": 159,
   "metadata": {},
   "outputs": [
    {
     "data": {
      "text/plain": [
       "102"
      ]
     },
     "execution_count": 159,
     "metadata": {},
     "output_type": "execute_result"
    }
   ],
   "source": [
    "nresamp = nconf\n",
    "nresamp"
   ]
  },
  {
   "cell_type": "code",
   "execution_count": 196,
   "metadata": {},
   "outputs": [
    {
     "name": "stdout",
     "output_type": "stream",
     "text": [
      "jack resamples\n",
      "(102, 101, 48)\n",
      "obs resamples\n",
      "(102, 48)\n",
      "obs\n",
      "(48,)\n",
      "jack mean\n",
      "(48,)\n",
      "bias\n",
      "(48,)\n",
      "obs std\n",
      "(48,)\n"
     ]
    },
    {
     "data": {
      "text/plain": [
       "(48,)"
      ]
     },
     "execution_count": 196,
     "metadata": {},
     "output_type": "execute_result"
    },
    {
     "data": {
      "text/plain": [
       "(48,)"
      ]
     },
     "execution_count": 196,
     "metadata": {},
     "output_type": "execute_result"
    }
   ],
   "source": [
    "corr2p_mean, corr2p_std, corr2p_cov = jackknife(corr_2p, gauge_average, jack_axis=0)\n",
    "np.shape(corr2p_mean)\n",
    "np.shape(corr2p_std)"
   ]
  },
  {
   "cell_type": "code",
   "execution_count": 161,
   "metadata": {},
   "outputs": [
    {
     "data": {
      "text/plain": [
       "<ErrorbarContainer object of 3 artists>"
      ]
     },
     "execution_count": 161,
     "metadata": {},
     "output_type": "execute_result"
    },
    {
     "data": {
      "image/png": "[encoded data removed]",
      "text/plain": [
       "<Figure size 640x480 with 1 Axes>"
      ]
     },
     "metadata": {},
     "output_type": "display_data"
    }
   ],
   "source": [
    "times=np.arange(T)\n",
    "plt.errorbar(times,corr2p_mean,yerr=corr2p_std, linewidth=0.5,marker='o',markersize=4,elinewidth=1.0)\n",
    "#plt.yscale('log')"
   ]
  },
  {
   "cell_type": "code",
   "execution_count": 162,
   "metadata": {},
   "outputs": [
    {
     "data": {
      "text/plain": [
       "array([0.00452719, 0.00518336, 0.00605669, 0.00673011, 0.00727123,\n",
       "       0.0079051 , 0.00907373, 0.01103739, 0.01417883, 0.01865717,\n",
       "       0.02539851, 0.03347198, 0.04140545, 0.04954014, 0.06017537,\n",
       "       0.07389657, 0.0893037 , 0.09597847, 0.09428326, 0.09931617,\n",
       "       0.09414119, 0.08972729, 0.12397758, 0.12914592, 0.12345702,\n",
       "       0.09349868, 0.1079634 , 0.12097486, 0.10005403, 0.09593233,\n",
       "       0.12112013, 0.16288531, 0.15628079, 0.11661141, 0.10875803,\n",
       "       0.11250681, 0.09630196, 0.0968617 , 0.10687274, 0.09628475,\n",
       "       0.10092126, 0.09575693, 0.07292878, 0.04436475, 0.02305597,\n",
       "       0.01225418, 0.00817301, 0.00623049])"
      ]
     },
     "execution_count": 162,
     "metadata": {},
     "output_type": "execute_result"
    },
    {
     "data": {
      "text/plain": [
       "np.float64(0.07021732760218816)"
      ]
     },
     "execution_count": 162,
     "metadata": {},
     "output_type": "execute_result"
    }
   ],
   "source": [
    "corr2p_std/corr2p_mean\n",
    "np.mean(np.abs(corr2p_std/corr2p_mean))"
   ]
  },
  {
   "cell_type": "code",
   "execution_count": 163,
   "metadata": {},
   "outputs": [],
   "source": [
    "#function to be used with the jackknife to compute the effective mass of the correlators\n",
    "def eff_mass(corr_array: np.ndarray,gauge_axis=0) -> np.ndarray:\n",
    "    #the input array is the array with the 2point correlators\n",
    "\n",
    "    #we first take the gauge average\n",
    "    corr_gavg = np.mean(corr_array, axis=gauge_axis)\n",
    "\n",
    "    #then we rearrange the array as to have the time as first axis\n",
    "    #corr_gavg_t = np.moveaxis(corr_gavg, time_axis, 0)\n",
    "\n",
    "    #for the effective mass the number of time values is Tm1 = T - 1\n",
    "    #Tm1 = np.shape(corr_gavg_t)[0]-1\n",
    "    Tm1 = np.shape(corr_gavg)[0]-1\n",
    "\n",
    "    #we instantiate the eff mass array with first dimension of size tvalues - 1\n",
    "    #meff = np.zeros(( (Tm1,) + np.shape(corr_gavg_t)[1:] ))\n",
    "    #\"meff\"\n",
    "    #print(np.shape(meff))\n",
    "\n",
    "    meff = np.empty((Tm1))\n",
    "\n",
    "    #we compute the effective mass\n",
    "    for t in range(Tm1):\n",
    "        #meff[t] = np.log( corr_gavg_t[t]) - np.log( corr_gavg_t[t+1])#np.log( corr_gavg_t[t]/corr_gavg_t[t+1] )\n",
    "        #meff[t] = np.log(corr_gavg[t]) - np.log(corr_gavg[t+1])\n",
    "        meff[t] = np.log( (corr_gavg[t]/corr_gavg[t+1]).real )\n",
    "\n",
    "    #then we bring the time axis back to its position\n",
    "    #meff = np.moveaxis(meff, 0, time_axis)\n",
    "\n",
    "    #we send back the effective mass\n",
    "    return meff"
   ]
  },
  {
   "cell_type": "code",
   "execution_count": 197,
   "metadata": {},
   "outputs": [
    {
     "name": "stdout",
     "output_type": "stream",
     "text": [
      "jack resamples\n",
      "(102, 101, 48)\n",
      "obs resamples\n",
      "(102, 47)\n",
      "obs\n",
      "(47,)\n",
      "jack mean\n",
      "(47,)\n",
      "bias\n",
      "(47,)\n",
      "obs std\n",
      "(47,)\n"
     ]
    }
   ],
   "source": [
    "meff_mean, meff_std, meff_cov = jackknife(corr_2p, eff_mass, jack_axis=0)\n"
   ]
  },
  {
   "cell_type": "code",
   "execution_count": 165,
   "metadata": {},
   "outputs": [
    {
     "data": {
      "text/plain": [
       "<ErrorbarContainer object of 3 artists>"
      ]
     },
     "execution_count": 165,
     "metadata": {},
     "output_type": "execute_result"
    },
    {
     "data": {
      "image/png": "[encoded data removed]",
      "text/plain": [
       "<Figure size 640x480 with 1 Axes>"
      ]
     },
     "metadata": {},
     "output_type": "display_data"
    }
   ],
   "source": [
    "times=np.arange(T)\n",
    "m_times = times[:-1] +0.5\n",
    "plt.errorbar(m_times,meff_mean,yerr=meff_std,linewidth=0.5,marker='o',markersize=4,elinewidth=1.0)\n",
    "plt.grid()"
   ]
  },
  {
   "cell_type": "code",
   "execution_count": 166,
   "metadata": {},
   "outputs": [
    {
     "data": {
      "text/plain": [
       "(102, 48)"
      ]
     },
     "execution_count": 166,
     "metadata": {},
     "output_type": "execute_result"
    },
    {
     "data": {
      "text/plain": [
       "(12, 35, 77, 87)"
      ]
     },
     "execution_count": 166,
     "metadata": {},
     "output_type": "execute_result"
    },
    {
     "data": {
      "text/plain": [
       "(77, 12, 35, 87)"
      ]
     },
     "execution_count": 166,
     "metadata": {},
     "output_type": "execute_result"
    },
    {
     "data": {
      "text/plain": [
       "(12, 35, 77, 87)"
      ]
     },
     "execution_count": 166,
     "metadata": {},
     "output_type": "execute_result"
    },
    {
     "data": {
      "text/plain": [
       "np.True_"
      ]
     },
     "execution_count": 166,
     "metadata": {},
     "output_type": "execute_result"
    }
   ],
   "source": [
    "np.shape(corr_2p)\n",
    "\n",
    "#np.shape( np.rollaxis(corr_2p, -1) )\n",
    "\n",
    "ok = np.zeros((12,35,77,87))\n",
    "np.shape(ok)\n",
    "\n",
    "#np.shape( np.rollaxis( ok , 3) )\n",
    "\n",
    "ok2 = np.moveaxis( ok , 2, 0)\n",
    "\n",
    "np.shape( ok2 )\n",
    "\n",
    "ok3 = np.moveaxis(ok2, 0, 2)\n",
    "\n",
    "np.shape( ok3 )\n",
    "\n",
    "(ok3==ok).all()"
   ]
  },
  {
   "cell_type": "code",
   "execution_count": 167,
   "metadata": {},
   "outputs": [
    {
     "data": {
      "text/plain": [
       "(35, 77, 87)"
      ]
     },
     "execution_count": 167,
     "metadata": {},
     "output_type": "execute_result"
    },
    {
     "data": {
      "text/plain": [
       "66"
      ]
     },
     "execution_count": 167,
     "metadata": {},
     "output_type": "execute_result"
    }
   ],
   "source": [
    "np.shape(ok)[1:]\n",
    "\n",
    "ok33 = np.empty(((1,) + (4,67)))\n",
    "\n",
    "np.shape(ok33)[2]-1"
   ]
  },
  {
   "cell_type": "code",
   "execution_count": 168,
   "metadata": {},
   "outputs": [
    {
     "name": "stdout",
     "output_type": "stream",
     "text": [
      "(1, 2)\n",
      "(1, 2)\n",
      "(1, 2)\n",
      "(1, 2)\n",
      "(1, 2)\n",
      "(1, 2)\n",
      "(1, 2)\n",
      "(1, 2)\n",
      "(1, 2)\n",
      "(1, 2)\n"
     ]
    },
    {
     "data": {
      "text/plain": [
       "array([[[0., 0.]],\n",
       "\n",
       "       [[0., 0.]],\n",
       "\n",
       "       [[0., 0.]],\n",
       "\n",
       "       [[0., 0.]],\n",
       "\n",
       "       [[0., 0.]],\n",
       "\n",
       "       [[0., 0.]],\n",
       "\n",
       "       [[0., 0.]],\n",
       "\n",
       "       [[0., 0.]],\n",
       "\n",
       "       [[0., 0.]],\n",
       "\n",
       "       [[0., 0.]]])"
      ]
     },
     "execution_count": 168,
     "metadata": {},
     "output_type": "execute_result"
    }
   ],
   "source": [
    "oks = np.ones((10,1,2))\n",
    "def foo(inarray):\n",
    "    print(np.shape(inarray))\n",
    "    return np.zeros(np.shape(inarray))\n",
    "\n",
    "ttt = np.empty(np.shape(oks))\n",
    "ttt = np.asarray( [ foo(oks[i]) for i in range(np.shape(oks)[0]) ] )\n",
    "ttt"
   ]
  },
  {
   "cell_type": "code",
   "execution_count": 169,
   "metadata": {},
   "outputs": [
    {
     "data": {
      "text/plain": [
       "(102, 48)"
      ]
     },
     "execution_count": 169,
     "metadata": {},
     "output_type": "execute_result"
    },
    {
     "data": {
      "text/plain": [
       "<ErrorbarContainer object of 3 artists>"
      ]
     },
     "execution_count": 169,
     "metadata": {},
     "output_type": "execute_result"
    },
    {
     "data": {
      "image/png": "[encoded data removed]",
      "text/plain": [
       "<Figure size 640x480 with 1 Axes>"
      ]
     },
     "metadata": {},
     "output_type": "display_data"
    }
   ],
   "source": [
    "np.shape(corr_2p)\n",
    "\n",
    "corr_2p_gavg = np.mean(corr_2p,axis=0)\n",
    "corr_2p_gavg_std = np.std(corr_2p,axis=0)\n",
    "\n",
    "plt.errorbar(times,corr_2p_gavg,yerr=corr_2p_gavg_std,linewidth=0.5,marker='o',markersize=4,elinewidth=1.0)\n",
    "plt.yscale('log')\n",
    "#plt.xlim(0,20)"
   ]
  },
  {
   "cell_type": "code",
   "execution_count": 170,
   "metadata": {},
   "outputs": [
    {
     "data": {
      "text/plain": [
       "(48,)"
      ]
     },
     "execution_count": 170,
     "metadata": {},
     "output_type": "execute_result"
    }
   ],
   "source": [
    "np.shape(corr_2p_gavg)"
   ]
  },
  {
   "cell_type": "code",
   "execution_count": null,
   "metadata": {},
   "outputs": [
    {
     "data": {
      "text/plain": [
       "[<matplotlib.lines.Line2D at 0x740b73fe8770>]"
      ]
     },
     "execution_count": 172,
     "metadata": {},
     "output_type": "execute_result"
    },
    {
     "data": {
      "text/plain": [
       "<ErrorbarContainer object of 3 artists>"
      ]
     },
     "execution_count": 172,
     "metadata": {},
     "output_type": "execute_result"
    },
    {
     "data": {
      "text/plain": [
       "(0.0, 48.0)"
      ]
     },
     "execution_count": 172,
     "metadata": {},
     "output_type": "execute_result"
    },
    {
     "data": {
      "image/png": "[encoded data removed]",
      "text/plain": [
       "<Figure size 640x480 with 1 Axes>"
      ]
     },
     "metadata": {},
     "output_type": "display_data"
    }
   ],
   "source": [
    "meff = np.empty((T-1))\n",
    "for t in range(T-1):\n",
    "    meff[t] = np.log((corr_2p_gavg[t]/corr_2p_gavg[t+1]).real)\n",
    "\n",
    "    massa = meff[t]\n",
    "    for it in range(150):\n",
    "        den = 1 - np.exp( -2*massa * ( T-t  ) )\n",
    "        num = 1 - np.exp( -2*massa * ( T-t-1) )\n",
    "        \n",
    "        new_massa = np.log( (corr_2p_gavg[t]/corr_2p_gavg[t+1]).real * num/den )\n",
    "\n",
    "        if np.abs(massa-new_massa)/massa < 3e-10:\n",
    "                massa=new_massa\n",
    "                #print(f\"{it}\")\n",
    "                break\n",
    "        massa = new_massa\n",
    "    meff[t] = massa\n",
    "\n",
    "tcut = 48\n",
    "tmin = 0\n",
    "\n",
    "plt.plot(m_times[tmin:tcut],meff[tmin:tcut])\n",
    "plt.errorbar(m_times[tmin:tcut],meff_mean[tmin:tcut],yerr=meff_std[tmin:tcut],linewidth=0.5,marker='o',markersize=4,elinewidth=1.0)\n",
    "plt.grid()\n",
    "plt.xlim(tmin,tcut)"
   ]
  },
  {
   "cell_type": "code",
   "execution_count": 175,
   "metadata": {},
   "outputs": [],
   "source": [
    "#auxiliary function to compute the chi2 of a fit\n",
    "def chi2(array,std_array,axis):\n",
    "    avg = np.mean(array,axis=axis,keepdims=True)\n",
    "    return np.sum( ((array-avg)/std_array)**2 , axis=axis) / np.shape(array)[axis]"
   ]
  },
  {
   "cell_type": "code",
   "execution_count": 184,
   "metadata": {},
   "outputs": [
    {
     "data": {
      "text/plain": [
       "9"
      ]
     },
     "execution_count": 184,
     "metadata": {},
     "output_type": "execute_result"
    }
   ],
   "source": [
    "#algo to search for the plateau value\n",
    "rcut = 10\n",
    "lcut = 10\n",
    "chi2_ref = 1.5\n",
    "for icut in range(1,int(T/2)):\n",
    "\n",
    "    plateaux_value = np.mean(meff_mean[icut+lcut:-icut-rcut])\n",
    "    plateaux_std = np.sqrt( np.mean( meff_mean[icut+lcut:-icut-rcut]**2 ) )\n",
    "\n",
    "    if chi2(meff_mean[icut+lcut:-icut-rcut],meff_std[icut+lcut:-icut-rcut],axis=0) < chi2_ref:\n",
    "        chosen_cut = icut\n",
    "        chosen_cut\n",
    "        break"
   ]
  },
  {
   "cell_type": "code",
   "execution_count": 185,
   "metadata": {},
   "outputs": [
    {
     "data": {
      "text/plain": [
       "<ErrorbarContainer object of 3 artists>"
      ]
     },
     "execution_count": 185,
     "metadata": {},
     "output_type": "execute_result"
    },
    {
     "data": {
      "text/plain": [
       "<matplotlib.collections.LineCollection at 0x740b73f69190>"
      ]
     },
     "execution_count": 185,
     "metadata": {},
     "output_type": "execute_result"
    },
    {
     "data": {
      "text/plain": [
       "<matplotlib.collections.LineCollection at 0x740b73d32360>"
      ]
     },
     "execution_count": 185,
     "metadata": {},
     "output_type": "execute_result"
    },
    {
     "data": {
      "text/plain": [
       "<matplotlib.collections.LineCollection at 0x740b8a1fd160>"
      ]
     },
     "execution_count": 185,
     "metadata": {},
     "output_type": "execute_result"
    },
    {
     "data": {
      "image/png": "[encoded data removed]",
      "text/plain": [
       "<Figure size 640x480 with 1 Axes>"
      ]
     },
     "metadata": {},
     "output_type": "display_data"
    }
   ],
   "source": [
    "zoom = 3\n",
    "plt.errorbar(m_times[chosen_cut+lcut -zoom:-chosen_cut-rcut + zoom],meff_mean[chosen_cut+lcut -zoom:-chosen_cut-rcut + zoom],yerr=meff_std[chosen_cut+lcut -zoom:-chosen_cut-rcut + zoom],linewidth=0.5,marker='o',markersize=4,elinewidth=1.0)\n",
    "plt.hlines(plateaux_value,chosen_cut+lcut, T -1 -chosen_cut-rcut,color='red')\n",
    "plt.hlines(plateaux_value+plateaux_std,chosen_cut+lcut, T -1 -chosen_cut-rcut,color='red',linestyles='dashed')\n",
    "plt.hlines(plateaux_value-plateaux_std,chosen_cut+lcut, T -1 -chosen_cut-rcut,color='red',linestyles='dashed')\n",
    "plt.grid()"
   ]
  },
  {
   "cell_type": "code",
   "execution_count": 210,
   "metadata": {},
   "outputs": [],
   "source": [
    "#auxiliary function to compute chi2 of a fit taking into account the covariant matrix\n",
    "def reduced_cov_chi2(array,cov_array,axis):\n",
    "    cov_inv = np.linalg.inv(cov_array)\n",
    "    avg = np.mean(array,axis=axis,keepdims=True)\n",
    "    deltas = array-avg\n",
    "\n",
    "    plateau_T = np.shape(array)[axis]\n",
    "\n",
    "    #return np.dot( deltas, np.dot(cov_inv, deltas))\n",
    "\n",
    "    return np.einsum( 'j,j->' , deltas, np.einsum('jk,k->j',cov_inv,deltas) ) / plateau_T #achtung: indices are not related to general case"
   ]
  },
  {
   "cell_type": "code",
   "execution_count": 213,
   "metadata": {},
   "outputs": [
    {
     "data": {
      "text/plain": [
       "11"
      ]
     },
     "execution_count": 213,
     "metadata": {},
     "output_type": "execute_result"
    }
   ],
   "source": [
    "#algo to search for the plateau value\n",
    "rcut = 10\n",
    "lcut = 10\n",
    "chi2_ref = 1.0 * 2\n",
    "for icut in range(1,int(T/2)):\n",
    "\n",
    "    plateaux_value = np.mean(meff_mean[icut+lcut:-icut-rcut])\n",
    "    plateaux_std = np.sqrt( np.mean( meff_mean[icut+lcut:-icut-rcut]**2 ) )\n",
    "\n",
    "    if reduced_cov_chi2(meff_mean[icut+lcut:-icut-rcut],meff_cov[icut+lcut:-icut-rcut,icut+lcut:-icut-rcut],axis=0) < chi2_ref:\n",
    "        chosen_cut = icut\n",
    "        chosen_cut\n",
    "        break"
   ]
  },
  {
   "cell_type": "code",
   "execution_count": 214,
   "metadata": {},
   "outputs": [
    {
     "data": {
      "text/plain": [
       "<ErrorbarContainer object of 3 artists>"
      ]
     },
     "execution_count": 214,
     "metadata": {},
     "output_type": "execute_result"
    },
    {
     "data": {
      "text/plain": [
       "<matplotlib.collections.LineCollection at 0x740b73a17c50>"
      ]
     },
     "execution_count": 214,
     "metadata": {},
     "output_type": "execute_result"
    },
    {
     "data": {
      "text/plain": [
       "<matplotlib.collections.LineCollection at 0x740b73bdcd40>"
      ]
     },
     "execution_count": 214,
     "metadata": {},
     "output_type": "execute_result"
    },
    {
     "data": {
      "text/plain": [
       "<matplotlib.collections.LineCollection at 0x740b73a4ca10>"
      ]
     },
     "execution_count": 214,
     "metadata": {},
     "output_type": "execute_result"
    },
    {
     "data": {
      "image/png": "[encoded data removed]",
      "text/plain": [
       "<Figure size 640x480 with 1 Axes>"
      ]
     },
     "metadata": {},
     "output_type": "display_data"
    }
   ],
   "source": [
    "zoom = 3\n",
    "plt.errorbar(m_times[chosen_cut+lcut -zoom:-chosen_cut-rcut + zoom],meff_mean[chosen_cut+lcut -zoom:-chosen_cut-rcut + zoom],yerr=meff_std[chosen_cut+lcut -zoom:-chosen_cut-rcut + zoom],linewidth=0.5,marker='o',markersize=4,elinewidth=1.0)\n",
    "plt.hlines(plateaux_value,chosen_cut+lcut, T -1 -chosen_cut-rcut,color='red')\n",
    "plt.hlines(plateaux_value+plateaux_std,chosen_cut+lcut, T -1 -chosen_cut-rcut,color='red',linestyles='dashed')\n",
    "plt.hlines(plateaux_value-plateaux_std,chosen_cut+lcut, T -1 -chosen_cut-rcut,color='red',linestyles='dashed')\n",
    "plt.grid()"
   ]
  }
 ],
 "metadata": {
  "kernelspec": {
   "display_name": ".venv",
   "language": "python",
   "name": "python3"
  },
  "language_info": {
   "codemirror_mode": {
    "name": "ipython",
    "version": 3
   },
   "file_extension": ".py",
   "mimetype": "text/x-python",
   "name": "python",
   "nbconvert_exporter": "python",
   "pygments_lexer": "ipython3",
   "version": "3.12.3"
  }
 },
 "nbformat": 4,
 "nbformat_minor": 2
}
