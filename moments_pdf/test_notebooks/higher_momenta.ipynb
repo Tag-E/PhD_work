{
 "cells": [
  {
   "cell_type": "markdown",
   "metadata": {},
   "source": [
    "# Notebook setup"
   ]
  },
  {
   "cell_type": "code",
   "execution_count": 1,
   "metadata": {},
   "outputs": [],
   "source": [
    "from IPython.core.interactiveshell import InteractiveShell\n",
    "InteractiveShell.ast_node_interactivity = \"all\"\n",
    "\n",
    "\n",
    "import numpy as np\n",
    "import matplotlib.pyplot as plt\n",
    "\n",
    "import os\n",
    "import sys\n",
    "\n",
    "sys.path.insert(1, '../')\n",
    "\n",
    "from moments_toolkit import moments_toolkit\n",
    "\n",
    "from moments_toolkit import ratio_formula, sum_ratios_formula\n",
    "\n",
    "import gvar as gv\n",
    "\n",
    "from moments_toolkit import plateau_search\n",
    "\n",
    "import itertools as it\n",
    "\n",
    "import correlatoranalyser as CA\n",
    "\n",
    "from moments_toolkit import ratio_formula, jackknife_resamples, ratio_func_form\n"
   ]
  },
  {
   "cell_type": "markdown",
   "metadata": {},
   "source": [
    "# Data reading"
   ]
  },
  {
   "cell_type": "code",
   "execution_count": 3,
   "metadata": {},
   "outputs": [
    {
     "name": "stdout",
     "output_type": "stream",
     "text": [
      "\n",
      "Initializing the moments_toolkit class instance...\n",
      "\n",
      "\n",
      "Initializing the building block class instance...\n",
      "\n",
      "\n",
      "Reading the the keys of the dataset ...\n",
      "\n",
      "\n",
      "Reading the 2 point and 3 point correlators from the fast access dataset ...\n",
      "\n",
      "\n",
      "Reading the list of all the available operators from the database...\n",
      "\n",
      "\n",
      "Class Initialization Complete!\n",
      "\n"
     ]
    }
   ],
   "source": [
    "p3fold = os.environ['mount_point_path'] + \"48c48/binned_1012_hmz370_BMW/3PointCorrelation/\"\n",
    "p2fold = os.environ['mount_point_path'] + \"48c48/binned_1012_hmz370_BMW/2PointCorrelation/\"\n",
    "\n",
    "\n",
    "opAnalyzer = moments_toolkit(p3fold, p2fold,\n",
    "                            T_to_remove_list=[12], skip3p=False, skipop=False,\n",
    "                            verbose=True,\n",
    "                            fast_data_folder = \"../fast_data_q0\",\n",
    "                            operator_folder= \"../operator_database\",\n",
    "                            momentum='PX0_PY0_PZ0',\n",
    "                            insertion_momentum = 'qx0_qy0_qz0',\n",
    "                            tag_2p='hspectrum',\n",
    "                            maxConf=2,\n",
    "                            max_n=2 #max_n=3\n",
    "                            )"
   ]
  },
  {
   "cell_type": "code",
   "execution_count": 6,
   "metadata": {},
   "outputs": [
    {
     "name": "stdout",
     "output_type": "stream",
     "text": [
      "\n",
      "Selected Keys:\n",
      "\n",
      "    -tag_3point: bb\n",
      "    -smearing: GN3x60-GN3x60\n",
      "    -mass: mq-0.09933\n",
      "    -hadron: proton_3\n",
      "    -momentum: PX0_PY0_PZ0\n",
      "    -insmomentum: qx0_qy0_qz0\n",
      "    -tag_2point: hspectrum\n",
      "\n",
      "Available Keys:\n",
      "\n",
      "tag_list: ['bb', 'bb_d2_dpx2', 'bb_d2_dpy2', 'bb_d2_dpz2', 'bb_d_dpx', 'bb_d_dpy', 'bb_d_dpz', 'bb_dfrw_dpx_dseq_dpx', 'bb_dfrw_dpx_dseq_dpy', 'bb_dfrw_dpx_dseq_dpz', 'bb_dfrw_dpy_dseq_dpx', 'bb_dfrw_dpy_dseq_dpy', 'bb_dfrw_dpy_dseq_dpz', 'bb_dfrw_dpz_dseq_dpx', 'bb_dfrw_dpz_dseq_dpy', 'bb_dfrw_dpz_dseq_dpz', 'bb_dseq_dpx', 'bb_dseq_dpy', 'bb_dseq_dpz']\n",
      "smearing_list: ['GN3x60-GN3x60']\n",
      "mass_list: ['mq-0.09933']\n",
      "hadron_list: ['proton_3', 'proton_negpar_3']\n",
      "qcontent_list: ['D', 'U']\n",
      "momentum_list: ['PX-2_PY0_PZ0', 'PX0_PY0_PZ0']\n",
      "displacement_list: ['l0_', 'l1_T', 'l1_X', 'l1_Y', 'l1_Z', 'l1_t', 'l1_x', 'l1_y', 'l1_z', 'l2_TT', 'l2_TX', 'l2_TY', 'l2_TZ', 'l2_Tx', 'l2_Ty', 'l2_Tz', 'l2_XT', 'l2_XX', 'l2_XY', 'l2_XZ', 'l2_Xt', 'l2_Xy', 'l2_Xz', 'l2_YT', 'l2_YX', 'l2_YY', 'l2_YZ', 'l2_Yt', 'l2_Yx', 'l2_Yz', 'l2_ZT', 'l2_ZX', 'l2_ZY', 'l2_ZZ', 'l2_Zt', 'l2_Zx', 'l2_Zy', 'l2_tX', 'l2_tY', 'l2_tZ', 'l2_tt', 'l2_tx', 'l2_ty', 'l2_tz', 'l2_xT', 'l2_xY', 'l2_xZ', 'l2_xt', 'l2_xx', 'l2_xy', 'l2_xz', 'l2_yT', 'l2_yX', 'l2_yZ', 'l2_yt', 'l2_yx', 'l2_yy', 'l2_yz', 'l2_zT', 'l2_zX', 'l2_zY', 'l2_zt', 'l2_zx', 'l2_zy', 'l2_zz']\n",
      "dstructure_list: ['g0', 'g1', 'g10', 'g11', 'g12', 'g13', 'g14', 'g15', 'g2', 'g3', 'g4', 'g5', 'g6', 'g7', 'g8', 'g9']\n",
      "insmomementum_list: ['qx-1_qy-1_qz-1', 'qx-1_qy-1_qz-2', 'qx-1_qy-1_qz0', 'qx-1_qy-1_qz1', 'qx-1_qy-1_qz2', 'qx-1_qy-2_qz-1', 'qx-1_qy-2_qz-2', 'qx-1_qy-2_qz0', 'qx-1_qy-2_qz1', 'qx-1_qy-2_qz2', 'qx-1_qy-3_qz0', 'qx-1_qy0_qz-1', 'qx-1_qy0_qz-2', 'qx-1_qy0_qz-3', 'qx-1_qy0_qz0', 'qx-1_qy0_qz1', 'qx-1_qy0_qz2', 'qx-1_qy0_qz3', 'qx-1_qy1_qz-1', 'qx-1_qy1_qz-2', 'qx-1_qy1_qz0', 'qx-1_qy1_qz1', 'qx-1_qy1_qz2', 'qx-1_qy2_qz-1', 'qx-1_qy2_qz-2', 'qx-1_qy2_qz0', 'qx-1_qy2_qz1', 'qx-1_qy2_qz2', 'qx-1_qy3_qz0', 'qx-2_qy-1_qz-1', 'qx-2_qy-1_qz-2', 'qx-2_qy-1_qz-3', 'qx-2_qy-1_qz0', 'qx-2_qy-1_qz1', 'qx-2_qy-1_qz2', 'qx-2_qy-1_qz3', 'qx-2_qy-2_qz-1', 'qx-2_qy-2_qz-2', 'qx-2_qy-2_qz0', 'qx-2_qy-2_qz1', 'qx-2_qy-2_qz2', 'qx-2_qy-3_qz-1', 'qx-2_qy-3_qz0', 'qx-2_qy-3_qz1', 'qx-2_qy0_qz-1', 'qx-2_qy0_qz-2', 'qx-2_qy0_qz-3', 'qx-2_qy0_qz0', 'qx-2_qy0_qz1', 'qx-2_qy0_qz2', 'qx-2_qy0_qz3', 'qx-2_qy1_qz-1', 'qx-2_qy1_qz-2', 'qx-2_qy1_qz-3', 'qx-2_qy1_qz0', 'qx-2_qy1_qz1', 'qx-2_qy1_qz2', 'qx-2_qy1_qz3', 'qx-2_qy2_qz-1', 'qx-2_qy2_qz-2', 'qx-2_qy2_qz0', 'qx-2_qy2_qz1', 'qx-2_qy2_qz2', 'qx-2_qy3_qz-1', 'qx-2_qy3_qz0', 'qx-2_qy3_qz1', 'qx-3_qy-1_qz-1', 'qx-3_qy-1_qz-2', 'qx-3_qy-1_qz0', 'qx-3_qy-1_qz1', 'qx-3_qy-1_qz2', 'qx-3_qy-2_qz-1', 'qx-3_qy-2_qz-2', 'qx-3_qy-2_qz0', 'qx-3_qy-2_qz1', 'qx-3_qy-2_qz2', 'qx-3_qy-3_qz0', 'qx-3_qy0_qz-1', 'qx-3_qy0_qz-2', 'qx-3_qy0_qz-3', 'qx-3_qy0_qz0', 'qx-3_qy0_qz1', 'qx-3_qy0_qz2', 'qx-3_qy0_qz3', 'qx-3_qy1_qz-1', 'qx-3_qy1_qz-2', 'qx-3_qy1_qz0', 'qx-3_qy1_qz1', 'qx-3_qy1_qz2', 'qx-3_qy2_qz-1', 'qx-3_qy2_qz-2', 'qx-3_qy2_qz0', 'qx-3_qy2_qz1', 'qx-3_qy2_qz2', 'qx-3_qy3_qz0', 'qx-4_qy-1_qz-1', 'qx-4_qy-1_qz-2', 'qx-4_qy-1_qz0', 'qx-4_qy-1_qz1', 'qx-4_qy-1_qz2', 'qx-4_qy-2_qz-1', 'qx-4_qy-2_qz0', 'qx-4_qy-2_qz1', 'qx-4_qy0_qz-1', 'qx-4_qy0_qz-2', 'qx-4_qy0_qz0', 'qx-4_qy0_qz1', 'qx-4_qy0_qz2', 'qx-4_qy1_qz-1', 'qx-4_qy1_qz-2', 'qx-4_qy1_qz0', 'qx-4_qy1_qz1', 'qx-4_qy1_qz2', 'qx-4_qy2_qz-1', 'qx-4_qy2_qz0', 'qx-4_qy2_qz1', 'qx-5_qy-1_qz0', 'qx-5_qy0_qz-1', 'qx-5_qy0_qz0', 'qx-5_qy0_qz1', 'qx-5_qy1_qz0', 'qx0_qy-1_qz-1', 'qx0_qy-1_qz-2', 'qx0_qy-1_qz0', 'qx0_qy-1_qz1', 'qx0_qy-1_qz2', 'qx0_qy-2_qz-1', 'qx0_qy-2_qz0', 'qx0_qy-2_qz1', 'qx0_qy0_qz-1', 'qx0_qy0_qz-2', 'qx0_qy0_qz0', 'qx0_qy0_qz1', 'qx0_qy0_qz2', 'qx0_qy1_qz-1', 'qx0_qy1_qz-2', 'qx0_qy1_qz0', 'qx0_qy1_qz1', 'qx0_qy1_qz2', 'qx0_qy2_qz-1', 'qx0_qy2_qz0', 'qx0_qy2_qz1', 'qx1_qy-1_qz0', 'qx1_qy0_qz-1', 'qx1_qy0_qz0', 'qx1_qy0_qz1', 'qx1_qy1_qz0']\n",
      "tag2p_list: ['hspectrum', 'hspectrum_d2_dpx2', 'hspectrum_d2_dpy2', 'hspectrum_d2_dpz2', 'hspectrum_d_dpx', 'hspectrum_d_dpy', 'hspectrum_d_dpz']\n",
      "\n",
      "ACHTUNG: not every combination of the above keys may be available\n",
      "\n"
     ]
    }
   ],
   "source": [
    "opAnalyzer.print_keys()"
   ]
  },
  {
   "cell_type": "code",
   "execution_count": 4,
   "metadata": {},
   "outputs": [
    {
     "name": "stdout",
     "output_type": "stream",
     "text": [
      "\n",
      "Initializing the moments_toolkit class instance...\n",
      "\n",
      "\n",
      "Initializing the building block class instance...\n",
      "\n",
      "\n",
      "Reading the the keys of the dataset ...\n",
      "\n",
      "\n",
      "Reading the 2 point and 3 point correlators from the complete dataset ...\n",
      "\n",
      "\n",
      "3 Points Correlators, T = 6: looping over the configurations to read the building blocks from the h5 files...\n",
      "\n"
     ]
    },
    {
     "name": "stderr",
     "output_type": "stream",
     "text": [
      "100%|██████████| 212/212 [14:08<00:00,  4.00s/it]\n"
     ]
    },
    {
     "name": "stdout",
     "output_type": "stream",
     "text": [
      "\n",
      "3 Points Correlators, T = 7: looping over the configurations to read the building blocks from the h5 files...\n",
      "\n"
     ]
    },
    {
     "name": "stderr",
     "output_type": "stream",
     "text": [
      "100%|██████████| 212/212 [16:28<00:00,  4.66s/it]\n"
     ]
    },
    {
     "name": "stdout",
     "output_type": "stream",
     "text": [
      "\n",
      "3 Points Correlators, T = 8: looping over the configurations to read the building blocks from the h5 files...\n",
      "\n"
     ]
    },
    {
     "name": "stderr",
     "output_type": "stream",
     "text": [
      "100%|██████████| 212/212 [17:22<00:00,  4.92s/it]\n"
     ]
    },
    {
     "name": "stdout",
     "output_type": "stream",
     "text": [
      "\n",
      "3 Points Correlators, T = 10: looping over the configurations to read the building blocks from the h5 files...\n",
      "\n"
     ]
    },
    {
     "name": "stderr",
     "output_type": "stream",
     "text": [
      "100%|██████████| 212/212 [18:06<00:00,  5.12s/it]\n"
     ]
    },
    {
     "name": "stdout",
     "output_type": "stream",
     "text": [
      "\n",
      "2 Points Correlators: looping over the configurations to read the h5 files...\n",
      "\n"
     ]
    },
    {
     "name": "stderr",
     "output_type": "stream",
     "text": [
      "100%|██████████| 212/212 [00:50<00:00,  4.16it/s]\n"
     ]
    },
    {
     "name": "stdout",
     "output_type": "stream",
     "text": [
      "\n",
      "Reading the list of all the available operators from the database...\n",
      "\n",
      "\n",
      "Class Initialization Complete!\n",
      "\n"
     ]
    }
   ],
   "source": [
    "p3fold = os.environ['mount_point_path'] + \"48c48/binned_1012_hmz370_BMW/3PointCorrelation/\"\n",
    "p2fold = os.environ['mount_point_path'] + \"48c48/binned_1012_hmz370_BMW/2PointCorrelation/\"\n",
    "\n",
    "opAnalyzer2 = moments_toolkit(p3fold, p2fold,\n",
    "                            T_to_remove_list=[12], skip3p=False, skipop=False,\n",
    "                            verbose=True,\n",
    "                            momentum_p = 'PX-2_PY0_PZ0',\n",
    "                            fast_data_folder = \"../fast_data_px1_q0\",\n",
    "                            operator_folder= \"../operator_database\",\n",
    "                            insmomentum = 'qx0_qy0_qz0',\n",
    "                            max_n=2 #max_n=3\n",
    "                            )"
   ]
  }
 ],
 "metadata": {
  "kernelspec": {
   "display_name": ".venv",
   "language": "python",
   "name": "python3"
  },
  "language_info": {
   "codemirror_mode": {
    "name": "ipython",
    "version": 3
   },
   "file_extension": ".py",
   "mimetype": "text/x-python",
   "name": "python",
   "nbconvert_exporter": "python",
   "pygments_lexer": "ipython3",
   "version": "3.11.9"
  }
 },
 "nbformat": 4,
 "nbformat_minor": 2
}
