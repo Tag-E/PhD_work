{
 "cells": [
  {
   "cell_type": "markdown",
   "metadata": {},
   "source": [
    "# Notebook Setup"
   ]
  },
  {
   "cell_type": "code",
   "execution_count": 1,
   "metadata": {},
   "outputs": [],
   "source": [
    "from IPython.core.interactiveshell import InteractiveShell\n",
    "InteractiveShell.ast_node_interactivity = \"all\"\n",
    "\n",
    "from IPython.display import display, Math\n",
    "\n",
    "\n",
    "import numpy as np\n",
    "import matplotlib.pyplot as plt\n",
    "\n",
    "import os\n",
    "import sys\n",
    "\n",
    "sys.path.insert(1, '../')\n",
    "\n",
    "from moments_toolkit import moments_toolkit\n",
    "\n",
    "from utilities import jackknife"
   ]
  },
  {
   "cell_type": "markdown",
   "metadata": {},
   "source": [
    "# Data Reading"
   ]
  },
  {
   "cell_type": "code",
   "execution_count": 2,
   "metadata": {},
   "outputs": [
    {
     "name": "stdout",
     "output_type": "stream",
     "text": [
      "\n",
      "Initializing the moments_toolkit class instance...\n",
      "\n",
      "\n",
      "Initializing the building block class instance...\n",
      "\n",
      "\n",
      "Reading the the keys of the dataset ...\n",
      "\n",
      "\n",
      "Reading the 2 point and 3 point correlators from the fast access dataset ...\n",
      "\n",
      "\n",
      "Reading the list of all the available operators from the database...\n",
      "\n",
      "\n",
      "Class Initialization Complete!\n",
      "\n"
     ]
    }
   ],
   "source": [
    "p3fold = os.environ['mount_point_path'] + \"48c48/binned_1012_hmz370_BMW_extended/3PointCorrelation/\"\n",
    "p2fold = os.environ['mount_point_path'] + \"48c48/binned_1012_hmz370_BMW_extended/2PointCorrelation/\"\n",
    "\n",
    "\n",
    "opAnalyzer = moments_toolkit(p3fold, p2fold,\n",
    "                            skip3p=False, skipop=False,\n",
    "                            verbose=True,\n",
    "                            fast_data_folder = \"../fast_data_extended_p0_q0\",\n",
    "                            operator_folder= \"../operator_database\",\n",
    "                            momentum='PX0_PY0_PZ0',\n",
    "                            insertion_momentum = 'qx0_qy0_qz0',\n",
    "                            tag_2p='hspectrum',\n",
    "                            max_n=2 #max_n=3\n",
    "                            )"
   ]
  },
  {
   "cell_type": "markdown",
   "metadata": {},
   "source": [
    "# Std Analysis"
   ]
  },
  {
   "cell_type": "code",
   "execution_count": 3,
   "metadata": {},
   "outputs": [
    {
     "data": {
      "text/plain": [
       "'(nconf, latticeT)'"
      ]
     },
     "execution_count": 3,
     "metadata": {},
     "output_type": "execute_result"
    },
    {
     "data": {
      "text/plain": [
       "(212, 48)"
      ]
     },
     "execution_count": 3,
     "metadata": {},
     "output_type": "execute_result"
    }
   ],
   "source": [
    "p2corr = opAnalyzer.get_p2corr() #shape = (nconf, latticeT)\n",
    "\n",
    "latticeT = opAnalyzer.latticeT\n",
    "nconf = opAnalyzer.nconf\n",
    "\n",
    "\"(nconf, latticeT)\"\n",
    "p2corr.shape"
   ]
  },
  {
   "cell_type": "code",
   "execution_count": 4,
   "metadata": {},
   "outputs": [],
   "source": [
    "mean_normal = np.mean(p2corr, axis=0)\n",
    "std_normal = np.std(p2corr, axis=0, ddof=1) /np.sqrt(nconf)\n",
    "\n",
    "mean_jack, std_jack, cov_jack = jackknife(p2corr, lambda x: np.mean(x, axis=0), jack_axis_list=0, binsize=1, time_axis=-1)"
   ]
  },
  {
   "cell_type": "code",
   "execution_count": 5,
   "metadata": {},
   "outputs": [],
   "source": [
    "##function that resample the given arrays along the innermost axis (credit: https://stackoverflow.com/a/53236272)\n",
    "#def resamples_last_axis(arr, reps):\n",
    "#    \"\"\"\n",
    "#    Function used to resample with replacement the innermost axis of the given array (credit: https://stackoverflow.com/a/53236272)\n",
    "#    \n",
    "#    Input:\n",
    "#        - arr: the input array to be resampled (along the innermost axis)\n",
    "#        - reps: the number of resamples that is required\n",
    "#    \n",
    "#    Output:\n",
    "#        - resampled_array: the input arry resampled along the last axis, shape = (reps,) + arr.shape\n",
    "#    \"\"\"\n",
    "#\n",
    "#    n = arr.shape[-1]\n",
    "#\n",
    "#\n",
    "#    # create an array to shift random indexes as needed\n",
    "#    shift = np.repeat(np.arange(0, arr.size, n), n).reshape(arr.shape)\n",
    "#\n",
    "#    # get a flat view of the array\n",
    "#    arrflat = arr.ravel()\n",
    "#\n",
    "#    # sample the array by generating random ints and shifting them appropriately\n",
    "#    return np.array([arrflat[np.random.randint(0, n, arr.shape) + shift] \n",
    "#                     for i in range(reps)])\n",
    "#\n",
    "#\n",
    "##function that generates the bootstap resampled of the given array along a specified axis\n",
    "#def bootstrap_resamples(array: np.ndarray, axis:int, Nres:int):\n",
    "#    \"\"\"\n",
    "#    Function performing the bootstrap resampling (sample with replacement) of the input array along a given axis\n",
    "#    (obtain with minimal modifications to the code given in: https://stackoverflow.com/a/53236272)\n",
    "#    \n",
    "#    Input:\n",
    "#        - array: input array to be resampled\n",
    "#        - axis: the axis over which to perform the resampling with replacement\n",
    "#        - Nres: the number of required resamples\n",
    "#    \n",
    "#    Output:\n",
    "#        - resamples_array: the array with the resamples, shape = (Nres,) + array.shape\n",
    "#    \"\"\"\n",
    "#\n",
    "#    #we read the number of dimensions of the input array\n",
    "#    ndim = array.ndim\n",
    "#\n",
    "#    #input control on the axis parameter\n",
    "#    if axis >= ndim or axis<-ndim:\n",
    "#        raise ValueError(f\"The input array has shape {array.shape}, so axis can take values in the range {-ndim}, ..., {ndim}, extremes included, but axis={axis} were given.\")\n",
    "#    \n",
    "#    #cast axis to a postive number in the correct range\n",
    "#    axis = (axis + array.ndim) % array.ndim\n",
    "#\n",
    "#    #we swap the array as to have the axis to resample on the last axis\n",
    "#    swapped_array = np.swapaxes(array,axis1=axis, axis2=-1)\n",
    "#\n",
    "#    #we resample along the last axis\n",
    "#    resamples_array = resamples_last_axis(swapped_array,Nres)\n",
    "#\n",
    "#    #we swap again the input axis with the last one (with the +1 taking into account now there is also the resample dimension)\n",
    "#    return np.swapaxes(resamples_array, axis1=axis+1, axis2=-1)"
   ]
  },
  {
   "cell_type": "code",
   "execution_count": 6,
   "metadata": {},
   "outputs": [],
   "source": [
    "##function that generates the bootstap resampled of the given array along a specified axis\n",
    "#def bootstrap(array: np.ndarray, axis:int, Nres:int):\n",
    "#    \"\"\"\n",
    "#    Function performing the bootstrap resampling (sample with replacement) of the input array along a given axis\n",
    "#    (obtain with minimal modifications to the code given in: https://stackoverflow.com/a/53236272)\n",
    "#    \n",
    "#    Input:\n",
    "#        - array: input array to be resampled\n",
    "#        - axis: the axis over which to perform the resampling with replacement\n",
    "#        - Nres: the number of required resamples\n",
    "#    \n",
    "#    Output:\n",
    "#        - resamples_array: the array with the resamples, shape = (Nres,) + array.shape\n",
    "#    \"\"\"\n",
    "#\n",
    "#    #we read the number of dimensions of the input array\n",
    "#    ndim = array.ndim\n",
    "#\n",
    "#    #input control on the axis parameter\n",
    "#    if axis >= ndim or axis<-ndim:\n",
    "#        raise ValueError(f\"The input array has shape {array.shape}, so axis can take values in the range {-ndim}, ..., {ndim}, extremes included, but axis={axis} were given.\")\n",
    "#    \n",
    "#    #cast axis to a postive number in the correct range\n",
    "#    axis = (axis + array.ndim) %array.ndim\n",
    "#\n",
    "#    #we swap the array as to have the axis to resample on the last axis\n",
    "#    swapped_array = np.swapaxes(array,axis1=axis, axis2=-1)\n",
    "#\n",
    "#    #we resample along the last axis\n",
    "#    resamples_array = resamples_last_axis(swapped_array,Nres)\n",
    "#\n",
    "#    #we swap again the input axis with the last one (with the +1 taking into account now there is also the resample dimension)\n",
    "#    return np.swapaxes(resamples_array, axis1=axis+1, axis2=-1)"
   ]
  },
  {
   "cell_type": "code",
   "execution_count": 24,
   "metadata": {},
   "outputs": [
    {
     "data": {
      "text/plain": [
       "'(Nres, latticeT)'"
      ]
     },
     "execution_count": 24,
     "metadata": {},
     "output_type": "execute_result"
    },
    {
     "data": {
      "text/plain": [
       "(150, 48)"
      ]
     },
     "execution_count": 24,
     "metadata": {},
     "output_type": "execute_result"
    }
   ],
   "source": [
    "from utilities import bootstrap_resamples\n",
    "\n",
    "Nres=150\n",
    "\n",
    "p2corr_res = bootstrap_resamples(in_array_list=p2corr, observable= lambda x: np.mean(x,axis=0), bootstrap_axis_list=0, Nres=Nres, sample_per_resamples=200)\n",
    "\n",
    "\"(Nres, latticeT)\"\n",
    "p2corr_res.shape\n",
    "\n"
   ]
  },
  {
   "cell_type": "code",
   "execution_count": 25,
   "metadata": {},
   "outputs": [],
   "source": [
    "std_bst = np.std( p2corr_res, axis=0, ddof=1)"
   ]
  },
  {
   "cell_type": "code",
   "execution_count": 26,
   "metadata": {},
   "outputs": [
    {
     "data": {
      "image/png": "[encoded data removed]",
      "text/plain": [
       "<Figure size 640x480 with 1 Axes>"
      ]
     },
     "metadata": {},
     "output_type": "display_data"
    }
   ],
   "source": [
    "_ = plt.plot(np.arange(latticeT), std_normal, 'o',label=\"normal\")\n",
    "\n",
    "_ = plt.plot(np.arange(latticeT), std_jack, '^', label=\"jack\")\n",
    "\n",
    "_ = plt.plot(np.arange(latticeT), std_bst, 'd', label=\"bts\")\n",
    "\n",
    "_ = plt.legend()\n",
    "\n",
    "plt.yscale(\"log\")"
   ]
  },
  {
   "cell_type": "code",
   "execution_count": 27,
   "metadata": {},
   "outputs": [
    {
     "data": {
      "image/png": "[encoded data removed]",
      "text/plain": [
       "<Figure size 640x480 with 1 Axes>"
      ]
     },
     "metadata": {},
     "output_type": "display_data"
    }
   ],
   "source": [
    "_ = plt.plot(np.arange(latticeT), (std_jack-std_normal)/std_normal, 'o',label=\"jack\")\n",
    "\n",
    "_ = plt.plot(np.arange(latticeT), (std_bst-std_normal)/std_normal, '^',label=\"bts\")\n",
    "\n",
    "_ = plt.legend()\n",
    "\n",
    "\n",
    "plt.yscale(\"log\")"
   ]
  },
  {
   "cell_type": "code",
   "execution_count": 31,
   "metadata": {},
   "outputs": [
    {
     "data": {
      "text/plain": [
       "'(Nres, Nconf, latticeT)'"
      ]
     },
     "execution_count": 31,
     "metadata": {},
     "output_type": "execute_result"
    },
    {
     "data": {
      "text/plain": [
       "(150, 20, 48)"
      ]
     },
     "execution_count": 31,
     "metadata": {},
     "output_type": "execute_result"
    }
   ],
   "source": [
    "Nres=150\n",
    "\n",
    "p2corr_res = bootstrap_resamples(in_array_list=p2corr, observable= lambda x: x, bootstrap_axis_list=0, Nres=Nres, sample_per_resamples=20)\n",
    "\n",
    "\"(Nres, Nconf, latticeT)\"\n",
    "p2corr_res.shape"
   ]
  },
  {
   "cell_type": "code",
   "execution_count": 35,
   "metadata": {},
   "outputs": [
    {
     "data": {
      "text/plain": [
       "array([-4.60171774e-06, -4.39165112e-04, -6.05608776e-04, -1.03490041e-03,\n",
       "       -1.12885809e-03, -4.09590684e-04,  3.15353625e-04, -5.65464655e-04,\n",
       "        3.70911690e-05,  3.33257883e-03,  5.60052566e-03,  1.07797378e-02,\n",
       "        2.50001418e-02,  5.68127901e-02,  5.01108470e-02,  5.58441379e-02,\n",
       "        1.41517925e-01,  3.18880323e-02,  2.94265170e-01,  6.88677723e-02,\n",
       "       -1.07087380e-01,  3.13712849e+00, -4.42604810e-01, -1.07556430e-01,\n",
       "        7.17484324e-02,  3.27858771e-01,  9.92920711e-01,  1.00310541e+00,\n",
       "       -3.53066661e+00, -4.58764938e-02, -7.92890989e-02, -1.44655040e-01,\n",
       "       -2.19221577e-01, -1.58092745e-01, -2.50752026e-02,  1.18020823e-01,\n",
       "        4.62118286e-02, -2.42156247e-01, -4.16521090e-01,  2.07196262e-02,\n",
       "        1.44309129e-02,  1.67582542e-02,  2.22259463e-03, -1.35055241e-02,\n",
       "        4.49974246e-03,  4.61323818e-03,  3.11537925e-04,  1.90676458e-04])"
      ]
     },
     "execution_count": 35,
     "metadata": {},
     "output_type": "execute_result"
    }
   ],
   "source": [
    "obs_total = np.mean(p2corr, axis=0)\n",
    "\n",
    "obs_resamp = np.asarray( [ np.mean(p2,axis=0) for p2 in p2corr_res] )\n",
    "\n",
    "\n",
    "boot_mean = np.mean(obs_resamp, axis=0)\n",
    "\n",
    "bias = boot_mean-obs_total\n",
    "\n",
    "bias / obs_total"
   ]
  },
  {
   "cell_type": "code",
   "execution_count": 16,
   "metadata": {},
   "outputs": [
    {
     "data": {
      "text/plain": [
       "array([[  1,   2,   3,   4,   5,   6,   7,   8,   9,  10,  11,  12],\n",
       "       [ 13,  14,  15,  16,  17,  18,  19,  20,  21,  22,  23,  24],\n",
       "       [ 25,  26,  27,  28,  29,  30,  31,  32,  33,  34,  35,  36],\n",
       "       [ 37,  38,  39,  40,  41,  42,  43,  44,  45,  46,  47,  48],\n",
       "       [ 49,  50,  51,  52,  53,  54,  55,  56,  57,  58,  59,  60],\n",
       "       [ 61,  62,  63,  64,  65,  66,  67,  68,  69,  70,  71,  72],\n",
       "       [ 73,  74,  75,  76,  77,  78,  79,  80,  81,  82,  83,  84],\n",
       "       [ 85,  86,  87,  88,  89,  90,  91,  92,  93,  94,  95,  96],\n",
       "       [ 97,  98,  99, 100, 101, 102, 103, 104, 105, 106, 107, 108],\n",
       "       [109, 110, 111, 112, 113, 114, 115, 116, 117, 118, 119, 120]])"
      ]
     },
     "execution_count": 16,
     "metadata": {},
     "output_type": "execute_result"
    },
    {
     "data": {
      "text/plain": [
       "array([3, 6, 0, 4, 6, 0, 1, 1])"
      ]
     },
     "execution_count": 16,
     "metadata": {},
     "output_type": "execute_result"
    },
    {
     "data": {
      "text/plain": [
       "array([[37, 38, 39, 40, 41, 42, 43, 44, 45, 46],\n",
       "       [73, 74, 75, 76, 77, 78, 79, 80, 81, 82],\n",
       "       [ 1,  2,  3,  4,  5,  6,  7,  8,  9, 10],\n",
       "       [49, 50, 51, 52, 53, 54, 55, 56, 57, 58],\n",
       "       [73, 74, 75, 76, 77, 78, 79, 80, 81, 82],\n",
       "       [ 1,  2,  3,  4,  5,  6,  7,  8,  9, 10],\n",
       "       [13, 14, 15, 16, 17, 18, 19, 20, 21, 22],\n",
       "       [13, 14, 15, 16, 17, 18, 19, 20, 21, 22]])"
      ]
     },
     "execution_count": 16,
     "metadata": {},
     "output_type": "execute_result"
    }
   ],
   "source": [
    "Nconf = 10\n",
    "latT = 12\n",
    "\n",
    "Nres = 6\n",
    "Conf_per_Res = 8\n",
    "\n",
    "ok = np.arange(1,Nconf*latT+1).reshape((Nconf,latT)) #say Nconf=10, latT=12\n",
    "ok\n",
    "\n",
    "selection = np.random.randint(0,Nconf, Conf_per_Res) #one selection = one resample\n",
    "selection\n",
    "\n",
    "np.take( ok ,indices=np.arange(ok.shape[0]), axis=1)[selection]"
   ]
  },
  {
   "cell_type": "code",
   "execution_count": 17,
   "metadata": {},
   "outputs": [
    {
     "data": {
      "text/plain": [
       "array([[[  1,   2,   3,   4,   5,   6,   7,   8,   9,  10,  11,  12],\n",
       "        [ 13,  14,  15,  16,  17,  18,  19,  20,  21,  22,  23,  24],\n",
       "        [ 25,  26,  27,  28,  29,  30,  31,  32,  33,  34,  35,  36],\n",
       "        [ 37,  38,  39,  40,  41,  42,  43,  44,  45,  46,  47,  48],\n",
       "        [ 49,  50,  51,  52,  53,  54,  55,  56,  57,  58,  59,  60],\n",
       "        [ 61,  62,  63,  64,  65,  66,  67,  68,  69,  70,  71,  72],\n",
       "        [ 73,  74,  75,  76,  77,  78,  79,  80,  81,  82,  83,  84],\n",
       "        [ 85,  86,  87,  88,  89,  90,  91,  92,  93,  94,  95,  96],\n",
       "        [ 97,  98,  99, 100, 101, 102, 103, 104, 105, 106, 107, 108],\n",
       "        [109, 110, 111, 112, 113, 114, 115, 116, 117, 118, 119, 120]],\n",
       "\n",
       "       [[121, 122, 123, 124, 125, 126, 127, 128, 129, 130, 131, 132],\n",
       "        [133, 134, 135, 136, 137, 138, 139, 140, 141, 142, 143, 144],\n",
       "        [145, 146, 147, 148, 149, 150, 151, 152, 153, 154, 155, 156],\n",
       "        [157, 158, 159, 160, 161, 162, 163, 164, 165, 166, 167, 168],\n",
       "        [169, 170, 171, 172, 173, 174, 175, 176, 177, 178, 179, 180],\n",
       "        [181, 182, 183, 184, 185, 186, 187, 188, 189, 190, 191, 192],\n",
       "        [193, 194, 195, 196, 197, 198, 199, 200, 201, 202, 203, 204],\n",
       "        [205, 206, 207, 208, 209, 210, 211, 212, 213, 214, 215, 216],\n",
       "        [217, 218, 219, 220, 221, 222, 223, 224, 225, 226, 227, 228],\n",
       "        [229, 230, 231, 232, 233, 234, 235, 236, 237, 238, 239, 240]]])"
      ]
     },
     "execution_count": 17,
     "metadata": {},
     "output_type": "execute_result"
    },
    {
     "data": {
      "text/plain": [
       "array([2, 0, 8, 0, 4, 9, 3, 3])"
      ]
     },
     "execution_count": 17,
     "metadata": {},
     "output_type": "execute_result"
    },
    {
     "data": {
      "text/plain": [
       "array([[[ 25,  26,  27,  28,  29,  30,  31,  32,  33,  34,  35,  36],\n",
       "        [  1,   2,   3,   4,   5,   6,   7,   8,   9,  10,  11,  12],\n",
       "        [ 97,  98,  99, 100, 101, 102, 103, 104, 105, 106, 107, 108],\n",
       "        [  1,   2,   3,   4,   5,   6,   7,   8,   9,  10,  11,  12],\n",
       "        [ 49,  50,  51,  52,  53,  54,  55,  56,  57,  58,  59,  60],\n",
       "        [109, 110, 111, 112, 113, 114, 115, 116, 117, 118, 119, 120],\n",
       "        [ 37,  38,  39,  40,  41,  42,  43,  44,  45,  46,  47,  48],\n",
       "        [ 37,  38,  39,  40,  41,  42,  43,  44,  45,  46,  47,  48]],\n",
       "\n",
       "       [[145, 146, 147, 148, 149, 150, 151, 152, 153, 154, 155, 156],\n",
       "        [121, 122, 123, 124, 125, 126, 127, 128, 129, 130, 131, 132],\n",
       "        [217, 218, 219, 220, 221, 222, 223, 224, 225, 226, 227, 228],\n",
       "        [121, 122, 123, 124, 125, 126, 127, 128, 129, 130, 131, 132],\n",
       "        [169, 170, 171, 172, 173, 174, 175, 176, 177, 178, 179, 180],\n",
       "        [229, 230, 231, 232, 233, 234, 235, 236, 237, 238, 239, 240],\n",
       "        [157, 158, 159, 160, 161, 162, 163, 164, 165, 166, 167, 168],\n",
       "        [157, 158, 159, 160, 161, 162, 163, 164, 165, 166, 167, 168]]])"
      ]
     },
     "execution_count": 17,
     "metadata": {},
     "output_type": "execute_result"
    },
    {
     "data": {
      "text/plain": [
       "(2, 8, 12)"
      ]
     },
     "execution_count": 17,
     "metadata": {},
     "output_type": "execute_result"
    }
   ],
   "source": [
    "Nconf = 10\n",
    "latT = 12\n",
    "Nop = 2\n",
    "\n",
    "Nres = 3\n",
    "Conf_per_Res = 8\n",
    "\n",
    "conf_axis=1\n",
    "ok = np.arange(1,Nconf*Nop*latT+1).reshape((Nop,Nconf,latT)) #say Nconf=10, latT=12\n",
    "ok\n",
    "\n",
    "selection = np.random.randint(0,Nconf, Conf_per_Res) #one selection = one resample\n",
    "selection\n",
    "\n",
    "#np.take( ok ,indices=np.arange(ok.shape[-1]), axis=-1)#[selection]\n",
    "#np.take( ok ,indices=np.arange(ok.shape[0]), axis=-1)#[selection].shape\n",
    "#ok[selection]\n",
    "#ok[selection].shape\n",
    "\n",
    "np.take(ok, indices = selection, axis=conf_axis)\n",
    "np.take(ok, indices = selection, axis=conf_axis).shape"
   ]
  },
  {
   "cell_type": "code",
   "execution_count": 18,
   "metadata": {},
   "outputs": [
    {
     "data": {
      "text/plain": [
       "(2, 8, 12)"
      ]
     },
     "execution_count": 18,
     "metadata": {},
     "output_type": "execute_result"
    }
   ],
   "source": [
    "ok.shape[:1] + (8,) + ok.shape[1+1:] "
   ]
  },
  {
   "cell_type": "code",
   "execution_count": 19,
   "metadata": {},
   "outputs": [
    {
     "data": {
      "text/plain": [
       "[array([9, 3, 7, 7, 3, 4, 0, 3]),\n",
       " array([5, 0, 5, 7, 4, 3, 4, 7]),\n",
       " array([6, 0, 1, 1, 2, 4, 0, 2])]"
      ]
     },
     "execution_count": 19,
     "metadata": {},
     "output_type": "execute_result"
    }
   ],
   "source": [
    "selection_list = [np.random.randint(0,Nconf, Conf_per_Res) for _ in range(Nres)]\n",
    "\n",
    "selection_list"
   ]
  },
  {
   "cell_type": "code",
   "execution_count": 20,
   "metadata": {},
   "outputs": [
    {
     "data": {
      "text/plain": [
       "(2, 3, 8, 12)"
      ]
     },
     "execution_count": 20,
     "metadata": {},
     "output_type": "execute_result"
    },
    {
     "data": {
      "text/plain": [
       "(3, 2, 8, 12)"
      ]
     },
     "execution_count": 20,
     "metadata": {},
     "output_type": "execute_result"
    },
    {
     "data": {
      "text/plain": [
       "array([[[[109, 110, 111, 112, 113, 114, 115, 116, 117, 118, 119, 120],\n",
       "         [ 37,  38,  39,  40,  41,  42,  43,  44,  45,  46,  47,  48],\n",
       "         [ 85,  86,  87,  88,  89,  90,  91,  92,  93,  94,  95,  96],\n",
       "         [ 85,  86,  87,  88,  89,  90,  91,  92,  93,  94,  95,  96],\n",
       "         [ 37,  38,  39,  40,  41,  42,  43,  44,  45,  46,  47,  48],\n",
       "         [ 49,  50,  51,  52,  53,  54,  55,  56,  57,  58,  59,  60],\n",
       "         [  1,   2,   3,   4,   5,   6,   7,   8,   9,  10,  11,  12],\n",
       "         [ 37,  38,  39,  40,  41,  42,  43,  44,  45,  46,  47,  48]],\n",
       "\n",
       "        [[229, 230, 231, 232, 233, 234, 235, 236, 237, 238, 239, 240],\n",
       "         [157, 158, 159, 160, 161, 162, 163, 164, 165, 166, 167, 168],\n",
       "         [205, 206, 207, 208, 209, 210, 211, 212, 213, 214, 215, 216],\n",
       "         [205, 206, 207, 208, 209, 210, 211, 212, 213, 214, 215, 216],\n",
       "         [157, 158, 159, 160, 161, 162, 163, 164, 165, 166, 167, 168],\n",
       "         [169, 170, 171, 172, 173, 174, 175, 176, 177, 178, 179, 180],\n",
       "         [121, 122, 123, 124, 125, 126, 127, 128, 129, 130, 131, 132],\n",
       "         [157, 158, 159, 160, 161, 162, 163, 164, 165, 166, 167, 168]]],\n",
       "\n",
       "\n",
       "       [[[ 61,  62,  63,  64,  65,  66,  67,  68,  69,  70,  71,  72],\n",
       "         [  1,   2,   3,   4,   5,   6,   7,   8,   9,  10,  11,  12],\n",
       "         [ 61,  62,  63,  64,  65,  66,  67,  68,  69,  70,  71,  72],\n",
       "         [ 85,  86,  87,  88,  89,  90,  91,  92,  93,  94,  95,  96],\n",
       "         [ 49,  50,  51,  52,  53,  54,  55,  56,  57,  58,  59,  60],\n",
       "         [ 37,  38,  39,  40,  41,  42,  43,  44,  45,  46,  47,  48],\n",
       "         [ 49,  50,  51,  52,  53,  54,  55,  56,  57,  58,  59,  60],\n",
       "         [ 85,  86,  87,  88,  89,  90,  91,  92,  93,  94,  95,  96]],\n",
       "\n",
       "        [[181, 182, 183, 184, 185, 186, 187, 188, 189, 190, 191, 192],\n",
       "         [121, 122, 123, 124, 125, 126, 127, 128, 129, 130, 131, 132],\n",
       "         [181, 182, 183, 184, 185, 186, 187, 188, 189, 190, 191, 192],\n",
       "         [205, 206, 207, 208, 209, 210, 211, 212, 213, 214, 215, 216],\n",
       "         [169, 170, 171, 172, 173, 174, 175, 176, 177, 178, 179, 180],\n",
       "         [157, 158, 159, 160, 161, 162, 163, 164, 165, 166, 167, 168],\n",
       "         [169, 170, 171, 172, 173, 174, 175, 176, 177, 178, 179, 180],\n",
       "         [205, 206, 207, 208, 209, 210, 211, 212, 213, 214, 215, 216]]],\n",
       "\n",
       "\n",
       "       [[[ 73,  74,  75,  76,  77,  78,  79,  80,  81,  82,  83,  84],\n",
       "         [  1,   2,   3,   4,   5,   6,   7,   8,   9,  10,  11,  12],\n",
       "         [ 13,  14,  15,  16,  17,  18,  19,  20,  21,  22,  23,  24],\n",
       "         [ 13,  14,  15,  16,  17,  18,  19,  20,  21,  22,  23,  24],\n",
       "         [ 25,  26,  27,  28,  29,  30,  31,  32,  33,  34,  35,  36],\n",
       "         [ 49,  50,  51,  52,  53,  54,  55,  56,  57,  58,  59,  60],\n",
       "         [  1,   2,   3,   4,   5,   6,   7,   8,   9,  10,  11,  12],\n",
       "         [ 25,  26,  27,  28,  29,  30,  31,  32,  33,  34,  35,  36]],\n",
       "\n",
       "        [[193, 194, 195, 196, 197, 198, 199, 200, 201, 202, 203, 204],\n",
       "         [121, 122, 123, 124, 125, 126, 127, 128, 129, 130, 131, 132],\n",
       "         [133, 134, 135, 136, 137, 138, 139, 140, 141, 142, 143, 144],\n",
       "         [133, 134, 135, 136, 137, 138, 139, 140, 141, 142, 143, 144],\n",
       "         [145, 146, 147, 148, 149, 150, 151, 152, 153, 154, 155, 156],\n",
       "         [169, 170, 171, 172, 173, 174, 175, 176, 177, 178, 179, 180],\n",
       "         [121, 122, 123, 124, 125, 126, 127, 128, 129, 130, 131, 132],\n",
       "         [145, 146, 147, 148, 149, 150, 151, 152, 153, 154, 155, 156]]]])"
      ]
     },
     "execution_count": 20,
     "metadata": {},
     "output_type": "execute_result"
    }
   ],
   "source": [
    "np.take(ok, indices = selection_list, axis=conf_axis).shape\n",
    "np.moveaxis( np.take(ok, indices = selection_list, axis=conf_axis), source=conf_axis, destination=0).shape\n",
    "np.moveaxis( np.take(ok, indices = selection_list, axis=conf_axis), source=conf_axis, destination=0)"
   ]
  },
  {
   "cell_type": "code",
   "execution_count": 21,
   "metadata": {},
   "outputs": [],
   "source": [
    "from utilities import bootstrap_resamples"
   ]
  },
  {
   "cell_type": "code",
   "execution_count": 22,
   "metadata": {},
   "outputs": [
    {
     "data": {
      "text/plain": [
       "array([[  1,   2,   3,   4,   5,   6,   7,   8,   9,  10,  11,  12],\n",
       "       [ 13,  14,  15,  16,  17,  18,  19,  20,  21,  22,  23,  24],\n",
       "       [ 25,  26,  27,  28,  29,  30,  31,  32,  33,  34,  35,  36],\n",
       "       [ 37,  38,  39,  40,  41,  42,  43,  44,  45,  46,  47,  48],\n",
       "       [ 49,  50,  51,  52,  53,  54,  55,  56,  57,  58,  59,  60],\n",
       "       [ 61,  62,  63,  64,  65,  66,  67,  68,  69,  70,  71,  72],\n",
       "       [ 73,  74,  75,  76,  77,  78,  79,  80,  81,  82,  83,  84],\n",
       "       [ 85,  86,  87,  88,  89,  90,  91,  92,  93,  94,  95,  96],\n",
       "       [ 97,  98,  99, 100, 101, 102, 103, 104, 105, 106, 107, 108],\n",
       "       [109, 110, 111, 112, 113, 114, 115, 116, 117, 118, 119, 120]])"
      ]
     },
     "execution_count": 22,
     "metadata": {},
     "output_type": "execute_result"
    }
   ],
   "source": [
    "Nconf=10\n",
    "latT=12\n",
    "\n",
    "Nres = 3\n",
    "sampl_per_resample=9\n",
    "\n",
    "ok = np.arange(1,Nconf*latT+1).reshape((Nconf,latT))\n",
    "ok"
   ]
  },
  {
   "cell_type": "code",
   "execution_count": 23,
   "metadata": {},
   "outputs": [
    {
     "data": {
      "text/plain": [
       "(3, 9, 12)"
      ]
     },
     "execution_count": 23,
     "metadata": {},
     "output_type": "execute_result"
    },
    {
     "data": {
      "text/plain": [
       "array([[[ 48,  49,  50,  51,  52,  53,  54,  55,  56,  57,  58,  59],\n",
       "        [ 96,  97,  98,  99, 100, 101, 102, 103, 104, 105, 106, 107],\n",
       "        [108, 109, 110, 111, 112, 113, 114, 115, 116, 117, 118, 119],\n",
       "        [ 36,  37,  38,  39,  40,  41,  42,  43,  44,  45,  46,  47],\n",
       "        [ 12,  13,  14,  15,  16,  17,  18,  19,  20,  21,  22,  23],\n",
       "        [ 24,  25,  26,  27,  28,  29,  30,  31,  32,  33,  34,  35],\n",
       "        [ 48,  49,  50,  51,  52,  53,  54,  55,  56,  57,  58,  59],\n",
       "        [ 72,  73,  74,  75,  76,  77,  78,  79,  80,  81,  82,  83],\n",
       "        [ 12,  13,  14,  15,  16,  17,  18,  19,  20,  21,  22,  23]],\n",
       "\n",
       "       [[ 72,  73,  74,  75,  76,  77,  78,  79,  80,  81,  82,  83],\n",
       "        [ 36,  37,  38,  39,  40,  41,  42,  43,  44,  45,  46,  47],\n",
       "        [ 60,  61,  62,  63,  64,  65,  66,  67,  68,  69,  70,  71],\n",
       "        [  0,   1,   2,   3,   4,   5,   6,   7,   8,   9,  10,  11],\n",
       "        [108, 109, 110, 111, 112, 113, 114, 115, 116, 117, 118, 119],\n",
       "        [ 60,  61,  62,  63,  64,  65,  66,  67,  68,  69,  70,  71],\n",
       "        [ 96,  97,  98,  99, 100, 101, 102, 103, 104, 105, 106, 107],\n",
       "        [ 12,  13,  14,  15,  16,  17,  18,  19,  20,  21,  22,  23],\n",
       "        [  0,   1,   2,   3,   4,   5,   6,   7,   8,   9,  10,  11]],\n",
       "\n",
       "       [[ 72,  73,  74,  75,  76,  77,  78,  79,  80,  81,  82,  83],\n",
       "        [ 96,  97,  98,  99, 100, 101, 102, 103, 104, 105, 106, 107],\n",
       "        [ 36,  37,  38,  39,  40,  41,  42,  43,  44,  45,  46,  47],\n",
       "        [ 96,  97,  98,  99, 100, 101, 102, 103, 104, 105, 106, 107],\n",
       "        [108, 109, 110, 111, 112, 113, 114, 115, 116, 117, 118, 119],\n",
       "        [ 48,  49,  50,  51,  52,  53,  54,  55,  56,  57,  58,  59],\n",
       "        [ 36,  37,  38,  39,  40,  41,  42,  43,  44,  45,  46,  47],\n",
       "        [108, 109, 110, 111, 112, 113, 114, 115, 116, 117, 118, 119],\n",
       "        [ 24,  25,  26,  27,  28,  29,  30,  31,  32,  33,  34,  35]]])"
      ]
     },
     "execution_count": 23,
     "metadata": {},
     "output_type": "execute_result"
    }
   ],
   "source": [
    "resamp = bootstrap_resamples(in_array_list=ok, observable= lambda x: x-1, bootstrap_axis_list=0, Nres=Nres, sample_per_resamples=sampl_per_resample)\n",
    "\n",
    "resamp.shape\n",
    "resamp"
   ]
  }
 ],
 "metadata": {
  "kernelspec": {
   "display_name": ".venv",
   "language": "python",
   "name": "python3"
  },
  "language_info": {
   "codemirror_mode": {
    "name": "ipython",
    "version": 3
   },
   "file_extension": ".py",
   "mimetype": "text/x-python",
   "name": "python",
   "nbconvert_exporter": "python",
   "pygments_lexer": "ipython3",
   "version": "3.11.9"
  }
 },
 "nbformat": 4,
 "nbformat_minor": 2
}
