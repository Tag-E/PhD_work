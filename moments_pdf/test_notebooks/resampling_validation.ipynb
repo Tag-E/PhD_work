{
 "cells": [
  {
   "cell_type": "markdown",
   "metadata": {},
   "source": [
    "# Notebook Setup"
   ]
  },
  {
   "cell_type": "code",
   "execution_count": 15,
   "metadata": {},
   "outputs": [],
   "source": [
    "from IPython.core.interactiveshell import InteractiveShell\n",
    "InteractiveShell.ast_node_interactivity = \"all\"\n",
    "\n",
    "from IPython.display import display, Math\n",
    "\n",
    "\n",
    "import numpy as np\n",
    "import matplotlib.pyplot as plt\n",
    "\n",
    "import os\n",
    "import sys\n",
    "\n",
    "sys.path.insert(1, '../')\n",
    "\n",
    "from moments_toolkit import moments_toolkit\n",
    "\n",
    "from utilities import jackknife"
   ]
  },
  {
   "cell_type": "markdown",
   "metadata": {},
   "source": [
    "# Data Reading"
   ]
  },
  {
   "cell_type": "code",
   "execution_count": 5,
   "metadata": {},
   "outputs": [
    {
     "name": "stdout",
     "output_type": "stream",
     "text": [
      "\n",
      "Initializing the moments_toolkit class instance...\n",
      "\n",
      "\n",
      "Initializing the building block class instance...\n",
      "\n",
      "\n",
      "Reading the the keys of the dataset ...\n",
      "\n",
      "\n",
      "Reading the 2 point and 3 point correlators from the fast access dataset ...\n",
      "\n",
      "\n",
      "Reading the list of all the available operators from the database...\n",
      "\n",
      "\n",
      "Class Initialization Complete!\n",
      "\n"
     ]
    }
   ],
   "source": [
    "p3fold = os.environ['mount_point_path'] + \"48c48/binned_1012_hmz370_BMW_extended/3PointCorrelation/\"\n",
    "p2fold = os.environ['mount_point_path'] + \"48c48/binned_1012_hmz370_BMW_extended/2PointCorrelation/\"\n",
    "\n",
    "\n",
    "opAnalyzer = moments_toolkit(p3fold, p2fold,\n",
    "                            skip3p=False, skipop=False,\n",
    "                            verbose=True,\n",
    "                            fast_data_folder = \"../fast_data_extended_p0_q0\",\n",
    "                            operator_folder= \"../operator_database\",\n",
    "                            momentum='PX0_PY0_PZ0',\n",
    "                            insertion_momentum = 'qx0_qy0_qz0',\n",
    "                            tag_2p='hspectrum',\n",
    "                            max_n=2 #max_n=3\n",
    "                            )"
   ]
  },
  {
   "cell_type": "markdown",
   "metadata": {},
   "source": [
    "# Std Analysis"
   ]
  },
  {
   "cell_type": "code",
   "execution_count": 7,
   "metadata": {},
   "outputs": [
    {
     "data": {
      "text/plain": [
       "'(nconf, latticeT)'"
      ]
     },
     "execution_count": 7,
     "metadata": {},
     "output_type": "execute_result"
    },
    {
     "data": {
      "text/plain": [
       "(212, 48)"
      ]
     },
     "execution_count": 7,
     "metadata": {},
     "output_type": "execute_result"
    }
   ],
   "source": [
    "p2corr = opAnalyzer.get_p2corr() #shape = (nconf, latticeT)\n",
    "\n",
    "latticeT = opAnalyzer.latticeT\n",
    "nconf = opAnalyzer.nconf\n",
    "\n",
    "\"(nconf, latticeT)\"\n",
    "p2corr.shape"
   ]
  },
  {
   "cell_type": "code",
   "execution_count": 23,
   "metadata": {},
   "outputs": [],
   "source": [
    "mean_normal = np.mean(p2corr, axis=0)\n",
    "std_normal = np.std(p2corr, axis=0, ddof=1) /np.sqrt(nconf)\n",
    "\n",
    "mean_jack, std_jack, cov_jack = jackknife(p2corr, lambda x: np.mean(x, axis=0), jack_axis_list=0, binsize=1, time_axis=-1)"
   ]
  },
  {
   "cell_type": "code",
   "execution_count": null,
   "metadata": {},
   "outputs": [],
   "source": [
    "#function that resample the given arrays along the innermost axis (credit: https://stackoverflow.com/a/53236272)\n",
    "def resamples_last_axis(arr, reps):\n",
    "    \"\"\"\n",
    "    Function used to resample with replacement the innermost axis of the given array (credit: https://stackoverflow.com/a/53236272)\n",
    "    \n",
    "    Input:\n",
    "        - arr: the input array to be resampled (along the innermost axis)\n",
    "        - reps: the number of resamples that is required\n",
    "    \n",
    "    Output:\n",
    "        - resampled_array: the input arry resampled along the last axis, shape = (reps,) + arr.shape\n",
    "    \"\"\"\n",
    "\n",
    "    n = arr.shape[-1]\n",
    "\n",
    "\n",
    "    # create an array to shift random indexes as needed\n",
    "    shift = np.repeat(np.arange(0, arr.size, n), n).reshape(arr.shape)\n",
    "\n",
    "    # get a flat view of the array\n",
    "    arrflat = arr.ravel()\n",
    "\n",
    "    # sample the array by generating random ints and shifting them appropriately\n",
    "    return np.array([arrflat[np.random.randint(0, n, arr.shape) + shift] \n",
    "                     for i in range(reps)])\n",
    "\n",
    "\n",
    "#function that generates the bootstap resampled of the given array along a specified axis\n",
    "def bootstrap_resamples(array: np.ndarray, axis:int, Nres:int):\n",
    "    \"\"\"\n",
    "    Function performing the bootstrap resampling (sample with replacement) of the input array along a given axis\n",
    "    (obtain with minimal modifications to the code given in: https://stackoverflow.com/a/53236272)\n",
    "    \n",
    "    Input:\n",
    "        - array: input array to be resampled\n",
    "        - axis: the axis over which to perform the resampling with replacement\n",
    "        - Nres: the number of required resamples\n",
    "    \n",
    "    Output:\n",
    "        - resamples_array: the array with the resamples, shape = (Nres,) + array.shape\n",
    "    \"\"\"\n",
    "\n",
    "    #we read the number of dimensions of the input array\n",
    "    ndim = array.ndim\n",
    "\n",
    "    #input control on the axis parameter\n",
    "    if axis >= ndim or axis<-ndim:\n",
    "        raise ValueError(f\"The input array has shape {array.shape}, so axis can take values in the range {-ndim}, ..., {ndim}, extremes included, but axis={axis} were given.\")\n",
    "    \n",
    "    #cast axis to a postive number in the correct range\n",
    "    axis = (axis + array.ndim) % array.ndim\n",
    "\n",
    "    #we swap the array as to have the axis to resample on the last axis\n",
    "    swapped_array = np.swapaxes(array,axis1=axis, axis2=-1)\n",
    "\n",
    "    #we resample along the last axis\n",
    "    resamples_array = resamples_last_axis(swapped_array,Nres)\n",
    "\n",
    "    #we swap again the input axis with the last one (with the +1 taking into account now there is also the resample dimension)\n",
    "    return np.swapaxes(resamples_array, axis1=axis+1, axis2=-1)"
   ]
  },
  {
   "cell_type": "code",
   "execution_count": null,
   "metadata": {},
   "outputs": [],
   "source": [
    "#function that generates the bootstap resampled of the given array along a specified axis\n",
    "def bootstrap(array: np.ndarray, axis:int, Nres:int):\n",
    "    \"\"\"\n",
    "    Function performing the bootstrap resampling (sample with replacement) of the input array along a given axis\n",
    "    (obtain with minimal modifications to the code given in: https://stackoverflow.com/a/53236272)\n",
    "    \n",
    "    Input:\n",
    "        - array: input array to be resampled\n",
    "        - axis: the axis over which to perform the resampling with replacement\n",
    "        - Nres: the number of required resamples\n",
    "    \n",
    "    Output:\n",
    "        - resamples_array: the array with the resamples, shape = (Nres,) + array.shape\n",
    "    \"\"\"\n",
    "\n",
    "    #we read the number of dimensions of the input array\n",
    "    ndim = array.ndim\n",
    "\n",
    "    #input control on the axis parameter\n",
    "    if axis >= ndim or axis<-ndim:\n",
    "        raise ValueError(f\"The input array has shape {array.shape}, so axis can take values in the range {-ndim}, ..., {ndim}, extremes included, but axis={axis} were given.\")\n",
    "    \n",
    "    #cast axis to a postive number in the correct range\n",
    "    axis = (axis + array.ndim) %array.ndim\n",
    "\n",
    "    #we swap the array as to have the axis to resample on the last axis\n",
    "    swapped_array = np.swapaxes(array,axis1=axis, axis2=-1)\n",
    "\n",
    "    #we resample along the last axis\n",
    "    resamples_array = resamples_last_axis(swapped_array,Nres)\n",
    "\n",
    "    #we swap again the input axis with the last one (with the +1 taking into account now there is also the resample dimension)\n",
    "    return np.swapaxes(resamples_array, axis1=axis+1, axis2=-1)"
   ]
  },
  {
   "cell_type": "code",
   "execution_count": 157,
   "metadata": {},
   "outputs": [
    {
     "data": {
      "text/plain": [
       "'(Nres, Nconf, latticeT)'"
      ]
     },
     "execution_count": 157,
     "metadata": {},
     "output_type": "execute_result"
    },
    {
     "data": {
      "text/plain": [
       "(150, 212, 48)"
      ]
     },
     "execution_count": 157,
     "metadata": {},
     "output_type": "execute_result"
    }
   ],
   "source": [
    "Nres=150\n",
    "\n",
    "p2corr_res = bootstrap_resamples(p2corr, axis=0,Nres=Nres)\n",
    "\n",
    "\"(Nres, Nconf, latticeT)\"\n",
    "p2corr_res.shape"
   ]
  },
  {
   "cell_type": "code",
   "execution_count": 158,
   "metadata": {},
   "outputs": [],
   "source": [
    "std_bst = np.std( np.mean(p2corr_res,axis=1), axis=0, ddof=1)"
   ]
  },
  {
   "cell_type": "code",
   "execution_count": 159,
   "metadata": {},
   "outputs": [
    {
     "data": {
      "image/png": "[encoded data removed]",
      "text/plain": [
       "<Figure size 640x480 with 1 Axes>"
      ]
     },
     "metadata": {},
     "output_type": "display_data"
    }
   ],
   "source": [
    "_ = plt.plot(np.arange(latticeT), std_normal, 'o',label=\"normal\")\n",
    "\n",
    "_ = plt.plot(np.arange(latticeT), std_jack, '^', label=\"jack\")\n",
    "\n",
    "_ = plt.plot(np.arange(latticeT), std_bst, 'd', label=\"bts\")\n",
    "\n",
    "_ = plt.legend()\n",
    "\n",
    "plt.yscale(\"log\")"
   ]
  },
  {
   "cell_type": "code",
   "execution_count": 160,
   "metadata": {},
   "outputs": [
    {
     "data": {
      "image/png": "[encoded data removed]",
      "text/plain": [
       "<Figure size 640x480 with 1 Axes>"
      ]
     },
     "metadata": {},
     "output_type": "display_data"
    }
   ],
   "source": [
    "_ = plt.plot(np.arange(latticeT), (std_jack-std_normal)/std_normal, 'o',label=\"jack\")\n",
    "\n",
    "_ = plt.plot(np.arange(latticeT), (std_bst-std_normal)/std_normal, '^',label=\"bts\")\n",
    "\n",
    "_ = plt.legend()\n",
    "\n",
    "\n",
    "plt.yscale(\"log\")"
   ]
  }
 ],
 "metadata": {
  "kernelspec": {
   "display_name": ".venv",
   "language": "python",
   "name": "python3"
  },
  "language_info": {
   "codemirror_mode": {
    "name": "ipython",
    "version": 3
   },
   "file_extension": ".py",
   "mimetype": "text/x-python",
   "name": "python",
   "nbconvert_exporter": "python",
   "pygments_lexer": "ipython3",
   "version": "3.11.9"
  }
 },
 "nbformat": 4,
 "nbformat_minor": 2
}
