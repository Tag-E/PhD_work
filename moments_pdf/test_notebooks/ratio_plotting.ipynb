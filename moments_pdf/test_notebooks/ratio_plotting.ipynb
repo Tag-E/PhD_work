{
 "cells": [
  {
   "cell_type": "markdown",
   "metadata": {
    "vscode": {
     "languageId": "plaintext"
    }
   },
   "source": [
    "# Notebook setup"
   ]
  },
  {
   "cell_type": "code",
   "execution_count": 1,
   "metadata": {},
   "outputs": [],
   "source": [
    "from IPython.core.interactiveshell import InteractiveShell\n",
    "InteractiveShell.ast_node_interactivity = \"all\"\n",
    "\n",
    "\n",
    "import numpy as np\n",
    "import matplotlib.pyplot as plt\n",
    "\n",
    "import os\n",
    "import sys\n",
    "\n",
    "sys.path.insert(1, '../')\n",
    "\n",
    "from moments_toolkit import moments_toolkit"
   ]
  },
  {
   "cell_type": "markdown",
   "metadata": {
    "vscode": {
     "languageId": "plaintext"
    }
   },
   "source": [
    "# Data reading"
   ]
  },
  {
   "cell_type": "code",
   "execution_count": 2,
   "metadata": {},
   "outputs": [
    {
     "name": "stdout",
     "output_type": "stream",
     "text": [
      "\n",
      "Initializing the moments_toolkit class instance...\n",
      "\n",
      "\n",
      "Initializing the building block class instance...\n",
      "\n",
      "\n",
      "Reading the the keys of the dataset ...\n",
      "\n",
      "\n",
      "Reading the 2 point and 3 point correlators from the fast access dataset ...\n",
      "\n",
      "\n",
      "Reading the list of all the available operators from the database...\n",
      "\n",
      "\n",
      "Class Initialization Complete!\n",
      "\n"
     ]
    }
   ],
   "source": [
    "p3fold = os.environ['mount_point_path'] + \"48c48/binned_1012_hmz370_BMW/3PointCorrelation/\"\n",
    "p2fold = os.environ['mount_point_path'] + \"48c48/binned_1012_hmz370_BMW/2PointCorrelation/\"\n",
    "\n",
    "\n",
    "opAnalyzer = moments_toolkit(p3fold, p2fold,\n",
    "                            T_to_remove_list=[12], skip3p=False, skipop=False,\n",
    "                            verbose=True,\n",
    "                            fast_data_folder = \"../fast_data\",\n",
    "                            operator_folder= \"../operator_database\",\n",
    "                            max_n=3)"
   ]
  },
  {
   "cell_type": "markdown",
   "metadata": {
    "vscode": {
     "languageId": "plaintext"
    }
   },
   "source": [
    "# Ratio Plot - Attempt 1"
   ]
  },
  {
   "cell_type": "code",
   "execution_count": 3,
   "metadata": {},
   "outputs": [],
   "source": [
    "#we take the operators of the paper\n",
    "\n",
    "opV1 = 1/6 * opAnalyzer.get_operator(2)\n",
    "opV2 = 1/(3 * np.sqrt(2)) * (opAnalyzer.get_operator(2) - opAnalyzer.get_operator(3))\n",
    "opV3 = 1/np.sqrt(2) * opAnalyzer.get_operator(14)\n",
    "\n",
    "opA1 = 1/np.sqrt(2) * opAnalyzer.get_operator(28)\n",
    "opA2 = 1/np.sqrt(2) * opAnalyzer.get_operator(32)\n",
    "\n",
    "opT1 = opAnalyzer.get_operator(74) + 1/2 * opAnalyzer.get_operator(78)\n",
    "opT2 = opAnalyzer.get_operator(78)\n",
    "opT3 =  1/6 * ( -3 * opAnalyzer.get_operator(83) + 2 * opAnalyzer.get_operator(87) + 3* opAnalyzer.get_operator(91) + opAnalyzer.get_operator(95) )\n",
    "opT4 = 1/2 * ( opAnalyzer.get_operator(83) + 2 * opAnalyzer.get_operator(87) -2* opAnalyzer.get_operator(91) )"
   ]
  },
  {
   "cell_type": "code",
   "execution_count": 4,
   "metadata": {},
   "outputs": [
    {
     "data": {
      "text/plain": [
       "'V'"
      ]
     },
     "execution_count": 4,
     "metadata": {},
     "output_type": "execute_result"
    },
    {
     "data": {
      "text/latex": [
       "$\\displaystyle 1.0 {{O}_{1, 1}} + 1.0 {{O}_{2, 2}} + 1.0 {{O}_{3, 3}} - 3.0 {{O}_{4, 4}}$"
      ],
      "text/plain": [
       "1.0*O[1, 1] + 1.0*O[2, 2] + 1.0*O[3, 3] - 3.0*O[4, 4]"
      ]
     },
     "execution_count": 4,
     "metadata": {},
     "output_type": "execute_result"
    },
    {
     "data": {
      "text/latex": [
       "$\\displaystyle 1.0 {{O}_{3, 3}} - 1.0 {{O}_{4, 4}}$"
      ],
      "text/plain": [
       "1.0*O[3, 3] - 1.0*O[4, 4]"
      ]
     },
     "execution_count": 4,
     "metadata": {},
     "output_type": "execute_result"
    },
    {
     "data": {
      "text/latex": [
       "$\\displaystyle 1.0 {{O}_{1, 4}} + 1.0 {{O}_{4, 1}}$"
      ],
      "text/plain": [
       "1.0*O[1, 4] + 1.0*O[4, 1]"
      ]
     },
     "execution_count": 4,
     "metadata": {},
     "output_type": "execute_result"
    },
    {
     "data": {
      "text/plain": [
       "'A'"
      ]
     },
     "execution_count": 4,
     "metadata": {},
     "output_type": "execute_result"
    },
    {
     "data": {
      "text/latex": [
       "$\\displaystyle 1.0 {{O}_{1, 3}} + 1.0 {{O}_{3, 1}}$"
      ],
      "text/plain": [
       "1.0*O[1, 3] + 1.0*O[3, 1]"
      ]
     },
     "execution_count": 4,
     "metadata": {},
     "output_type": "execute_result"
    },
    {
     "data": {
      "text/latex": [
       "$\\displaystyle 1.0 {{O}_{3, 4}} + 1.0 {{O}_{4, 3}}$"
      ],
      "text/plain": [
       "1.0*O[3, 4] + 1.0*O[4, 3]"
      ]
     },
     "execution_count": 4,
     "metadata": {},
     "output_type": "execute_result"
    },
    {
     "data": {
      "text/plain": [
       "'T'"
      ]
     },
     "execution_count": 4,
     "metadata": {},
     "output_type": "execute_result"
    },
    {
     "data": {
      "text/latex": [
       "$\\displaystyle 1.0 {{O}_{2, 1, 1}} - 1.0 {{O}_{2, 4, 4}}$"
      ],
      "text/plain": [
       "1.0*O[2, 1, 1] - 1.0*O[2, 4, 4]"
      ]
     },
     "execution_count": 4,
     "metadata": {},
     "output_type": "execute_result"
    },
    {
     "data": {
      "text/latex": [
       "$\\displaystyle 1.0 {{O}_{2, 3, 3}} - 1.0 {{O}_{2, 4, 4}}$"
      ],
      "text/plain": [
       "1.0*O[2, 3, 3] - 1.0*O[2, 4, 4]"
      ]
     },
     "execution_count": 4,
     "metadata": {},
     "output_type": "execute_result"
    },
    {
     "data": {
      "text/latex": [
       "$\\displaystyle 1.0 {{O}_{1, 2, 4}} - 1.0 {{O}_{2, 4, 1}}$"
      ],
      "text/plain": [
       "1.0*O[1, 2, 4] - 1.0*O[2, 4, 1]"
      ]
     },
     "execution_count": 4,
     "metadata": {},
     "output_type": "execute_result"
    },
    {
     "data": {
      "text/latex": [
       "$\\displaystyle 1.0 {{O}_{1, 4, 2}} - 2.0 {{O}_{2, 1, 4}} + 1.0 {{O}_{4, 2, 1}}$"
      ],
      "text/plain": [
       "1.0*O[1, 4, 2] - 2.0*O[2, 1, 4] + 1.0*O[4, 2, 1]"
      ]
     },
     "execution_count": 4,
     "metadata": {},
     "output_type": "execute_result"
    }
   ],
   "source": [
    "\"V\"\n",
    "(opV1*6).O\n",
    "(opV2*np.sqrt(2)).O\n",
    "(opV3*np.sqrt(2)).O\n",
    "\"A\"\n",
    "(opA1*np.sqrt(2)).O\n",
    "(opA2*np.sqrt(2)).O\n",
    "\"T\"\n",
    "opT1.O\n",
    "opT2.O\n",
    "opT3.O\n",
    "opT4.O"
   ]
  },
  {
   "cell_type": "code",
   "execution_count": 38,
   "metadata": {},
   "outputs": [],
   "source": [
    "#(2* opAnalyzer.get_operator(87)).O\n",
    "#opAnalyzer.get_operator(91).O\n",
    "#opAnalyzer.get_operator(95).O\n",
    "#\n",
    "#\n",
    "#\n",
    "#2 * opAnalyzer.get_operator(87) - 2 * opAnalyzer.get_operator(95) + 3 * opAnalyzer.get_operator(83)\n",
    "#\n",
    "#\n",
    "#\n",
    "#\n",
    "#opAnalyzer.get_operator(83).O\n",
    "#(2 * opAnalyzer.get_operator(87)).O\n",
    "#opAnalyzer.get_operator(91).O\n",
    "#opAnalyzer.get_operator(95).O\n",
    "#\n",
    "#\n",
    "#\n",
    "#\n",
    "#(-3 * opAnalyzer.get_operator(83)).O\n",
    "#(2 * opAnalyzer.get_operator(87)).O\n",
    "#(3* opAnalyzer.get_operator(91)).O\n",
    "#opAnalyzer.get_operator(95).O\n",
    "#\n",
    "#\n",
    "#(-3 * opAnalyzer.get_operator(83) + 2 * opAnalyzer.get_operator(87) + 3* opAnalyzer.get_operator(91) + opAnalyzer.get_operator(95) ).O\n",
    "#\n",
    "#\n",
    "#\n",
    "#( opAnalyzer.get_operator(83) + 2 * opAnalyzer.get_operator(87) -2* opAnalyzer.get_operator(91) ).O"
   ]
  },
  {
   "cell_type": "code",
   "execution_count": 9,
   "metadata": {},
   "outputs": [
    {
     "data": {
      "text/plain": [
       "[O[1, 1]/6 + O[2, 2]/6 + O[3, 3]/6 - O[4, 4]/2,\n",
       " 707106781186547*O[3, 3]/1000000000000000 - 707106781186547*O[4, 4]/1000000000000000,\n",
       " 707106781186547*O[1, 4]/1000000000000000 + 707106781186547*O[4, 1]/1000000000000000,\n",
       " 707106781186547*O[1, 3]/1000000000000000 + 707106781186547*O[3, 1]/1000000000000000,\n",
       " 707106781186547*O[3, 4]/1000000000000000 + 707106781186547*O[4, 3]/1000000000000000,\n",
       " O[2, 1, 1] - O[2, 4, 4],\n",
       " O[2, 3, 3] - O[2, 4, 4],\n",
       " O[1, 2, 4] - O[2, 4, 1],\n",
       " O[1, 4, 2] - 2*O[2, 1, 4] + O[4, 2, 1]]"
      ]
     },
     "execution_count": 9,
     "metadata": {},
     "output_type": "execute_result"
    }
   ],
   "source": [
    "#we empty the selected op just to be sure\n",
    "opAnalyzer.deselect_operator()\n",
    "\n",
    "#we append the operators\n",
    "opAnalyzer.append_operator(opV1)\n",
    "opAnalyzer.append_operator(opV2)\n",
    "opAnalyzer.append_operator(opV3)\n",
    "opAnalyzer.append_operator(opA1)\n",
    "opAnalyzer.append_operator(opA2)\n",
    "opAnalyzer.append_operator(opT1)\n",
    "opAnalyzer.append_operator(opT2)\n",
    "opAnalyzer.append_operator(opT3)\n",
    "opAnalyzer.append_operator(opT4)\n",
    "\n",
    "opAnalyzer.selected_op"
   ]
  }
 ],
 "metadata": {
  "kernelspec": {
   "display_name": ".venv",
   "language": "python",
   "name": "python3"
  },
  "language_info": {
   "codemirror_mode": {
    "name": "ipython",
    "version": 3
   },
   "file_extension": ".py",
   "mimetype": "text/x-python",
   "name": "python",
   "nbconvert_exporter": "python",
   "pygments_lexer": "ipython3",
   "version": "3.11.9"
  }
 },
 "nbformat": 4,
 "nbformat_minor": 2
}
