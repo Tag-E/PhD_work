{
 "cells": [
  {
   "cell_type": "markdown",
   "metadata": {},
   "source": [
    "# Imports"
   ]
  },
  {
   "cell_type": "code",
   "execution_count": 1,
   "metadata": {},
   "outputs": [],
   "source": [
    "from IPython.core.interactiveshell import InteractiveShell\n",
    "InteractiveShell.ast_node_interactivity = \"all\"\n",
    "\n",
    "\n",
    "import h5py as h5 #to read the correlator\n",
    "import numpy as np #to do everything\n",
    "from pathlib import Path #to read the file's names\n",
    "from typing import Any, Callable #to use annotations for functions\n",
    "import matplotlib.pyplot as plt #to plot stuff\n",
    "from tqdm import tqdm #for a nice view of for loops with loading bars\n",
    "import os #to access enviromental variables\n",
    "\n",
    "\n",
    "\n",
    "\n",
    "import sys\n",
    "\n",
    "sys.path.insert(1, '../')\n",
    "\n",
    "from moments_toolkit import moments_toolkit\n"
   ]
  },
  {
   "cell_type": "markdown",
   "metadata": {},
   "source": [
    "# Tests 1"
   ]
  },
  {
   "cell_type": "code",
   "execution_count": 2,
   "metadata": {},
   "outputs": [
    {
     "name": "stderr",
     "output_type": "stream",
     "text": [
      "100%|██████████| 20/20 [00:43<00:00,  2.19s/it]\n",
      "100%|██████████| 20/20 [00:00<00:00, 78.54it/s]\n",
      "100%|██████████| 20/20 [00:43<00:00,  2.16s/it]\n",
      "100%|██████████| 20/20 [00:44<00:00,  2.21s/it]\n",
      "100%|██████████| 20/20 [00:00<00:00, 121.98it/s]\n",
      "100%|██████████| 4/4 [00:00<00:00, 9010.32it/s]\n",
      "100%|██████████| 4/4 [00:00<00:00, 232.36it/s]\n",
      "100%|██████████| 4/4 [00:01<00:00,  3.01it/s]\n",
      "100%|██████████| 20/20 [00:00<00:00, 109.66it/s]\n",
      "100%|██████████| 4/4 [00:00<00:00, 10076.41it/s]\n",
      "100%|██████████| 4/4 [00:00<00:00, 216.28it/s]\n",
      "100%|██████████| 4/4 [00:01<00:00,  2.71it/s]\n",
      "100%|██████████| 20/20 [00:00<00:00, 133.01it/s]\n",
      "100%|██████████| 11/11 [00:00<00:00, 10958.99it/s]\n",
      "100%|██████████| 11/11 [00:00<00:00, 40.61it/s]\n",
      "100%|██████████| 5/5 [00:04<00:00,  1.15it/s]\n",
      "100%|██████████| 20/20 [00:00<00:00, 105.09it/s]\n",
      "100%|██████████| 11/11 [00:00<00:00, 10245.91it/s]\n",
      "100%|██████████| 11/11 [00:00<00:00, 44.42it/s]\n",
      "100%|██████████| 5/5 [00:06<00:00,  1.24s/it]\n",
      "100%|██████████| 20/20 [00:00<00:00, 105.87it/s]\n",
      "100%|██████████| 11/11 [00:00<00:00, 10830.36it/s]\n",
      "100%|██████████| 11/11 [00:00<00:00, 48.79it/s]\n",
      "100%|██████████| 5/5 [00:06<00:00,  1.27s/it]\n",
      "100%|██████████| 20/20 [00:00<00:00, 131.59it/s]\n",
      "100%|██████████| 59/59 [00:00<00:00, 10198.39it/s]\n",
      "100%|██████████| 59/59 [00:08<00:00,  6.68it/s]\n",
      "100%|██████████| 13/13 [00:15<00:00,  1.21s/it]\n"
     ]
    }
   ],
   "source": [
    "p3fold = os.environ['mount_point_path'] + \"48c48/binned_1012_hmz370_BMW/3PointCorrelation/\"\n",
    "p2fold = os.environ['mount_point_path'] + \"48c48/binned_1012_hmz370_BMW/2PointCorrelation/\"\n",
    "\n",
    "\n",
    "opAnalyzer = moments_toolkit(p3fold, p2fold,\n",
    "                     maxConf=20, T_to_remove_list=[12,10],\n",
    "                     verbose=False)"
   ]
  },
  {
   "cell_type": "code",
   "execution_count": 3,
   "metadata": {},
   "outputs": [
    {
     "data": {
      "text/plain": [
       "[O[1, 3] + O[3, 1], O[3, 4] + O[4, 3], O[2, 1, 2, 2] - O[4, 3, 4, 4]]"
      ]
     },
     "execution_count": 3,
     "metadata": {},
     "output_type": "execute_result"
    },
    {
     "data": {
      "text/latex": [
       "$\\displaystyle \\frac{i p_{1} \\left(E(p) m_{N} + m_{N}^{2} + 2 p_{3}^{2}\\right)}{E(p) \\left(E(p) + m_{N}\\right)}$"
      ],
      "text/plain": [
       "I*p_1*(E(p)*m_N + m_N**2 + 2*p_3**2)/(E(p)*(E(p) + m_N))"
      ]
     },
     "metadata": {},
     "output_type": "display_data"
    },
    {
     "data": {
      "text/latex": [
       "$\\displaystyle \\frac{- E(p)^{3} - 2 E(p)^{2} m_{N} - E(p) m_{N}^{2} + E(p) p_{1}^{2} + E(p) p_{2}^{2} - 3 E(p) p_{3}^{2} - 2 m_{N} p_{3}^{2}}{2 E(p) \\left(E(p) + m_{N}\\right)}$"
      ],
      "text/plain": [
       "(-E(p)**3 - 2*E(p)**2*m_N - E(p)*m_N**2 + E(p)*p_1**2 + E(p)*p_2**2 - 3*E(p)*p_3**2 - 2*m_N*p_3**2)/(2*E(p)*(E(p) + m_N))"
      ]
     },
     "metadata": {},
     "output_type": "display_data"
    },
    {
     "data": {
      "text/latex": [
       "$\\displaystyle \\frac{2 i p_{2}^{2} \\left(- E(p) m_{N} - m_{N}^{2} - p_{1}^{2} - p_{2}^{2}\\right)}{E(p) \\left(E(p) + m_{N}\\right)}$"
      ],
      "text/plain": [
       "2*I*p_2**2*(-E(p)*m_N - m_N**2 - p_1**2 - p_2**2)/(E(p)*(E(p) + m_N))"
      ]
     },
     "metadata": {},
     "output_type": "display_data"
    }
   ],
   "source": [
    "opAnalyzer.select_operator(28,32,380)\n",
    "\n",
    "oplist = opAnalyzer.selected_op\n",
    "\n",
    "oplist\n",
    "\n",
    "Klist = [op.K for op in oplist]\n",
    "\n",
    "_ = [display(K) for K in Klist]"
   ]
  },
  {
   "cell_type": "code",
   "execution_count": 4,
   "metadata": {},
   "outputs": [],
   "source": [
    "from Kfact_calculator import mN, E, p_mu, p1,p2,p3"
   ]
  },
  {
   "cell_type": "code",
   "execution_count": 5,
   "metadata": {},
   "outputs": [
    {
     "data": {
      "text/latex": [
       "$\\displaystyle \\frac{i p_{1} \\left(E(p) m_{N} + m_{N}^{2} + 2 p_{3}^{2}\\right)}{E(p) \\left(E(p) + m_{N}\\right)}$"
      ],
      "text/plain": [
       "I*p_1*(E(p)*m_N + m_N**2 + 2*p_3**2)/(E(p)*(E(p) + m_N))"
      ]
     },
     "execution_count": 5,
     "metadata": {},
     "output_type": "execute_result"
    },
    {
     "data": {
      "text/latex": [
       "$\\displaystyle E(p)$"
      ],
      "text/plain": [
       "E(p)"
      ]
     },
     "execution_count": 5,
     "metadata": {},
     "output_type": "execute_result"
    },
    {
     "data": {
      "text/plain": [
       "[p_1, p_2, p_3, I*E(p)]"
      ]
     },
     "execution_count": 5,
     "metadata": {},
     "output_type": "execute_result"
    }
   ],
   "source": [
    "myop = oplist[0]\n",
    "myop.K\n",
    "\n",
    "\n",
    "E\n",
    "p_mu"
   ]
  },
  {
   "cell_type": "code",
   "execution_count": 6,
   "metadata": {},
   "outputs": [
    {
     "data": {
      "text/plain": [
       "True"
      ]
     },
     "execution_count": 6,
     "metadata": {},
     "output_type": "execute_result"
    },
    {
     "data": {
      "text/plain": [
       "[True, False, True, False]"
      ]
     },
     "execution_count": 6,
     "metadata": {},
     "output_type": "execute_result"
    }
   ],
   "source": [
    "E in myop.K.free_symbols\n",
    "[p in myop.K.free_symbols for p in p_mu]"
   ]
  },
  {
   "cell_type": "code",
   "execution_count": 7,
   "metadata": {},
   "outputs": [
    {
     "data": {
      "text/plain": [
       "True"
      ]
     },
     "execution_count": 7,
     "metadata": {},
     "output_type": "execute_result"
    },
    {
     "data": {
      "text/plain": [
       "True"
      ]
     },
     "execution_count": 7,
     "metadata": {},
     "output_type": "execute_result"
    },
    {
     "data": {
      "text/plain": [
       "True"
      ]
     },
     "execution_count": 7,
     "metadata": {},
     "output_type": "execute_result"
    },
    {
     "data": {
      "text/plain": [
       "True"
      ]
     },
     "execution_count": 7,
     "metadata": {},
     "output_type": "execute_result"
    }
   ],
   "source": [
    "E in myop.K.free_symbols\n",
    "mN in myop.K.free_symbols\n",
    "p1 in myop.K.free_symbols\n",
    "p3 in myop.K.free_symbols"
   ]
  },
  {
   "cell_type": "code",
   "execution_count": 8,
   "metadata": {},
   "outputs": [
    {
     "data": {
      "text/plain": [
       "np.float64(0.41561275768889294)"
      ]
     },
     "execution_count": 8,
     "metadata": {},
     "output_type": "execute_result"
    }
   ],
   "source": [
    "mass = opAnalyzer.get_meff()[0]\n",
    "\n",
    "mass"
   ]
  },
  {
   "cell_type": "code",
   "execution_count": 9,
   "metadata": {},
   "outputs": [
    {
     "data": {
      "text/plain": [
       "{E(p): np.float64(0.41561275768889294),\n",
       " m_N: np.float64(0.41561275768889294),\n",
       " p_1: 0,\n",
       " p_3: 0}"
      ]
     },
     "execution_count": 9,
     "metadata": {},
     "output_type": "execute_result"
    }
   ],
   "source": [
    "subsDict = {E:mass,mN:mass,p1:0,p2:0,p3:0}\n",
    "\n",
    "{k:v for (k,v) in subsDict.items() if k in myop.K.free_symbols}"
   ]
  },
  {
   "cell_type": "code",
   "execution_count": 10,
   "metadata": {},
   "outputs": [
    {
     "data": {
      "text/latex": [
       "$\\displaystyle \\frac{i p_{1} \\left(E(p) m_{N} + m_{N}^{2} + 2 p_{3}^{2}\\right)}{E(p) \\left(E(p) + m_{N}\\right)}$"
      ],
      "text/plain": [
       "I*p_1*(E(p)*m_N + m_N**2 + 2*p_3**2)/(E(p)*(E(p) + m_N))"
      ]
     },
     "execution_count": 10,
     "metadata": {},
     "output_type": "execute_result"
    },
    {
     "data": {
      "text/latex": [
       "$\\displaystyle \\frac{i p_{1} \\left(E(p) m_{N} + m_{N}^{2} + 2.0 p_{3}^{2}\\right)}{E(p) \\left(E(p) + m_{N}\\right)}$"
      ],
      "text/plain": [
       "I*p_1*(E(p)*m_N + m_N**2 + 2.0*p_3**2)/(E(p)*(E(p) + m_N))"
      ]
     },
     "execution_count": 10,
     "metadata": {},
     "output_type": "execute_result"
    }
   ],
   "source": [
    "myop = opAnalyzer.get_operator(28)\n",
    "myop.K\n",
    "\n",
    "myop.K.evalf(subs={p2:0})"
   ]
  },
  {
   "cell_type": "code",
   "execution_count": 11,
   "metadata": {},
   "outputs": [
    {
     "data": {
      "text/latex": [
       "$\\displaystyle \\frac{- E(p)^{3} - 2 E(p)^{2} m_{N} - E(p) m_{N}^{2} + E(p) p_{1}^{2} + E(p) p_{2}^{2} - 3 E(p) p_{3}^{2} - 2 m_{N} p_{3}^{2}}{2 E(p) \\left(E(p) + m_{N}\\right)}$"
      ],
      "text/plain": [
       "(-E(p)**3 - 2*E(p)**2*m_N - E(p)*m_N**2 + E(p)*p_1**2 + E(p)*p_2**2 - 3*E(p)*p_3**2 - 2*m_N*p_3**2)/(2*E(p)*(E(p) + m_N))"
      ]
     },
     "execution_count": 11,
     "metadata": {},
     "output_type": "execute_result"
    },
    {
     "data": {
      "text/latex": [
       "$\\displaystyle -0.415612757688893$"
      ],
      "text/plain": [
       "-0.415612757688893"
      ]
     },
     "execution_count": 11,
     "metadata": {},
     "output_type": "execute_result"
    },
    {
     "data": {
      "text/plain": [
       "-0.41561275768889294"
      ]
     },
     "execution_count": 11,
     "metadata": {},
     "output_type": "execute_result"
    }
   ],
   "source": [
    "myop = opAnalyzer.get_operator(32)\n",
    "myop.K\n",
    "myop.K.evalf(subs={k:v for (k,v) in subsDict.items() if k in myop.K.free_symbols})\n",
    "float(myop.K.evalf(subs=subsDict))"
   ]
  },
  {
   "cell_type": "code",
   "execution_count": 12,
   "metadata": {},
   "outputs": [
    {
     "data": {
      "text/plain": [
       "O[3, 3] - O[4, 4]"
      ]
     },
     "execution_count": 12,
     "metadata": {},
     "output_type": "execute_result"
    },
    {
     "data": {
      "image/png": "[encoded data removed]",
      "text/plain": [
       "<Figure size 2000x800 with 1 Axes>"
      ]
     },
     "metadata": {},
     "output_type": "display_data"
    }
   ],
   "source": [
    "opAnalyzer.select_operator()\n",
    "op2 = opAnalyzer.get_operator(2)\n",
    "op3 = opAnalyzer.get_operator(3)\n",
    "\n",
    "opV2 = (op2-op3) /(3*np.sqrt(2))\n",
    "opV2*np.sqrt(2)\n",
    "\n",
    "opAnalyzer.selected_op.append(opV2)\n",
    "\n",
    "opAnalyzer.plot_R(rescale=True,abs=True)"
   ]
  }
 ],
 "metadata": {
  "kernelspec": {
   "display_name": ".venv",
   "language": "python",
   "name": "python3"
  },
  "language_info": {
   "codemirror_mode": {
    "name": "ipython",
    "version": 3
   },
   "file_extension": ".py",
   "mimetype": "text/x-python",
   "name": "python",
   "nbconvert_exporter": "python",
   "pygments_lexer": "ipython3",
   "version": "3.11.9"
  }
 },
 "nbformat": 4,
 "nbformat_minor": 2
}
