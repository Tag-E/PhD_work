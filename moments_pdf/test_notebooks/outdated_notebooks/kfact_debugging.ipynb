{
 "cells": [
  {
   "cell_type": "markdown",
   "metadata": {},
   "source": [
    "# Debugging of Kfact_calculator.py"
   ]
  },
  {
   "cell_type": "markdown",
   "metadata": {},
   "source": [
    "## Library Import"
   ]
  },
  {
   "cell_type": "code",
   "execution_count": 1,
   "metadata": {},
   "outputs": [],
   "source": [
    "from IPython.core.interactiveshell import InteractiveShell\n",
    "InteractiveShell.ast_node_interactivity = \"all\""
   ]
  },
  {
   "cell_type": "code",
   "execution_count": 2,
   "metadata": {},
   "outputs": [],
   "source": [
    "#!pip install pylatex"
   ]
  },
  {
   "cell_type": "code",
   "execution_count": 2,
   "metadata": {},
   "outputs": [],
   "source": [
    "# Symbolic computation\n",
    "import sympy as sp\n",
    "\n",
    "# import complex unit as: I\n",
    "from sympy import I\n",
    "\n",
    "# pritty printing sympy objects\n",
    "from IPython.display import display, Latex, Math\n",
    "\n",
    "# numerical work:\n",
    "import numpy as np\n",
    "\n",
    "# simplified looping\n",
    "import itertools as it"
   ]
  },
  {
   "cell_type": "code",
   "execution_count": 3,
   "metadata": {},
   "outputs": [],
   "source": [
    "import sys\n",
    "\n",
    "sys.path.insert(1, '../')\n",
    "\n",
    "from cgh4_calculator import cg_calc\n",
    "from cgh4_calculator import print_CGmat"
   ]
  },
  {
   "cell_type": "markdown",
   "metadata": {},
   "source": [
    "# Fixing big number problem"
   ]
  },
  {
   "cell_type": "code",
   "execution_count": 4,
   "metadata": {},
   "outputs": [
    {
     "name": "stdout",
     "output_type": "stream",
     "text": [
      "\n",
      "Loading matrix representations for all the elements of H(4) ...\n",
      "\n"
     ]
    },
    {
     "name": "stderr",
     "output_type": "stream",
     "text": [
      "100%|██████████| 20/20 [00:00<00:00, 122.71it/s]\n"
     ]
    },
    {
     "name": "stdout",
     "output_type": "stream",
     "text": [
      "\n",
      "Loading the cg coefficients for the given tensor product from the database ...\n",
      "\n"
     ]
    },
    {
     "name": "stderr",
     "output_type": "stream",
     "text": [
      "100%|██████████| 59/59 [00:00<00:00, 10409.02it/s]\n",
      "100%|██████████| 59/59 [00:08<00:00,  6.72it/s]\n"
     ]
    }
   ],
   "source": [
    "chosen_irreps = [(4,1),(4,1),(4,1),(4,1)]\n",
    "\n",
    "cg = cg_calc(*chosen_irreps,verbose=True, cgdatabase=\"../cg_database\")\n",
    "\n",
    "#we look at the raw and non raw cg dict\n",
    "cg_dict = cg.cg_dict\n",
    "cg_raw = cg.raw_cg"
   ]
  },
  {
   "cell_type": "code",
   "execution_count": 14,
   "metadata": {},
   "outputs": [
    {
     "data": {
      "text/plain": [
       "(3, 256, 3)"
      ]
     },
     "execution_count": 14,
     "metadata": {},
     "output_type": "execute_result"
    },
    {
     "data": {
      "text/plain": [
       "(256, 3)"
      ]
     },
     "execution_count": 14,
     "metadata": {},
     "output_type": "execute_result"
    },
    {
     "data": {
      "text/plain": [
       "array([0, 0, 0, 0, 0, 0, 0, 0, 0, 0, 0, 0, 0, 0, 0, 0, 0, 0, 0, 0, 0, 0,\n",
       "       0, 0, 0, 0, 0, 1.00000000000000, 0, 0, -1.00000000000000, 0, 0, 0,\n",
       "       0, 0, 0, 0, 0, -2.70215977642230e+16, 0, 0, 0, 0, 0,\n",
       "       2.70215977642230e+16, 0, 0, 0, 0, 0, 0, 0, 0,\n",
       "       -2.70215977642230e+16, 0, 0, 2.70215977642230e+16, 0, 0, 0, 0, 0,\n",
       "       0, 0, 0, 0, 0, 0, 0, 0, 0, 0, 0, 0, 1.00000000000000, 0, 0,\n",
       "       -1.00000000000000, 0, 0, 0, 0, 0, 0, 0, 0, 0, 0, 0, 0, 0, 0, 0, 0,\n",
       "       0, 0, 0, 0, 2.70215977642230e+16, 0, 0, 0, 0, 0, 0, 0, 0,\n",
       "       -2.70215977642230e+16, 0, 0, 0, 0, 0, 2.70215977642230e+16, 0, 0,\n",
       "       0, 0, 0, -2.70215977642230e+16, 0, 0, 0, 0, 0, 0, 0, 0, 0, 0, 0, 0,\n",
       "       0, 0, -2.70215977642230e+16, 0, 0, 0, 0, 0, 2.70215977642230e+16,\n",
       "       0, 0, 0, 0, 0, 2.70215977642230e+16, 0, 0, 0, 0, 0, 0, 0, 0,\n",
       "       -2.70215977642230e+16, 0, 0, 0, 0, 0, 0, 0, 0, 0, 0, 0, 0, 0, 0, 0,\n",
       "       0, 0, 0, 0, 0, 5.40431955284459e+16, 0, 0, -5.40431955284459e+16,\n",
       "       0, 0, 0, 0, 0, 0, 0, 0, 0, 0, 0, 0, 0, 0, 0, 0, 0,\n",
       "       -2.70215977642230e+16, 0, 0, 2.70215977642230e+16, 0, 0, 0, 0, 0,\n",
       "       0, 0, 0, 2.70215977642230e+16, 0, 0, 0, 0, 0,\n",
       "       -2.70215977642230e+16, 0, 0, 0, 0, 0, 0, 0, 0,\n",
       "       5.40431955284459e+16, 0, 0, -5.40431955284459e+16, 0, 0, 0, 0, 0,\n",
       "       0, 0, 0, 0, 0, 0, 0, 0, 0, 0, 0, 0, 0, 0, 0, 0, 0, 0, 0, 0, 0, 0],\n",
       "      dtype=object)"
      ]
     },
     "execution_count": 14,
     "metadata": {},
     "output_type": "execute_result"
    }
   ],
   "source": [
    "#np.shape(cg_dict[7][1])\n",
    "\n",
    "value = cg_dict[7]\n",
    "\n",
    "np.shape(value)\n",
    "\n",
    "#for i,imul in enumerate(value):\n",
    " #   np.shape(imul)\n",
    "\n",
    "block = value[1]\n",
    "np.shape(block)\n",
    "\n",
    "op = block[:,2]\n",
    "op\n",
    "\n",
    "#[1][:,2]"
   ]
  },
  {
   "cell_type": "code",
   "execution_count": 31,
   "metadata": {},
   "outputs": [],
   "source": [
    "#function used to round the raw CG matrix obtained from the calculator #TO DO: include this function at the end of the cg_calculator class\n",
    "def new_round_CG(cgmat: np.ndarray, digits:int=2) -> np.ndarray:\n",
    "    \"\"\"\n",
    "    Function rounding the matrices of Clebsch-Gordan coefficients coming out of the cg calculator\n",
    "    \n",
    "    Input:\n",
    "        - cgmat: the raw cg matrix coming out of the cg calculator\n",
    "        \n",
    "    Output:\n",
    "        - rounded cgmat: the cg matrix with rounded numbers\n",
    "    \"\"\"\n",
    "\n",
    "    #ok = np.asarray(cgmat)\n",
    "    #print(np.shape(ok))\n",
    "    #return np.round(np.asarray(cgmat).astype(np.float64),digits)\n",
    "\n",
    "    #first thing first we convert the sympy symbols to floats\n",
    "    new_cgmat = np.asarray(cgmat).astype(np.float64)\n",
    "\n",
    "    #then we normalize the entries to the columns to the highest number\n",
    "    for j in range(np.shape(new_cgmat)[1]):\n",
    "    \n",
    "        #index = (new_cgmat[:,j]!=0).argmax(axis=0)\n",
    "        index = np.abs(new_cgmat[:,j]).argmax(axis=0)\n",
    "        norm = new_cgmat[index,j]\n",
    "    \n",
    "        new_cgmat[:,j] /= norm\n",
    "\n",
    "    #then we put to 0 the coefficient smaller than a fixed treshold\n",
    "    treshold = 10**(-10)\n",
    "    new_cgmat[np.abs(new_cgmat)<treshold] = 0.0    \n",
    "\n",
    "    #then we return the rounded matrix\n",
    "    return np.round(new_cgmat,digits)"
   ]
  },
  {
   "cell_type": "code",
   "execution_count": 30,
   "metadata": {},
   "outputs": [
    {
     "data": {
      "text/plain": [
       "np.int64(27)"
      ]
     },
     "execution_count": 30,
     "metadata": {},
     "output_type": "execute_result"
    },
    {
     "data": {
      "text/plain": [
       "array([False, False, False, False, False, False, False, False, False,\n",
       "       False, False, False, False, False, False, False, False, False,\n",
       "       False, False, False, False, False, False, False, False, False,\n",
       "        True, False, False,  True, False, False, False, False, False,\n",
       "       False, False, False,  True, False, False, False, False, False,\n",
       "        True, False, False, False, False, False, False, False, False,\n",
       "        True, False, False,  True, False, False, False, False, False,\n",
       "       False, False, False, False, False, False, False, False, False,\n",
       "       False, False, False,  True, False, False,  True, False, False,\n",
       "       False, False, False, False, False, False, False, False, False,\n",
       "       False, False, False, False, False, False, False, False, False,\n",
       "        True, False, False, False, False, False, False, False, False,\n",
       "        True, False, False, False, False, False,  True, False, False,\n",
       "       False, False, False,  True, False, False, False, False, False,\n",
       "       False, False, False, False, False, False, False, False, False,\n",
       "        True, False, False, False, False, False,  True, False, False,\n",
       "       False, False, False,  True, False, False, False, False, False,\n",
       "       False, False, False,  True, False, False, False, False, False,\n",
       "       False, False, False, False, False, False, False, False, False,\n",
       "       False, False, False, False, False, False,  True, False, False,\n",
       "        True, False, False, False, False, False, False, False, False,\n",
       "       False, False, False, False, False, False, False, False, False,\n",
       "        True, False, False,  True, False, False, False, False, False,\n",
       "       False, False, False,  True, False, False, False, False, False,\n",
       "        True, False, False, False, False, False, False, False, False,\n",
       "        True, False, False,  True, False, False, False, False, False,\n",
       "       False, False, False, False, False, False, False, False, False,\n",
       "       False, False, False, False, False, False, False, False, False,\n",
       "       False, False, False, False])"
      ]
     },
     "execution_count": 30,
     "metadata": {},
     "output_type": "execute_result"
    }
   ],
   "source": [
    "numblock = np.asarray(block).astype(np.float64)\n",
    "\n",
    "#numblock[:,2]\n",
    "\n",
    "index = (numblock[:,2]!=0).argmax(axis=0)\n",
    "\n",
    "index\n",
    "\n",
    "(numblock[:,2]!=0)\n",
    "\n",
    "#for n in numblock[:,2]:\n",
    "#    n\n",
    "#    n>0\n",
    "\n",
    "#numblock[index,2]"
   ]
  },
  {
   "cell_type": "code",
   "execution_count": 32,
   "metadata": {},
   "outputs": [
    {
     "data": {
      "text/plain": [
       "(256, 3)"
      ]
     },
     "execution_count": 32,
     "metadata": {},
     "output_type": "execute_result"
    },
    {
     "data": {
      "text/plain": [
       "array([ 0. ,  0. ,  0. ,  0. ,  0. ,  0. ,  0. ,  0. ,  0. ,  0. ,  0. ,\n",
       "        0. ,  0. ,  0. ,  0. ,  0. ,  0. ,  0. ,  0. ,  0. ,  0. ,  0. ,\n",
       "        0. ,  0. ,  0. ,  0. ,  0. ,  0. ,  0. ,  0. ,  0. ,  0. ,  0. ,\n",
       "        0. ,  0. ,  0. ,  0. ,  0. ,  0. , -0.5,  0. ,  0. ,  0. ,  0. ,\n",
       "        0. ,  0.5,  0. ,  0. ,  0. ,  0. ,  0. ,  0. ,  0. ,  0. , -0.5,\n",
       "        0. ,  0. ,  0.5,  0. ,  0. ,  0. ,  0. ,  0. ,  0. ,  0. ,  0. ,\n",
       "        0. ,  0. ,  0. ,  0. ,  0. ,  0. ,  0. ,  0. ,  0. ,  0. ,  0. ,\n",
       "        0. ,  0. ,  0. ,  0. ,  0. ,  0. ,  0. ,  0. ,  0. ,  0. ,  0. ,\n",
       "        0. ,  0. ,  0. ,  0. ,  0. ,  0. ,  0. ,  0. ,  0. ,  0. ,  0. ,\n",
       "        0.5,  0. ,  0. ,  0. ,  0. ,  0. ,  0. ,  0. ,  0. , -0.5,  0. ,\n",
       "        0. ,  0. ,  0. ,  0. ,  0.5,  0. ,  0. ,  0. ,  0. ,  0. , -0.5,\n",
       "        0. ,  0. ,  0. ,  0. ,  0. ,  0. ,  0. ,  0. ,  0. ,  0. ,  0. ,\n",
       "        0. ,  0. ,  0. , -0.5,  0. ,  0. ,  0. ,  0. ,  0. ,  0.5,  0. ,\n",
       "        0. ,  0. ,  0. ,  0. ,  0.5,  0. ,  0. ,  0. ,  0. ,  0. ,  0. ,\n",
       "        0. ,  0. , -0.5,  0. ,  0. ,  0. ,  0. ,  0. ,  0. ,  0. ,  0. ,\n",
       "        0. ,  0. ,  0. ,  0. ,  0. ,  0. ,  0. ,  0. ,  0. ,  0. ,  0. ,\n",
       "        0. ,  1. ,  0. ,  0. , -1. ,  0. ,  0. ,  0. ,  0. ,  0. ,  0. ,\n",
       "        0. ,  0. ,  0. ,  0. ,  0. ,  0. ,  0. ,  0. ,  0. ,  0. ,  0. ,\n",
       "       -0.5,  0. ,  0. ,  0.5,  0. ,  0. ,  0. ,  0. ,  0. ,  0. ,  0. ,\n",
       "        0. ,  0.5,  0. ,  0. ,  0. ,  0. ,  0. , -0.5,  0. ,  0. ,  0. ,\n",
       "        0. ,  0. ,  0. ,  0. ,  0. ,  1. ,  0. ,  0. , -1. ,  0. ,  0. ,\n",
       "        0. ,  0. ,  0. ,  0. ,  0. ,  0. ,  0. ,  0. ,  0. ,  0. ,  0. ,\n",
       "        0. ,  0. ,  0. ,  0. ,  0. ,  0. ,  0. ,  0. ,  0. ,  0. ,  0. ,\n",
       "        0. ,  0. ,  0. ])"
      ]
     },
     "execution_count": 32,
     "metadata": {},
     "output_type": "execute_result"
    }
   ],
   "source": [
    "new_block = new_round_CG(block)\n",
    "\n",
    "np.shape(new_block)\n",
    "\n",
    "newop = new_block[:,2]\n",
    "\n",
    "newop"
   ]
  },
  {
   "cell_type": "markdown",
   "metadata": {},
   "source": [
    "## Smaller test"
   ]
  },
  {
   "cell_type": "code",
   "execution_count": 9,
   "metadata": {},
   "outputs": [
    {
     "name": "stdout",
     "output_type": "stream",
     "text": [
      "\n",
      "Loading matrix representations for all the elements of H(4) ...\n",
      "\n",
      "\n",
      "Loading the cg coefficients for the given tensor product from the database ...\n",
      "\n"
     ]
    }
   ],
   "source": [
    "chosen_irreps = [(4,1),(4,1)]\n",
    "\n",
    "cg = cg_calc(*chosen_irreps,verbose=True, cgdatabase=\"../cg_database\")\n",
    "\n",
    "#we look at the raw and non raw cg dict\n",
    "cg_dict = cg.cg_dict\n",
    "cg_raw = cg.raw_cg"
   ]
  },
  {
   "cell_type": "code",
   "execution_count": 10,
   "metadata": {},
   "outputs": [
    {
     "data": {
      "text/plain": [
       "dict_keys([0, 6, 14, 16])"
      ]
     },
     "execution_count": 10,
     "metadata": {},
     "output_type": "execute_result"
    },
    {
     "data": {
      "text/plain": [
       "dict_keys([(0, 0), (16, 0), (6, 0), (14, 0)])"
      ]
     },
     "execution_count": 10,
     "metadata": {},
     "output_type": "execute_result"
    }
   ],
   "source": [
    "cg_dict.keys()\n",
    "cg_raw.keys()"
   ]
  },
  {
   "cell_type": "code",
   "execution_count": 21,
   "metadata": {},
   "outputs": [
    {
     "data": {
      "text/latex": [
       "$\\displaystyle \\left[\\begin{matrix}1.0\\\\0\\\\0\\\\0\\\\0\\\\1.0\\\\0\\\\0\\\\0\\\\0\\\\1.0\\\\0\\\\0\\\\0\\\\0\\\\1.0\\end{matrix}\\right]$"
      ],
      "text/plain": [
       "Matrix([\n",
       "[1.0],\n",
       "[  0],\n",
       "[  0],\n",
       "[  0],\n",
       "[  0],\n",
       "[1.0],\n",
       "[  0],\n",
       "[  0],\n",
       "[  0],\n",
       "[  0],\n",
       "[1.0],\n",
       "[  0],\n",
       "[  0],\n",
       "[  0],\n",
       "[  0],\n",
       "[1.0]])"
      ]
     },
     "execution_count": 21,
     "metadata": {},
     "output_type": "execute_result"
    },
    {
     "data": {
      "text/latex": [
       "$\\displaystyle \\left[\\begin{matrix}96.0 {A}_{0,0} + 96.0 {A}_{5,0} + 96.0 {A}_{10,0} + 96.0 {A}_{15,0}\\\\0\\\\0\\\\0\\\\0\\\\96.0 {A}_{0,0} + 96.0 {A}_{5,0} + 96.0 {A}_{10,0} + 96.0 {A}_{15,0}\\\\0\\\\0\\\\0\\\\0\\\\96.0 {A}_{0,0} + 96.0 {A}_{5,0} + 96.0 {A}_{10,0} + 96.0 {A}_{15,0}\\\\0\\\\0\\\\0\\\\0\\\\96.0 {A}_{0,0} + 96.0 {A}_{5,0} + 96.0 {A}_{10,0} + 96.0 {A}_{15,0}\\end{matrix}\\right]$"
      ],
      "text/plain": [
       "Matrix([\n",
       "[96.0*A[0, 0] + 96.0*A[5, 0] + 96.0*A[10, 0] + 96.0*A[15, 0]],\n",
       "[                                                          0],\n",
       "[                                                          0],\n",
       "[                                                          0],\n",
       "[                                                          0],\n",
       "[96.0*A[0, 0] + 96.0*A[5, 0] + 96.0*A[10, 0] + 96.0*A[15, 0]],\n",
       "[                                                          0],\n",
       "[                                                          0],\n",
       "[                                                          0],\n",
       "[                                                          0],\n",
       "[96.0*A[0, 0] + 96.0*A[5, 0] + 96.0*A[10, 0] + 96.0*A[15, 0]],\n",
       "[                                                          0],\n",
       "[                                                          0],\n",
       "[                                                          0],\n",
       "[                                                          0],\n",
       "[96.0*A[0, 0] + 96.0*A[5, 0] + 96.0*A[10, 0] + 96.0*A[15, 0]]])"
      ]
     },
     "execution_count": 21,
     "metadata": {},
     "output_type": "execute_result"
    }
   ],
   "source": [
    "sp.Matrix(cg_dict[0][0])\n",
    "\n",
    "sp.Matrix(cg_raw[(0,0)])"
   ]
  },
  {
   "cell_type": "code",
   "execution_count": 22,
   "metadata": {},
   "outputs": [
    {
     "data": {
      "text/latex": [
       "$\\displaystyle \\left[\\begin{matrix}1.0 & 1.0 & 1.0\\\\0 & 0 & 0\\\\0 & 0 & 0\\\\0 & 0 & 0\\\\0 & 0 & 0\\\\0.999999999999997 & 1.0 & -1.0\\\\0 & 0 & 0\\\\0 & 0 & 0\\\\0 & 0 & 0\\\\0 & 0 & 0\\\\0.999999999999997 & -2.00000000000001 & -6.75385673313636 \\cdot 10^{-16}\\\\0 & 0 & 0\\\\0 & 0 & 0\\\\0 & 0 & 0\\\\0 & 0 & 0\\\\-2.99999999999999 & -5.5511151231258 \\cdot 10^{-16} & 7.49400541621983 \\cdot 10^{-16}\\end{matrix}\\right]$"
      ],
      "text/plain": [
       "Matrix([\n",
       "[              1.0,                  1.0,                   1.0],\n",
       "[                0,                    0,                     0],\n",
       "[                0,                    0,                     0],\n",
       "[                0,                    0,                     0],\n",
       "[                0,                    0,                     0],\n",
       "[0.999999999999997,                  1.0,                  -1.0],\n",
       "[                0,                    0,                     0],\n",
       "[                0,                    0,                     0],\n",
       "[                0,                    0,                     0],\n",
       "[                0,                    0,                     0],\n",
       "[0.999999999999997,    -2.00000000000001, -6.75385673313636e-16],\n",
       "[                0,                    0,                     0],\n",
       "[                0,                    0,                     0],\n",
       "[                0,                    0,                     0],\n",
       "[                0,                    0,                     0],\n",
       "[-2.99999999999999, -5.5511151231258e-16,  7.49400541621983e-16]])"
      ]
     },
     "execution_count": 22,
     "metadata": {},
     "output_type": "execute_result"
    },
    {
     "data": {
      "text/latex": [
       "$\\displaystyle \\left[\\begin{matrix}10.6666666666667 {A}_{0,1} + 15.084944665313 {A}_{0,2} + 26.1278905896872 {A}_{0,3} + 10.6666666666667 {A}_{5,1} + 15.084944665313 {A}_{5,2} - 26.1278905896872 {A}_{5,3} + 10.6666666666667 {A}_{10,1} - 30.1698893306261 {A}_{10,2} - 32.0 {A}_{15,1} & 15.084944665313 {A}_{0,1} + 21.3333333333334 {A}_{0,2} + 36.950417228136 {A}_{0,3} + 15.084944665313 {A}_{5,1} + 21.3333333333333 {A}_{5,2} - 36.950417228136 {A}_{5,3} + 15.084944665313 {A}_{10,1} - 42.6666666666667 {A}_{10,2} - 45.2548339959391 {A}_{15,1} & 26.1278905896872 {A}_{0,1} + 36.950417228136 {A}_{0,2} + 64.0 {A}_{0,3} + 26.1278905896872 {A}_{5,1} + 36.950417228136 {A}_{5,2} - 64.0 {A}_{5,3} + 26.1278905896872 {A}_{10,1} - 73.900834456272 {A}_{10,2} - 78.3836717690616 {A}_{15,1}\\\\0 & 0 & 0\\\\0 & 0 & 0\\\\0 & 0 & 0\\\\0 & 0 & 0\\\\10.6666666666667 {A}_{0,1} + 15.084944665313 {A}_{0,2} + 26.1278905896872 {A}_{0,3} + 10.6666666666667 {A}_{5,1} + 15.084944665313 {A}_{5,2} - 26.1278905896872 {A}_{5,3} + 10.6666666666667 {A}_{10,1} - 30.1698893306261 {A}_{10,2} - 32.0 {A}_{15,1} & 15.084944665313 {A}_{0,1} + 21.3333333333333 {A}_{0,2} + 36.950417228136 {A}_{0,3} + 15.084944665313 {A}_{5,1} + 21.3333333333333 {A}_{5,2} - 36.950417228136 {A}_{5,3} + 15.084944665313 {A}_{10,1} - 42.6666666666666 {A}_{10,2} - 45.2548339959391 {A}_{15,1} & - 26.1278905896872 {A}_{0,1} - 36.950417228136 {A}_{0,2} - 64.0 {A}_{0,3} - 26.1278905896872 {A}_{5,1} - 36.950417228136 {A}_{5,2} + 64.0 {A}_{5,3} - 26.1278905896872 {A}_{10,1} + 73.9008344562721 {A}_{10,2} + 78.3836717690616 {A}_{15,1}\\\\0 & 0 & 0\\\\0 & 0 & 0\\\\0 & 0 & 0\\\\0 & 0 & 0\\\\10.6666666666667 {A}_{0,1} + 15.084944665313 {A}_{0,2} + 26.1278905896872 {A}_{0,3} + 10.6666666666666 {A}_{5,1} + 15.084944665313 {A}_{5,2} - 26.1278905896872 {A}_{5,3} + 10.6666666666667 {A}_{10,1} - 30.169889330626 {A}_{10,2} - 31.9999999999999 {A}_{15,1} & - 30.1698893306261 {A}_{0,1} - 42.6666666666667 {A}_{0,2} - 73.9008344562721 {A}_{0,3} - 30.1698893306261 {A}_{5,1} - 42.6666666666667 {A}_{5,2} + 73.900834456272 {A}_{5,3} - 30.1698893306261 {A}_{10,1} + 85.3333333333333 {A}_{10,2} + 90.5096679918782 {A}_{15,1} & 0\\\\0 & 0 & 0\\\\0 & 0 & 0\\\\0 & 0 & 0\\\\0 & 0 & 0\\\\- 31.9999999999999 {A}_{0,1} - 45.2548339959391 {A}_{0,2} - 78.3836717690616 {A}_{0,3} - 32.0 {A}_{5,1} - 45.2548339959391 {A}_{5,2} + 78.3836717690616 {A}_{5,3} - 32.0 {A}_{10,1} + 90.5096679918782 {A}_{10,2} + 96.0 {A}_{15,1} & 0 & 0\\end{matrix}\\right]$"
      ],
      "text/plain": [
       "Matrix([\n",
       "[           10.6666666666667*A[0, 1] + 15.084944665313*A[0, 2] + 26.1278905896872*A[0, 3] + 10.6666666666667*A[5, 1] + 15.084944665313*A[5, 2] - 26.1278905896872*A[5, 3] + 10.6666666666667*A[10, 1] - 30.1698893306261*A[10, 2] - 32.0*A[15, 1],      15.084944665313*A[0, 1] + 21.3333333333334*A[0, 2] + 36.950417228136*A[0, 3] + 15.084944665313*A[5, 1] + 21.3333333333333*A[5, 2] - 36.950417228136*A[5, 3] + 15.084944665313*A[10, 1] - 42.6666666666667*A[10, 2] - 45.2548339959391*A[15, 1],   26.1278905896872*A[0, 1] + 36.950417228136*A[0, 2] + 64.0*A[0, 3] + 26.1278905896872*A[5, 1] + 36.950417228136*A[5, 2] - 64.0*A[5, 3] + 26.1278905896872*A[10, 1] - 73.900834456272*A[10, 2] - 78.3836717690616*A[15, 1]],\n",
       "[                                                                                                                                                                                                                                               0,                                                                                                                                                                                                                                                   0,                                                                                                                                                                                                                          0],\n",
       "[                                                                                                                                                                                                                                               0,                                                                                                                                                                                                                                                   0,                                                                                                                                                                                                                          0],\n",
       "[                                                                                                                                                                                                                                               0,                                                                                                                                                                                                                                                   0,                                                                                                                                                                                                                          0],\n",
       "[                                                                                                                                                                                                                                               0,                                                                                                                                                                                                                                                   0,                                                                                                                                                                                                                          0],\n",
       "[           10.6666666666667*A[0, 1] + 15.084944665313*A[0, 2] + 26.1278905896872*A[0, 3] + 10.6666666666667*A[5, 1] + 15.084944665313*A[5, 2] - 26.1278905896872*A[5, 3] + 10.6666666666667*A[10, 1] - 30.1698893306261*A[10, 2] - 32.0*A[15, 1],      15.084944665313*A[0, 1] + 21.3333333333333*A[0, 2] + 36.950417228136*A[0, 3] + 15.084944665313*A[5, 1] + 21.3333333333333*A[5, 2] - 36.950417228136*A[5, 3] + 15.084944665313*A[10, 1] - 42.6666666666666*A[10, 2] - 45.2548339959391*A[15, 1], -26.1278905896872*A[0, 1] - 36.950417228136*A[0, 2] - 64.0*A[0, 3] - 26.1278905896872*A[5, 1] - 36.950417228136*A[5, 2] + 64.0*A[5, 3] - 26.1278905896872*A[10, 1] + 73.9008344562721*A[10, 2] + 78.3836717690616*A[15, 1]],\n",
       "[                                                                                                                                                                                                                                               0,                                                                                                                                                                                                                                                   0,                                                                                                                                                                                                                          0],\n",
       "[                                                                                                                                                                                                                                               0,                                                                                                                                                                                                                                                   0,                                                                                                                                                                                                                          0],\n",
       "[                                                                                                                                                                                                                                               0,                                                                                                                                                                                                                                                   0,                                                                                                                                                                                                                          0],\n",
       "[                                                                                                                                                                                                                                               0,                                                                                                                                                                                                                                                   0,                                                                                                                                                                                                                          0],\n",
       "[10.6666666666667*A[0, 1] + 15.084944665313*A[0, 2] + 26.1278905896872*A[0, 3] + 10.6666666666666*A[5, 1] + 15.084944665313*A[5, 2] - 26.1278905896872*A[5, 3] + 10.6666666666667*A[10, 1] - 30.169889330626*A[10, 2] - 31.9999999999999*A[15, 1], -30.1698893306261*A[0, 1] - 42.6666666666667*A[0, 2] - 73.9008344562721*A[0, 3] - 30.1698893306261*A[5, 1] - 42.6666666666667*A[5, 2] + 73.900834456272*A[5, 3] - 30.1698893306261*A[10, 1] + 85.3333333333333*A[10, 2] + 90.5096679918782*A[15, 1],                                                                                                                                                                                                                          0],\n",
       "[                                                                                                                                                                                                                                               0,                                                                                                                                                                                                                                                   0,                                                                                                                                                                                                                          0],\n",
       "[                                                                                                                                                                                                                                               0,                                                                                                                                                                                                                                                   0,                                                                                                                                                                                                                          0],\n",
       "[                                                                                                                                                                                                                                               0,                                                                                                                                                                                                                                                   0,                                                                                                                                                                                                                          0],\n",
       "[                                                                                                                                                                                                                                               0,                                                                                                                                                                                                                                                   0,                                                                                                                                                                                                                          0],\n",
       "[                                -31.9999999999999*A[0, 1] - 45.2548339959391*A[0, 2] - 78.3836717690616*A[0, 3] - 32.0*A[5, 1] - 45.2548339959391*A[5, 2] + 78.3836717690616*A[5, 3] - 32.0*A[10, 1] + 90.5096679918782*A[10, 2] + 96.0*A[15, 1],                                                                                                                                                                                                                                                   0,                                                                                                                                                                                                                          0]])"
      ]
     },
     "execution_count": 22,
     "metadata": {},
     "output_type": "execute_result"
    }
   ],
   "source": [
    "sp.Matrix(cg_dict[6][0])\n",
    "\n",
    "sp.Matrix(cg_raw[(6,0)])"
   ]
  },
  {
   "cell_type": "code",
   "execution_count": 23,
   "metadata": {},
   "outputs": [
    {
     "name": "stdout",
     "output_type": "stream",
     "text": [
      "\n",
      "Loading matrix representations for all the elements of H(4) ...\n",
      "\n",
      "\n",
      "Loading the cg coefficients for the given tensor product from the database ...\n",
      "\n"
     ]
    }
   ],
   "source": [
    "chosen_irreps = [(4,1),(4,1), (4,1)]\n",
    "\n",
    "cg = cg_calc(*chosen_irreps,verbose=True, cgdatabase=\"../cg_database\")\n",
    "\n",
    "#we look at the raw and non raw cg dict\n",
    "cg_dict = cg.cg_dict\n",
    "cg_raw = cg.raw_cg"
   ]
  },
  {
   "cell_type": "code",
   "execution_count": 24,
   "metadata": {},
   "outputs": [
    {
     "data": {
      "text/plain": [
       "dict_keys([10, 11, 13, 18, 19])"
      ]
     },
     "execution_count": 24,
     "metadata": {},
     "output_type": "execute_result"
    },
    {
     "data": {
      "text/plain": [
       "dict_keys([(10, 2), (18, 1), (18, 2), (10, 3), (19, 0), (10, 0), (18, 0), (10, 1), (11, 0), (19, 1), (13, 0)])"
      ]
     },
     "execution_count": 24,
     "metadata": {},
     "output_type": "execute_result"
    }
   ],
   "source": [
    "cg_dict.keys()\n",
    "cg_raw.keys()"
   ]
  },
  {
   "cell_type": "code",
   "execution_count": 25,
   "metadata": {},
   "outputs": [
    {
     "data": {
      "text/latex": [
       "$\\displaystyle \\left[\\begin{matrix}0 & 0 & 0 & 0\\\\0 & 0 & 0 & 0\\\\0 & 0 & 0 & 0\\\\0 & 0 & 0 & 0\\\\0 & 1.0 & 0 & 0\\\\0 & 0 & 0 & 0\\\\0 & 0 & 0 & 0\\\\0 & 0 & 0 & 0\\\\0 & 0 & 1.0 & 0\\\\0 & 0 & 0 & 0\\\\0 & 0 & 0 & 0\\\\0 & 0 & 0 & 0\\\\0 & 0 & 0 & 1.0\\\\0 & 0 & 0 & 0\\\\0 & 0 & 0 & 0\\\\0 & 0 & 0 & 0\\\\0 & 0 & 0 & 0\\\\1.0 & 0 & 0 & 0\\\\0 & 0 & 0 & 0\\\\0 & 0 & 0 & 0\\\\0 & 0 & 0 & 0\\\\0 & 0 & 0 & 0\\\\0 & 0 & 0 & 0\\\\0 & 0 & 0 & 0\\\\0 & 0 & 0 & 0\\\\0 & 0 & 1.0 & 0\\\\0 & 0 & 0 & 0\\\\0 & 0 & 0 & 0\\\\0 & 0 & 0 & 0\\\\0 & 0 & 0 & 1.0\\\\0 & 0 & 0 & 0\\\\0 & 0 & 0 & 0\\\\0 & 0 & 0 & 0\\\\0 & 0 & 0 & 0\\\\1.0 & 0 & 0 & 0\\\\0 & 0 & 0 & 0\\\\0 & 0 & 0 & 0\\\\0 & 0 & 0 & 0\\\\0 & 1.0 & 0 & 0\\\\0 & 0 & 0 & 0\\\\0 & 0 & 0 & 0\\\\0 & 0 & 0 & 0\\\\0 & 0 & 0 & 0\\\\0 & 0 & 0 & 0\\\\0 & 0 & 0 & 0\\\\0 & 0 & 0 & 0\\\\0 & 0 & 0 & 1.0\\\\0 & 0 & 0 & 0\\\\0 & 0 & 0 & 0\\\\0 & 0 & 0 & 0\\\\0 & 0 & 0 & 0\\\\1.0 & 0 & 0 & 0\\\\0 & 0 & 0 & 0\\\\0 & 0 & 0 & 0\\\\0 & 0 & 0 & 0\\\\0 & 1.0 & 0 & 0\\\\0 & 0 & 0 & 0\\\\0 & 0 & 0 & 0\\\\0 & 0 & 0 & 0\\\\0 & 0 & 1.0 & 0\\\\0 & 0 & 0 & 0\\\\0 & 0 & 0 & 0\\\\0 & 0 & 0 & 0\\\\0 & 0 & 0 & 0\\end{matrix}\\right]$"
      ],
      "text/plain": [
       "Matrix([\n",
       "[  0,   0,   0,   0],\n",
       "[  0,   0,   0,   0],\n",
       "[  0,   0,   0,   0],\n",
       "[  0,   0,   0,   0],\n",
       "[  0, 1.0,   0,   0],\n",
       "[  0,   0,   0,   0],\n",
       "[  0,   0,   0,   0],\n",
       "[  0,   0,   0,   0],\n",
       "[  0,   0, 1.0,   0],\n",
       "[  0,   0,   0,   0],\n",
       "[  0,   0,   0,   0],\n",
       "[  0,   0,   0,   0],\n",
       "[  0,   0,   0, 1.0],\n",
       "[  0,   0,   0,   0],\n",
       "[  0,   0,   0,   0],\n",
       "[  0,   0,   0,   0],\n",
       "[  0,   0,   0,   0],\n",
       "[1.0,   0,   0,   0],\n",
       "[  0,   0,   0,   0],\n",
       "[  0,   0,   0,   0],\n",
       "[  0,   0,   0,   0],\n",
       "[  0,   0,   0,   0],\n",
       "[  0,   0,   0,   0],\n",
       "[  0,   0,   0,   0],\n",
       "[  0,   0,   0,   0],\n",
       "[  0,   0, 1.0,   0],\n",
       "[  0,   0,   0,   0],\n",
       "[  0,   0,   0,   0],\n",
       "[  0,   0,   0,   0],\n",
       "[  0,   0,   0, 1.0],\n",
       "[  0,   0,   0,   0],\n",
       "[  0,   0,   0,   0],\n",
       "[  0,   0,   0,   0],\n",
       "[  0,   0,   0,   0],\n",
       "[1.0,   0,   0,   0],\n",
       "[  0,   0,   0,   0],\n",
       "[  0,   0,   0,   0],\n",
       "[  0,   0,   0,   0],\n",
       "[  0, 1.0,   0,   0],\n",
       "[  0,   0,   0,   0],\n",
       "[  0,   0,   0,   0],\n",
       "[  0,   0,   0,   0],\n",
       "[  0,   0,   0,   0],\n",
       "[  0,   0,   0,   0],\n",
       "[  0,   0,   0,   0],\n",
       "[  0,   0,   0,   0],\n",
       "[  0,   0,   0, 1.0],\n",
       "[  0,   0,   0,   0],\n",
       "[  0,   0,   0,   0],\n",
       "[  0,   0,   0,   0],\n",
       "[  0,   0,   0,   0],\n",
       "[1.0,   0,   0,   0],\n",
       "[  0,   0,   0,   0],\n",
       "[  0,   0,   0,   0],\n",
       "[  0,   0,   0,   0],\n",
       "[  0, 1.0,   0,   0],\n",
       "[  0,   0,   0,   0],\n",
       "[  0,   0,   0,   0],\n",
       "[  0,   0,   0,   0],\n",
       "[  0,   0, 1.0,   0],\n",
       "[  0,   0,   0,   0],\n",
       "[  0,   0,   0,   0],\n",
       "[  0,   0,   0,   0],\n",
       "[  0,   0,   0,   0]])"
      ]
     },
     "execution_count": 25,
     "metadata": {},
     "output_type": "execute_result"
    },
    {
     "data": {
      "text/latex": [
       "$\\displaystyle \\left[\\begin{matrix}96.0 {A}_{0,0} + 96.0 {A}_{21,1} + 96.0 {A}_{42,2} + 96.0 {A}_{63,3} & 0 & 0 & 0\\\\0 & 32.0 {A}_{1,1} + 32.0 {A}_{2,2} + 32.0 {A}_{3,3} + 32.0 {A}_{20,0} + 32.0 {A}_{22,2} + 32.0 {A}_{23,3} + 32.0 {A}_{40,0} + 32.0 {A}_{41,1} + 32.0 {A}_{43,3} + 32.0 {A}_{60,0} + 32.0 {A}_{61,1} + 32.0 {A}_{62,2} & 0 & 0\\\\0 & 0 & 32.0 {A}_{1,1} + 32.0 {A}_{2,2} + 32.0 {A}_{3,3} + 32.0 {A}_{20,0} + 32.0 {A}_{22,2} + 32.0 {A}_{23,3} + 32.0 {A}_{40,0} + 32.0 {A}_{41,1} + 32.0 {A}_{43,3} + 32.0 {A}_{60,0} + 32.0 {A}_{61,1} + 32.0 {A}_{62,2} & 0\\\\0 & 0 & 0 & 32.0 {A}_{1,1} + 32.0 {A}_{2,2} + 32.0 {A}_{3,3} + 32.0 {A}_{20,0} + 32.0 {A}_{22,2} + 32.0 {A}_{23,3} + 32.0 {A}_{40,0} + 32.0 {A}_{41,1} + 32.0 {A}_{43,3} + 32.0 {A}_{60,0} + 32.0 {A}_{61,1} + 32.0 {A}_{62,2}\\\\0 & 32.0 {A}_{4,1} + 32.0 {A}_{8,2} + 32.0 {A}_{12,3} + 32.0 {A}_{17,0} + 32.0 {A}_{25,2} + 32.0 {A}_{29,3} + 32.0 {A}_{34,0} + 32.0 {A}_{38,1} + 32.0 {A}_{46,3} + 32.0 {A}_{51,0} + 32.0 {A}_{55,1} + 32.0 {A}_{59,2} & 0 & 0\\\\32.0 {A}_{5,0} + 32.0 {A}_{10,0} + 32.0 {A}_{15,0} + 32.0 {A}_{16,1} + 32.0 {A}_{26,1} + 32.0 {A}_{31,1} + 32.0 {A}_{32,2} + 32.0 {A}_{37,2} + 32.0 {A}_{47,2} + 32.0 {A}_{48,3} + 32.0 {A}_{53,3} + 32.0 {A}_{58,3} & 0 & 0 & 0\\\\0 & 0 & 0 & 0\\\\0 & 0 & 0 & 0\\\\0 & 0 & 32.0 {A}_{4,1} + 32.0 {A}_{8,2} + 32.0 {A}_{12,3} + 32.0 {A}_{17,0} + 32.0 {A}_{25,2} + 32.0 {A}_{29,3} + 32.0 {A}_{34,0} + 32.0 {A}_{38,1} + 32.0 {A}_{46,3} + 32.0 {A}_{51,0} + 32.0 {A}_{55,1} + 32.0 {A}_{59,2} & 0\\\\0 & 0 & 0 & 0\\\\32.0 {A}_{5,0} + 32.0 {A}_{10,0} + 32.0 {A}_{15,0} + 32.0 {A}_{16,1} + 32.0 {A}_{26,1} + 32.0 {A}_{31,1} + 32.0 {A}_{32,2} + 32.0 {A}_{37,2} + 32.0 {A}_{47,2} + 32.0 {A}_{48,3} + 32.0 {A}_{53,3} + 32.0 {A}_{58,3} & 0 & 0 & 0\\\\0 & 0 & 0 & 0\\\\0 & 0 & 0 & 32.0 {A}_{4,1} + 32.0 {A}_{8,2} + 32.0 {A}_{12,3} + 32.0 {A}_{17,0} + 32.0 {A}_{25,2} + 32.0 {A}_{29,3} + 32.0 {A}_{34,0} + 32.0 {A}_{38,1} + 32.0 {A}_{46,3} + 32.0 {A}_{51,0} + 32.0 {A}_{55,1} + 32.0 {A}_{59,2}\\\\0 & 0 & 0 & 0\\\\0 & 0 & 0 & 0\\\\32.0 {A}_{5,0} + 32.0 {A}_{10,0} + 32.0 {A}_{15,0} + 32.0 {A}_{16,1} + 32.0 {A}_{26,1} + 32.0 {A}_{31,1} + 32.0 {A}_{32,2} + 32.0 {A}_{37,2} + 32.0 {A}_{47,2} + 32.0 {A}_{48,3} + 32.0 {A}_{53,3} + 32.0 {A}_{58,3} & 0 & 0 & 0\\\\0 & 32.0 {A}_{5,0} + 32.0 {A}_{10,0} + 32.0 {A}_{15,0} + 32.0 {A}_{16,1} + 32.0 {A}_{26,1} + 32.0 {A}_{31,1} + 32.0 {A}_{32,2} + 32.0 {A}_{37,2} + 32.0 {A}_{47,2} + 32.0 {A}_{48,3} + 32.0 {A}_{53,3} + 32.0 {A}_{58,3} & 0 & 0\\\\32.0 {A}_{4,1} + 32.0 {A}_{8,2} + 32.0 {A}_{12,3} + 32.0 {A}_{17,0} + 32.0 {A}_{25,2} + 32.0 {A}_{29,3} + 32.0 {A}_{34,0} + 32.0 {A}_{38,1} + 32.0 {A}_{46,3} + 32.0 {A}_{51,0} + 32.0 {A}_{55,1} + 32.0 {A}_{59,2} & 0 & 0 & 0\\\\0 & 0 & 0 & 0\\\\0 & 0 & 0 & 0\\\\32.0 {A}_{1,1} + 32.0 {A}_{2,2} + 32.0 {A}_{3,3} + 32.0 {A}_{20,0} + 32.0 {A}_{22,2} + 32.0 {A}_{23,3} + 32.0 {A}_{40,0} + 32.0 {A}_{41,1} + 32.0 {A}_{43,3} + 32.0 {A}_{60,0} + 32.0 {A}_{61,1} + 32.0 {A}_{62,2} & 0 & 0 & 0\\\\0 & 96.0 {A}_{0,0} + 96.0 {A}_{21,1} + 96.0 {A}_{42,2} + 96.0 {A}_{63,3} & 0 & 0\\\\0 & 0 & 32.0 {A}_{1,1} + 32.0 {A}_{2,2} + 32.0 {A}_{3,3} + 32.0 {A}_{20,0} + 32.0 {A}_{22,2} + 32.0 {A}_{23,3} + 32.0 {A}_{40,0} + 32.0 {A}_{41,1} + 32.0 {A}_{43,3} + 32.0 {A}_{60,0} + 32.0 {A}_{61,1} + 32.0 {A}_{62,2} & 0\\\\0 & 0 & 0 & 32.0 {A}_{1,1} + 32.0 {A}_{2,2} + 32.0 {A}_{3,3} + 32.0 {A}_{20,0} + 32.0 {A}_{22,2} + 32.0 {A}_{23,3} + 32.0 {A}_{40,0} + 32.0 {A}_{41,1} + 32.0 {A}_{43,3} + 32.0 {A}_{60,0} + 32.0 {A}_{61,1} + 32.0 {A}_{62,2}\\\\0 & 0 & 0 & 0\\\\0 & 0 & 32.0 {A}_{4,1} + 32.0 {A}_{8,2} + 32.0 {A}_{12,3} + 32.0 {A}_{17,0} + 32.0 {A}_{25,2} + 32.0 {A}_{29,3} + 32.0 {A}_{34,0} + 32.0 {A}_{38,1} + 32.0 {A}_{46,3} + 32.0 {A}_{51,0} + 32.0 {A}_{55,1} + 32.0 {A}_{59,2} & 0\\\\0 & 32.0 {A}_{5,0} + 32.0 {A}_{10,0} + 32.0 {A}_{15,0} + 32.0 {A}_{16,1} + 32.0 {A}_{26,1} + 32.0 {A}_{31,1} + 32.0 {A}_{32,2} + 32.0 {A}_{37,2} + 32.0 {A}_{47,2} + 32.0 {A}_{48,3} + 32.0 {A}_{53,3} + 32.0 {A}_{58,3} & 0 & 0\\\\0 & 0 & 0 & 0\\\\0 & 0 & 0 & 0\\\\0 & 0 & 0 & 32.0 {A}_{4,1} + 32.0 {A}_{8,2} + 32.0 {A}_{12,3} + 32.0 {A}_{17,0} + 32.0 {A}_{25,2} + 32.0 {A}_{29,3} + 32.0 {A}_{34,0} + 32.0 {A}_{38,1} + 32.0 {A}_{46,3} + 32.0 {A}_{51,0} + 32.0 {A}_{55,1} + 32.0 {A}_{59,2}\\\\0 & 0 & 0 & 0\\\\0 & 32.0 {A}_{5,0} + 32.0 {A}_{10,0} + 32.0 {A}_{15,0} + 32.0 {A}_{16,1} + 32.0 {A}_{26,1} + 32.0 {A}_{31,1} + 32.0 {A}_{32,2} + 32.0 {A}_{37,2} + 32.0 {A}_{47,2} + 32.0 {A}_{48,3} + 32.0 {A}_{53,3} + 32.0 {A}_{58,3} & 0 & 0\\\\0 & 0 & 32.0 {A}_{5,0} + 32.0 {A}_{10,0} + 32.0 {A}_{15,0} + 32.0 {A}_{16,1} + 32.0 {A}_{26,1} + 32.0 {A}_{31,1} + 32.0 {A}_{32,2} + 32.0 {A}_{37,2} + 32.0 {A}_{47,2} + 32.0 {A}_{48,3} + 32.0 {A}_{53,3} + 32.0 {A}_{58,3} & 0\\\\0 & 0 & 0 & 0\\\\32.0 {A}_{4,1} + 32.0 {A}_{8,2} + 32.0 {A}_{12,3} + 32.0 {A}_{17,0} + 32.0 {A}_{25,2} + 32.0 {A}_{29,3} + 32.0 {A}_{34,0} + 32.0 {A}_{38,1} + 32.0 {A}_{46,3} + 32.0 {A}_{51,0} + 32.0 {A}_{55,1} + 32.0 {A}_{59,2} & 0 & 0 & 0\\\\0 & 0 & 0 & 0\\\\0 & 0 & 0 & 0\\\\0 & 0 & 32.0 {A}_{5,0} + 32.0 {A}_{10,0} + 32.0 {A}_{15,0} + 32.0 {A}_{16,1} + 32.0 {A}_{26,1} + 32.0 {A}_{31,1} + 32.0 {A}_{32,2} + 32.0 {A}_{37,2} + 32.0 {A}_{47,2} + 32.0 {A}_{48,3} + 32.0 {A}_{53,3} + 32.0 {A}_{58,3} & 0\\\\0 & 32.0 {A}_{4,1} + 32.0 {A}_{8,2} + 32.0 {A}_{12,3} + 32.0 {A}_{17,0} + 32.0 {A}_{25,2} + 32.0 {A}_{29,3} + 32.0 {A}_{34,0} + 32.0 {A}_{38,1} + 32.0 {A}_{46,3} + 32.0 {A}_{51,0} + 32.0 {A}_{55,1} + 32.0 {A}_{59,2} & 0 & 0\\\\0 & 0 & 0 & 0\\\\32.0 {A}_{1,1} + 32.0 {A}_{2,2} + 32.0 {A}_{3,3} + 32.0 {A}_{20,0} + 32.0 {A}_{22,2} + 32.0 {A}_{23,3} + 32.0 {A}_{40,0} + 32.0 {A}_{41,1} + 32.0 {A}_{43,3} + 32.0 {A}_{60,0} + 32.0 {A}_{61,1} + 32.0 {A}_{62,2} & 0 & 0 & 0\\\\0 & 32.0 {A}_{1,1} + 32.0 {A}_{2,2} + 32.0 {A}_{3,3} + 32.0 {A}_{20,0} + 32.0 {A}_{22,2} + 32.0 {A}_{23,3} + 32.0 {A}_{40,0} + 32.0 {A}_{41,1} + 32.0 {A}_{43,3} + 32.0 {A}_{60,0} + 32.0 {A}_{61,1} + 32.0 {A}_{62,2} & 0 & 0\\\\0 & 0 & 96.0 {A}_{0,0} + 96.0 {A}_{21,1} + 96.0 {A}_{42,2} + 96.0 {A}_{63,3} & 0\\\\0 & 0 & 0 & 32.0 {A}_{1,1} + 32.0 {A}_{2,2} + 32.0 {A}_{3,3} + 32.0 {A}_{20,0} + 32.0 {A}_{22,2} + 32.0 {A}_{23,3} + 32.0 {A}_{40,0} + 32.0 {A}_{41,1} + 32.0 {A}_{43,3} + 32.0 {A}_{60,0} + 32.0 {A}_{61,1} + 32.0 {A}_{62,2}\\\\0 & 0 & 0 & 0\\\\0 & 0 & 0 & 0\\\\0 & 0 & 0 & 32.0 {A}_{4,1} + 32.0 {A}_{8,2} + 32.0 {A}_{12,3} + 32.0 {A}_{17,0} + 32.0 {A}_{25,2} + 32.0 {A}_{29,3} + 32.0 {A}_{34,0} + 32.0 {A}_{38,1} + 32.0 {A}_{46,3} + 32.0 {A}_{51,0} + 32.0 {A}_{55,1} + 32.0 {A}_{59,2}\\\\0 & 0 & 32.0 {A}_{5,0} + 32.0 {A}_{10,0} + 32.0 {A}_{15,0} + 32.0 {A}_{16,1} + 32.0 {A}_{26,1} + 32.0 {A}_{31,1} + 32.0 {A}_{32,2} + 32.0 {A}_{37,2} + 32.0 {A}_{47,2} + 32.0 {A}_{48,3} + 32.0 {A}_{53,3} + 32.0 {A}_{58,3} & 0\\\\0 & 0 & 0 & 32.0 {A}_{5,0} + 32.0 {A}_{10,0} + 32.0 {A}_{15,0} + 32.0 {A}_{16,1} + 32.0 {A}_{26,1} + 32.0 {A}_{31,1} + 32.0 {A}_{32,2} + 32.0 {A}_{37,2} + 32.0 {A}_{47,2} + 32.0 {A}_{48,3} + 32.0 {A}_{53,3} + 32.0 {A}_{58,3}\\\\0 & 0 & 0 & 0\\\\0 & 0 & 0 & 0\\\\32.0 {A}_{4,1} + 32.0 {A}_{8,2} + 32.0 {A}_{12,3} + 32.0 {A}_{17,0} + 32.0 {A}_{25,2} + 32.0 {A}_{29,3} + 32.0 {A}_{34,0} + 32.0 {A}_{38,1} + 32.0 {A}_{46,3} + 32.0 {A}_{51,0} + 32.0 {A}_{55,1} + 32.0 {A}_{59,2} & 0 & 0 & 0\\\\0 & 0 & 0 & 0\\\\0 & 0 & 0 & 32.0 {A}_{5,0} + 32.0 {A}_{10,0} + 32.0 {A}_{15,0} + 32.0 {A}_{16,1} + 32.0 {A}_{26,1} + 32.0 {A}_{31,1} + 32.0 {A}_{32,2} + 32.0 {A}_{37,2} + 32.0 {A}_{47,2} + 32.0 {A}_{48,3} + 32.0 {A}_{53,3} + 32.0 {A}_{58,3}\\\\0 & 0 & 0 & 0\\\\0 & 32.0 {A}_{4,1} + 32.0 {A}_{8,2} + 32.0 {A}_{12,3} + 32.0 {A}_{17,0} + 32.0 {A}_{25,2} + 32.0 {A}_{29,3} + 32.0 {A}_{34,0} + 32.0 {A}_{38,1} + 32.0 {A}_{46,3} + 32.0 {A}_{51,0} + 32.0 {A}_{55,1} + 32.0 {A}_{59,2} & 0 & 0\\\\0 & 0 & 0 & 0\\\\0 & 0 & 0 & 0\\\\0 & 0 & 0 & 32.0 {A}_{5,0} + 32.0 {A}_{10,0} + 32.0 {A}_{15,0} + 32.0 {A}_{16,1} + 32.0 {A}_{26,1} + 32.0 {A}_{31,1} + 32.0 {A}_{32,2} + 32.0 {A}_{37,2} + 32.0 {A}_{47,2} + 32.0 {A}_{48,3} + 32.0 {A}_{53,3} + 32.0 {A}_{58,3}\\\\0 & 0 & 32.0 {A}_{4,1} + 32.0 {A}_{8,2} + 32.0 {A}_{12,3} + 32.0 {A}_{17,0} + 32.0 {A}_{25,2} + 32.0 {A}_{29,3} + 32.0 {A}_{34,0} + 32.0 {A}_{38,1} + 32.0 {A}_{46,3} + 32.0 {A}_{51,0} + 32.0 {A}_{55,1} + 32.0 {A}_{59,2} & 0\\\\32.0 {A}_{1,1} + 32.0 {A}_{2,2} + 32.0 {A}_{3,3} + 32.0 {A}_{20,0} + 32.0 {A}_{22,2} + 32.0 {A}_{23,3} + 32.0 {A}_{40,0} + 32.0 {A}_{41,1} + 32.0 {A}_{43,3} + 32.0 {A}_{60,0} + 32.0 {A}_{61,1} + 32.0 {A}_{62,2} & 0 & 0 & 0\\\\0 & 32.0 {A}_{1,1} + 32.0 {A}_{2,2} + 32.0 {A}_{3,3} + 32.0 {A}_{20,0} + 32.0 {A}_{22,2} + 32.0 {A}_{23,3} + 32.0 {A}_{40,0} + 32.0 {A}_{41,1} + 32.0 {A}_{43,3} + 32.0 {A}_{60,0} + 32.0 {A}_{61,1} + 32.0 {A}_{62,2} & 0 & 0\\\\0 & 0 & 32.0 {A}_{1,1} + 32.0 {A}_{2,2} + 32.0 {A}_{3,3} + 32.0 {A}_{20,0} + 32.0 {A}_{22,2} + 32.0 {A}_{23,3} + 32.0 {A}_{40,0} + 32.0 {A}_{41,1} + 32.0 {A}_{43,3} + 32.0 {A}_{60,0} + 32.0 {A}_{61,1} + 32.0 {A}_{62,2} & 0\\\\0 & 0 & 0 & 96.0 {A}_{0,0} + 96.0 {A}_{21,1} + 96.0 {A}_{42,2} + 96.0 {A}_{63,3}\\end{matrix}\\right]$"
      ],
      "text/plain": [
       "Matrix([\n",
       "[                                                                                                                                96.0*A[0, 0] + 96.0*A[21, 1] + 96.0*A[42, 2] + 96.0*A[63, 3],                                                                                                                                                                                            0,                                                                                                                                                                                            0,                                                                                                                                                                                            0],\n",
       "[                                                                                                                                                                                           0,   32.0*A[1, 1] + 32.0*A[2, 2] + 32.0*A[3, 3] + 32.0*A[20, 0] + 32.0*A[22, 2] + 32.0*A[23, 3] + 32.0*A[40, 0] + 32.0*A[41, 1] + 32.0*A[43, 3] + 32.0*A[60, 0] + 32.0*A[61, 1] + 32.0*A[62, 2],                                                                                                                                                                                            0,                                                                                                                                                                                            0],\n",
       "[                                                                                                                                                                                           0,                                                                                                                                                                                            0,   32.0*A[1, 1] + 32.0*A[2, 2] + 32.0*A[3, 3] + 32.0*A[20, 0] + 32.0*A[22, 2] + 32.0*A[23, 3] + 32.0*A[40, 0] + 32.0*A[41, 1] + 32.0*A[43, 3] + 32.0*A[60, 0] + 32.0*A[61, 1] + 32.0*A[62, 2],                                                                                                                                                                                            0],\n",
       "[                                                                                                                                                                                           0,                                                                                                                                                                                            0,                                                                                                                                                                                            0,   32.0*A[1, 1] + 32.0*A[2, 2] + 32.0*A[3, 3] + 32.0*A[20, 0] + 32.0*A[22, 2] + 32.0*A[23, 3] + 32.0*A[40, 0] + 32.0*A[41, 1] + 32.0*A[43, 3] + 32.0*A[60, 0] + 32.0*A[61, 1] + 32.0*A[62, 2]],\n",
       "[                                                                                                                                                                                           0,  32.0*A[4, 1] + 32.0*A[8, 2] + 32.0*A[12, 3] + 32.0*A[17, 0] + 32.0*A[25, 2] + 32.0*A[29, 3] + 32.0*A[34, 0] + 32.0*A[38, 1] + 32.0*A[46, 3] + 32.0*A[51, 0] + 32.0*A[55, 1] + 32.0*A[59, 2],                                                                                                                                                                                            0,                                                                                                                                                                                            0],\n",
       "[32.0*A[5, 0] + 32.0*A[10, 0] + 32.0*A[15, 0] + 32.0*A[16, 1] + 32.0*A[26, 1] + 32.0*A[31, 1] + 32.0*A[32, 2] + 32.0*A[37, 2] + 32.0*A[47, 2] + 32.0*A[48, 3] + 32.0*A[53, 3] + 32.0*A[58, 3],                                                                                                                                                                                            0,                                                                                                                                                                                            0,                                                                                                                                                                                            0],\n",
       "[                                                                                                                                                                                           0,                                                                                                                                                                                            0,                                                                                                                                                                                            0,                                                                                                                                                                                            0],\n",
       "[                                                                                                                                                                                           0,                                                                                                                                                                                            0,                                                                                                                                                                                            0,                                                                                                                                                                                            0],\n",
       "[                                                                                                                                                                                           0,                                                                                                                                                                                            0,  32.0*A[4, 1] + 32.0*A[8, 2] + 32.0*A[12, 3] + 32.0*A[17, 0] + 32.0*A[25, 2] + 32.0*A[29, 3] + 32.0*A[34, 0] + 32.0*A[38, 1] + 32.0*A[46, 3] + 32.0*A[51, 0] + 32.0*A[55, 1] + 32.0*A[59, 2],                                                                                                                                                                                            0],\n",
       "[                                                                                                                                                                                           0,                                                                                                                                                                                            0,                                                                                                                                                                                            0,                                                                                                                                                                                            0],\n",
       "[32.0*A[5, 0] + 32.0*A[10, 0] + 32.0*A[15, 0] + 32.0*A[16, 1] + 32.0*A[26, 1] + 32.0*A[31, 1] + 32.0*A[32, 2] + 32.0*A[37, 2] + 32.0*A[47, 2] + 32.0*A[48, 3] + 32.0*A[53, 3] + 32.0*A[58, 3],                                                                                                                                                                                            0,                                                                                                                                                                                            0,                                                                                                                                                                                            0],\n",
       "[                                                                                                                                                                                           0,                                                                                                                                                                                            0,                                                                                                                                                                                            0,                                                                                                                                                                                            0],\n",
       "[                                                                                                                                                                                           0,                                                                                                                                                                                            0,                                                                                                                                                                                            0,  32.0*A[4, 1] + 32.0*A[8, 2] + 32.0*A[12, 3] + 32.0*A[17, 0] + 32.0*A[25, 2] + 32.0*A[29, 3] + 32.0*A[34, 0] + 32.0*A[38, 1] + 32.0*A[46, 3] + 32.0*A[51, 0] + 32.0*A[55, 1] + 32.0*A[59, 2]],\n",
       "[                                                                                                                                                                                           0,                                                                                                                                                                                            0,                                                                                                                                                                                            0,                                                                                                                                                                                            0],\n",
       "[                                                                                                                                                                                           0,                                                                                                                                                                                            0,                                                                                                                                                                                            0,                                                                                                                                                                                            0],\n",
       "[32.0*A[5, 0] + 32.0*A[10, 0] + 32.0*A[15, 0] + 32.0*A[16, 1] + 32.0*A[26, 1] + 32.0*A[31, 1] + 32.0*A[32, 2] + 32.0*A[37, 2] + 32.0*A[47, 2] + 32.0*A[48, 3] + 32.0*A[53, 3] + 32.0*A[58, 3],                                                                                                                                                                                            0,                                                                                                                                                                                            0,                                                                                                                                                                                            0],\n",
       "[                                                                                                                                                                                           0, 32.0*A[5, 0] + 32.0*A[10, 0] + 32.0*A[15, 0] + 32.0*A[16, 1] + 32.0*A[26, 1] + 32.0*A[31, 1] + 32.0*A[32, 2] + 32.0*A[37, 2] + 32.0*A[47, 2] + 32.0*A[48, 3] + 32.0*A[53, 3] + 32.0*A[58, 3],                                                                                                                                                                                            0,                                                                                                                                                                                            0],\n",
       "[ 32.0*A[4, 1] + 32.0*A[8, 2] + 32.0*A[12, 3] + 32.0*A[17, 0] + 32.0*A[25, 2] + 32.0*A[29, 3] + 32.0*A[34, 0] + 32.0*A[38, 1] + 32.0*A[46, 3] + 32.0*A[51, 0] + 32.0*A[55, 1] + 32.0*A[59, 2],                                                                                                                                                                                            0,                                                                                                                                                                                            0,                                                                                                                                                                                            0],\n",
       "[                                                                                                                                                                                           0,                                                                                                                                                                                            0,                                                                                                                                                                                            0,                                                                                                                                                                                            0],\n",
       "[                                                                                                                                                                                           0,                                                                                                                                                                                            0,                                                                                                                                                                                            0,                                                                                                                                                                                            0],\n",
       "[  32.0*A[1, 1] + 32.0*A[2, 2] + 32.0*A[3, 3] + 32.0*A[20, 0] + 32.0*A[22, 2] + 32.0*A[23, 3] + 32.0*A[40, 0] + 32.0*A[41, 1] + 32.0*A[43, 3] + 32.0*A[60, 0] + 32.0*A[61, 1] + 32.0*A[62, 2],                                                                                                                                                                                            0,                                                                                                                                                                                            0,                                                                                                                                                                                            0],\n",
       "[                                                                                                                                                                                           0,                                                                                                                                 96.0*A[0, 0] + 96.0*A[21, 1] + 96.0*A[42, 2] + 96.0*A[63, 3],                                                                                                                                                                                            0,                                                                                                                                                                                            0],\n",
       "[                                                                                                                                                                                           0,                                                                                                                                                                                            0,   32.0*A[1, 1] + 32.0*A[2, 2] + 32.0*A[3, 3] + 32.0*A[20, 0] + 32.0*A[22, 2] + 32.0*A[23, 3] + 32.0*A[40, 0] + 32.0*A[41, 1] + 32.0*A[43, 3] + 32.0*A[60, 0] + 32.0*A[61, 1] + 32.0*A[62, 2],                                                                                                                                                                                            0],\n",
       "[                                                                                                                                                                                           0,                                                                                                                                                                                            0,                                                                                                                                                                                            0,   32.0*A[1, 1] + 32.0*A[2, 2] + 32.0*A[3, 3] + 32.0*A[20, 0] + 32.0*A[22, 2] + 32.0*A[23, 3] + 32.0*A[40, 0] + 32.0*A[41, 1] + 32.0*A[43, 3] + 32.0*A[60, 0] + 32.0*A[61, 1] + 32.0*A[62, 2]],\n",
       "[                                                                                                                                                                                           0,                                                                                                                                                                                            0,                                                                                                                                                                                            0,                                                                                                                                                                                            0],\n",
       "[                                                                                                                                                                                           0,                                                                                                                                                                                            0,  32.0*A[4, 1] + 32.0*A[8, 2] + 32.0*A[12, 3] + 32.0*A[17, 0] + 32.0*A[25, 2] + 32.0*A[29, 3] + 32.0*A[34, 0] + 32.0*A[38, 1] + 32.0*A[46, 3] + 32.0*A[51, 0] + 32.0*A[55, 1] + 32.0*A[59, 2],                                                                                                                                                                                            0],\n",
       "[                                                                                                                                                                                           0, 32.0*A[5, 0] + 32.0*A[10, 0] + 32.0*A[15, 0] + 32.0*A[16, 1] + 32.0*A[26, 1] + 32.0*A[31, 1] + 32.0*A[32, 2] + 32.0*A[37, 2] + 32.0*A[47, 2] + 32.0*A[48, 3] + 32.0*A[53, 3] + 32.0*A[58, 3],                                                                                                                                                                                            0,                                                                                                                                                                                            0],\n",
       "[                                                                                                                                                                                           0,                                                                                                                                                                                            0,                                                                                                                                                                                            0,                                                                                                                                                                                            0],\n",
       "[                                                                                                                                                                                           0,                                                                                                                                                                                            0,                                                                                                                                                                                            0,                                                                                                                                                                                            0],\n",
       "[                                                                                                                                                                                           0,                                                                                                                                                                                            0,                                                                                                                                                                                            0,  32.0*A[4, 1] + 32.0*A[8, 2] + 32.0*A[12, 3] + 32.0*A[17, 0] + 32.0*A[25, 2] + 32.0*A[29, 3] + 32.0*A[34, 0] + 32.0*A[38, 1] + 32.0*A[46, 3] + 32.0*A[51, 0] + 32.0*A[55, 1] + 32.0*A[59, 2]],\n",
       "[                                                                                                                                                                                           0,                                                                                                                                                                                            0,                                                                                                                                                                                            0,                                                                                                                                                                                            0],\n",
       "[                                                                                                                                                                                           0, 32.0*A[5, 0] + 32.0*A[10, 0] + 32.0*A[15, 0] + 32.0*A[16, 1] + 32.0*A[26, 1] + 32.0*A[31, 1] + 32.0*A[32, 2] + 32.0*A[37, 2] + 32.0*A[47, 2] + 32.0*A[48, 3] + 32.0*A[53, 3] + 32.0*A[58, 3],                                                                                                                                                                                            0,                                                                                                                                                                                            0],\n",
       "[                                                                                                                                                                                           0,                                                                                                                                                                                            0, 32.0*A[5, 0] + 32.0*A[10, 0] + 32.0*A[15, 0] + 32.0*A[16, 1] + 32.0*A[26, 1] + 32.0*A[31, 1] + 32.0*A[32, 2] + 32.0*A[37, 2] + 32.0*A[47, 2] + 32.0*A[48, 3] + 32.0*A[53, 3] + 32.0*A[58, 3],                                                                                                                                                                                            0],\n",
       "[                                                                                                                                                                                           0,                                                                                                                                                                                            0,                                                                                                                                                                                            0,                                                                                                                                                                                            0],\n",
       "[ 32.0*A[4, 1] + 32.0*A[8, 2] + 32.0*A[12, 3] + 32.0*A[17, 0] + 32.0*A[25, 2] + 32.0*A[29, 3] + 32.0*A[34, 0] + 32.0*A[38, 1] + 32.0*A[46, 3] + 32.0*A[51, 0] + 32.0*A[55, 1] + 32.0*A[59, 2],                                                                                                                                                                                            0,                                                                                                                                                                                            0,                                                                                                                                                                                            0],\n",
       "[                                                                                                                                                                                           0,                                                                                                                                                                                            0,                                                                                                                                                                                            0,                                                                                                                                                                                            0],\n",
       "[                                                                                                                                                                                           0,                                                                                                                                                                                            0,                                                                                                                                                                                            0,                                                                                                                                                                                            0],\n",
       "[                                                                                                                                                                                           0,                                                                                                                                                                                            0, 32.0*A[5, 0] + 32.0*A[10, 0] + 32.0*A[15, 0] + 32.0*A[16, 1] + 32.0*A[26, 1] + 32.0*A[31, 1] + 32.0*A[32, 2] + 32.0*A[37, 2] + 32.0*A[47, 2] + 32.0*A[48, 3] + 32.0*A[53, 3] + 32.0*A[58, 3],                                                                                                                                                                                            0],\n",
       "[                                                                                                                                                                                           0,  32.0*A[4, 1] + 32.0*A[8, 2] + 32.0*A[12, 3] + 32.0*A[17, 0] + 32.0*A[25, 2] + 32.0*A[29, 3] + 32.0*A[34, 0] + 32.0*A[38, 1] + 32.0*A[46, 3] + 32.0*A[51, 0] + 32.0*A[55, 1] + 32.0*A[59, 2],                                                                                                                                                                                            0,                                                                                                                                                                                            0],\n",
       "[                                                                                                                                                                                           0,                                                                                                                                                                                            0,                                                                                                                                                                                            0,                                                                                                                                                                                            0],\n",
       "[  32.0*A[1, 1] + 32.0*A[2, 2] + 32.0*A[3, 3] + 32.0*A[20, 0] + 32.0*A[22, 2] + 32.0*A[23, 3] + 32.0*A[40, 0] + 32.0*A[41, 1] + 32.0*A[43, 3] + 32.0*A[60, 0] + 32.0*A[61, 1] + 32.0*A[62, 2],                                                                                                                                                                                            0,                                                                                                                                                                                            0,                                                                                                                                                                                            0],\n",
       "[                                                                                                                                                                                           0,   32.0*A[1, 1] + 32.0*A[2, 2] + 32.0*A[3, 3] + 32.0*A[20, 0] + 32.0*A[22, 2] + 32.0*A[23, 3] + 32.0*A[40, 0] + 32.0*A[41, 1] + 32.0*A[43, 3] + 32.0*A[60, 0] + 32.0*A[61, 1] + 32.0*A[62, 2],                                                                                                                                                                                            0,                                                                                                                                                                                            0],\n",
       "[                                                                                                                                                                                           0,                                                                                                                                                                                            0,                                                                                                                                 96.0*A[0, 0] + 96.0*A[21, 1] + 96.0*A[42, 2] + 96.0*A[63, 3],                                                                                                                                                                                            0],\n",
       "[                                                                                                                                                                                           0,                                                                                                                                                                                            0,                                                                                                                                                                                            0,   32.0*A[1, 1] + 32.0*A[2, 2] + 32.0*A[3, 3] + 32.0*A[20, 0] + 32.0*A[22, 2] + 32.0*A[23, 3] + 32.0*A[40, 0] + 32.0*A[41, 1] + 32.0*A[43, 3] + 32.0*A[60, 0] + 32.0*A[61, 1] + 32.0*A[62, 2]],\n",
       "[                                                                                                                                                                                           0,                                                                                                                                                                                            0,                                                                                                                                                                                            0,                                                                                                                                                                                            0],\n",
       "[                                                                                                                                                                                           0,                                                                                                                                                                                            0,                                                                                                                                                                                            0,                                                                                                                                                                                            0],\n",
       "[                                                                                                                                                                                           0,                                                                                                                                                                                            0,                                                                                                                                                                                            0,  32.0*A[4, 1] + 32.0*A[8, 2] + 32.0*A[12, 3] + 32.0*A[17, 0] + 32.0*A[25, 2] + 32.0*A[29, 3] + 32.0*A[34, 0] + 32.0*A[38, 1] + 32.0*A[46, 3] + 32.0*A[51, 0] + 32.0*A[55, 1] + 32.0*A[59, 2]],\n",
       "[                                                                                                                                                                                           0,                                                                                                                                                                                            0, 32.0*A[5, 0] + 32.0*A[10, 0] + 32.0*A[15, 0] + 32.0*A[16, 1] + 32.0*A[26, 1] + 32.0*A[31, 1] + 32.0*A[32, 2] + 32.0*A[37, 2] + 32.0*A[47, 2] + 32.0*A[48, 3] + 32.0*A[53, 3] + 32.0*A[58, 3],                                                                                                                                                                                            0],\n",
       "[                                                                                                                                                                                           0,                                                                                                                                                                                            0,                                                                                                                                                                                            0, 32.0*A[5, 0] + 32.0*A[10, 0] + 32.0*A[15, 0] + 32.0*A[16, 1] + 32.0*A[26, 1] + 32.0*A[31, 1] + 32.0*A[32, 2] + 32.0*A[37, 2] + 32.0*A[47, 2] + 32.0*A[48, 3] + 32.0*A[53, 3] + 32.0*A[58, 3]],\n",
       "[                                                                                                                                                                                           0,                                                                                                                                                                                            0,                                                                                                                                                                                            0,                                                                                                                                                                                            0],\n",
       "[                                                                                                                                                                                           0,                                                                                                                                                                                            0,                                                                                                                                                                                            0,                                                                                                                                                                                            0],\n",
       "[ 32.0*A[4, 1] + 32.0*A[8, 2] + 32.0*A[12, 3] + 32.0*A[17, 0] + 32.0*A[25, 2] + 32.0*A[29, 3] + 32.0*A[34, 0] + 32.0*A[38, 1] + 32.0*A[46, 3] + 32.0*A[51, 0] + 32.0*A[55, 1] + 32.0*A[59, 2],                                                                                                                                                                                            0,                                                                                                                                                                                            0,                                                                                                                                                                                            0],\n",
       "[                                                                                                                                                                                           0,                                                                                                                                                                                            0,                                                                                                                                                                                            0,                                                                                                                                                                                            0],\n",
       "[                                                                                                                                                                                           0,                                                                                                                                                                                            0,                                                                                                                                                                                            0, 32.0*A[5, 0] + 32.0*A[10, 0] + 32.0*A[15, 0] + 32.0*A[16, 1] + 32.0*A[26, 1] + 32.0*A[31, 1] + 32.0*A[32, 2] + 32.0*A[37, 2] + 32.0*A[47, 2] + 32.0*A[48, 3] + 32.0*A[53, 3] + 32.0*A[58, 3]],\n",
       "[                                                                                                                                                                                           0,                                                                                                                                                                                            0,                                                                                                                                                                                            0,                                                                                                                                                                                            0],\n",
       "[                                                                                                                                                                                           0,  32.0*A[4, 1] + 32.0*A[8, 2] + 32.0*A[12, 3] + 32.0*A[17, 0] + 32.0*A[25, 2] + 32.0*A[29, 3] + 32.0*A[34, 0] + 32.0*A[38, 1] + 32.0*A[46, 3] + 32.0*A[51, 0] + 32.0*A[55, 1] + 32.0*A[59, 2],                                                                                                                                                                                            0,                                                                                                                                                                                            0],\n",
       "[                                                                                                                                                                                           0,                                                                                                                                                                                            0,                                                                                                                                                                                            0,                                                                                                                                                                                            0],\n",
       "[                                                                                                                                                                                           0,                                                                                                                                                                                            0,                                                                                                                                                                                            0,                                                                                                                                                                                            0],\n",
       "[                                                                                                                                                                                           0,                                                                                                                                                                                            0,                                                                                                                                                                                            0, 32.0*A[5, 0] + 32.0*A[10, 0] + 32.0*A[15, 0] + 32.0*A[16, 1] + 32.0*A[26, 1] + 32.0*A[31, 1] + 32.0*A[32, 2] + 32.0*A[37, 2] + 32.0*A[47, 2] + 32.0*A[48, 3] + 32.0*A[53, 3] + 32.0*A[58, 3]],\n",
       "[                                                                                                                                                                                           0,                                                                                                                                                                                            0,  32.0*A[4, 1] + 32.0*A[8, 2] + 32.0*A[12, 3] + 32.0*A[17, 0] + 32.0*A[25, 2] + 32.0*A[29, 3] + 32.0*A[34, 0] + 32.0*A[38, 1] + 32.0*A[46, 3] + 32.0*A[51, 0] + 32.0*A[55, 1] + 32.0*A[59, 2],                                                                                                                                                                                            0],\n",
       "[  32.0*A[1, 1] + 32.0*A[2, 2] + 32.0*A[3, 3] + 32.0*A[20, 0] + 32.0*A[22, 2] + 32.0*A[23, 3] + 32.0*A[40, 0] + 32.0*A[41, 1] + 32.0*A[43, 3] + 32.0*A[60, 0] + 32.0*A[61, 1] + 32.0*A[62, 2],                                                                                                                                                                                            0,                                                                                                                                                                                            0,                                                                                                                                                                                            0],\n",
       "[                                                                                                                                                                                           0,   32.0*A[1, 1] + 32.0*A[2, 2] + 32.0*A[3, 3] + 32.0*A[20, 0] + 32.0*A[22, 2] + 32.0*A[23, 3] + 32.0*A[40, 0] + 32.0*A[41, 1] + 32.0*A[43, 3] + 32.0*A[60, 0] + 32.0*A[61, 1] + 32.0*A[62, 2],                                                                                                                                                                                            0,                                                                                                                                                                                            0],\n",
       "[                                                                                                                                                                                           0,                                                                                                                                                                                            0,   32.0*A[1, 1] + 32.0*A[2, 2] + 32.0*A[3, 3] + 32.0*A[20, 0] + 32.0*A[22, 2] + 32.0*A[23, 3] + 32.0*A[40, 0] + 32.0*A[41, 1] + 32.0*A[43, 3] + 32.0*A[60, 0] + 32.0*A[61, 1] + 32.0*A[62, 2],                                                                                                                                                                                            0],\n",
       "[                                                                                                                                                                                           0,                                                                                                                                                                                            0,                                                                                                                                                                                            0,                                                                                                                                 96.0*A[0, 0] + 96.0*A[21, 1] + 96.0*A[42, 2] + 96.0*A[63, 3]]])"
      ]
     },
     "execution_count": 25,
     "metadata": {},
     "output_type": "execute_result"
    }
   ],
   "source": [
    "sp.Matrix(cg_dict[10][0])\n",
    "\n",
    "sp.Matrix(cg_raw[(10,0)])"
   ]
  },
  {
   "cell_type": "markdown",
   "metadata": {},
   "source": [
    "## Reproducing issue from class file"
   ]
  },
  {
   "cell_type": "code",
   "execution_count": 5,
   "metadata": {},
   "outputs": [
    {
     "name": "stdout",
     "output_type": "stream",
     "text": [
      "\n",
      "Loading matrix representations for all the elements of H(4) ...\n",
      "\n",
      "\n",
      "Computing the cg coefficients for the given tensor product ...\n",
      "\n",
      "\n",
      "Looping over group elements...\n",
      "\n"
     ]
    },
    {
     "name": "stderr",
     "output_type": "stream",
     "text": [
      "  2%|▏         | 6/384 [35:49<37:36:37, 358.19s/it]\n"
     ]
    },
    {
     "ename": "KeyboardInterrupt",
     "evalue": "",
     "output_type": "error",
     "traceback": [
      "\u001b[0;31m---------------------------------------------------------------------------\u001b[0m",
      "\u001b[0;31mKeyboardInterrupt\u001b[0m                         Traceback (most recent call last)",
      "Cell \u001b[0;32mIn[5], line 3\u001b[0m\n\u001b[1;32m      1\u001b[0m chosen_irreps \u001b[38;5;241m=\u001b[39m [(\u001b[38;5;241m4\u001b[39m,\u001b[38;5;241m1\u001b[39m),(\u001b[38;5;241m4\u001b[39m,\u001b[38;5;241m1\u001b[39m),(\u001b[38;5;241m4\u001b[39m,\u001b[38;5;241m1\u001b[39m),(\u001b[38;5;241m4\u001b[39m,\u001b[38;5;241m1\u001b[39m)]\n\u001b[0;32m----> 3\u001b[0m cg \u001b[38;5;241m=\u001b[39m \u001b[43mcg_calc\u001b[49m\u001b[43m(\u001b[49m\u001b[38;5;241;43m*\u001b[39;49m\u001b[43mchosen_irreps\u001b[49m\u001b[43m,\u001b[49m\u001b[43mverbose\u001b[49m\u001b[38;5;241;43m=\u001b[39;49m\u001b[38;5;28;43;01mTrue\u001b[39;49;00m\u001b[43m,\u001b[49m\u001b[43m \u001b[49m\u001b[43mforce_computation\u001b[49m\u001b[38;5;241;43m=\u001b[39;49m\u001b[38;5;28;43;01mTrue\u001b[39;49;00m\u001b[43m)\u001b[49m\n\u001b[1;32m      5\u001b[0m \u001b[38;5;66;03m#we compute the cg coefficient using the ad hoc class and we store them in a tmp dictionary\u001b[39;00m\n\u001b[1;32m      6\u001b[0m cg_dict_tmp \u001b[38;5;241m=\u001b[39m cg\u001b[38;5;241m.\u001b[39mcg_dict\n",
      "File \u001b[0;32m~/workspace_folders/PhD_work/moments_pdf/test_notebooks/../cgh4_calculator.py:748\u001b[0m, in \u001b[0;36mcg_calc.__init__\u001b[0;34m(self, cgdatabase, force_computation, force_h4gen, verbose, *kwarg)\u001b[0m\n\u001b[1;32m    745\u001b[0m     Bd \u001b[38;5;241m=\u001b[39m np\u001b[38;5;241m.\u001b[39mblock(rows)\n\u001b[1;32m    747\u001b[0m     \u001b[38;5;66;03m#then we do the computation\u001b[39;00m\n\u001b[0;32m--> 748\u001b[0m     res_mat \u001b[38;5;241m=\u001b[39m res_mat \u001b[38;5;241m+\u001b[39m \u001b[43mTp\u001b[49m\u001b[43m \u001b[49m\u001b[38;5;241;43m@\u001b[39;49m\u001b[43m \u001b[49m\u001b[43mA\u001b[49m \u001b[38;5;241m@\u001b[39m Bd\u001b[38;5;241m.\u001b[39mT\n\u001b[1;32m    750\u001b[0m \u001b[38;5;66;03m#we then eliminate rounding errors\u001b[39;00m\n\u001b[1;32m    751\u001b[0m rounded_res \u001b[38;5;241m=\u001b[39m np\u001b[38;5;241m.\u001b[39mempty((dim,dim),dtype\u001b[38;5;241m=\u001b[39m\u001b[38;5;28mobject\u001b[39m)\n",
      "File \u001b[0;32m~/.local/lib/python3.11/site-packages/sympy/core/decorators.py:236\u001b[0m, in \u001b[0;36m_SympifyWrapper.make_wrapped.<locals>._func\u001b[0;34m(self, other)\u001b[0m\n\u001b[1;32m    234\u001b[0m \u001b[38;5;28;01mif\u001b[39;00m \u001b[38;5;129;01mnot\u001b[39;00m \u001b[38;5;28misinstance\u001b[39m(other, expectedcls):\n\u001b[1;32m    235\u001b[0m     \u001b[38;5;28;01mreturn\u001b[39;00m retval\n\u001b[0;32m--> 236\u001b[0m \u001b[38;5;28;01mreturn\u001b[39;00m \u001b[43mfunc\u001b[49m\u001b[43m(\u001b[49m\u001b[38;5;28;43mself\u001b[39;49m\u001b[43m,\u001b[49m\u001b[43m \u001b[49m\u001b[43mother\u001b[49m\u001b[43m)\u001b[49m\n",
      "File \u001b[0;32m~/.local/lib/python3.11/site-packages/sympy/core/decorators.py:106\u001b[0m, in \u001b[0;36mcall_highest_priority.<locals>.priority_decorator.<locals>.binary_op_wrapper\u001b[0;34m(self, other)\u001b[0m\n\u001b[1;32m    104\u001b[0m         \u001b[38;5;28;01mif\u001b[39;00m f \u001b[38;5;129;01mis\u001b[39;00m \u001b[38;5;129;01mnot\u001b[39;00m \u001b[38;5;28;01mNone\u001b[39;00m:\n\u001b[1;32m    105\u001b[0m             \u001b[38;5;28;01mreturn\u001b[39;00m f(\u001b[38;5;28mself\u001b[39m)\n\u001b[0;32m--> 106\u001b[0m \u001b[38;5;28;01mreturn\u001b[39;00m \u001b[43mfunc\u001b[49m\u001b[43m(\u001b[49m\u001b[38;5;28;43mself\u001b[39;49m\u001b[43m,\u001b[49m\u001b[43m \u001b[49m\u001b[43mother\u001b[49m\u001b[43m)\u001b[49m\n",
      "File \u001b[0;32m~/.local/lib/python3.11/site-packages/sympy/core/expr.py:224\u001b[0m, in \u001b[0;36mExpr.__rmul__\u001b[0;34m(self, other)\u001b[0m\n\u001b[1;32m    221\u001b[0m \u001b[38;5;129m@sympify_return\u001b[39m([(\u001b[38;5;124m'\u001b[39m\u001b[38;5;124mother\u001b[39m\u001b[38;5;124m'\u001b[39m, \u001b[38;5;124m'\u001b[39m\u001b[38;5;124mExpr\u001b[39m\u001b[38;5;124m'\u001b[39m)], \u001b[38;5;28mNotImplemented\u001b[39m)\n\u001b[1;32m    222\u001b[0m \u001b[38;5;129m@call_highest_priority\u001b[39m(\u001b[38;5;124m'\u001b[39m\u001b[38;5;124m__mul__\u001b[39m\u001b[38;5;124m'\u001b[39m)\n\u001b[1;32m    223\u001b[0m \u001b[38;5;28;01mdef\u001b[39;00m \u001b[38;5;21m__rmul__\u001b[39m(\u001b[38;5;28mself\u001b[39m, other):\n\u001b[0;32m--> 224\u001b[0m     \u001b[38;5;28;01mreturn\u001b[39;00m \u001b[43mMul\u001b[49m\u001b[43m(\u001b[49m\u001b[43mother\u001b[49m\u001b[43m,\u001b[49m\u001b[43m \u001b[49m\u001b[38;5;28;43mself\u001b[39;49m\u001b[43m)\u001b[49m\n",
      "File \u001b[0;32m~/.local/lib/python3.11/site-packages/sympy/core/cache.py:72\u001b[0m, in \u001b[0;36m__cacheit.<locals>.func_wrapper.<locals>.wrapper\u001b[0;34m(*args, **kwargs)\u001b[0m\n\u001b[1;32m     69\u001b[0m \u001b[38;5;129m@wraps\u001b[39m(func)\n\u001b[1;32m     70\u001b[0m \u001b[38;5;28;01mdef\u001b[39;00m \u001b[38;5;21mwrapper\u001b[39m(\u001b[38;5;241m*\u001b[39margs, \u001b[38;5;241m*\u001b[39m\u001b[38;5;241m*\u001b[39mkwargs):\n\u001b[1;32m     71\u001b[0m     \u001b[38;5;28;01mtry\u001b[39;00m:\n\u001b[0;32m---> 72\u001b[0m         retval \u001b[38;5;241m=\u001b[39m \u001b[43mcfunc\u001b[49m\u001b[43m(\u001b[49m\u001b[38;5;241;43m*\u001b[39;49m\u001b[43margs\u001b[49m\u001b[43m,\u001b[49m\u001b[43m \u001b[49m\u001b[38;5;241;43m*\u001b[39;49m\u001b[38;5;241;43m*\u001b[39;49m\u001b[43mkwargs\u001b[49m\u001b[43m)\u001b[49m\n\u001b[1;32m     73\u001b[0m     \u001b[38;5;28;01mexcept\u001b[39;00m \u001b[38;5;167;01mTypeError\u001b[39;00m \u001b[38;5;28;01mas\u001b[39;00m e:\n\u001b[1;32m     74\u001b[0m         \u001b[38;5;28;01mif\u001b[39;00m \u001b[38;5;129;01mnot\u001b[39;00m e\u001b[38;5;241m.\u001b[39margs \u001b[38;5;129;01mor\u001b[39;00m \u001b[38;5;129;01mnot\u001b[39;00m e\u001b[38;5;241m.\u001b[39margs[\u001b[38;5;241m0\u001b[39m]\u001b[38;5;241m.\u001b[39mstartswith(\u001b[38;5;124m'\u001b[39m\u001b[38;5;124munhashable type:\u001b[39m\u001b[38;5;124m'\u001b[39m):\n",
      "File \u001b[0;32m~/.local/lib/python3.11/site-packages/sympy/core/operations.py:98\u001b[0m, in \u001b[0;36mAssocOp.__new__\u001b[0;34m(cls, evaluate, _sympify, *args)\u001b[0m\n\u001b[1;32m     95\u001b[0m \u001b[38;5;28;01mif\u001b[39;00m \u001b[38;5;28mlen\u001b[39m(args) \u001b[38;5;241m==\u001b[39m \u001b[38;5;241m1\u001b[39m:\n\u001b[1;32m     96\u001b[0m     \u001b[38;5;28;01mreturn\u001b[39;00m args[\u001b[38;5;241m0\u001b[39m]\n\u001b[0;32m---> 98\u001b[0m c_part, nc_part, order_symbols \u001b[38;5;241m=\u001b[39m \u001b[38;5;28;43mcls\u001b[39;49m\u001b[38;5;241;43m.\u001b[39;49m\u001b[43mflatten\u001b[49m\u001b[43m(\u001b[49m\u001b[43margs\u001b[49m\u001b[43m)\u001b[49m\n\u001b[1;32m     99\u001b[0m is_commutative \u001b[38;5;241m=\u001b[39m \u001b[38;5;129;01mnot\u001b[39;00m nc_part\n\u001b[1;32m    100\u001b[0m obj \u001b[38;5;241m=\u001b[39m \u001b[38;5;28mcls\u001b[39m\u001b[38;5;241m.\u001b[39m_from_args(c_part \u001b[38;5;241m+\u001b[39m nc_part, is_commutative)\n",
      "File \u001b[0;32m~/.local/lib/python3.11/site-packages/sympy/core/mul.py:363\u001b[0m, in \u001b[0;36mMul.flatten\u001b[0;34m(cls, seq)\u001b[0m\n\u001b[1;32m    361\u001b[0m     \u001b[38;5;28;01mreturn\u001b[39;00m [S\u001b[38;5;241m.\u001b[39mNaN], [], \u001b[38;5;28;01mNone\u001b[39;00m\n\u001b[1;32m    362\u001b[0m \u001b[38;5;28;01melif\u001b[39;00m coeff\u001b[38;5;241m.\u001b[39mis_Number \u001b[38;5;129;01mor\u001b[39;00m \u001b[38;5;28misinstance\u001b[39m(coeff, AccumBounds):  \u001b[38;5;66;03m# it could be zoo\u001b[39;00m\n\u001b[0;32m--> 363\u001b[0m     \u001b[43mcoeff\u001b[49m\u001b[43m \u001b[49m\u001b[38;5;241;43m*\u001b[39;49m\u001b[38;5;241;43m=\u001b[39;49m\u001b[43m \u001b[49m\u001b[43mo\u001b[49m\n\u001b[1;32m    364\u001b[0m     \u001b[38;5;28;01mif\u001b[39;00m coeff \u001b[38;5;129;01mis\u001b[39;00m S\u001b[38;5;241m.\u001b[39mNaN:\n\u001b[1;32m    365\u001b[0m         \u001b[38;5;66;03m# we know for sure the result will be nan\u001b[39;00m\n\u001b[1;32m    366\u001b[0m         \u001b[38;5;28;01mreturn\u001b[39;00m [S\u001b[38;5;241m.\u001b[39mNaN], [], \u001b[38;5;28;01mNone\u001b[39;00m\n",
      "File \u001b[0;32m~/.local/lib/python3.11/site-packages/sympy/core/numbers.py:1904\u001b[0m, in \u001b[0;36mInteger.__mul__\u001b[0;34m(self, other)\u001b[0m\n\u001b[1;32m   1902\u001b[0m     \u001b[38;5;28;01melif\u001b[39;00m \u001b[38;5;28misinstance\u001b[39m(other, Rational):\n\u001b[1;32m   1903\u001b[0m         \u001b[38;5;28;01mreturn\u001b[39;00m Rational(\u001b[38;5;28mself\u001b[39m\u001b[38;5;241m.\u001b[39mp\u001b[38;5;241m*\u001b[39mother\u001b[38;5;241m.\u001b[39mp, other\u001b[38;5;241m.\u001b[39mq, igcd(\u001b[38;5;28mself\u001b[39m\u001b[38;5;241m.\u001b[39mp, other\u001b[38;5;241m.\u001b[39mq))\n\u001b[0;32m-> 1904\u001b[0m     \u001b[38;5;28;01mreturn\u001b[39;00m \u001b[43mRational\u001b[49m\u001b[38;5;241;43m.\u001b[39;49m\u001b[38;5;21;43m__mul__\u001b[39;49m\u001b[43m(\u001b[49m\u001b[38;5;28;43mself\u001b[39;49m\u001b[43m,\u001b[49m\u001b[43m \u001b[49m\u001b[43mother\u001b[49m\u001b[43m)\u001b[49m\n\u001b[1;32m   1905\u001b[0m \u001b[38;5;28;01mreturn\u001b[39;00m Rational\u001b[38;5;241m.\u001b[39m\u001b[38;5;21m__mul__\u001b[39m(\u001b[38;5;28mself\u001b[39m, other)\n",
      "File \u001b[0;32m~/.local/lib/python3.11/site-packages/sympy/core/decorators.py:65\u001b[0m, in \u001b[0;36m__sympifyit.<locals>.__sympifyit_wrapper\u001b[0;34m(a, b)\u001b[0m\n\u001b[1;32m     63\u001b[0m     \u001b[38;5;28;01mif\u001b[39;00m \u001b[38;5;129;01mnot\u001b[39;00m \u001b[38;5;28mhasattr\u001b[39m(b, \u001b[38;5;124m'\u001b[39m\u001b[38;5;124m_op_priority\u001b[39m\u001b[38;5;124m'\u001b[39m):\n\u001b[1;32m     64\u001b[0m         b \u001b[38;5;241m=\u001b[39m sympify(b, strict\u001b[38;5;241m=\u001b[39m\u001b[38;5;28;01mTrue\u001b[39;00m)\n\u001b[0;32m---> 65\u001b[0m     \u001b[38;5;28;01mreturn\u001b[39;00m \u001b[43mfunc\u001b[49m\u001b[43m(\u001b[49m\u001b[43ma\u001b[49m\u001b[43m,\u001b[49m\u001b[43m \u001b[49m\u001b[43mb\u001b[49m\u001b[43m)\u001b[49m\n\u001b[1;32m     66\u001b[0m \u001b[38;5;28;01mexcept\u001b[39;00m SympifyError:\n\u001b[1;32m     67\u001b[0m     \u001b[38;5;28;01mreturn\u001b[39;00m retval\n",
      "File \u001b[0;32m~/.local/lib/python3.11/site-packages/sympy/core/numbers.py:1466\u001b[0m, in \u001b[0;36mRational.__mul__\u001b[0;34m(self, other)\u001b[0m\n\u001b[1;32m   1464\u001b[0m     \u001b[38;5;28;01mreturn\u001b[39;00m Rational(\u001b[38;5;28mself\u001b[39m\u001b[38;5;241m.\u001b[39mp\u001b[38;5;241m*\u001b[39mother\u001b[38;5;241m.\u001b[39mp, \u001b[38;5;28mself\u001b[39m\u001b[38;5;241m.\u001b[39mq\u001b[38;5;241m*\u001b[39mother\u001b[38;5;241m.\u001b[39mq, igcd(\u001b[38;5;28mself\u001b[39m\u001b[38;5;241m.\u001b[39mp, other\u001b[38;5;241m.\u001b[39mq)\u001b[38;5;241m*\u001b[39migcd(\u001b[38;5;28mself\u001b[39m\u001b[38;5;241m.\u001b[39mq, other\u001b[38;5;241m.\u001b[39mp))\n\u001b[1;32m   1465\u001b[0m \u001b[38;5;28;01melif\u001b[39;00m \u001b[38;5;28misinstance\u001b[39m(other, Float):\n\u001b[0;32m-> 1466\u001b[0m     \u001b[38;5;28;01mreturn\u001b[39;00m \u001b[43mother\u001b[49m\u001b[38;5;241;43m*\u001b[39;49m\u001b[38;5;28;43mself\u001b[39;49m\n\u001b[1;32m   1467\u001b[0m \u001b[38;5;28;01melse\u001b[39;00m:\n\u001b[1;32m   1468\u001b[0m     \u001b[38;5;28;01mreturn\u001b[39;00m Number\u001b[38;5;241m.\u001b[39m\u001b[38;5;21m__mul__\u001b[39m(\u001b[38;5;28mself\u001b[39m, other)\n",
      "File \u001b[0;32m~/.local/lib/python3.11/site-packages/sympy/core/decorators.py:65\u001b[0m, in \u001b[0;36m__sympifyit.<locals>.__sympifyit_wrapper\u001b[0;34m(a, b)\u001b[0m\n\u001b[1;32m     63\u001b[0m     \u001b[38;5;28;01mif\u001b[39;00m \u001b[38;5;129;01mnot\u001b[39;00m \u001b[38;5;28mhasattr\u001b[39m(b, \u001b[38;5;124m'\u001b[39m\u001b[38;5;124m_op_priority\u001b[39m\u001b[38;5;124m'\u001b[39m):\n\u001b[1;32m     64\u001b[0m         b \u001b[38;5;241m=\u001b[39m sympify(b, strict\u001b[38;5;241m=\u001b[39m\u001b[38;5;28;01mTrue\u001b[39;00m)\n\u001b[0;32m---> 65\u001b[0m     \u001b[38;5;28;01mreturn\u001b[39;00m \u001b[43mfunc\u001b[49m\u001b[43m(\u001b[49m\u001b[43ma\u001b[49m\u001b[43m,\u001b[49m\u001b[43m \u001b[49m\u001b[43mb\u001b[49m\u001b[43m)\u001b[49m\n\u001b[1;32m     66\u001b[0m \u001b[38;5;28;01mexcept\u001b[39;00m SympifyError:\n\u001b[1;32m     67\u001b[0m     \u001b[38;5;28;01mreturn\u001b[39;00m retval\n",
      "File \u001b[0;32m~/.local/lib/python3.11/site-packages/sympy/core/numbers.py:1035\u001b[0m, in \u001b[0;36mFloat.__mul__\u001b[0;34m(self, other)\u001b[0m\n\u001b[1;32m   1033\u001b[0m \u001b[38;5;28;01mif\u001b[39;00m \u001b[38;5;28misinstance\u001b[39m(other, Number) \u001b[38;5;129;01mand\u001b[39;00m global_parameters\u001b[38;5;241m.\u001b[39mevaluate:\n\u001b[1;32m   1034\u001b[0m     rhs, prec \u001b[38;5;241m=\u001b[39m other\u001b[38;5;241m.\u001b[39m_as_mpf_op(\u001b[38;5;28mself\u001b[39m\u001b[38;5;241m.\u001b[39m_prec)\n\u001b[0;32m-> 1035\u001b[0m     \u001b[38;5;28;01mreturn\u001b[39;00m \u001b[43mFloat\u001b[49m\u001b[38;5;241;43m.\u001b[39;49m\u001b[43m_new\u001b[49m\u001b[43m(\u001b[49m\u001b[43mmlib\u001b[49m\u001b[38;5;241;43m.\u001b[39;49m\u001b[43mmpf_mul\u001b[49m\u001b[43m(\u001b[49m\u001b[38;5;28;43mself\u001b[39;49m\u001b[38;5;241;43m.\u001b[39;49m\u001b[43m_mpf_\u001b[49m\u001b[43m,\u001b[49m\u001b[43m \u001b[49m\u001b[43mrhs\u001b[49m\u001b[43m,\u001b[49m\u001b[43m \u001b[49m\u001b[43mprec\u001b[49m\u001b[43m,\u001b[49m\u001b[43m \u001b[49m\u001b[43mrnd\u001b[49m\u001b[43m)\u001b[49m\u001b[43m,\u001b[49m\u001b[43m \u001b[49m\u001b[43mprec\u001b[49m\u001b[43m)\u001b[49m\n\u001b[1;32m   1036\u001b[0m \u001b[38;5;28;01mreturn\u001b[39;00m Number\u001b[38;5;241m.\u001b[39m\u001b[38;5;21m__mul__\u001b[39m(\u001b[38;5;28mself\u001b[39m, other)\n",
      "File \u001b[0;32m~/.local/lib/python3.11/site-packages/sympy/core/numbers.py:913\u001b[0m, in \u001b[0;36mFloat._new\u001b[0;34m(cls, _mpf_, _prec, zero)\u001b[0m\n\u001b[1;32m    909\u001b[0m         _mpf_ \u001b[38;5;241m=\u001b[39m mpmath\u001b[38;5;241m.\u001b[39mmpf(num, prec\u001b[38;5;241m=\u001b[39mprecision)\u001b[38;5;241m.\u001b[39m_mpf_\n\u001b[1;32m    911\u001b[0m     \u001b[38;5;28;01mreturn\u001b[39;00m \u001b[38;5;28mcls\u001b[39m\u001b[38;5;241m.\u001b[39m_new(_mpf_, precision, zero\u001b[38;5;241m=\u001b[39m\u001b[38;5;28;01mFalse\u001b[39;00m)\n\u001b[0;32m--> 913\u001b[0m \u001b[38;5;129m@classmethod\u001b[39m\n\u001b[1;32m    914\u001b[0m \u001b[38;5;28;01mdef\u001b[39;00m \u001b[38;5;21m_new\u001b[39m(\u001b[38;5;28mcls\u001b[39m, _mpf_, _prec, zero\u001b[38;5;241m=\u001b[39m\u001b[38;5;28;01mTrue\u001b[39;00m):\n\u001b[1;32m    915\u001b[0m     \u001b[38;5;66;03m# special cases\u001b[39;00m\n\u001b[1;32m    916\u001b[0m     \u001b[38;5;28;01mif\u001b[39;00m zero \u001b[38;5;129;01mand\u001b[39;00m _mpf_ \u001b[38;5;241m==\u001b[39m fzero:\n\u001b[1;32m    917\u001b[0m         \u001b[38;5;28;01mreturn\u001b[39;00m S\u001b[38;5;241m.\u001b[39mZero  \u001b[38;5;66;03m# Float(0) -> 0.0; Float._new((0,0,0,0)) -> 0\u001b[39;00m\n",
      "\u001b[0;31mKeyboardInterrupt\u001b[0m: "
     ]
    }
   ],
   "source": [
    "chosen_irreps = [(4,1),(4,1),(4,1),(4,1)]\n",
    "\n",
    "cg = cg_calc(*chosen_irreps,verbose=True, force_computation=True)\n",
    "\n",
    "#we compute the cg coefficient using the ad hoc class and we store them in a tmp dictionary\n",
    "cg_dict_tmp = cg.cg_dict\n",
    "\n",
    "\n",
    "mul = cg.get_multiplicities()\n",
    "mul\n",
    "\n",
    "\n",
    "#sp.Matrix(cg_dict_tmp[0][0])\n",
    "\n",
    "np.shape(cg_dict_tmp[17][0])\n",
    "sp.Matrix(cg_dict_tmp[17][0])"
   ]
  },
  {
   "cell_type": "code",
   "execution_count": 10,
   "metadata": {},
   "outputs": [
    {
     "ename": "AttributeError",
     "evalue": "'cg_calc' object has no attribute 'raw_cg'",
     "output_type": "error",
     "traceback": [
      "\u001b[0;31m---------------------------------------------------------------------------\u001b[0m",
      "\u001b[0;31mAttributeError\u001b[0m                            Traceback (most recent call last)",
      "Cell \u001b[0;32mIn[10], line 1\u001b[0m\n\u001b[0;32m----> 1\u001b[0m rawcg \u001b[38;5;241m=\u001b[39m \u001b[43mcg\u001b[49m\u001b[38;5;241;43m.\u001b[39;49m\u001b[43mraw_cg\u001b[49m\n\u001b[1;32m      2\u001b[0m rawcg\n\u001b[1;32m      3\u001b[0m \u001b[38;5;66;03m#rawcg[(18,0)]\u001b[39;00m\n",
      "\u001b[0;31mAttributeError\u001b[0m: 'cg_calc' object has no attribute 'raw_cg'"
     ]
    }
   ],
   "source": [
    "rawcg = cg.raw_cg\n",
    "rawcg\n",
    "#rawcg[(18,0)]"
   ]
  }
 ],
 "metadata": {
  "kernelspec": {
   "display_name": "Python 3",
   "language": "python",
   "name": "python3"
  },
  "language_info": {
   "codemirror_mode": {
    "name": "ipython",
    "version": 3
   },
   "file_extension": ".py",
   "mimetype": "text/x-python",
   "name": "python",
   "nbconvert_exporter": "python",
   "pygments_lexer": "ipython3",
   "version": "3.11.9"
  }
 },
 "nbformat": 4,
 "nbformat_minor": 2
}
