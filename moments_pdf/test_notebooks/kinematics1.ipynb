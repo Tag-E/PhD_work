{
 "cells": [
  {
   "cell_type": "code",
   "execution_count": 1,
   "id": "7146aefa-6253-43f1-af78-44cdbc583212",
   "metadata": {},
   "outputs": [],
   "source": [
    "from IPython.core.interactiveshell import InteractiveShell\n",
    "InteractiveShell.ast_node_interactivity = \"all\""
   ]
  },
  {
   "cell_type": "markdown",
   "id": "b4871a8f-9752-408d-b98e-d819e8129355",
   "metadata": {},
   "source": [
    "# Library Imports"
   ]
  },
  {
   "cell_type": "code",
   "execution_count": 2,
   "id": "f9e014e1-f7e3-433b-9c3c-38bc0841d5db",
   "metadata": {},
   "outputs": [],
   "source": [
    "# Symbolic computation\n",
    "import sympy as sp\n",
    "\n",
    "# import complex unit as: I\n",
    "from sympy import I\n",
    "\n",
    "# pritty printing sympy objects\n",
    "from IPython.display import display, Latex, Math\n",
    "\n",
    "# numerical work:\n",
    "import numpy as np\n",
    "\n",
    "# simplified looping\n",
    "import itertools as it"
   ]
  },
  {
   "cell_type": "code",
   "execution_count": 22,
   "id": "b27aa574-df41-4647-ab2f-d5b9d0bee891",
   "metadata": {},
   "outputs": [],
   "source": [
    "import sys\n",
    "\n",
    "sys.path.insert(1, '../')\n",
    "\n",
    "from cgh4_calculator import cg_calc\n",
    "from cgh4_calculator import print_CGmat"
   ]
  },
  {
   "cell_type": "markdown",
   "id": "38d841e6-2ccb-4368-a590-ea647c0e7625",
   "metadata": {},
   "source": [
    "# From available notebooks"
   ]
  },
  {
   "cell_type": "code",
   "execution_count": 4,
   "id": "9db9047b-5032-4e19-b52c-dd0a44a9e1da",
   "metadata": {},
   "outputs": [
    {
     "data": {
      "text/latex": [
       "$\\displaystyle \\left[\\begin{matrix}\\gamma_{1}\\\\\\gamma_{2}\\\\\\gamma_{3}\\\\\\gamma_{4}\\end{matrix}\\right]$"
      ],
      "text/plain": [
       "Matrix([\n",
       "[gamma_1],\n",
       "[gamma_2],\n",
       "[gamma_3],\n",
       "[gamma_4]])"
      ]
     },
     "execution_count": 4,
     "metadata": {},
     "output_type": "execute_result"
    }
   ],
   "source": [
    "#we instantiate the gamma matrices\n",
    "gamma1 = sp.Matrix([\n",
    "            [0,0,0,I],\n",
    "            [0,0,I,0],\n",
    "            [0,-I,0,0],\n",
    "            [-I,0,0,0]\n",
    "])\n",
    "gamma2 = sp.Matrix([\n",
    "            [0,0,0,-1],\n",
    "            [0,0,1,0],\n",
    "            [0,1,0,0],\n",
    "            [-1,0,0,0]\n",
    "])\n",
    "gamma3 = sp.Matrix([\n",
    "            [0,0,I,0],\n",
    "            [0,0,0,-I],\n",
    "            [-I,0,0,0],\n",
    "            [0,I,0,0]\n",
    "])\n",
    "gamma4 = sp.Matrix([\n",
    "            [0,0,1,0],\n",
    "            [0,0,0,1],\n",
    "            [1,0,0,0],\n",
    "            [0,1,0,0]\n",
    "])\n",
    "\n",
    "#and the symbolic counterpart\n",
    "gamma1_s = sp.Symbol(\"gamma_1\")\n",
    "gamma2_s = sp.Symbol(\"gamma_2\")\n",
    "gamma3_s = sp.Symbol(\"gamma_3\")\n",
    "gamma4_s = sp.Symbol(\"gamma_4\")\n",
    "\n",
    "\n",
    "\n",
    "\n",
    "\n",
    "#we can now instantiate the gamma_mu vector\n",
    "gamma_mu = [gamma1,gamma2,gamma3,gamma4]#,gamma_5]\n",
    "gamma_mu_s = [gamma1_s,gamma2_s,gamma3_s,gamma4_s]#,sym_gamma_5]\n",
    "\n",
    "sp.Matrix(gamma_mu_s)"
   ]
  },
  {
   "cell_type": "code",
   "execution_count": 5,
   "id": "52d47998-07d2-477a-bdf1-0cb3681a97f3",
   "metadata": {},
   "outputs": [
    {
     "data": {
      "text/latex": [
       "$\\displaystyle \\gamma_{5}$"
      ],
      "text/plain": [
       "gamma_5"
      ]
     },
     "execution_count": 5,
     "metadata": {},
     "output_type": "execute_result"
    }
   ],
   "source": [
    "#same thing for gamma5 and for the identity\n",
    "# gamma_5\n",
    "gamma5 = sp.Matrix([\n",
    "            [1,0,0,0],\n",
    "            [0,1,0,0],\n",
    "            [0,0,-1,0],\n",
    "            [0,0,0,-1]\n",
    "])\n",
    "gamma5_s = sp.Symbol(\"gamma_5\")\n",
    "gamma5_s\n",
    "\n",
    "# also the 4D identity matrix can come in handy:\n",
    "Id_4 = sp.Matrix(\n",
    "        [\n",
    "            [1,0,0,0],\n",
    "            [0,1,0,0],\n",
    "            [0,0,1,0],\n",
    "            [0,0,0,1]\n",
    "        ]\n",
    ")"
   ]
  },
  {
   "cell_type": "code",
   "execution_count": null,
   "id": "5d1296ca-046b-4006-9826-3a7869e0935d",
   "metadata": {},
   "outputs": [],
   "source": []
  },
  {
   "cell_type": "code",
   "execution_count": 6,
   "id": "cc743e1d-9404-4b5e-8a55-df78d668a0f1",
   "metadata": {},
   "outputs": [
    {
     "data": {
      "text/latex": [
       "$\\displaystyle \\left[\\begin{matrix}0 & 0 & 0 & 0\\\\0 & 1.0 & 0 & 1.0\\\\0 & 0 & 0 & 0\\\\0 & 1.0 & 0 & 1.0\\end{matrix}\\right]$"
      ],
      "text/plain": [
       "Matrix([\n",
       "[0,   0, 0,   0],\n",
       "[0, 1.0, 0, 1.0],\n",
       "[0,   0, 0,   0],\n",
       "[0, 1.0, 0, 1.0]])"
      ]
     },
     "execution_count": 6,
     "metadata": {},
     "output_type": "execute_result"
    },
    {
     "data": {
      "text/latex": [
       "$\\displaystyle \\Gamma_{pol}$"
      ],
      "text/plain": [
       "Gamma_pol"
      ]
     },
     "execution_count": 6,
     "metadata": {},
     "output_type": "execute_result"
    }
   ],
   "source": [
    "#we compute the polarization matrix\n",
    "Gamma_pol = 0.5*(Id_4 + gamma4) @ (Id_4 - I * gamma1 @ gamma2)\n",
    "sp.Matrix(Gamma_pol)\n",
    "\n",
    "Gamma_pol_s = sp.Symbol(\"Gamma_pol\")\n",
    "Gamma_pol_s"
   ]
  },
  {
   "cell_type": "code",
   "execution_count": 7,
   "id": "913dafea-5080-444c-9b18-bda7dc76772b",
   "metadata": {},
   "outputs": [],
   "source": [
    "#showcase of latex skills\n",
    "#display(Math(r'\\{} ='.format(Gamma_pol_s) ) )\n",
    "#sp.Matrix(Gamma_pol)"
   ]
  },
  {
   "cell_type": "code",
   "execution_count": 8,
   "id": "c1427e04-8bb3-43a1-a8fa-eb0175455bae",
   "metadata": {},
   "outputs": [
    {
     "data": {
      "text/latex": [
       "$\\displaystyle \\left[\\begin{matrix}0 & 0 & 0 & 0\\\\0 & 1.0 & 0 & 1.0\\\\0 & 0 & 0 & 0\\\\0 & 1.0 & 0 & 1.0\\end{matrix}\\right]$"
      ],
      "text/plain": [
       "Matrix([\n",
       "[0,   0, 0,   0],\n",
       "[0, 1.0, 0, 1.0],\n",
       "[0,   0, 0,   0],\n",
       "[0, 1.0, 0, 1.0]])"
      ]
     },
     "execution_count": 8,
     "metadata": {},
     "output_type": "execute_result"
    }
   ],
   "source": [
    "Gamma_pol * gamma4"
   ]
  },
  {
   "cell_type": "code",
   "execution_count": 9,
   "id": "89dc83de-085d-4fd7-8556-8ccf601a5a5b",
   "metadata": {},
   "outputs": [
    {
     "data": {
      "text/latex": [
       "$\\displaystyle \\left[\\begin{matrix}p_{1}\\\\p_{2}\\\\p_{3}\\\\i E(p)\\end{matrix}\\right]$"
      ],
      "text/plain": [
       "Matrix([\n",
       "[   p_1],\n",
       "[   p_2],\n",
       "[   p_3],\n",
       "[I*E(p)]])"
      ]
     },
     "execution_count": 9,
     "metadata": {},
     "output_type": "execute_result"
    }
   ],
   "source": [
    "mN = sp.Symbol(\"m_N\")\n",
    "E = sp.Symbol(\"E(p)\")\n",
    "cO = sp.Symbol(\"c_O\")\n",
    "p = [\n",
    "    sp.Symbol(\"p_1\"),\n",
    "    sp.Symbol(\"p_2\"),\n",
    "    sp.Symbol(\"p_3\"),\n",
    "    I*E # = sp.Symbol(\"p_4\")\n",
    "]\n",
    "\n",
    "sp.Matrix(p)"
   ]
  },
  {
   "cell_type": "code",
   "execution_count": 10,
   "id": "b10be544-815f-42a2-9845-b69f43813b7d",
   "metadata": {},
   "outputs": [
    {
     "data": {
      "text/latex": [
       "$\\displaystyle \\left[\\begin{matrix}0 & 0 & i E(p) + i p_{3} & i p_{1} - p_{2}\\\\0 & 0 & i p_{1} + p_{2} & i E(p) - i p_{3}\\\\i E(p) - i p_{3} & - i p_{1} + p_{2} & 0 & 0\\\\- i p_{1} - p_{2} & i E(p) + i p_{3} & 0 & 0\\end{matrix}\\right]$"
      ],
      "text/plain": [
       "Matrix([\n",
       "[             0,              0, I*E(p) + I*p_3,    I*p_1 - p_2],\n",
       "[             0,              0,    I*p_1 + p_2, I*E(p) - I*p_3],\n",
       "[I*E(p) - I*p_3,   -I*p_1 + p_2,              0,              0],\n",
       "[  -I*p_1 - p_2, I*E(p) + I*p_3,              0,              0]])"
      ]
     },
     "execution_count": 10,
     "metadata": {},
     "output_type": "execute_result"
    },
    {
     "data": {
      "text/latex": [
       "$\\displaystyle \\cancel{p}$"
      ],
      "text/plain": [
       "\\cancel{p}"
      ]
     },
     "execution_count": 10,
     "metadata": {},
     "output_type": "execute_result"
    }
   ],
   "source": [
    "#we compute pslash\n",
    "pslash = np.einsum('ijk,i->jk',gamma_mu,p)\n",
    "sp.Matrix(pslash)\n",
    "\n",
    "pslash_s = sp.Symbol(\"\\cancel{p}\")\n",
    "pslash_s"
   ]
  },
  {
   "cell_type": "code",
   "execution_count": 11,
   "id": "a947567d-3669-4316-979b-44ab5d668ab5",
   "metadata": {},
   "outputs": [],
   "source": [
    "#showcase of latex skills\n",
    "#display(Math(r'{} ='.format(pslash_s) ) )\n",
    "#sp.Matrix(pslash)"
   ]
  },
  {
   "cell_type": "code",
   "execution_count": 12,
   "id": "5ba04af2-6b09-4732-82fd-e64ec22ce85e",
   "metadata": {},
   "outputs": [
    {
     "data": {
      "text/latex": [
       "$\\displaystyle \\left[\\begin{matrix}m_{N} & 0 & - i \\left(i E(p) + i p_{3}\\right) & - i \\left(i p_{1} - p_{2}\\right)\\\\0 & m_{N} & - i \\left(i p_{1} + p_{2}\\right) & - i \\left(i E(p) - i p_{3}\\right)\\\\- i \\left(i E(p) - i p_{3}\\right) & - i \\left(- i p_{1} + p_{2}\\right) & m_{N} & 0\\\\- i \\left(- i p_{1} - p_{2}\\right) & - i \\left(i E(p) + i p_{3}\\right) & 0 & m_{N}\\end{matrix}\\right]$"
      ],
      "text/plain": [
       "Matrix([\n",
       "[                m_N,                   0, -I*(I*E(p) + I*p_3),    -I*(I*p_1 - p_2)],\n",
       "[                  0,                 m_N,    -I*(I*p_1 + p_2), -I*(I*E(p) - I*p_3)],\n",
       "[-I*(I*E(p) - I*p_3),   -I*(-I*p_1 + p_2),                 m_N,                   0],\n",
       "[  -I*(-I*p_1 - p_2), -I*(I*E(p) + I*p_3),                   0,                 m_N]])"
      ]
     },
     "execution_count": 12,
     "metadata": {},
     "output_type": "execute_result"
    }
   ],
   "source": [
    "sp.Matrix( -I*pslash  + mN*Id_4)"
   ]
  },
  {
   "cell_type": "code",
   "execution_count": 13,
   "id": "152c8b50-3959-4c18-a4da-d258e6e63f44",
   "metadata": {},
   "outputs": [
    {
     "data": {
      "text/latex": [
       "$\\displaystyle \\Gamma_{pol} \\left(- i \\cancel{p} + m_{N}\\right)$"
      ],
      "text/plain": [
       "Gamma_pol*(-I*\\cancel{p} + m_N)"
      ]
     },
     "execution_count": 13,
     "metadata": {},
     "output_type": "execute_result"
    },
    {
     "data": {
      "text/latex": [
       "$\\displaystyle \\left[\\begin{matrix}0 & 0 & 0 & 0\\\\- 1.0 i \\left(- i p_{1} - p_{2}\\right) & 1.0 m_{N} - 1.0 i \\left(i E(p) + i p_{3}\\right) & - 1.0 i \\left(i p_{1} + p_{2}\\right) & 1.0 m_{N} - 1.0 i \\left(i E(p) - i p_{3}\\right)\\\\0 & 0 & 0 & 0\\\\- 1.0 i \\left(- i p_{1} - p_{2}\\right) & 1.0 m_{N} - 1.0 i \\left(i E(p) + i p_{3}\\right) & - 1.0 i \\left(i p_{1} + p_{2}\\right) & 1.0 m_{N} - 1.0 i \\left(i E(p) - i p_{3}\\right)\\end{matrix}\\right]$"
      ],
      "text/plain": [
       "Matrix([\n",
       "[                    0,                                0,                    0,                                0],\n",
       "[-1.0*I*(-I*p_1 - p_2), 1.0*m_N - 1.0*I*(I*E(p) + I*p_3), -1.0*I*(I*p_1 + p_2), 1.0*m_N - 1.0*I*(I*E(p) - I*p_3)],\n",
       "[                    0,                                0,                    0,                                0],\n",
       "[-1.0*I*(-I*p_1 - p_2), 1.0*m_N - 1.0*I*(I*E(p) + I*p_3), -1.0*I*(I*p_1 + p_2), 1.0*m_N - 1.0*I*(I*E(p) - I*p_3)]])"
      ]
     },
     "execution_count": 13,
     "metadata": {},
     "output_type": "execute_result"
    }
   ],
   "source": [
    "num_s = (Gamma_pol_s * (- I * pslash_s + mN)  ).simplify(rational=True)\n",
    "num_s \n",
    "\n",
    "num = (Gamma_pol * (- complex(0,1) * pslash + mN*Id_4)  )#.simplify(rational=True)\n",
    "num"
   ]
  },
  {
   "cell_type": "code",
   "execution_count": 14,
   "id": "a4bacf89-f4d9-44dd-9cc2-6dc8b4b0c17a",
   "metadata": {},
   "outputs": [
    {
     "data": {
      "text/latex": [
       "$\\displaystyle 2 E(p) + 2 m_{N}$"
      ],
      "text/plain": [
       "2*E(p) + 2*m_N"
      ]
     },
     "execution_count": 14,
     "metadata": {},
     "output_type": "execute_result"
    }
   ],
   "source": [
    "Tr_num = sp.trace(num).simplify(rational=True)\n",
    "Tr_num"
   ]
  },
  {
   "cell_type": "markdown",
   "id": "83dd42f8-7bda-4d8a-ac20-45fa8ec8c49b",
   "metadata": {},
   "source": [
    "# New: general denominator computation"
   ]
  },
  {
   "cell_type": "markdown",
   "id": "433835d1-6a95-469e-ac49-3adc944ec3d6",
   "metadata": {
    "jp-MarkdownHeadingCollapsed": true
   },
   "source": [
    "## first attempts"
   ]
  },
  {
   "cell_type": "code",
   "execution_count": 15,
   "id": "e372e73d-3dd2-452d-a7a2-0be0dfca6d88",
   "metadata": {},
   "outputs": [],
   "source": [
    "operator_s = sp.Symbol('O')\n",
    "\n",
    "#den_s = (Gamma_pol_s @ (- I @ pslash_s + mN) @ operator_s @ (- I @ pslash_s + mN)  )#.simplify(rational=True)\n",
    "#den_s"
   ]
  },
  {
   "cell_type": "code",
   "execution_count": 16,
   "id": "acddf9dc-22f0-44b0-943a-7c31427db0c2",
   "metadata": {},
   "outputs": [
    {
     "name": "stdout",
     "output_type": "stream",
     "text": [
      "\n",
      "Loading matrix representations for all the elements of H(4) ...\n",
      "\n",
      "\n",
      "Loading the cg coefficients for the given tensor product from the database ...\n",
      "\n"
     ]
    }
   ],
   "source": [
    "#compute cg coefficients for the vector case\n",
    "cgV = cg_calc((4,1),(4,1))"
   ]
  },
  {
   "cell_type": "code",
   "execution_count": 17,
   "id": "84a7af34-4c36-4be3-b7db-977d1099f989",
   "metadata": {},
   "outputs": [
    {
     "data": {
      "text/plain": [
       "dict_keys([0, 6, 14, 16])"
      ]
     },
     "execution_count": 17,
     "metadata": {},
     "output_type": "execute_result"
    },
    {
     "data": {
      "text/plain": [
       "[1, 0, 0, 0, 0, 0, 1, 0, 0, 0, 0, 0, 0, 0, 1, 0, 1, 0, 0, 0]"
      ]
     },
     "execution_count": 17,
     "metadata": {},
     "output_type": "execute_result"
    }
   ],
   "source": [
    "cgV.cg_dict.keys()\n",
    "cgV.get_multiplicities()"
   ]
  },
  {
   "cell_type": "code",
   "execution_count": 35,
   "id": "09dbd539-582a-4fb3-898f-5edf6cdd9940",
   "metadata": {},
   "outputs": [
    {
     "data": {
      "text/plain": [
       "array([1.00000000000000, 0, 0, 0, 0, 1.00000000000000, 0, 0, 0, 0,\n",
       "       1.00000000000000, 0, 0, 0, 0, 1.00000000000000], dtype=object)"
      ]
     },
     "execution_count": 35,
     "metadata": {},
     "output_type": "execute_result"
    }
   ],
   "source": [
    "cg11 = np.squeeze( cgV.cg_dict[0][0] )\n",
    "cg11"
   ]
  },
  {
   "cell_type": "code",
   "execution_count": 38,
   "id": "afd2604f-4a1f-406a-b4ae-8bc6a505c8bc",
   "metadata": {},
   "outputs": [
    {
     "data": {
      "text/plain": [
       "(16,)"
      ]
     },
     "execution_count": 38,
     "metadata": {},
     "output_type": "execute_result"
    },
    {
     "data": {
      "text/plain": [
       "(4, 4, 4)"
      ]
     },
     "execution_count": 38,
     "metadata": {},
     "output_type": "execute_result"
    },
    {
     "data": {
      "text/plain": [
       "(4,)"
      ]
     },
     "execution_count": 38,
     "metadata": {},
     "output_type": "execute_result"
    }
   ],
   "source": [
    "np.shape(cg11)\n",
    "np.shape(gamma_mu)\n",
    "np.shape(p)"
   ]
  },
  {
   "cell_type": "code",
   "execution_count": 49,
   "id": "caa5a57f-6bb1-4285-863e-3f5e13fcf065",
   "metadata": {},
   "outputs": [
    {
     "data": {
      "text/plain": [
       "'111'"
      ]
     },
     "execution_count": 49,
     "metadata": {},
     "output_type": "execute_result"
    }
   ],
   "source": [
    "'1' *3"
   ]
  },
  {
   "cell_type": "code",
   "execution_count": 87,
   "id": "a1b5546f-dc60-4cee-bfc4-ee3007bb650f",
   "metadata": {},
   "outputs": [
    {
     "data": {
      "text/plain": [
       "['0',\n",
       " '1',\n",
       " '2',\n",
       " '3',\n",
       " '10',\n",
       " '11',\n",
       " '12',\n",
       " '13',\n",
       " '20',\n",
       " '21',\n",
       " '22',\n",
       " '23',\n",
       " '30',\n",
       " '31',\n",
       " '32',\n",
       " '33']"
      ]
     },
     "execution_count": 87,
     "metadata": {},
     "output_type": "execute_result"
    }
   ],
   "source": [
    "[str( int(np.base_repr(i,4))  ) for i in range(4**n)]"
   ]
  },
  {
   "cell_type": "code",
   "execution_count": 103,
   "id": "31b688d9-755b-42f8-a48f-7078bbe67a14",
   "metadata": {},
   "outputs": [
    {
     "data": {
      "text/plain": [
       "array([[0, 0],\n",
       "       [0, 1],\n",
       "       [0, 2],\n",
       "       [0, 3],\n",
       "       [1, 0],\n",
       "       [1, 1],\n",
       "       [1, 2],\n",
       "       [1, 3],\n",
       "       [2, 0],\n",
       "       [2, 1],\n",
       "       [2, 2],\n",
       "       [2, 3],\n",
       "       [3, 0],\n",
       "       [3, 1],\n",
       "       [3, 2],\n",
       "       [3, 3]])"
      ]
     },
     "execution_count": 103,
     "metadata": {},
     "output_type": "execute_result"
    }
   ],
   "source": [
    "n = 2\n",
    "#for i in range(4**n):\n",
    " #   str( int(np.base_repr(i,4)) +  int('1' * n) )\n",
    "\n",
    "mapping =np.asarray( [ tuple(j) for j in [str( int(np.base_repr(i,4)) +  int('1' * n) ) for i in range(4**n)] ] , dtype=int) -1\n",
    "#mapping =np.asarray( [ tuple(j) for j in [str( int(np.base_repr(i,4))  ) for i in range(4**n)] ], dtype=int)\n",
    "mapping"
   ]
  },
  {
   "cell_type": "code",
   "execution_count": 89,
   "id": "eff5aa20-9809-4f8c-9220-8a96e8f17568",
   "metadata": {},
   "outputs": [
    {
     "data": {
      "text/plain": [
       "array([0, 3])"
      ]
     },
     "execution_count": 89,
     "metadata": {},
     "output_type": "execute_result"
    }
   ],
   "source": [
    "mapping[3] -1"
   ]
  },
  {
   "cell_type": "code",
   "execution_count": 104,
   "id": "88c8c2b7-7d77-413c-b656-2af34d8170d4",
   "metadata": {},
   "outputs": [
    {
     "data": {
      "text/plain": [
       "np.float64(0.0)"
      ]
     },
     "execution_count": 104,
     "metadata": {},
     "output_type": "execute_result"
    }
   ],
   "source": [
    "cg_mat[*mapping[0]]"
   ]
  },
  {
   "cell_type": "code",
   "execution_count": 108,
   "id": "d411936a-a792-4262-9279-9c4c43c7cb5b",
   "metadata": {},
   "outputs": [],
   "source": [
    "for i in range(4**n):\n",
    "    #mapping[i]\n",
    "    #cg11[i]\n",
    "    cg_mat[*mapping[i]] = cg11[i]"
   ]
  },
  {
   "cell_type": "code",
   "execution_count": 107,
   "id": "48707132-5294-41b5-a953-323b10b62ca2",
   "metadata": {},
   "outputs": [
    {
     "data": {
      "text/plain": [
       "array([[1., 0., 0., 0.],\n",
       "       [0., 1., 0., 0.],\n",
       "       [0., 0., 1., 0.],\n",
       "       [0., 0., 0., 1.]])"
      ]
     },
     "execution_count": 107,
     "metadata": {},
     "output_type": "execute_result"
    }
   ],
   "source": [
    "cg_mat"
   ]
  },
  {
   "cell_type": "code",
   "execution_count": 56,
   "id": "38eae0a0-24d3-4dd8-839d-cbb2e0a52810",
   "metadata": {},
   "outputs": [
    {
     "data": {
      "text/plain": [
       "(4, 4)"
      ]
     },
     "execution_count": 56,
     "metadata": {},
     "output_type": "execute_result"
    }
   ],
   "source": [
    "(4,) * 2"
   ]
  },
  {
   "cell_type": "code",
   "execution_count": 61,
   "id": "15ac5416-5f8e-4bdf-b741-5659b0b7f63a",
   "metadata": {},
   "outputs": [
    {
     "data": {
      "text/plain": [
       "array([[0., 0., 0., 0.],\n",
       "       [0., 0., 0., 0.],\n",
       "       [0., 0., 0., 0.],\n",
       "       [0., 0., 0., 0.]])"
      ]
     },
     "execution_count": 61,
     "metadata": {},
     "output_type": "execute_result"
    }
   ],
   "source": [
    "n=2\n",
    "cg_mat = np.zeros(shape=(4,)*n)\n",
    "cg_mat"
   ]
  },
  {
   "cell_type": "code",
   "execution_count": 109,
   "id": "0e0898bd-b57b-437e-b9a2-84adb7905758",
   "metadata": {},
   "outputs": [
    {
     "data": {
      "text/latex": [
       "$\\displaystyle \\left[\\begin{matrix}0 & 0 & 1.0 i E(p) + 1.0 i p_{3} & 1.0 i p_{1} - 1.0 p_{2}\\\\0 & 0 & 1.0 i p_{1} + 1.0 p_{2} & 1.0 i E(p) - 1.0 i p_{3}\\\\1.0 i E(p) - 1.0 i p_{3} & - 1.0 i p_{1} + 1.0 p_{2} & 0 & 0\\\\- 1.0 i p_{1} - 1.0 p_{2} & 1.0 i E(p) + 1.0 i p_{3} & 0 & 0\\end{matrix}\\right]$"
      ],
      "text/plain": [
       "Matrix([\n",
       "[                     0,                      0, 1.0*I*E(p) + 1.0*I*p_3,    1.0*I*p_1 - 1.0*p_2],\n",
       "[                     0,                      0,    1.0*I*p_1 + 1.0*p_2, 1.0*I*E(p) - 1.0*I*p_3],\n",
       "[1.0*I*E(p) - 1.0*I*p_3,   -1.0*I*p_1 + 1.0*p_2,                      0,                      0],\n",
       "[  -1.0*I*p_1 - 1.0*p_2, 1.0*I*E(p) + 1.0*I*p_3,                      0,                      0]])"
      ]
     },
     "execution_count": 109,
     "metadata": {},
     "output_type": "execute_result"
    }
   ],
   "source": [
    "#let's try the contraction\n",
    "op = np.einsum('ij,ikl,j -> kl',cg_mat,gamma_mu,p)\n",
    "\n",
    "sp.Matrix( op )\n"
   ]
  },
  {
   "cell_type": "code",
   "execution_count": 110,
   "id": "56d9a4dc-cedb-4d2b-9b4f-59f43bf2e272",
   "metadata": {},
   "outputs": [
    {
     "data": {
      "text/latex": [
       "$\\displaystyle 2 i \\left(E(p)^{3} + 2 E(p)^{2} m_{N} + E(p) m_{N}^{2} - E(p) p_{1}^{2} - E(p) p_{2}^{2} - E(p) p_{3}^{2} - 2 m_{N} p_{1}^{2} - 2 m_{N} p_{2}^{2} - 2 m_{N} p_{3}^{2}\\right)$"
      ],
      "text/plain": [
       "2*I*(E(p)**3 + 2*E(p)**2*m_N + E(p)*m_N**2 - E(p)*p_1**2 - E(p)*p_2**2 - E(p)*p_3**2 - 2*m_N*p_1**2 - 2*m_N*p_2**2 - 2*m_N*p_3**2)"
      ]
     },
     "execution_count": 110,
     "metadata": {},
     "output_type": "execute_result"
    },
    {
     "data": {
      "text/latex": [
       "$\\displaystyle \\frac{i \\left(E(p) + m_{N}\\right)}{- E(p)^{3} - 2 E(p)^{2} m_{N} - E(p) m_{N}^{2} + E(p) p_{1}^{2} + E(p) p_{2}^{2} + E(p) p_{3}^{2} + 2 m_{N} p_{1}^{2} + 2 m_{N} p_{2}^{2} + 2 m_{N} p_{3}^{2}}$"
      ],
      "text/plain": [
       "I*(E(p) + m_N)/(-E(p)**3 - 2*E(p)**2*m_N - E(p)*m_N**2 + E(p)*p_1**2 + E(p)*p_2**2 + E(p)*p_3**2 + 2*m_N*p_1**2 + 2*m_N*p_2**2 + 2*m_N*p_3**2)"
      ]
     },
     "execution_count": 110,
     "metadata": {},
     "output_type": "execute_result"
    }
   ],
   "source": [
    "den = Gamma_pol @ (- complex(0,1) * pslash + mN*Id_4) @ op @ (- complex(0,1) * pslash + mN*Id_4)\n",
    "\n",
    "trden = sp.trace(den).simplify(rational=True)\n",
    "\n",
    "trden\n",
    "\n",
    "(Tr_num/trden).simplify(rational=True)"
   ]
  },
  {
   "cell_type": "markdown",
   "id": "acbf8478-1d0e-422a-8d86-63c210f1c989",
   "metadata": {},
   "source": [
    "## computation"
   ]
  },
  {
   "cell_type": "code",
   "execution_count": 111,
   "id": "d521068b-a1aa-4e76-80b6-2b645cc4b802",
   "metadata": {},
   "outputs": [
    {
     "name": "stdout",
     "output_type": "stream",
     "text": [
      "\n",
      "Loading matrix representations for all the elements of H(4) ...\n",
      "\n",
      "\n",
      "Loading the cg coefficients for the given tensor product from the database ...\n",
      "\n"
     ]
    }
   ],
   "source": [
    "cgV = cg_calc((4,1),(4,1))"
   ]
  },
  {
   "cell_type": "code",
   "execution_count": 127,
   "id": "775883d5-bed7-426a-81c6-46ff93958233",
   "metadata": {},
   "outputs": [],
   "source": [
    "#cg11 = np.squeeze( cgV.cg_dict[0][0] )\n",
    "cg11 = cgV.cg_dict[0][0][:,0]\n",
    "cg31_1 = cgV.cg_dict[6][0][:,0]"
   ]
  },
  {
   "cell_type": "code",
   "execution_count": 125,
   "id": "104eec89-6cc1-4a59-9442-3efcf80611d6",
   "metadata": {},
   "outputs": [
    {
     "data": {
      "text/plain": [
       "(16,)"
      ]
     },
     "execution_count": 125,
     "metadata": {},
     "output_type": "execute_result"
    }
   ],
   "source": [
    "cg31_1[0"
   ]
  },
  {
   "cell_type": "code",
   "execution_count": 129,
   "id": "87dbc991-7452-483e-aed0-69dfecf939e2",
   "metadata": {},
   "outputs": [],
   "source": [
    "n=2\n",
    "\n",
    "mapping =np.asarray( [ tuple(j) for j in [str( int(np.base_repr(i,4)) +  int('1' * n) ) for i in range(4**n)] ] , dtype=int) -1\n",
    "\n",
    "cg_mat = np.zeros(shape=(4,)*n)\n",
    "\n",
    "for i in range(4**n):\n",
    "    cg_mat[*mapping[i]] = cg31_1[i] #cg11[i]"
   ]
  },
  {
   "cell_type": "code",
   "execution_count": 130,
   "id": "b45a82ab-efe0-4920-b20e-d70b775c3a3e",
   "metadata": {},
   "outputs": [],
   "source": [
    "op = np.einsum('ij,ikl,j -> kl',cg_mat,gamma_mu,p)"
   ]
  },
  {
   "cell_type": "code",
   "execution_count": 131,
   "id": "542869a1-aeca-4edb-8df0-6dc0d87cc4f8",
   "metadata": {},
   "outputs": [
    {
     "data": {
      "text/latex": [
       "$\\displaystyle \\frac{i \\left(E(p) + m_{N}\\right)}{3 E(p)^{3} + 6 E(p)^{2} m_{N} + 3 E(p) m_{N}^{2} + 5 E(p) p_{1}^{2} + 5 E(p) p_{2}^{2} + 5 E(p) p_{3}^{2} + 2 m_{N} p_{1}^{2} + 2 m_{N} p_{2}^{2} + 2 m_{N} p_{3}^{2}}$"
      ],
      "text/plain": [
       "I*(E(p) + m_N)/(3*E(p)**3 + 6*E(p)**2*m_N + 3*E(p)*m_N**2 + 5*E(p)*p_1**2 + 5*E(p)*p_2**2 + 5*E(p)*p_3**2 + 2*m_N*p_1**2 + 2*m_N*p_2**2 + 2*m_N*p_3**2)"
      ]
     },
     "execution_count": 131,
     "metadata": {},
     "output_type": "execute_result"
    }
   ],
   "source": [
    "den = Gamma_pol @ (- complex(0,1) * pslash + mN*Id_4) @ op @ (- complex(0,1) * pslash + mN*Id_4)\n",
    "\n",
    "trden = sp.trace(den).simplify(rational=True)\n",
    "\n",
    "(Tr_num/trden).simplify(rational=True)"
   ]
  }
 ],
 "metadata": {
  "kernelspec": {
   "display_name": "Python 3 (ipykernel)",
   "language": "python",
   "name": "python3"
  },
  "language_info": {
   "codemirror_mode": {
    "name": "ipython",
    "version": 3
   },
   "file_extension": ".py",
   "mimetype": "text/x-python",
   "name": "python",
   "nbconvert_exporter": "python",
   "pygments_lexer": "ipython3",
   "version": "3.11.9"
  }
 },
 "nbformat": 4,
 "nbformat_minor": 5
}
